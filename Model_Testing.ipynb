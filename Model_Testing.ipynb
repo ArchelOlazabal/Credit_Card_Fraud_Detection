{
 "cells": [
  {
   "attachments": {},
   "cell_type": "markdown",
   "metadata": {},
   "source": [
    "# Last Modified: 05/04/2023"
   ]
  },
  {
   "attachments": {},
   "cell_type": "markdown",
   "metadata": {},
   "source": [
    "Estimated Runtime: 6-7 minutes"
   ]
  },
  {
   "cell_type": "code",
   "execution_count": 2,
   "metadata": {},
   "outputs": [],
   "source": [
    "# Importing nessecary packages\n",
    "import pandas as pd\n",
    "import seaborn as sns\n",
    "import numpy as np\n",
    "import matplotlib.pyplot as plt\n",
    "from sklearn.model_selection import train_test_split\n",
    "from sklearn.model_selection import cross_val_score\n",
    "from sklearn.ensemble import RandomForestClassifier\n",
    "from sklearn.linear_model import LogisticRegression\n",
    "from sklearn.naive_bayes import BernoulliNB\n",
    "from sklearn.naive_bayes import CategoricalNB \n",
    "from sklearn.metrics import accuracy_score\n",
    "from sklearn.metrics import mean_squared_error\n",
    "from sklearn.metrics import r2_score\n",
    "from sklearn.metrics import mean_absolute_error\n",
    "from sklearn.metrics import precision_score\n",
    "from sklearn.metrics import recall_score\n",
    "from sklearn.metrics import f1_score\n",
    "from sklearn.metrics import confusion_matrix\n",
    "from sklearn import metrics\n",
    "import sklearn\n",
    "from sklearn.model_selection import GridSearchCV\n",
    "from sklearn.feature_selection import SelectFromModel"
   ]
  },
  {
   "attachments": {},
   "cell_type": "markdown",
   "metadata": {},
   "source": [
    "## Reading in and splitting the data using sklearn"
   ]
  },
  {
   "cell_type": "code",
   "execution_count": null,
   "metadata": {},
   "outputs": [],
   "source": [
    "# Reading in data\n",
    "# Change the filepath according to system\n",
    "df = pd.read_csv(\"/Users/archelolazabal/Desktop/GMUSpring2023/Archel_Olazabal_CDS492/Data/Dataset3_Processed.csv\")\n",
    "df"
   ]
  },
  {
   "cell_type": "code",
   "execution_count": 46,
   "metadata": {},
   "outputs": [
    {
     "data": {
      "text/plain": [
       "['User',\n",
       " 'Year',\n",
       " 'Month',\n",
       " 'Day',\n",
       " 'Time',\n",
       " 'Amount',\n",
       " 'Use Chip',\n",
       " 'Merchant Name',\n",
       " 'Zip',\n",
       " 'MCC',\n",
       " 'Card Number: 8',\n",
       " 'Card Number: 7',\n",
       " 'Card Number: 6',\n",
       " 'Card Number: 5',\n",
       " 'Card Number: 4',\n",
       " 'Card Number: 3',\n",
       " 'Card Number: 1',\n",
       " 'Card Number: 2',\n",
       " 'Card Number: 0',\n",
       " 'Merchant State Code',\n",
       " 'Merchant City Code',\n",
       " 'Error Code']"
      ]
     },
     "execution_count": 46,
     "metadata": {},
     "output_type": "execute_result"
    }
   ],
   "source": [
    "# Removing none target features and non-numerical features. \n",
    "features = df.columns.tolist()\n",
    "features.remove('Merchant City') # This is a String\n",
    "features.remove('Merchant State') # This is a String\n",
    "features.remove('Errors?') # This is a String\n",
    "features.remove('Is Fraud?') # This is the target variable\n",
    "#features.remove('Merchant City Code') # for testing purposes\n",
    "#features.remove('Merchant State Code') # for testing purposes\n",
    "#features.remove('Error Code') # for testing purposes\n",
    "\n",
    "features"
   ]
  },
  {
   "cell_type": "code",
   "execution_count": 47,
   "metadata": {},
   "outputs": [],
   "source": [
    "# creating the target values and the variables \n",
    "y = df['Is Fraud?']\n",
    "X = df[features]\n",
    "\n",
    "# Splitting the data \n",
    "X1_train, X1_test, y1_train, y1_test = train_test_split(X, y, test_size=0.30, random_state=42)"
   ]
  },
  {
   "attachments": {},
   "cell_type": "markdown",
   "metadata": {},
   "source": [
    "How many fraud cases in the testing data.<br><br>\n",
    "\n",
    "There are 8,883 rows that are fraud in the y_testing set."
   ]
  },
  {
   "cell_type": "code",
   "execution_count": 49,
   "metadata": {},
   "outputs": [
    {
     "data": {
      "text/html": [
       "<div>\n",
       "<style scoped>\n",
       "    .dataframe tbody tr th:only-of-type {\n",
       "        vertical-align: middle;\n",
       "    }\n",
       "\n",
       "    .dataframe tbody tr th {\n",
       "        vertical-align: top;\n",
       "    }\n",
       "\n",
       "    .dataframe thead th {\n",
       "        text-align: right;\n",
       "    }\n",
       "</style>\n",
       "<table border=\"1\" class=\"dataframe\">\n",
       "  <thead>\n",
       "    <tr style=\"text-align: right;\">\n",
       "      <th></th>\n",
       "      <th>Is Fraud?</th>\n",
       "    </tr>\n",
       "  </thead>\n",
       "  <tbody>\n",
       "    <tr>\n",
       "      <th>53480</th>\n",
       "      <td>0</td>\n",
       "    </tr>\n",
       "    <tr>\n",
       "      <th>14766</th>\n",
       "      <td>0</td>\n",
       "    </tr>\n",
       "    <tr>\n",
       "      <th>65707</th>\n",
       "      <td>0</td>\n",
       "    </tr>\n",
       "    <tr>\n",
       "      <th>78660</th>\n",
       "      <td>1</td>\n",
       "    </tr>\n",
       "    <tr>\n",
       "      <th>30994</th>\n",
       "      <td>0</td>\n",
       "    </tr>\n",
       "    <tr>\n",
       "      <th>...</th>\n",
       "      <td>...</td>\n",
       "    </tr>\n",
       "    <tr>\n",
       "      <th>26130</th>\n",
       "      <td>0</td>\n",
       "    </tr>\n",
       "    <tr>\n",
       "      <th>1228</th>\n",
       "      <td>0</td>\n",
       "    </tr>\n",
       "    <tr>\n",
       "      <th>60338</th>\n",
       "      <td>0</td>\n",
       "    </tr>\n",
       "    <tr>\n",
       "      <th>35177</th>\n",
       "      <td>0</td>\n",
       "    </tr>\n",
       "    <tr>\n",
       "      <th>50253</th>\n",
       "      <td>0</td>\n",
       "    </tr>\n",
       "  </tbody>\n",
       "</table>\n",
       "<p>29928 rows × 1 columns</p>\n",
       "</div>"
      ],
      "text/plain": [
       "       Is Fraud?\n",
       "53480          0\n",
       "14766          0\n",
       "65707          0\n",
       "78660          1\n",
       "30994          0\n",
       "...          ...\n",
       "26130          0\n",
       "1228           0\n",
       "60338          0\n",
       "35177          0\n",
       "50253          0\n",
       "\n",
       "[29928 rows x 1 columns]"
      ]
     },
     "execution_count": 49,
     "metadata": {},
     "output_type": "execute_result"
    }
   ],
   "source": [
    "Y = pd.DataFrame(y1_test)\n",
    "Y"
   ]
  },
  {
   "cell_type": "code",
   "execution_count": 50,
   "metadata": {},
   "outputs": [
    {
     "data": {
      "text/html": [
       "<div>\n",
       "<style scoped>\n",
       "    .dataframe tbody tr th:only-of-type {\n",
       "        vertical-align: middle;\n",
       "    }\n",
       "\n",
       "    .dataframe tbody tr th {\n",
       "        vertical-align: top;\n",
       "    }\n",
       "\n",
       "    .dataframe thead th {\n",
       "        text-align: right;\n",
       "    }\n",
       "</style>\n",
       "<table border=\"1\" class=\"dataframe\">\n",
       "  <thead>\n",
       "    <tr style=\"text-align: right;\">\n",
       "      <th></th>\n",
       "      <th>Is Fraud?</th>\n",
       "    </tr>\n",
       "  </thead>\n",
       "  <tbody>\n",
       "    <tr>\n",
       "      <th>78660</th>\n",
       "      <td>1</td>\n",
       "    </tr>\n",
       "    <tr>\n",
       "      <th>93821</th>\n",
       "      <td>1</td>\n",
       "    </tr>\n",
       "    <tr>\n",
       "      <th>86564</th>\n",
       "      <td>1</td>\n",
       "    </tr>\n",
       "    <tr>\n",
       "      <th>86681</th>\n",
       "      <td>1</td>\n",
       "    </tr>\n",
       "    <tr>\n",
       "      <th>79124</th>\n",
       "      <td>1</td>\n",
       "    </tr>\n",
       "    <tr>\n",
       "      <th>...</th>\n",
       "      <td>...</td>\n",
       "    </tr>\n",
       "    <tr>\n",
       "      <th>85383</th>\n",
       "      <td>1</td>\n",
       "    </tr>\n",
       "    <tr>\n",
       "      <th>70890</th>\n",
       "      <td>1</td>\n",
       "    </tr>\n",
       "    <tr>\n",
       "      <th>74296</th>\n",
       "      <td>1</td>\n",
       "    </tr>\n",
       "    <tr>\n",
       "      <th>87610</th>\n",
       "      <td>1</td>\n",
       "    </tr>\n",
       "    <tr>\n",
       "      <th>97339</th>\n",
       "      <td>1</td>\n",
       "    </tr>\n",
       "  </tbody>\n",
       "</table>\n",
       "<p>8883 rows × 1 columns</p>\n",
       "</div>"
      ],
      "text/plain": [
       "       Is Fraud?\n",
       "78660          1\n",
       "93821          1\n",
       "86564          1\n",
       "86681          1\n",
       "79124          1\n",
       "...          ...\n",
       "85383          1\n",
       "70890          1\n",
       "74296          1\n",
       "87610          1\n",
       "97339          1\n",
       "\n",
       "[8883 rows x 1 columns]"
      ]
     },
     "execution_count": 50,
     "metadata": {},
     "output_type": "execute_result"
    }
   ],
   "source": [
    "df_temp = Y.loc[Y['Is Fraud?'] == 1]\n",
    "df_temp"
   ]
  },
  {
   "attachments": {},
   "cell_type": "markdown",
   "metadata": {},
   "source": [
    "# Archel Olazabal | Random Forest"
   ]
  },
  {
   "attachments": {},
   "cell_type": "markdown",
   "metadata": {},
   "source": [
    "## Experiment 1: Baseline "
   ]
  },
  {
   "cell_type": "code",
   "execution_count": 15,
   "metadata": {},
   "outputs": [],
   "source": [
    "models = [RandomForestClassifier(n_jobs=-1, random_state=26)]"
   ]
  },
  {
   "cell_type": "code",
   "execution_count": 16,
   "metadata": {},
   "outputs": [
    {
     "name": "stdout",
     "output_type": "stream",
     "text": [
      "Accuracy of the model (training) RandomForestClassifier(n_jobs=-1, random_state=26) =  1.0\n",
      "Accuracy of the model (testing) RandomForestClassifier(n_jobs=-1, random_state=26) =  0.9552592889601711\n",
      "F1 score of the model (training) RandomForestClassifier(n_jobs=-1, random_state=26) =  1.0\n",
      "F1 score of the model (testing) RandomForestClassifier(n_jobs=-1, random_state=26) =  0.921119293078056\n",
      "Mean Absolute Error of the model (training) RandomForestClassifier(n_jobs=-1, random_state=26) =  0.0\n",
      "Mean Absolute Error of the model (testing) RandomForestClassifier(n_jobs=-1, random_state=26) =  0.04474071103982892\n",
      "Mean Squared Error of the model (training) RandomForestClassifier(n_jobs=-1, random_state=26) =  0.0\n",
      "Mean Squared Error of the model (testing) RandomForestClassifier(n_jobs=-1, random_state=26) =  0.04474071103982892\n",
      "Precision of the model (training) RandomForestClassifier(n_jobs=-1, random_state=26) =  1.0\n",
      "Precision of the model (testing) RandomForestClassifier(n_jobs=-1, random_state=26) =  0.9661393969352446\n",
      "Recall of the model (training) RandomForestClassifier(n_jobs=-1, random_state=26) =  1.0\n",
      "Recall of the model (testing) RandomForestClassifier(n_jobs=-1, random_state=26) =  0.8801080715974333 \n",
      "\n"
     ]
    },
    {
     "data": {
      "image/png": "[encoded data removed]",
      "text/plain": [
       "<Figure size 640x480 with 2 Axes>"
      ]
     },
     "metadata": {},
     "output_type": "display_data"
    }
   ],
   "source": [
    "# Model testing\n",
    "for model in models:\n",
    "        model.fit(X1_train, y1_train)\n",
    "        test_data_prediction = model.predict(X1_test)\n",
    "        train_data_prediction = model.predict(X1_train)\n",
    "        mae = mean_absolute_error(y1_train, train_data_prediction)\n",
    "        mae2 = mean_absolute_error(y1_test, test_data_prediction)\n",
    "        mse = mean_squared_error(y1_train, train_data_prediction)\n",
    "        mse2 = mean_squared_error(y1_test, test_data_prediction)\n",
    "        precision = precision_score(y1_train, train_data_prediction)\n",
    "        precision2 = precision_score(y1_test, test_data_prediction)\n",
    "        recall = recall_score(y1_train, train_data_prediction)\n",
    "        recall2 = recall_score(y1_test, test_data_prediction)\n",
    "        #r2 = r2_score(y1_test, test_data_prediction)\n",
    "        f1_1 = f1_score(y1_train, train_data_prediction)\n",
    "        f1_2 = f1_score(y1_test, test_data_prediction)\n",
    "        accuracy = accuracy_score(y1_train, train_data_prediction)\n",
    "        accuracy2 = accuracy_score(y1_test, test_data_prediction)\n",
    "        print('Accuracy of the model (training)', model, '= ', accuracy)\n",
    "        print('Accuracy of the model (testing)', model, '= ', accuracy2)\n",
    "        print('F1 score of the model (training)', model, '= ', f1_1)\n",
    "        print('F1 score of the model (testing)', model, '= ', f1_2)\n",
    "        print('Mean Absolute Error of the model (training)', model, '= ', mae)\n",
    "        print('Mean Absolute Error of the model (testing)', model, '= ', mae2)\n",
    "        print('Mean Squared Error of the model (training)', model, '= ', mse)\n",
    "        print('Mean Squared Error of the model (testing)', model, '= ', mse2)\n",
    "        print('Precision of the model (training)', model, '= ', precision)\n",
    "        print('Precision of the model (testing)', model, '= ', precision2)\n",
    "        print('Recall of the model (training)', model, '= ', recall)\n",
    "        print('Recall of the model (testing)', model, '= ', recall2, '\\n')\n",
    "\n",
    "        cf_matrix =confusion_matrix(y1_test, test_data_prediction)\n",
    "\n",
    "        group_names = ['True Neg','False Pos','False Neg','True Pos']\n",
    "        group_counts = [\"{0:0.0f}\".format(value) for value in cf_matrix.flatten()]\n",
    "        group_percentages = [\"{0:.2%}\".format(value) for value in cf_matrix.flatten()/np.sum(cf_matrix)]\n",
    "        labels = [f\"{v1}\\n{v2}\\n{v3}\" for v1, v2, v3 in \n",
    "                zip(group_names,group_counts,group_percentages)]\n",
    "        labels = np.asarray(labels).reshape(2,2)\n",
    "        sns.heatmap(cf_matrix, annot=labels, fmt='', cmap='Blues')"
   ]
  },
  {
   "attachments": {},
   "cell_type": "markdown",
   "metadata": {},
   "source": [
    "## Experiment 2: Using Optimal Hyperparameters"
   ]
  },
  {
   "attachments": {},
   "cell_type": "markdown",
   "metadata": {},
   "source": [
    "### The experiment did slightly reduce the performance metrcis on the training data but it did reduce the gap between the testing and training metrics. In some metrics it even increased the score for the testing data."
   ]
  },
  {
   "cell_type": "code",
   "execution_count": 17,
   "metadata": {},
   "outputs": [],
   "source": [
    "# This creates the features for testing\n",
    "search_space = {\n",
    "    \"criterion\" : [\"entropy\", \"gini\", \"log_loss\"],\n",
    "    \"n_jobs\" : [-1],\n",
    "    \"random_state\" : [26],\n",
    "    \"max_depth\" : [5, 10, 15, 20],\n",
    "    \"n_estimators\" : [20, 30, 40, 50],\n",
    "    \"min_samples_split\" : [5, 10, 15, 20]\n",
    "}\n",
    "\n",
    "# This creates the tester for hyperparameters.\n",
    "# The refit parameters is the metric that the GridSearchCV determines the model performance.\n",
    "GS = GridSearchCV(\n",
    "    estimator = RandomForestClassifier(),\n",
    "    param_grid = search_space,\n",
    "    scoring = [\"f1\", \"precision\", \"recall\", \"accuracy\", \"neg_root_mean_squared_error\"],\n",
    "    refit = \"f1\", \n",
    "    cv=3,\n",
    "    verbose=4,\n",
    ")"
   ]
  },
  {
   "cell_type": "code",
   "execution_count": 18,
   "metadata": {},
   "outputs": [
    {
     "name": "stdout",
     "output_type": "stream",
     "text": [
      "Fitting 3 folds for each of 192 candidates, totalling 576 fits\n",
      "[CV 1/3] END criterion=entropy, max_depth=5, min_samples_split=5, n_estimators=20, n_jobs=-1, random_state=26; accuracy: (test=0.907) f1: (test=0.838) neg_root_mean_squared_error: (test=-0.306) precision: (test=0.871) recall: (test=0.808) total time=   1.7s\n",
      "[CV 2/3] END criterion=entropy, max_depth=5, min_samples_split=5, n_estimators=20, n_jobs=-1, random_state=26; accuracy: (test=0.886) f1: (test=0.812) neg_root_mean_squared_error: (test=-0.338) precision: (test=0.798) recall: (test=0.827) total time=   0.3s\n",
      "[CV 3/3] END criterion=entropy, max_depth=5, min_samples_split=5, n_estimators=20, n_jobs=-1, random_state=26; accuracy: (test=0.888) f1: (test=0.816) neg_root_mean_squared_error: (test=-0.335) precision: (test=0.801) recall: (test=0.833) total time=   0.3s\n",
      "[CV 1/3] END criterion=entropy, max_depth=5, min_samples_split=5, n_estimators=30, n_jobs=-1, random_state=26; accuracy: (test=0.906) f1: (test=0.839) neg_root_mean_squared_error: (test=-0.307) precision: (test=0.860) recall: (test=0.818) total time=   0.3s\n",
      "[CV 2/3] END criterion=entropy, max_depth=5, min_samples_split=5, n_estimators=30, n_jobs=-1, random_state=26; accuracy: (test=0.891) f1: (test=0.820) neg_root_mean_squared_error: (test=-0.330) precision: (test=0.809) recall: (test=0.831) total time=   0.3s\n",
      "[CV 3/3] END criterion=entropy, max_depth=5, min_samples_split=5, n_estimators=30, n_jobs=-1, random_state=26; accuracy: (test=0.892) f1: (test=0.822) neg_root_mean_squared_error: (test=-0.329) precision: (test=0.809) recall: (test=0.835) total time=   0.3s\n",
      "[CV 1/3] END criterion=entropy, max_depth=5, min_samples_split=5, n_estimators=40, n_jobs=-1, random_state=26; accuracy: (test=0.908) f1: (test=0.841) neg_root_mean_squared_error: (test=-0.304) precision: (test=0.867) recall: (test=0.817) total time=   0.4s\n",
      "[CV 2/3] END criterion=entropy, max_depth=5, min_samples_split=5, n_estimators=40, n_jobs=-1, random_state=26; accuracy: (test=0.892) f1: (test=0.821) neg_root_mean_squared_error: (test=-0.329) precision: (test=0.811) recall: (test=0.831) total time=   0.3s\n",
      "[CV 3/3] END criterion=entropy, max_depth=5, min_samples_split=5, n_estimators=40, n_jobs=-1, random_state=26; accuracy: (test=0.892) f1: (test=0.823) neg_root_mean_squared_error: (test=-0.328) precision: (test=0.810) recall: (test=0.835) total time=   0.3s\n",
      "[CV 1/3] END criterion=entropy, max_depth=5, min_samples_split=5, n_estimators=50, n_jobs=-1, random_state=26; accuracy: (test=0.908) f1: (test=0.842) neg_root_mean_squared_error: (test=-0.303) precision: (test=0.866) recall: (test=0.818) total time=   0.4s\n",
      "[CV 2/3] END criterion=entropy, max_depth=5, min_samples_split=5, n_estimators=50, n_jobs=-1, random_state=26; accuracy: (test=0.891) f1: (test=0.820) neg_root_mean_squared_error: (test=-0.331) precision: (test=0.809) recall: (test=0.831) total time=   0.4s\n",
      "[CV 3/3] END criterion=entropy, max_depth=5, min_samples_split=5, n_estimators=50, n_jobs=-1, random_state=26; accuracy: (test=0.893) f1: (test=0.823) neg_root_mean_squared_error: (test=-0.327) precision: (test=0.812) recall: (test=0.834) total time=   0.4s\n",
      "[CV 1/3] END criterion=entropy, max_depth=5, min_samples_split=10, n_estimators=20, n_jobs=-1, random_state=26; accuracy: (test=0.908) f1: (test=0.840) neg_root_mean_squared_error: (test=-0.303) precision: (test=0.875) recall: (test=0.808) total time=   0.3s\n",
      "[CV 2/3] END criterion=entropy, max_depth=5, min_samples_split=10, n_estimators=20, n_jobs=-1, random_state=26; accuracy: (test=0.886) f1: (test=0.812) neg_root_mean_squared_error: (test=-0.338) precision: (test=0.797) recall: (test=0.828) total time=   0.3s\n",
      "[CV 3/3] END criterion=entropy, max_depth=5, min_samples_split=10, n_estimators=20, n_jobs=-1, random_state=26; accuracy: (test=0.889) f1: (test=0.818) neg_root_mean_squared_error: (test=-0.333) precision: (test=0.804) recall: (test=0.832) total time=   0.2s\n",
      "[CV 1/3] END criterion=entropy, max_depth=5, min_samples_split=10, n_estimators=30, n_jobs=-1, random_state=26; accuracy: (test=0.908) f1: (test=0.841) neg_root_mean_squared_error: (test=-0.304) precision: (test=0.868) recall: (test=0.816) total time=   0.3s\n",
      "[CV 2/3] END criterion=entropy, max_depth=5, min_samples_split=10, n_estimators=30, n_jobs=-1, random_state=26; accuracy: (test=0.890) f1: (test=0.818) neg_root_mean_squared_error: (test=-0.332) precision: (test=0.808) recall: (test=0.829) total time=   0.3s\n",
      "[CV 3/3] END criterion=entropy, max_depth=5, min_samples_split=10, n_estimators=30, n_jobs=-1, random_state=26; accuracy: (test=0.892) f1: (test=0.822) neg_root_mean_squared_error: (test=-0.328) precision: (test=0.810) recall: (test=0.835) total time=   0.3s\n",
      "[CV 1/3] END criterion=entropy, max_depth=5, min_samples_split=10, n_estimators=40, n_jobs=-1, random_state=26; accuracy: (test=0.908) f1: (test=0.842) neg_root_mean_squared_error: (test=-0.303) precision: (test=0.871) recall: (test=0.815) total time=   0.4s\n",
      "[CV 2/3] END criterion=entropy, max_depth=5, min_samples_split=10, n_estimators=40, n_jobs=-1, random_state=26; accuracy: (test=0.894) f1: (test=0.824) neg_root_mean_squared_error: (test=-0.325) precision: (test=0.821) recall: (test=0.826) total time=   0.3s\n",
      "[CV 3/3] END criterion=entropy, max_depth=5, min_samples_split=10, n_estimators=40, n_jobs=-1, random_state=26; accuracy: (test=0.891) f1: (test=0.821) neg_root_mean_squared_error: (test=-0.329) precision: (test=0.808) recall: (test=0.835) total time=   0.3s\n",
      "[CV 1/3] END criterion=entropy, max_depth=5, min_samples_split=10, n_estimators=50, n_jobs=-1, random_state=26; accuracy: (test=0.910) f1: (test=0.844) neg_root_mean_squared_error: (test=-0.300) precision: (test=0.873) recall: (test=0.817) total time=   0.4s\n",
      "[CV 2/3] END criterion=entropy, max_depth=5, min_samples_split=10, n_estimators=50, n_jobs=-1, random_state=26; accuracy: (test=0.892) f1: (test=0.821) neg_root_mean_squared_error: (test=-0.328) precision: (test=0.815) recall: (test=0.828) total time=   0.4s\n",
      "[CV 3/3] END criterion=entropy, max_depth=5, min_samples_split=10, n_estimators=50, n_jobs=-1, random_state=26; accuracy: (test=0.892) f1: (test=0.823) neg_root_mean_squared_error: (test=-0.328) precision: (test=0.811) recall: (test=0.834) total time=   0.4s\n",
      "[CV 1/3] END criterion=entropy, max_depth=5, min_samples_split=15, n_estimators=20, n_jobs=-1, random_state=26; accuracy: (test=0.903) f1: (test=0.833) neg_root_mean_squared_error: (test=-0.311) precision: (test=0.861) recall: (test=0.806) total time=   0.3s\n",
      "[CV 2/3] END criterion=entropy, max_depth=5, min_samples_split=15, n_estimators=20, n_jobs=-1, random_state=26; accuracy: (test=0.886) f1: (test=0.813) neg_root_mean_squared_error: (test=-0.337) precision: (test=0.799) recall: (test=0.828) total time=   0.3s\n",
      "[CV 3/3] END criterion=entropy, max_depth=5, min_samples_split=15, n_estimators=20, n_jobs=-1, random_state=26; accuracy: (test=0.887) f1: (test=0.815) neg_root_mean_squared_error: (test=-0.336) precision: (test=0.800) recall: (test=0.830) total time=   0.3s\n",
      "[CV 1/3] END criterion=entropy, max_depth=5, min_samples_split=15, n_estimators=30, n_jobs=-1, random_state=26; accuracy: (test=0.893) f1: (test=0.820) neg_root_mean_squared_error: (test=-0.327) precision: (test=0.825) recall: (test=0.816) total time=   0.3s\n",
      "[CV 2/3] END criterion=entropy, max_depth=5, min_samples_split=15, n_estimators=30, n_jobs=-1, random_state=26; accuracy: (test=0.890) f1: (test=0.819) neg_root_mean_squared_error: (test=-0.331) precision: (test=0.808) recall: (test=0.831) total time=   0.3s\n",
      "[CV 3/3] END criterion=entropy, max_depth=5, min_samples_split=15, n_estimators=30, n_jobs=-1, random_state=26; accuracy: (test=0.891) f1: (test=0.821) neg_root_mean_squared_error: (test=-0.330) precision: (test=0.808) recall: (test=0.835) total time=   0.3s\n",
      "[CV 1/3] END criterion=entropy, max_depth=5, min_samples_split=15, n_estimators=40, n_jobs=-1, random_state=26; accuracy: (test=0.899) f1: (test=0.828) neg_root_mean_squared_error: (test=-0.318) precision: (test=0.842) recall: (test=0.815) total time=   0.3s\n",
      "[CV 2/3] END criterion=entropy, max_depth=5, min_samples_split=15, n_estimators=40, n_jobs=-1, random_state=26; accuracy: (test=0.895) f1: (test=0.825) neg_root_mean_squared_error: (test=-0.324) precision: (test=0.822) recall: (test=0.829) total time=   0.3s\n",
      "[CV 3/3] END criterion=entropy, max_depth=5, min_samples_split=15, n_estimators=40, n_jobs=-1, random_state=26; accuracy: (test=0.892) f1: (test=0.822) neg_root_mean_squared_error: (test=-0.329) precision: (test=0.809) recall: (test=0.835) total time=   0.4s\n",
      "[CV 1/3] END criterion=entropy, max_depth=5, min_samples_split=15, n_estimators=50, n_jobs=-1, random_state=26; accuracy: (test=0.900) f1: (test=0.830) neg_root_mean_squared_error: (test=-0.316) precision: (test=0.845) recall: (test=0.816) total time=   0.4s\n",
      "[CV 2/3] END criterion=entropy, max_depth=5, min_samples_split=15, n_estimators=50, n_jobs=-1, random_state=26; accuracy: (test=0.893) f1: (test=0.823) neg_root_mean_squared_error: (test=-0.327) precision: (test=0.817) recall: (test=0.829) total time=   0.4s\n",
      "[CV 3/3] END criterion=entropy, max_depth=5, min_samples_split=15, n_estimators=50, n_jobs=-1, random_state=26; accuracy: (test=0.893) f1: (test=0.823) neg_root_mean_squared_error: (test=-0.327) precision: (test=0.812) recall: (test=0.834) total time=   0.4s\n",
      "[CV 1/3] END criterion=entropy, max_depth=5, min_samples_split=20, n_estimators=20, n_jobs=-1, random_state=26; accuracy: (test=0.891) f1: (test=0.817) neg_root_mean_squared_error: (test=-0.330) precision: (test=0.822) recall: (test=0.811) total time=   0.2s\n",
      "[CV 2/3] END criterion=entropy, max_depth=5, min_samples_split=20, n_estimators=20, n_jobs=-1, random_state=26; accuracy: (test=0.886) f1: (test=0.812) neg_root_mean_squared_error: (test=-0.338) precision: (test=0.798) recall: (test=0.827) total time=   0.2s\n",
      "[CV 3/3] END criterion=entropy, max_depth=5, min_samples_split=20, n_estimators=20, n_jobs=-1, random_state=26; accuracy: (test=0.886) f1: (test=0.812) neg_root_mean_squared_error: (test=-0.338) precision: (test=0.802) recall: (test=0.822) total time=   0.2s\n",
      "[CV 1/3] END criterion=entropy, max_depth=5, min_samples_split=20, n_estimators=30, n_jobs=-1, random_state=26; accuracy: (test=0.888) f1: (test=0.814) neg_root_mean_squared_error: (test=-0.334) precision: (test=0.813) recall: (test=0.814) total time=   0.3s\n",
      "[CV 2/3] END criterion=entropy, max_depth=5, min_samples_split=20, n_estimators=30, n_jobs=-1, random_state=26; accuracy: (test=0.892) f1: (test=0.821) neg_root_mean_squared_error: (test=-0.329) precision: (test=0.811) recall: (test=0.831) total time=   0.3s\n",
      "[CV 3/3] END criterion=entropy, max_depth=5, min_samples_split=20, n_estimators=30, n_jobs=-1, random_state=26; accuracy: (test=0.892) f1: (test=0.822) neg_root_mean_squared_error: (test=-0.329) precision: (test=0.812) recall: (test=0.832) total time=   0.3s\n",
      "[CV 1/3] END criterion=entropy, max_depth=5, min_samples_split=20, n_estimators=40, n_jobs=-1, random_state=26; accuracy: (test=0.895) f1: (test=0.823) neg_root_mean_squared_error: (test=-0.324) precision: (test=0.829) recall: (test=0.817) total time=   0.3s\n",
      "[CV 2/3] END criterion=entropy, max_depth=5, min_samples_split=20, n_estimators=40, n_jobs=-1, random_state=26; accuracy: (test=0.897) f1: (test=0.828) neg_root_mean_squared_error: (test=-0.321) precision: (test=0.827) recall: (test=0.829) total time=   0.3s\n",
      "[CV 3/3] END criterion=entropy, max_depth=5, min_samples_split=20, n_estimators=40, n_jobs=-1, random_state=26; accuracy: (test=0.895) f1: (test=0.826) neg_root_mean_squared_error: (test=-0.324) precision: (test=0.818) recall: (test=0.834) total time=   0.4s\n",
      "[CV 1/3] END criterion=entropy, max_depth=5, min_samples_split=20, n_estimators=50, n_jobs=-1, random_state=26; accuracy: (test=0.896) f1: (test=0.825) neg_root_mean_squared_error: (test=-0.322) precision: (test=0.832) recall: (test=0.817) total time=   0.4s\n",
      "[CV 2/3] END criterion=entropy, max_depth=5, min_samples_split=20, n_estimators=50, n_jobs=-1, random_state=26; accuracy: (test=0.895) f1: (test=0.825) neg_root_mean_squared_error: (test=-0.324) precision: (test=0.821) recall: (test=0.829) total time=   0.4s\n",
      "[CV 3/3] END criterion=entropy, max_depth=5, min_samples_split=20, n_estimators=50, n_jobs=-1, random_state=26; accuracy: (test=0.896) f1: (test=0.827) neg_root_mean_squared_error: (test=-0.323) precision: (test=0.820) recall: (test=0.834) total time=   0.4s\n",
      "[CV 1/3] END criterion=entropy, max_depth=10, min_samples_split=5, n_estimators=20, n_jobs=-1, random_state=26; accuracy: (test=0.929) f1: (test=0.875) neg_root_mean_squared_error: (test=-0.266) precision: (test=0.924) recall: (test=0.831) total time=   0.3s\n",
      "[CV 2/3] END criterion=entropy, max_depth=10, min_samples_split=5, n_estimators=20, n_jobs=-1, random_state=26; accuracy: (test=0.927) f1: (test=0.872) neg_root_mean_squared_error: (test=-0.270) precision: (test=0.917) recall: (test=0.831) total time=   0.3s\n",
      "[CV 3/3] END criterion=entropy, max_depth=10, min_samples_split=5, n_estimators=20, n_jobs=-1, random_state=26; accuracy: (test=0.933) f1: (test=0.882) neg_root_mean_squared_error: (test=-0.258) precision: (test=0.934) recall: (test=0.836) total time=   0.3s\n",
      "[CV 1/3] END criterion=entropy, max_depth=10, min_samples_split=5, n_estimators=30, n_jobs=-1, random_state=26; accuracy: (test=0.929) f1: (test=0.876) neg_root_mean_squared_error: (test=-0.266) precision: (test=0.924) recall: (test=0.832) total time=   0.4s\n",
      "[CV 2/3] END criterion=entropy, max_depth=10, min_samples_split=5, n_estimators=30, n_jobs=-1, random_state=26; accuracy: (test=0.927) f1: (test=0.872) neg_root_mean_squared_error: (test=-0.270) precision: (test=0.917) recall: (test=0.832) total time=   0.4s\n",
      "[CV 3/3] END criterion=entropy, max_depth=10, min_samples_split=5, n_estimators=30, n_jobs=-1, random_state=26; accuracy: (test=0.933) f1: (test=0.881) neg_root_mean_squared_error: (test=-0.260) precision: (test=0.931) recall: (test=0.837) total time=   0.4s\n",
      "[CV 1/3] END criterion=entropy, max_depth=10, min_samples_split=5, n_estimators=40, n_jobs=-1, random_state=26; accuracy: (test=0.929) f1: (test=0.874) neg_root_mean_squared_error: (test=-0.267) precision: (test=0.923) recall: (test=0.830) total time=   0.5s\n",
      "[CV 2/3] END criterion=entropy, max_depth=10, min_samples_split=5, n_estimators=40, n_jobs=-1, random_state=26; accuracy: (test=0.928) f1: (test=0.873) neg_root_mean_squared_error: (test=-0.269) precision: (test=0.919) recall: (test=0.833) total time=   0.5s\n",
      "[CV 3/3] END criterion=entropy, max_depth=10, min_samples_split=5, n_estimators=40, n_jobs=-1, random_state=26; accuracy: (test=0.934) f1: (test=0.883) neg_root_mean_squared_error: (test=-0.257) precision: (test=0.936) recall: (test=0.836) total time=   0.5s\n",
      "[CV 1/3] END criterion=entropy, max_depth=10, min_samples_split=5, n_estimators=50, n_jobs=-1, random_state=26; accuracy: (test=0.929) f1: (test=0.874) neg_root_mean_squared_error: (test=-0.267) precision: (test=0.923) recall: (test=0.830) total time=   0.5s\n",
      "[CV 2/3] END criterion=entropy, max_depth=10, min_samples_split=5, n_estimators=50, n_jobs=-1, random_state=26; accuracy: (test=0.928) f1: (test=0.873) neg_root_mean_squared_error: (test=-0.269) precision: (test=0.918) recall: (test=0.832) total time=   0.6s\n",
      "[CV 3/3] END criterion=entropy, max_depth=10, min_samples_split=5, n_estimators=50, n_jobs=-1, random_state=26; accuracy: (test=0.934) f1: (test=0.883) neg_root_mean_squared_error: (test=-0.257) precision: (test=0.935) recall: (test=0.837) total time=   0.5s\n",
      "[CV 1/3] END criterion=entropy, max_depth=10, min_samples_split=10, n_estimators=20, n_jobs=-1, random_state=26; accuracy: (test=0.929) f1: (test=0.875) neg_root_mean_squared_error: (test=-0.266) precision: (test=0.926) recall: (test=0.829) total time=   0.3s\n",
      "[CV 2/3] END criterion=entropy, max_depth=10, min_samples_split=10, n_estimators=20, n_jobs=-1, random_state=26; accuracy: (test=0.927) f1: (test=0.872) neg_root_mean_squared_error: (test=-0.271) precision: (test=0.916) recall: (test=0.832) total time=   0.3s\n",
      "[CV 3/3] END criterion=entropy, max_depth=10, min_samples_split=10, n_estimators=20, n_jobs=-1, random_state=26; accuracy: (test=0.931) f1: (test=0.880) neg_root_mean_squared_error: (test=-0.262) precision: (test=0.926) recall: (test=0.838) total time=   0.3s\n",
      "[CV 1/3] END criterion=entropy, max_depth=10, min_samples_split=10, n_estimators=30, n_jobs=-1, random_state=26; accuracy: (test=0.929) f1: (test=0.875) neg_root_mean_squared_error: (test=-0.267) precision: (test=0.923) recall: (test=0.831) total time=   0.4s\n",
      "[CV 2/3] END criterion=entropy, max_depth=10, min_samples_split=10, n_estimators=30, n_jobs=-1, random_state=26; accuracy: (test=0.928) f1: (test=0.873) neg_root_mean_squared_error: (test=-0.269) precision: (test=0.918) recall: (test=0.833) total time=   0.4s\n",
      "[CV 3/3] END criterion=entropy, max_depth=10, min_samples_split=10, n_estimators=30, n_jobs=-1, random_state=26; accuracy: (test=0.933) f1: (test=0.882) neg_root_mean_squared_error: (test=-0.259) precision: (test=0.930) recall: (test=0.838) total time=   0.4s\n",
      "[CV 1/3] END criterion=entropy, max_depth=10, min_samples_split=10, n_estimators=40, n_jobs=-1, random_state=26; accuracy: (test=0.929) f1: (test=0.875) neg_root_mean_squared_error: (test=-0.266) precision: (test=0.925) recall: (test=0.830) total time=   0.5s\n",
      "[CV 2/3] END criterion=entropy, max_depth=10, min_samples_split=10, n_estimators=40, n_jobs=-1, random_state=26; accuracy: (test=0.928) f1: (test=0.873) neg_root_mean_squared_error: (test=-0.269) precision: (test=0.918) recall: (test=0.832) total time=   0.5s\n",
      "[CV 3/3] END criterion=entropy, max_depth=10, min_samples_split=10, n_estimators=40, n_jobs=-1, random_state=26; accuracy: (test=0.933) f1: (test=0.882) neg_root_mean_squared_error: (test=-0.259) precision: (test=0.931) recall: (test=0.837) total time=   0.5s\n",
      "[CV 1/3] END criterion=entropy, max_depth=10, min_samples_split=10, n_estimators=50, n_jobs=-1, random_state=26; accuracy: (test=0.929) f1: (test=0.874) neg_root_mean_squared_error: (test=-0.267) precision: (test=0.926) recall: (test=0.827) total time=   0.6s\n",
      "[CV 2/3] END criterion=entropy, max_depth=10, min_samples_split=10, n_estimators=50, n_jobs=-1, random_state=26; accuracy: (test=0.927) f1: (test=0.872) neg_root_mean_squared_error: (test=-0.271) precision: (test=0.916) recall: (test=0.832) total time=   0.6s\n",
      "[CV 3/3] END criterion=entropy, max_depth=10, min_samples_split=10, n_estimators=50, n_jobs=-1, random_state=26; accuracy: (test=0.933) f1: (test=0.881) neg_root_mean_squared_error: (test=-0.260) precision: (test=0.930) recall: (test=0.837) total time=   0.6s\n",
      "[CV 1/3] END criterion=entropy, max_depth=10, min_samples_split=15, n_estimators=20, n_jobs=-1, random_state=26; accuracy: (test=0.927) f1: (test=0.872) neg_root_mean_squared_error: (test=-0.270) precision: (test=0.922) recall: (test=0.827) total time=   0.3s\n",
      "[CV 2/3] END criterion=entropy, max_depth=10, min_samples_split=15, n_estimators=20, n_jobs=-1, random_state=26; accuracy: (test=0.927) f1: (test=0.872) neg_root_mean_squared_error: (test=-0.270) precision: (test=0.915) recall: (test=0.833) total time=   0.3s\n",
      "[CV 3/3] END criterion=entropy, max_depth=10, min_samples_split=15, n_estimators=20, n_jobs=-1, random_state=26; accuracy: (test=0.932) f1: (test=0.880) neg_root_mean_squared_error: (test=-0.261) precision: (test=0.928) recall: (test=0.836) total time=   0.3s\n",
      "[CV 1/3] END criterion=entropy, max_depth=10, min_samples_split=15, n_estimators=30, n_jobs=-1, random_state=26; accuracy: (test=0.928) f1: (test=0.873) neg_root_mean_squared_error: (test=-0.268) precision: (test=0.923) recall: (test=0.829) total time=   0.4s\n",
      "[CV 2/3] END criterion=entropy, max_depth=10, min_samples_split=15, n_estimators=30, n_jobs=-1, random_state=26; accuracy: (test=0.927) f1: (test=0.872) neg_root_mean_squared_error: (test=-0.271) precision: (test=0.915) recall: (test=0.832) total time=   0.4s\n",
      "[CV 3/3] END criterion=entropy, max_depth=10, min_samples_split=15, n_estimators=30, n_jobs=-1, random_state=26; accuracy: (test=0.932) f1: (test=0.879) neg_root_mean_squared_error: (test=-0.262) precision: (test=0.930) recall: (test=0.833) total time=   0.4s\n",
      "[CV 1/3] END criterion=entropy, max_depth=10, min_samples_split=15, n_estimators=40, n_jobs=-1, random_state=26; accuracy: (test=0.927) f1: (test=0.872) neg_root_mean_squared_error: (test=-0.269) precision: (test=0.923) recall: (test=0.826) total time=   0.5s\n",
      "[CV 2/3] END criterion=entropy, max_depth=10, min_samples_split=15, n_estimators=40, n_jobs=-1, random_state=26; accuracy: (test=0.927) f1: (test=0.872) neg_root_mean_squared_error: (test=-0.270) precision: (test=0.916) recall: (test=0.832) total time=   0.5s\n",
      "[CV 3/3] END criterion=entropy, max_depth=10, min_samples_split=15, n_estimators=40, n_jobs=-1, random_state=26; accuracy: (test=0.932) f1: (test=0.880) neg_root_mean_squared_error: (test=-0.261) precision: (test=0.930) recall: (test=0.834) total time=   0.5s\n",
      "[CV 1/3] END criterion=entropy, max_depth=10, min_samples_split=15, n_estimators=50, n_jobs=-1, random_state=26; accuracy: (test=0.927) f1: (test=0.872) neg_root_mean_squared_error: (test=-0.270) precision: (test=0.923) recall: (test=0.825) total time=   0.5s\n",
      "[CV 2/3] END criterion=entropy, max_depth=10, min_samples_split=15, n_estimators=50, n_jobs=-1, random_state=26; accuracy: (test=0.927) f1: (test=0.873) neg_root_mean_squared_error: (test=-0.269) precision: (test=0.917) recall: (test=0.833) total time=   0.6s\n",
      "[CV 3/3] END criterion=entropy, max_depth=10, min_samples_split=15, n_estimators=50, n_jobs=-1, random_state=26; accuracy: (test=0.931) f1: (test=0.879) neg_root_mean_squared_error: (test=-0.262) precision: (test=0.928) recall: (test=0.834) total time=   0.6s\n",
      "[CV 1/3] END criterion=entropy, max_depth=10, min_samples_split=20, n_estimators=20, n_jobs=-1, random_state=26; accuracy: (test=0.928) f1: (test=0.873) neg_root_mean_squared_error: (test=-0.268) precision: (test=0.929) recall: (test=0.823) total time=   0.3s\n",
      "[CV 2/3] END criterion=entropy, max_depth=10, min_samples_split=20, n_estimators=20, n_jobs=-1, random_state=26; accuracy: (test=0.926) f1: (test=0.871) neg_root_mean_squared_error: (test=-0.272) precision: (test=0.915) recall: (test=0.831) total time=   0.3s\n",
      "[CV 3/3] END criterion=entropy, max_depth=10, min_samples_split=20, n_estimators=20, n_jobs=-1, random_state=26; accuracy: (test=0.931) f1: (test=0.878) neg_root_mean_squared_error: (test=-0.263) precision: (test=0.929) recall: (test=0.833) total time=   0.3s\n",
      "[CV 1/3] END criterion=entropy, max_depth=10, min_samples_split=20, n_estimators=30, n_jobs=-1, random_state=26; accuracy: (test=0.929) f1: (test=0.874) neg_root_mean_squared_error: (test=-0.267) precision: (test=0.928) recall: (test=0.827) total time=   0.4s\n",
      "[CV 2/3] END criterion=entropy, max_depth=10, min_samples_split=20, n_estimators=30, n_jobs=-1, random_state=26; accuracy: (test=0.927) f1: (test=0.873) neg_root_mean_squared_error: (test=-0.269) precision: (test=0.917) recall: (test=0.833) total time=   0.4s\n",
      "[CV 3/3] END criterion=entropy, max_depth=10, min_samples_split=20, n_estimators=30, n_jobs=-1, random_state=26; accuracy: (test=0.931) f1: (test=0.878) neg_root_mean_squared_error: (test=-0.262) precision: (test=0.930) recall: (test=0.832) total time=   0.4s\n",
      "[CV 1/3] END criterion=entropy, max_depth=10, min_samples_split=20, n_estimators=40, n_jobs=-1, random_state=26; accuracy: (test=0.928) f1: (test=0.873) neg_root_mean_squared_error: (test=-0.268) precision: (test=0.928) recall: (test=0.824) total time=   0.5s\n",
      "[CV 2/3] END criterion=entropy, max_depth=10, min_samples_split=20, n_estimators=40, n_jobs=-1, random_state=26; accuracy: (test=0.928) f1: (test=0.873) neg_root_mean_squared_error: (test=-0.269) precision: (test=0.917) recall: (test=0.833) total time=   0.5s\n",
      "[CV 3/3] END criterion=entropy, max_depth=10, min_samples_split=20, n_estimators=40, n_jobs=-1, random_state=26; accuracy: (test=0.931) f1: (test=0.879) neg_root_mean_squared_error: (test=-0.262) precision: (test=0.930) recall: (test=0.833) total time=   0.5s\n",
      "[CV 1/3] END criterion=entropy, max_depth=10, min_samples_split=20, n_estimators=50, n_jobs=-1, random_state=26; accuracy: (test=0.928) f1: (test=0.873) neg_root_mean_squared_error: (test=-0.268) precision: (test=0.926) recall: (test=0.826) total time=   0.6s\n",
      "[CV 2/3] END criterion=entropy, max_depth=10, min_samples_split=20, n_estimators=50, n_jobs=-1, random_state=26; accuracy: (test=0.928) f1: (test=0.874) neg_root_mean_squared_error: (test=-0.269) precision: (test=0.917) recall: (test=0.834) total time=   0.6s\n",
      "[CV 3/3] END criterion=entropy, max_depth=10, min_samples_split=20, n_estimators=50, n_jobs=-1, random_state=26; accuracy: (test=0.931) f1: (test=0.878) neg_root_mean_squared_error: (test=-0.263) precision: (test=0.929) recall: (test=0.832) total time=   0.6s\n",
      "[CV 1/3] END criterion=entropy, max_depth=15, min_samples_split=5, n_estimators=20, n_jobs=-1, random_state=26; accuracy: (test=0.941) f1: (test=0.897) neg_root_mean_squared_error: (test=-0.243) precision: (test=0.944) recall: (test=0.854) total time=   0.4s\n",
      "[CV 2/3] END criterion=entropy, max_depth=15, min_samples_split=5, n_estimators=20, n_jobs=-1, random_state=26; accuracy: (test=0.943) f1: (test=0.901) neg_root_mean_squared_error: (test=-0.238) precision: (test=0.944) recall: (test=0.861) total time=   0.4s\n",
      "[CV 3/3] END criterion=entropy, max_depth=15, min_samples_split=5, n_estimators=20, n_jobs=-1, random_state=26; accuracy: (test=0.946) f1: (test=0.905) neg_root_mean_squared_error: (test=-0.233) precision: (test=0.951) recall: (test=0.863) total time=   0.4s\n",
      "[CV 1/3] END criterion=entropy, max_depth=15, min_samples_split=5, n_estimators=30, n_jobs=-1, random_state=26; accuracy: (test=0.943) f1: (test=0.899) neg_root_mean_squared_error: (test=-0.239) precision: (test=0.948) recall: (test=0.855) total time=   0.5s\n",
      "[CV 2/3] END criterion=entropy, max_depth=15, min_samples_split=5, n_estimators=30, n_jobs=-1, random_state=26; accuracy: (test=0.944) f1: (test=0.903) neg_root_mean_squared_error: (test=-0.236) precision: (test=0.947) recall: (test=0.863) total time=   0.5s\n",
      "[CV 3/3] END criterion=entropy, max_depth=15, min_samples_split=5, n_estimators=30, n_jobs=-1, random_state=26; accuracy: (test=0.947) f1: (test=0.907) neg_root_mean_squared_error: (test=-0.230) precision: (test=0.953) recall: (test=0.865) total time=   0.5s\n",
      "[CV 1/3] END criterion=entropy, max_depth=15, min_samples_split=5, n_estimators=40, n_jobs=-1, random_state=26; accuracy: (test=0.943) f1: (test=0.900) neg_root_mean_squared_error: (test=-0.238) precision: (test=0.950) recall: (test=0.855) total time=   0.6s\n",
      "[CV 2/3] END criterion=entropy, max_depth=15, min_samples_split=5, n_estimators=40, n_jobs=-1, random_state=26; accuracy: (test=0.944) f1: (test=0.902) neg_root_mean_squared_error: (test=-0.237) precision: (test=0.946) recall: (test=0.862) total time=   0.6s\n",
      "[CV 3/3] END criterion=entropy, max_depth=15, min_samples_split=5, n_estimators=40, n_jobs=-1, random_state=26; accuracy: (test=0.947) f1: (test=0.906) neg_root_mean_squared_error: (test=-0.231) precision: (test=0.952) recall: (test=0.864) total time=   0.6s\n",
      "[CV 1/3] END criterion=entropy, max_depth=15, min_samples_split=5, n_estimators=50, n_jobs=-1, random_state=26; accuracy: (test=0.944) f1: (test=0.901) neg_root_mean_squared_error: (test=-0.238) precision: (test=0.949) recall: (test=0.857) total time=   0.7s\n",
      "[CV 2/3] END criterion=entropy, max_depth=15, min_samples_split=5, n_estimators=50, n_jobs=-1, random_state=26; accuracy: (test=0.944) f1: (test=0.901) neg_root_mean_squared_error: (test=-0.237) precision: (test=0.946) recall: (test=0.861) total time=   0.7s\n",
      "[CV 3/3] END criterion=entropy, max_depth=15, min_samples_split=5, n_estimators=50, n_jobs=-1, random_state=26; accuracy: (test=0.947) f1: (test=0.907) neg_root_mean_squared_error: (test=-0.231) precision: (test=0.952) recall: (test=0.865) total time=   0.7s\n",
      "[CV 1/3] END criterion=entropy, max_depth=15, min_samples_split=10, n_estimators=20, n_jobs=-1, random_state=26; accuracy: (test=0.942) f1: (test=0.898) neg_root_mean_squared_error: (test=-0.242) precision: (test=0.941) recall: (test=0.858) total time=   0.4s\n",
      "[CV 2/3] END criterion=entropy, max_depth=15, min_samples_split=10, n_estimators=20, n_jobs=-1, random_state=26; accuracy: (test=0.941) f1: (test=0.898) neg_root_mean_squared_error: (test=-0.242) precision: (test=0.938) recall: (test=0.860) total time=   0.4s\n",
      "[CV 3/3] END criterion=entropy, max_depth=15, min_samples_split=10, n_estimators=20, n_jobs=-1, random_state=26; accuracy: (test=0.946) f1: (test=0.904) neg_root_mean_squared_error: (test=-0.233) precision: (test=0.952) recall: (test=0.861) total time=   0.4s\n",
      "[CV 1/3] END criterion=entropy, max_depth=15, min_samples_split=10, n_estimators=30, n_jobs=-1, random_state=26; accuracy: (test=0.942) f1: (test=0.899) neg_root_mean_squared_error: (test=-0.240) precision: (test=0.943) recall: (test=0.860) total time=   0.5s\n",
      "[CV 2/3] END criterion=entropy, max_depth=15, min_samples_split=10, n_estimators=30, n_jobs=-1, random_state=26; accuracy: (test=0.942) f1: (test=0.898) neg_root_mean_squared_error: (test=-0.241) precision: (test=0.941) recall: (test=0.860) total time=   0.5s\n",
      "[CV 3/3] END criterion=entropy, max_depth=15, min_samples_split=10, n_estimators=30, n_jobs=-1, random_state=26; accuracy: (test=0.946) f1: (test=0.905) neg_root_mean_squared_error: (test=-0.233) precision: (test=0.951) recall: (test=0.862) total time=   0.5s\n",
      "[CV 1/3] END criterion=entropy, max_depth=15, min_samples_split=10, n_estimators=40, n_jobs=-1, random_state=26; accuracy: (test=0.943) f1: (test=0.899) neg_root_mean_squared_error: (test=-0.239) precision: (test=0.945) recall: (test=0.858) total time=   0.6s\n",
      "[CV 2/3] END criterion=entropy, max_depth=15, min_samples_split=10, n_estimators=40, n_jobs=-1, random_state=26; accuracy: (test=0.942) f1: (test=0.898) neg_root_mean_squared_error: (test=-0.241) precision: (test=0.942) recall: (test=0.858) total time=   0.6s\n",
      "[CV 3/3] END criterion=entropy, max_depth=15, min_samples_split=10, n_estimators=40, n_jobs=-1, random_state=26; accuracy: (test=0.946) f1: (test=0.904) neg_root_mean_squared_error: (test=-0.233) precision: (test=0.952) recall: (test=0.861) total time=   0.6s\n",
      "[CV 1/3] END criterion=entropy, max_depth=15, min_samples_split=10, n_estimators=50, n_jobs=-1, random_state=26; accuracy: (test=0.943) f1: (test=0.899) neg_root_mean_squared_error: (test=-0.240) precision: (test=0.945) recall: (test=0.857) total time=   0.7s\n",
      "[CV 2/3] END criterion=entropy, max_depth=15, min_samples_split=10, n_estimators=50, n_jobs=-1, random_state=26; accuracy: (test=0.943) f1: (test=0.899) neg_root_mean_squared_error: (test=-0.240) precision: (test=0.943) recall: (test=0.860) total time=   0.7s\n",
      "[CV 3/3] END criterion=entropy, max_depth=15, min_samples_split=10, n_estimators=50, n_jobs=-1, random_state=26; accuracy: (test=0.946) f1: (test=0.904) neg_root_mean_squared_error: (test=-0.233) precision: (test=0.951) recall: (test=0.862) total time=   0.7s\n",
      "[CV 1/3] END criterion=entropy, max_depth=15, min_samples_split=15, n_estimators=20, n_jobs=-1, random_state=26; accuracy: (test=0.941) f1: (test=0.896) neg_root_mean_squared_error: (test=-0.243) precision: (test=0.947) recall: (test=0.851) total time=   0.4s\n",
      "[CV 2/3] END criterion=entropy, max_depth=15, min_samples_split=15, n_estimators=20, n_jobs=-1, random_state=26; accuracy: (test=0.941) f1: (test=0.897) neg_root_mean_squared_error: (test=-0.243) precision: (test=0.942) recall: (test=0.856) total time=   0.4s\n",
      "[CV 3/3] END criterion=entropy, max_depth=15, min_samples_split=15, n_estimators=20, n_jobs=-1, random_state=26; accuracy: (test=0.944) f1: (test=0.901) neg_root_mean_squared_error: (test=-0.238) precision: (test=0.948) recall: (test=0.858) total time=   0.4s\n",
      "[CV 1/3] END criterion=entropy, max_depth=15, min_samples_split=15, n_estimators=30, n_jobs=-1, random_state=26; accuracy: (test=0.943) f1: (test=0.899) neg_root_mean_squared_error: (test=-0.240) precision: (test=0.949) recall: (test=0.854) total time=   0.5s\n",
      "[CV 2/3] END criterion=entropy, max_depth=15, min_samples_split=15, n_estimators=30, n_jobs=-1, random_state=26; accuracy: (test=0.942) f1: (test=0.897) neg_root_mean_squared_error: (test=-0.242) precision: (test=0.943) recall: (test=0.856) total time=   0.5s\n",
      "[CV 3/3] END criterion=entropy, max_depth=15, min_samples_split=15, n_estimators=30, n_jobs=-1, random_state=26; accuracy: (test=0.944) f1: (test=0.902) neg_root_mean_squared_error: (test=-0.237) precision: (test=0.949) recall: (test=0.859) total time=   0.5s\n",
      "[CV 1/3] END criterion=entropy, max_depth=15, min_samples_split=15, n_estimators=40, n_jobs=-1, random_state=26; accuracy: (test=0.943) f1: (test=0.899) neg_root_mean_squared_error: (test=-0.240) precision: (test=0.949) recall: (test=0.853) total time=   0.6s\n",
      "[CV 2/3] END criterion=entropy, max_depth=15, min_samples_split=15, n_estimators=40, n_jobs=-1, random_state=26; accuracy: (test=0.942) f1: (test=0.898) neg_root_mean_squared_error: (test=-0.241) precision: (test=0.945) recall: (test=0.856) total time=   0.6s\n",
      "[CV 3/3] END criterion=entropy, max_depth=15, min_samples_split=15, n_estimators=40, n_jobs=-1, random_state=26; accuracy: (test=0.945) f1: (test=0.903) neg_root_mean_squared_error: (test=-0.235) precision: (test=0.950) recall: (test=0.860) total time=   0.6s\n",
      "[CV 1/3] END criterion=entropy, max_depth=15, min_samples_split=15, n_estimators=50, n_jobs=-1, random_state=26; accuracy: (test=0.944) f1: (test=0.901) neg_root_mean_squared_error: (test=-0.237) precision: (test=0.950) recall: (test=0.856) total time=   0.7s\n",
      "[CV 2/3] END criterion=entropy, max_depth=15, min_samples_split=15, n_estimators=50, n_jobs=-1, random_state=26; accuracy: (test=0.942) f1: (test=0.898) neg_root_mean_squared_error: (test=-0.242) precision: (test=0.943) recall: (test=0.856) total time=   0.7s\n",
      "[CV 3/3] END criterion=entropy, max_depth=15, min_samples_split=15, n_estimators=50, n_jobs=-1, random_state=26; accuracy: (test=0.945) f1: (test=0.903) neg_root_mean_squared_error: (test=-0.236) precision: (test=0.950) recall: (test=0.859) total time=   0.7s\n",
      "[CV 1/3] END criterion=entropy, max_depth=15, min_samples_split=20, n_estimators=20, n_jobs=-1, random_state=26; accuracy: (test=0.941) f1: (test=0.897) neg_root_mean_squared_error: (test=-0.242) precision: (test=0.943) recall: (test=0.855) total time=   0.4s\n",
      "[CV 2/3] END criterion=entropy, max_depth=15, min_samples_split=20, n_estimators=20, n_jobs=-1, random_state=26; accuracy: (test=0.939) f1: (test=0.894) neg_root_mean_squared_error: (test=-0.246) precision: (test=0.937) recall: (test=0.855) total time=   0.4s\n",
      "[CV 3/3] END criterion=entropy, max_depth=15, min_samples_split=20, n_estimators=20, n_jobs=-1, random_state=26; accuracy: (test=0.944) f1: (test=0.902) neg_root_mean_squared_error: (test=-0.236) precision: (test=0.948) recall: (test=0.861) total time=   0.4s\n",
      "[CV 1/3] END criterion=entropy, max_depth=15, min_samples_split=20, n_estimators=30, n_jobs=-1, random_state=26; accuracy: (test=0.942) f1: (test=0.898) neg_root_mean_squared_error: (test=-0.241) precision: (test=0.945) recall: (test=0.855) total time=   0.5s\n",
      "[CV 2/3] END criterion=entropy, max_depth=15, min_samples_split=20, n_estimators=30, n_jobs=-1, random_state=26; accuracy: (test=0.941) f1: (test=0.897) neg_root_mean_squared_error: (test=-0.243) precision: (test=0.940) recall: (test=0.857) total time=   0.5s\n",
      "[CV 3/3] END criterion=entropy, max_depth=15, min_samples_split=20, n_estimators=30, n_jobs=-1, random_state=26; accuracy: (test=0.945) f1: (test=0.904) neg_root_mean_squared_error: (test=-0.233) precision: (test=0.951) recall: (test=0.862) total time=   0.5s\n",
      "[CV 1/3] END criterion=entropy, max_depth=15, min_samples_split=20, n_estimators=40, n_jobs=-1, random_state=26; accuracy: (test=0.942) f1: (test=0.897) neg_root_mean_squared_error: (test=-0.242) precision: (test=0.945) recall: (test=0.855) total time=   0.6s\n",
      "[CV 2/3] END criterion=entropy, max_depth=15, min_samples_split=20, n_estimators=40, n_jobs=-1, random_state=26; accuracy: (test=0.941) f1: (test=0.897) neg_root_mean_squared_error: (test=-0.242) precision: (test=0.942) recall: (test=0.856) total time=   0.6s\n",
      "[CV 3/3] END criterion=entropy, max_depth=15, min_samples_split=20, n_estimators=40, n_jobs=-1, random_state=26; accuracy: (test=0.946) f1: (test=0.905) neg_root_mean_squared_error: (test=-0.232) precision: (test=0.953) recall: (test=0.862) total time=   0.5s\n",
      "[CV 1/3] END criterion=entropy, max_depth=15, min_samples_split=20, n_estimators=50, n_jobs=-1, random_state=26; accuracy: (test=0.942) f1: (test=0.898) neg_root_mean_squared_error: (test=-0.241) precision: (test=0.946) recall: (test=0.855) total time=   0.6s\n",
      "[CV 2/3] END criterion=entropy, max_depth=15, min_samples_split=20, n_estimators=50, n_jobs=-1, random_state=26; accuracy: (test=0.941) f1: (test=0.896) neg_root_mean_squared_error: (test=-0.243) precision: (test=0.941) recall: (test=0.856) total time=   0.7s\n",
      "[CV 3/3] END criterion=entropy, max_depth=15, min_samples_split=20, n_estimators=50, n_jobs=-1, random_state=26; accuracy: (test=0.945) f1: (test=0.904) neg_root_mean_squared_error: (test=-0.234) precision: (test=0.952) recall: (test=0.860) total time=   0.7s\n",
      "[CV 1/3] END criterion=entropy, max_depth=20, min_samples_split=5, n_estimators=20, n_jobs=-1, random_state=26; accuracy: (test=0.947) f1: (test=0.908) neg_root_mean_squared_error: (test=-0.229) precision: (test=0.952) recall: (test=0.867) total time=   0.4s\n",
      "[CV 2/3] END criterion=entropy, max_depth=20, min_samples_split=5, n_estimators=20, n_jobs=-1, random_state=26; accuracy: (test=0.947) f1: (test=0.908) neg_root_mean_squared_error: (test=-0.230) precision: (test=0.949) recall: (test=0.871) total time=   0.4s\n",
      "[CV 3/3] END criterion=entropy, max_depth=20, min_samples_split=5, n_estimators=20, n_jobs=-1, random_state=26; accuracy: (test=0.951) f1: (test=0.914) neg_root_mean_squared_error: (test=-0.221) precision: (test=0.957) recall: (test=0.876) total time=   0.4s\n",
      "[CV 1/3] END criterion=entropy, max_depth=20, min_samples_split=5, n_estimators=30, n_jobs=-1, random_state=26; accuracy: (test=0.949) f1: (test=0.911) neg_root_mean_squared_error: (test=-0.226) precision: (test=0.955) recall: (test=0.870) total time=   0.5s\n",
      "[CV 2/3] END criterion=entropy, max_depth=20, min_samples_split=5, n_estimators=30, n_jobs=-1, random_state=26; accuracy: (test=0.947) f1: (test=0.908) neg_root_mean_squared_error: (test=-0.230) precision: (test=0.948) recall: (test=0.872) total time=   0.5s\n",
      "[CV 3/3] END criterion=entropy, max_depth=20, min_samples_split=5, n_estimators=30, n_jobs=-1, random_state=26; accuracy: (test=0.951) f1: (test=0.914) neg_root_mean_squared_error: (test=-0.221) precision: (test=0.959) recall: (test=0.874) total time=   0.5s\n",
      "[CV 1/3] END criterion=entropy, max_depth=20, min_samples_split=5, n_estimators=40, n_jobs=-1, random_state=26; accuracy: (test=0.949) f1: (test=0.910) neg_root_mean_squared_error: (test=-0.227) precision: (test=0.954) recall: (test=0.870) total time=   0.6s\n",
      "[CV 2/3] END criterion=entropy, max_depth=20, min_samples_split=5, n_estimators=40, n_jobs=-1, random_state=26; accuracy: (test=0.948) f1: (test=0.909) neg_root_mean_squared_error: (test=-0.229) precision: (test=0.949) recall: (test=0.872) total time=   0.6s\n",
      "[CV 3/3] END criterion=entropy, max_depth=20, min_samples_split=5, n_estimators=40, n_jobs=-1, random_state=26; accuracy: (test=0.951) f1: (test=0.915) neg_root_mean_squared_error: (test=-0.221) precision: (test=0.959) recall: (test=0.875) total time=   0.6s\n",
      "[CV 1/3] END criterion=entropy, max_depth=20, min_samples_split=5, n_estimators=50, n_jobs=-1, random_state=26; accuracy: (test=0.949) f1: (test=0.910) neg_root_mean_squared_error: (test=-0.227) precision: (test=0.954) recall: (test=0.870) total time=   0.8s\n",
      "[CV 2/3] END criterion=entropy, max_depth=20, min_samples_split=5, n_estimators=50, n_jobs=-1, random_state=26; accuracy: (test=0.948) f1: (test=0.910) neg_root_mean_squared_error: (test=-0.228) precision: (test=0.950) recall: (test=0.872) total time=   0.8s\n",
      "[CV 3/3] END criterion=entropy, max_depth=20, min_samples_split=5, n_estimators=50, n_jobs=-1, random_state=26; accuracy: (test=0.951) f1: (test=0.914) neg_root_mean_squared_error: (test=-0.222) precision: (test=0.957) recall: (test=0.874) total time=   0.8s\n",
      "[CV 1/3] END criterion=entropy, max_depth=20, min_samples_split=10, n_estimators=20, n_jobs=-1, random_state=26; accuracy: (test=0.947) f1: (test=0.907) neg_root_mean_squared_error: (test=-0.230) precision: (test=0.954) recall: (test=0.866) total time=   0.4s\n",
      "[CV 2/3] END criterion=entropy, max_depth=20, min_samples_split=10, n_estimators=20, n_jobs=-1, random_state=26; accuracy: (test=0.947) f1: (test=0.907) neg_root_mean_squared_error: (test=-0.230) precision: (test=0.949) recall: (test=0.869) total time=   0.4s\n",
      "[CV 3/3] END criterion=entropy, max_depth=20, min_samples_split=10, n_estimators=20, n_jobs=-1, random_state=26; accuracy: (test=0.949) f1: (test=0.910) neg_root_mean_squared_error: (test=-0.227) precision: (test=0.955) recall: (test=0.869) total time=   0.4s\n",
      "[CV 1/3] END criterion=entropy, max_depth=20, min_samples_split=10, n_estimators=30, n_jobs=-1, random_state=26; accuracy: (test=0.948) f1: (test=0.908) neg_root_mean_squared_error: (test=-0.229) precision: (test=0.956) recall: (test=0.865) total time=   0.7s\n",
      "[CV 2/3] END criterion=entropy, max_depth=20, min_samples_split=10, n_estimators=30, n_jobs=-1, random_state=26; accuracy: (test=0.948) f1: (test=0.910) neg_root_mean_squared_error: (test=-0.227) precision: (test=0.953) recall: (test=0.871) total time=   0.6s\n",
      "[CV 3/3] END criterion=entropy, max_depth=20, min_samples_split=10, n_estimators=30, n_jobs=-1, random_state=26; accuracy: (test=0.950) f1: (test=0.912) neg_root_mean_squared_error: (test=-0.224) precision: (test=0.958) recall: (test=0.869) total time=   0.6s\n",
      "[CV 1/3] END criterion=entropy, max_depth=20, min_samples_split=10, n_estimators=40, n_jobs=-1, random_state=26; accuracy: (test=0.948) f1: (test=0.909) neg_root_mean_squared_error: (test=-0.227) precision: (test=0.957) recall: (test=0.866) total time=   0.7s\n",
      "[CV 2/3] END criterion=entropy, max_depth=20, min_samples_split=10, n_estimators=40, n_jobs=-1, random_state=26; accuracy: (test=0.947) f1: (test=0.908) neg_root_mean_squared_error: (test=-0.229) precision: (test=0.952) recall: (test=0.868) total time=   0.7s\n",
      "[CV 3/3] END criterion=entropy, max_depth=20, min_samples_split=10, n_estimators=40, n_jobs=-1, random_state=26; accuracy: (test=0.949) f1: (test=0.911) neg_root_mean_squared_error: (test=-0.225) precision: (test=0.958) recall: (test=0.870) total time=   0.6s\n",
      "[CV 1/3] END criterion=entropy, max_depth=20, min_samples_split=10, n_estimators=50, n_jobs=-1, random_state=26; accuracy: (test=0.948) f1: (test=0.909) neg_root_mean_squared_error: (test=-0.228) precision: (test=0.957) recall: (test=0.866) total time=   0.7s\n",
      "[CV 2/3] END criterion=entropy, max_depth=20, min_samples_split=10, n_estimators=50, n_jobs=-1, random_state=26; accuracy: (test=0.947) f1: (test=0.908) neg_root_mean_squared_error: (test=-0.229) precision: (test=0.952) recall: (test=0.868) total time=   0.8s\n",
      "[CV 3/3] END criterion=entropy, max_depth=20, min_samples_split=10, n_estimators=50, n_jobs=-1, random_state=26; accuracy: (test=0.950) f1: (test=0.912) neg_root_mean_squared_error: (test=-0.224) precision: (test=0.958) recall: (test=0.870) total time=   0.8s\n",
      "[CV 1/3] END criterion=entropy, max_depth=20, min_samples_split=15, n_estimators=20, n_jobs=-1, random_state=26; accuracy: (test=0.947) f1: (test=0.907) neg_root_mean_squared_error: (test=-0.230) precision: (test=0.954) recall: (test=0.864) total time=   0.4s\n",
      "[CV 2/3] END criterion=entropy, max_depth=20, min_samples_split=15, n_estimators=20, n_jobs=-1, random_state=26; accuracy: (test=0.945) f1: (test=0.904) neg_root_mean_squared_error: (test=-0.234) precision: (test=0.946) recall: (test=0.867) total time=   0.4s\n",
      "[CV 3/3] END criterion=entropy, max_depth=20, min_samples_split=15, n_estimators=20, n_jobs=-1, random_state=26; accuracy: (test=0.950) f1: (test=0.912) neg_root_mean_squared_error: (test=-0.224) precision: (test=0.957) recall: (test=0.871) total time=   0.4s\n",
      "[CV 1/3] END criterion=entropy, max_depth=20, min_samples_split=15, n_estimators=30, n_jobs=-1, random_state=26; accuracy: (test=0.947) f1: (test=0.907) neg_root_mean_squared_error: (test=-0.229) precision: (test=0.956) recall: (test=0.864) total time=   0.5s\n",
      "[CV 2/3] END criterion=entropy, max_depth=20, min_samples_split=15, n_estimators=30, n_jobs=-1, random_state=26; accuracy: (test=0.947) f1: (test=0.907) neg_root_mean_squared_error: (test=-0.231) precision: (test=0.949) recall: (test=0.869) total time=   0.5s\n",
      "[CV 3/3] END criterion=entropy, max_depth=20, min_samples_split=15, n_estimators=30, n_jobs=-1, random_state=26; accuracy: (test=0.950) f1: (test=0.912) neg_root_mean_squared_error: (test=-0.224) precision: (test=0.959) recall: (test=0.870) total time=   0.5s\n",
      "[CV 1/3] END criterion=entropy, max_depth=20, min_samples_split=15, n_estimators=40, n_jobs=-1, random_state=26; accuracy: (test=0.947) f1: (test=0.908) neg_root_mean_squared_error: (test=-0.229) precision: (test=0.957) recall: (test=0.863) total time=   0.6s\n",
      "[CV 2/3] END criterion=entropy, max_depth=20, min_samples_split=15, n_estimators=40, n_jobs=-1, random_state=26; accuracy: (test=0.947) f1: (test=0.907) neg_root_mean_squared_error: (test=-0.231) precision: (test=0.949) recall: (test=0.868) total time=   0.6s\n",
      "[CV 3/3] END criterion=entropy, max_depth=20, min_samples_split=15, n_estimators=40, n_jobs=-1, random_state=26; accuracy: (test=0.950) f1: (test=0.912) neg_root_mean_squared_error: (test=-0.224) precision: (test=0.960) recall: (test=0.868) total time=   0.6s\n",
      "[CV 1/3] END criterion=entropy, max_depth=20, min_samples_split=15, n_estimators=50, n_jobs=-1, random_state=26; accuracy: (test=0.947) f1: (test=0.907) neg_root_mean_squared_error: (test=-0.230) precision: (test=0.957) recall: (test=0.862) total time=   0.7s\n",
      "[CV 2/3] END criterion=entropy, max_depth=20, min_samples_split=15, n_estimators=50, n_jobs=-1, random_state=26; accuracy: (test=0.947) f1: (test=0.907) neg_root_mean_squared_error: (test=-0.231) precision: (test=0.949) recall: (test=0.868) total time=   0.7s\n",
      "[CV 3/3] END criterion=entropy, max_depth=20, min_samples_split=15, n_estimators=50, n_jobs=-1, random_state=26; accuracy: (test=0.949) f1: (test=0.911) neg_root_mean_squared_error: (test=-0.225) precision: (test=0.959) recall: (test=0.868) total time=   0.7s\n",
      "[CV 1/3] END criterion=entropy, max_depth=20, min_samples_split=20, n_estimators=20, n_jobs=-1, random_state=26; accuracy: (test=0.945) f1: (test=0.904) neg_root_mean_squared_error: (test=-0.234) precision: (test=0.953) recall: (test=0.860) total time=   0.4s\n",
      "[CV 2/3] END criterion=entropy, max_depth=20, min_samples_split=20, n_estimators=20, n_jobs=-1, random_state=26; accuracy: (test=0.945) f1: (test=0.904) neg_root_mean_squared_error: (test=-0.234) precision: (test=0.948) recall: (test=0.864) total time=   0.4s\n",
      "[CV 3/3] END criterion=entropy, max_depth=20, min_samples_split=20, n_estimators=20, n_jobs=-1, random_state=26; accuracy: (test=0.946) f1: (test=0.906) neg_root_mean_squared_error: (test=-0.232) precision: (test=0.948) recall: (test=0.868) total time=   0.4s\n",
      "[CV 1/3] END criterion=entropy, max_depth=20, min_samples_split=20, n_estimators=30, n_jobs=-1, random_state=26; accuracy: (test=0.946) f1: (test=0.904) neg_root_mean_squared_error: (test=-0.233) precision: (test=0.952) recall: (test=0.861) total time=   0.5s\n",
      "[CV 2/3] END criterion=entropy, max_depth=20, min_samples_split=20, n_estimators=30, n_jobs=-1, random_state=26; accuracy: (test=0.946) f1: (test=0.905) neg_root_mean_squared_error: (test=-0.233) precision: (test=0.949) recall: (test=0.865) total time=   0.5s\n",
      "[CV 3/3] END criterion=entropy, max_depth=20, min_samples_split=20, n_estimators=30, n_jobs=-1, random_state=26; accuracy: (test=0.948) f1: (test=0.909) neg_root_mean_squared_error: (test=-0.228) precision: (test=0.953) recall: (test=0.869) total time=   0.5s\n",
      "[CV 1/3] END criterion=entropy, max_depth=20, min_samples_split=20, n_estimators=40, n_jobs=-1, random_state=26; accuracy: (test=0.945) f1: (test=0.904) neg_root_mean_squared_error: (test=-0.233) precision: (test=0.953) recall: (test=0.860) total time=   0.6s\n",
      "[CV 2/3] END criterion=entropy, max_depth=20, min_samples_split=20, n_estimators=40, n_jobs=-1, random_state=26; accuracy: (test=0.945) f1: (test=0.904) neg_root_mean_squared_error: (test=-0.234) precision: (test=0.948) recall: (test=0.863) total time=   0.6s\n",
      "[CV 3/3] END criterion=entropy, max_depth=20, min_samples_split=20, n_estimators=40, n_jobs=-1, random_state=26; accuracy: (test=0.948) f1: (test=0.909) neg_root_mean_squared_error: (test=-0.228) precision: (test=0.954) recall: (test=0.868) total time=   0.6s\n",
      "[CV 1/3] END criterion=entropy, max_depth=20, min_samples_split=20, n_estimators=50, n_jobs=-1, random_state=26; accuracy: (test=0.945) f1: (test=0.903) neg_root_mean_squared_error: (test=-0.234) precision: (test=0.952) recall: (test=0.860) total time=   0.7s\n",
      "[CV 2/3] END criterion=entropy, max_depth=20, min_samples_split=20, n_estimators=50, n_jobs=-1, random_state=26; accuracy: (test=0.945) f1: (test=0.904) neg_root_mean_squared_error: (test=-0.234) precision: (test=0.948) recall: (test=0.863) total time=   0.7s\n",
      "[CV 3/3] END criterion=entropy, max_depth=20, min_samples_split=20, n_estimators=50, n_jobs=-1, random_state=26; accuracy: (test=0.948) f1: (test=0.909) neg_root_mean_squared_error: (test=-0.228) precision: (test=0.953) recall: (test=0.868) total time=   0.7s\n",
      "[CV 1/3] END criterion=gini, max_depth=5, min_samples_split=5, n_estimators=20, n_jobs=-1, random_state=26; accuracy: (test=0.906) f1: (test=0.835) neg_root_mean_squared_error: (test=-0.307) precision: (test=0.875) recall: (test=0.799) total time=   0.3s\n",
      "[CV 2/3] END criterion=gini, max_depth=5, min_samples_split=5, n_estimators=20, n_jobs=-1, random_state=26; accuracy: (test=0.885) f1: (test=0.810) neg_root_mean_squared_error: (test=-0.340) precision: (test=0.797) recall: (test=0.825) total time=   0.3s\n",
      "[CV 3/3] END criterion=gini, max_depth=5, min_samples_split=5, n_estimators=20, n_jobs=-1, random_state=26; accuracy: (test=0.902) f1: (test=0.835) neg_root_mean_squared_error: (test=-0.313) precision: (test=0.838) recall: (test=0.833) total time=   0.2s\n",
      "[CV 1/3] END criterion=gini, max_depth=5, min_samples_split=5, n_estimators=30, n_jobs=-1, random_state=26; accuracy: (test=0.909) f1: (test=0.842) neg_root_mean_squared_error: (test=-0.301) precision: (test=0.876) recall: (test=0.811) total time=   0.3s\n",
      "[CV 2/3] END criterion=gini, max_depth=5, min_samples_split=5, n_estimators=30, n_jobs=-1, random_state=26; accuracy: (test=0.901) f1: (test=0.833) neg_root_mean_squared_error: (test=-0.315) precision: (test=0.838) recall: (test=0.828) total time=   0.3s\n",
      "[CV 3/3] END criterion=gini, max_depth=5, min_samples_split=5, n_estimators=30, n_jobs=-1, random_state=26; accuracy: (test=0.910) f1: (test=0.847) neg_root_mean_squared_error: (test=-0.300) precision: (test=0.863) recall: (test=0.832) total time=   0.3s\n",
      "[CV 1/3] END criterion=gini, max_depth=5, min_samples_split=5, n_estimators=40, n_jobs=-1, random_state=26; accuracy: (test=0.909) f1: (test=0.842) neg_root_mean_squared_error: (test=-0.301) precision: (test=0.878) recall: (test=0.810) total time=   0.3s\n",
      "[CV 2/3] END criterion=gini, max_depth=5, min_samples_split=5, n_estimators=40, n_jobs=-1, random_state=26; accuracy: (test=0.901) f1: (test=0.834) neg_root_mean_squared_error: (test=-0.314) precision: (test=0.841) recall: (test=0.827) total time=   0.3s\n",
      "[CV 3/3] END criterion=gini, max_depth=5, min_samples_split=5, n_estimators=40, n_jobs=-1, random_state=26; accuracy: (test=0.909) f1: (test=0.845) neg_root_mean_squared_error: (test=-0.302) precision: (test=0.860) recall: (test=0.831) total time=   0.3s\n",
      "[CV 1/3] END criterion=gini, max_depth=5, min_samples_split=5, n_estimators=50, n_jobs=-1, random_state=26; accuracy: (test=0.910) f1: (test=0.844) neg_root_mean_squared_error: (test=-0.300) precision: (test=0.878) recall: (test=0.812) total time=   0.4s\n",
      "[CV 2/3] END criterion=gini, max_depth=5, min_samples_split=5, n_estimators=50, n_jobs=-1, random_state=26; accuracy: (test=0.898) f1: (test=0.828) neg_root_mean_squared_error: (test=-0.320) precision: (test=0.831) recall: (test=0.826) total time=   0.4s\n",
      "[CV 3/3] END criterion=gini, max_depth=5, min_samples_split=5, n_estimators=50, n_jobs=-1, random_state=26; accuracy: (test=0.906) f1: (test=0.841) neg_root_mean_squared_error: (test=-0.307) precision: (test=0.850) recall: (test=0.832) total time=   0.4s\n",
      "[CV 1/3] END criterion=gini, max_depth=5, min_samples_split=10, n_estimators=20, n_jobs=-1, random_state=26; accuracy: (test=0.908) f1: (test=0.839) neg_root_mean_squared_error: (test=-0.303) precision: (test=0.878) recall: (test=0.804) total time=   0.3s\n",
      "[CV 2/3] END criterion=gini, max_depth=5, min_samples_split=10, n_estimators=20, n_jobs=-1, random_state=26; accuracy: (test=0.883) f1: (test=0.808) neg_root_mean_squared_error: (test=-0.342) precision: (test=0.794) recall: (test=0.823) total time=   0.3s\n",
      "[CV 3/3] END criterion=gini, max_depth=5, min_samples_split=10, n_estimators=20, n_jobs=-1, random_state=26; accuracy: (test=0.902) f1: (test=0.835) neg_root_mean_squared_error: (test=-0.313) precision: (test=0.838) recall: (test=0.833) total time=   0.3s\n",
      "[CV 1/3] END criterion=gini, max_depth=5, min_samples_split=10, n_estimators=30, n_jobs=-1, random_state=26; accuracy: (test=0.906) f1: (test=0.838) neg_root_mean_squared_error: (test=-0.306) precision: (test=0.865) recall: (test=0.813) total time=   0.3s\n",
      "[CV 2/3] END criterion=gini, max_depth=5, min_samples_split=10, n_estimators=30, n_jobs=-1, random_state=26; accuracy: (test=0.894) f1: (test=0.823) neg_root_mean_squared_error: (test=-0.326) precision: (test=0.821) recall: (test=0.826) total time=   0.3s\n",
      "[CV 3/3] END criterion=gini, max_depth=5, min_samples_split=10, n_estimators=30, n_jobs=-1, random_state=26; accuracy: (test=0.910) f1: (test=0.847) neg_root_mean_squared_error: (test=-0.300) precision: (test=0.863) recall: (test=0.832) total time=   0.3s\n",
      "[CV 1/3] END criterion=gini, max_depth=5, min_samples_split=10, n_estimators=40, n_jobs=-1, random_state=26; accuracy: (test=0.908) f1: (test=0.840) neg_root_mean_squared_error: (test=-0.303) precision: (test=0.876) recall: (test=0.807) total time=   0.3s\n",
      "[CV 2/3] END criterion=gini, max_depth=5, min_samples_split=10, n_estimators=40, n_jobs=-1, random_state=26; accuracy: (test=0.895) f1: (test=0.824) neg_root_mean_squared_error: (test=-0.324) precision: (test=0.824) recall: (test=0.825) total time=   0.3s\n",
      "[CV 3/3] END criterion=gini, max_depth=5, min_samples_split=10, n_estimators=40, n_jobs=-1, random_state=26; accuracy: (test=0.911) f1: (test=0.847) neg_root_mean_squared_error: (test=-0.299) precision: (test=0.866) recall: (test=0.829) total time=   0.3s\n",
      "[CV 1/3] END criterion=gini, max_depth=5, min_samples_split=10, n_estimators=50, n_jobs=-1, random_state=26; accuracy: (test=0.910) f1: (test=0.843) neg_root_mean_squared_error: (test=-0.300) precision: (test=0.878) recall: (test=0.811) total time=   0.4s\n",
      "[CV 2/3] END criterion=gini, max_depth=5, min_samples_split=10, n_estimators=50, n_jobs=-1, random_state=26; accuracy: (test=0.893) f1: (test=0.822) neg_root_mean_squared_error: (test=-0.327) precision: (test=0.819) recall: (test=0.825) total time=   0.4s\n",
      "[CV 3/3] END criterion=gini, max_depth=5, min_samples_split=10, n_estimators=50, n_jobs=-1, random_state=26; accuracy: (test=0.907) f1: (test=0.843) neg_root_mean_squared_error: (test=-0.304) precision: (test=0.855) recall: (test=0.831) total time=   0.4s\n",
      "[CV 1/3] END criterion=gini, max_depth=5, min_samples_split=15, n_estimators=20, n_jobs=-1, random_state=26; accuracy: (test=0.904) f1: (test=0.833) neg_root_mean_squared_error: (test=-0.309) precision: (test=0.874) recall: (test=0.795) total time=   0.2s\n",
      "[CV 2/3] END criterion=gini, max_depth=5, min_samples_split=15, n_estimators=20, n_jobs=-1, random_state=26; accuracy: (test=0.886) f1: (test=0.812) neg_root_mean_squared_error: (test=-0.338) precision: (test=0.800) recall: (test=0.824) total time=   0.3s\n",
      "[CV 3/3] END criterion=gini, max_depth=5, min_samples_split=15, n_estimators=20, n_jobs=-1, random_state=26; accuracy: (test=0.903) f1: (test=0.837) neg_root_mean_squared_error: (test=-0.311) precision: (test=0.842) recall: (test=0.832) total time=   0.2s\n",
      "[CV 1/3] END criterion=gini, max_depth=5, min_samples_split=15, n_estimators=30, n_jobs=-1, random_state=26; accuracy: (test=0.898) f1: (test=0.825) neg_root_mean_squared_error: (test=-0.320) precision: (test=0.842) recall: (test=0.809) total time=   0.3s\n",
      "[CV 2/3] END criterion=gini, max_depth=5, min_samples_split=15, n_estimators=30, n_jobs=-1, random_state=26; accuracy: (test=0.895) f1: (test=0.824) neg_root_mean_squared_error: (test=-0.324) precision: (test=0.825) recall: (test=0.824) total time=   0.3s\n",
      "[CV 3/3] END criterion=gini, max_depth=5, min_samples_split=15, n_estimators=30, n_jobs=-1, random_state=26; accuracy: (test=0.909) f1: (test=0.846) neg_root_mean_squared_error: (test=-0.301) precision: (test=0.859) recall: (test=0.832) total time=   0.3s\n",
      "[CV 1/3] END criterion=gini, max_depth=5, min_samples_split=15, n_estimators=40, n_jobs=-1, random_state=26; accuracy: (test=0.907) f1: (test=0.838) neg_root_mean_squared_error: (test=-0.305) precision: (test=0.873) recall: (test=0.805) total time=   0.3s\n",
      "[CV 2/3] END criterion=gini, max_depth=5, min_samples_split=15, n_estimators=40, n_jobs=-1, random_state=26; accuracy: (test=0.895) f1: (test=0.824) neg_root_mean_squared_error: (test=-0.325) precision: (test=0.824) recall: (test=0.824) total time=   0.3s\n",
      "[CV 3/3] END criterion=gini, max_depth=5, min_samples_split=15, n_estimators=40, n_jobs=-1, random_state=26; accuracy: (test=0.909) f1: (test=0.845) neg_root_mean_squared_error: (test=-0.302) precision: (test=0.861) recall: (test=0.830) total time=   0.3s\n",
      "[CV 1/3] END criterion=gini, max_depth=5, min_samples_split=15, n_estimators=50, n_jobs=-1, random_state=26; accuracy: (test=0.908) f1: (test=0.840) neg_root_mean_squared_error: (test=-0.304) precision: (test=0.874) recall: (test=0.808) total time=   0.4s\n",
      "[CV 2/3] END criterion=gini, max_depth=5, min_samples_split=15, n_estimators=50, n_jobs=-1, random_state=26; accuracy: (test=0.893) f1: (test=0.822) neg_root_mean_squared_error: (test=-0.327) precision: (test=0.820) recall: (test=0.824) total time=   0.4s\n",
      "[CV 3/3] END criterion=gini, max_depth=5, min_samples_split=15, n_estimators=50, n_jobs=-1, random_state=26; accuracy: (test=0.907) f1: (test=0.842) neg_root_mean_squared_error: (test=-0.305) precision: (test=0.854) recall: (test=0.831) total time=   0.4s\n",
      "[CV 1/3] END criterion=gini, max_depth=5, min_samples_split=20, n_estimators=20, n_jobs=-1, random_state=26; accuracy: (test=0.905) f1: (test=0.834) neg_root_mean_squared_error: (test=-0.308) precision: (test=0.875) recall: (test=0.796) total time=   0.3s\n",
      "[CV 2/3] END criterion=gini, max_depth=5, min_samples_split=20, n_estimators=20, n_jobs=-1, random_state=26; accuracy: (test=0.888) f1: (test=0.814) neg_root_mean_squared_error: (test=-0.335) precision: (test=0.805) recall: (test=0.824) total time=   0.3s\n",
      "[CV 3/3] END criterion=gini, max_depth=5, min_samples_split=20, n_estimators=20, n_jobs=-1, random_state=26; accuracy: (test=0.905) f1: (test=0.840) neg_root_mean_squared_error: (test=-0.308) precision: (test=0.849) recall: (test=0.831) total time=   0.3s\n",
      "[CV 1/3] END criterion=gini, max_depth=5, min_samples_split=20, n_estimators=30, n_jobs=-1, random_state=26; accuracy: (test=0.900) f1: (test=0.829) neg_root_mean_squared_error: (test=-0.316) precision: (test=0.853) recall: (test=0.806) total time=   0.3s\n",
      "[CV 2/3] END criterion=gini, max_depth=5, min_samples_split=20, n_estimators=30, n_jobs=-1, random_state=26; accuracy: (test=0.895) f1: (test=0.825) neg_root_mean_squared_error: (test=-0.323) precision: (test=0.826) recall: (test=0.823) total time=   0.3s\n",
      "[CV 3/3] END criterion=gini, max_depth=5, min_samples_split=20, n_estimators=30, n_jobs=-1, random_state=26; accuracy: (test=0.909) f1: (test=0.846) neg_root_mean_squared_error: (test=-0.301) precision: (test=0.860) recall: (test=0.832) total time=   0.3s\n",
      "[CV 1/3] END criterion=gini, max_depth=5, min_samples_split=20, n_estimators=40, n_jobs=-1, random_state=26; accuracy: (test=0.907) f1: (test=0.838) neg_root_mean_squared_error: (test=-0.305) precision: (test=0.875) recall: (test=0.803) total time=   0.3s\n",
      "[CV 2/3] END criterion=gini, max_depth=5, min_samples_split=20, n_estimators=40, n_jobs=-1, random_state=26; accuracy: (test=0.895) f1: (test=0.824) neg_root_mean_squared_error: (test=-0.324) precision: (test=0.825) recall: (test=0.823) total time=   0.3s\n",
      "[CV 3/3] END criterion=gini, max_depth=5, min_samples_split=20, n_estimators=40, n_jobs=-1, random_state=26; accuracy: (test=0.911) f1: (test=0.848) neg_root_mean_squared_error: (test=-0.298) precision: (test=0.867) recall: (test=0.829) total time=   0.3s\n",
      "[CV 1/3] END criterion=gini, max_depth=5, min_samples_split=20, n_estimators=50, n_jobs=-1, random_state=26; accuracy: (test=0.908) f1: (test=0.840) neg_root_mean_squared_error: (test=-0.304) precision: (test=0.875) recall: (test=0.807) total time=   0.4s\n",
      "[CV 2/3] END criterion=gini, max_depth=5, min_samples_split=20, n_estimators=50, n_jobs=-1, random_state=26; accuracy: (test=0.894) f1: (test=0.823) neg_root_mean_squared_error: (test=-0.326) precision: (test=0.822) recall: (test=0.823) total time=   0.4s\n",
      "[CV 3/3] END criterion=gini, max_depth=5, min_samples_split=20, n_estimators=50, n_jobs=-1, random_state=26; accuracy: (test=0.909) f1: (test=0.845) neg_root_mean_squared_error: (test=-0.302) precision: (test=0.859) recall: (test=0.830) total time=   0.4s\n",
      "[CV 1/3] END criterion=gini, max_depth=10, min_samples_split=5, n_estimators=20, n_jobs=-1, random_state=26; accuracy: (test=0.931) f1: (test=0.879) neg_root_mean_squared_error: (test=-0.262) precision: (test=0.928) recall: (test=0.834) total time=   0.3s\n",
      "[CV 2/3] END criterion=gini, max_depth=10, min_samples_split=5, n_estimators=20, n_jobs=-1, random_state=26; accuracy: (test=0.929) f1: (test=0.876) neg_root_mean_squared_error: (test=-0.266) precision: (test=0.922) recall: (test=0.833) total time=   0.3s\n",
      "[CV 3/3] END criterion=gini, max_depth=10, min_samples_split=5, n_estimators=20, n_jobs=-1, random_state=26; accuracy: (test=0.932) f1: (test=0.881) neg_root_mean_squared_error: (test=-0.260) precision: (test=0.928) recall: (test=0.839) total time=   0.3s\n",
      "[CV 1/3] END criterion=gini, max_depth=10, min_samples_split=5, n_estimators=30, n_jobs=-1, random_state=26; accuracy: (test=0.930) f1: (test=0.876) neg_root_mean_squared_error: (test=-0.265) precision: (test=0.925) recall: (test=0.832) total time=   0.4s\n",
      "[CV 2/3] END criterion=gini, max_depth=10, min_samples_split=5, n_estimators=30, n_jobs=-1, random_state=26; accuracy: (test=0.929) f1: (test=0.876) neg_root_mean_squared_error: (test=-0.266) precision: (test=0.920) recall: (test=0.836) total time=   0.4s\n",
      "[CV 3/3] END criterion=gini, max_depth=10, min_samples_split=5, n_estimators=30, n_jobs=-1, random_state=26; accuracy: (test=0.933) f1: (test=0.882) neg_root_mean_squared_error: (test=-0.260) precision: (test=0.928) recall: (test=0.840) total time=   0.4s\n",
      "[CV 1/3] END criterion=gini, max_depth=10, min_samples_split=5, n_estimators=40, n_jobs=-1, random_state=26; accuracy: (test=0.929) f1: (test=0.876) neg_root_mean_squared_error: (test=-0.266) precision: (test=0.925) recall: (test=0.832) total time=   0.4s\n",
      "[CV 2/3] END criterion=gini, max_depth=10, min_samples_split=5, n_estimators=40, n_jobs=-1, random_state=26; accuracy: (test=0.929) f1: (test=0.876) neg_root_mean_squared_error: (test=-0.266) precision: (test=0.921) recall: (test=0.835) total time=   0.4s\n",
      "[CV 3/3] END criterion=gini, max_depth=10, min_samples_split=5, n_estimators=40, n_jobs=-1, random_state=26; accuracy: (test=0.932) f1: (test=0.881) neg_root_mean_squared_error: (test=-0.260) precision: (test=0.928) recall: (test=0.838) total time=   0.4s\n",
      "[CV 1/3] END criterion=gini, max_depth=10, min_samples_split=5, n_estimators=50, n_jobs=-1, random_state=26; accuracy: (test=0.929) f1: (test=0.875) neg_root_mean_squared_error: (test=-0.266) precision: (test=0.924) recall: (test=0.830) total time=   0.5s\n",
      "[CV 2/3] END criterion=gini, max_depth=10, min_samples_split=5, n_estimators=50, n_jobs=-1, random_state=26; accuracy: (test=0.929) f1: (test=0.875) neg_root_mean_squared_error: (test=-0.267) precision: (test=0.920) recall: (test=0.834) total time=   0.5s\n",
      "[CV 3/3] END criterion=gini, max_depth=10, min_samples_split=5, n_estimators=50, n_jobs=-1, random_state=26; accuracy: (test=0.933) f1: (test=0.882) neg_root_mean_squared_error: (test=-0.259) precision: (test=0.931) recall: (test=0.839) total time=   0.5s\n",
      "[CV 1/3] END criterion=gini, max_depth=10, min_samples_split=10, n_estimators=20, n_jobs=-1, random_state=26; accuracy: (test=0.930) f1: (test=0.876) neg_root_mean_squared_error: (test=-0.266) precision: (test=0.926) recall: (test=0.830) total time=   0.3s\n",
      "[CV 2/3] END criterion=gini, max_depth=10, min_samples_split=10, n_estimators=20, n_jobs=-1, random_state=26; accuracy: (test=0.928) f1: (test=0.875) neg_root_mean_squared_error: (test=-0.268) precision: (test=0.917) recall: (test=0.836) total time=   0.3s\n",
      "[CV 3/3] END criterion=gini, max_depth=10, min_samples_split=10, n_estimators=20, n_jobs=-1, random_state=26; accuracy: (test=0.934) f1: (test=0.883) neg_root_mean_squared_error: (test=-0.258) precision: (test=0.932) recall: (test=0.840) total time=   0.3s\n",
      "[CV 1/3] END criterion=gini, max_depth=10, min_samples_split=10, n_estimators=30, n_jobs=-1, random_state=26; accuracy: (test=0.930) f1: (test=0.876) neg_root_mean_squared_error: (test=-0.265) precision: (test=0.927) recall: (test=0.830) total time=   0.4s\n",
      "[CV 2/3] END criterion=gini, max_depth=10, min_samples_split=10, n_estimators=30, n_jobs=-1, random_state=26; accuracy: (test=0.930) f1: (test=0.877) neg_root_mean_squared_error: (test=-0.265) precision: (test=0.920) recall: (test=0.837) total time=   0.4s\n",
      "[CV 3/3] END criterion=gini, max_depth=10, min_samples_split=10, n_estimators=30, n_jobs=-1, random_state=26; accuracy: (test=0.934) f1: (test=0.884) neg_root_mean_squared_error: (test=-0.257) precision: (test=0.932) recall: (test=0.840) total time=   0.4s\n",
      "[CV 1/3] END criterion=gini, max_depth=10, min_samples_split=10, n_estimators=40, n_jobs=-1, random_state=26; accuracy: (test=0.929) f1: (test=0.875) neg_root_mean_squared_error: (test=-0.266) precision: (test=0.926) recall: (test=0.830) total time=   0.5s\n",
      "[CV 2/3] END criterion=gini, max_depth=10, min_samples_split=10, n_estimators=40, n_jobs=-1, random_state=26; accuracy: (test=0.929) f1: (test=0.876) neg_root_mean_squared_error: (test=-0.267) precision: (test=0.918) recall: (test=0.837) total time=   0.5s\n",
      "[CV 3/3] END criterion=gini, max_depth=10, min_samples_split=10, n_estimators=40, n_jobs=-1, random_state=26; accuracy: (test=0.934) f1: (test=0.883) neg_root_mean_squared_error: (test=-0.257) precision: (test=0.933) recall: (test=0.839) total time=   0.4s\n",
      "[CV 1/3] END criterion=gini, max_depth=10, min_samples_split=10, n_estimators=50, n_jobs=-1, random_state=26; accuracy: (test=0.930) f1: (test=0.876) neg_root_mean_squared_error: (test=-0.265) precision: (test=0.926) recall: (test=0.832) total time=   0.5s\n",
      "[CV 2/3] END criterion=gini, max_depth=10, min_samples_split=10, n_estimators=50, n_jobs=-1, random_state=26; accuracy: (test=0.929) f1: (test=0.877) neg_root_mean_squared_error: (test=-0.266) precision: (test=0.919) recall: (test=0.838) total time=   0.6s\n",
      "[CV 3/3] END criterion=gini, max_depth=10, min_samples_split=10, n_estimators=50, n_jobs=-1, random_state=26; accuracy: (test=0.934) f1: (test=0.883) neg_root_mean_squared_error: (test=-0.258) precision: (test=0.931) recall: (test=0.840) total time=   0.5s\n",
      "[CV 1/3] END criterion=gini, max_depth=10, min_samples_split=15, n_estimators=20, n_jobs=-1, random_state=26; accuracy: (test=0.930) f1: (test=0.877) neg_root_mean_squared_error: (test=-0.264) precision: (test=0.927) recall: (test=0.833) total time=   0.4s\n",
      "[CV 2/3] END criterion=gini, max_depth=10, min_samples_split=15, n_estimators=20, n_jobs=-1, random_state=26; accuracy: (test=0.927) f1: (test=0.872) neg_root_mean_squared_error: (test=-0.269) precision: (test=0.919) recall: (test=0.830) total time=   0.3s\n",
      "[CV 3/3] END criterion=gini, max_depth=10, min_samples_split=15, n_estimators=20, n_jobs=-1, random_state=26; accuracy: (test=0.932) f1: (test=0.881) neg_root_mean_squared_error: (test=-0.260) precision: (test=0.929) recall: (test=0.838) total time=   0.3s\n",
      "[CV 1/3] END criterion=gini, max_depth=10, min_samples_split=15, n_estimators=30, n_jobs=-1, random_state=26; accuracy: (test=0.930) f1: (test=0.877) neg_root_mean_squared_error: (test=-0.264) precision: (test=0.927) recall: (test=0.833) total time=   0.4s\n",
      "[CV 2/3] END criterion=gini, max_depth=10, min_samples_split=15, n_estimators=30, n_jobs=-1, random_state=26; accuracy: (test=0.928) f1: (test=0.874) neg_root_mean_squared_error: (test=-0.268) precision: (test=0.922) recall: (test=0.830) total time=   0.4s\n",
      "[CV 3/3] END criterion=gini, max_depth=10, min_samples_split=15, n_estimators=30, n_jobs=-1, random_state=26; accuracy: (test=0.932) f1: (test=0.881) neg_root_mean_squared_error: (test=-0.260) precision: (test=0.930) recall: (test=0.836) total time=   0.4s\n",
      "[CV 1/3] END criterion=gini, max_depth=10, min_samples_split=15, n_estimators=40, n_jobs=-1, random_state=26; accuracy: (test=0.930) f1: (test=0.877) neg_root_mean_squared_error: (test=-0.264) precision: (test=0.928) recall: (test=0.831) total time=   0.4s\n",
      "[CV 2/3] END criterion=gini, max_depth=10, min_samples_split=15, n_estimators=40, n_jobs=-1, random_state=26; accuracy: (test=0.928) f1: (test=0.873) neg_root_mean_squared_error: (test=-0.268) precision: (test=0.921) recall: (test=0.830) total time=   0.5s\n",
      "[CV 3/3] END criterion=gini, max_depth=10, min_samples_split=15, n_estimators=40, n_jobs=-1, random_state=26; accuracy: (test=0.932) f1: (test=0.880) neg_root_mean_squared_error: (test=-0.261) precision: (test=0.930) recall: (test=0.835) total time=   0.4s\n",
      "[CV 1/3] END criterion=gini, max_depth=10, min_samples_split=15, n_estimators=50, n_jobs=-1, random_state=26; accuracy: (test=0.930) f1: (test=0.876) neg_root_mean_squared_error: (test=-0.265) precision: (test=0.928) recall: (test=0.830) total time=   0.6s\n",
      "[CV 2/3] END criterion=gini, max_depth=10, min_samples_split=15, n_estimators=50, n_jobs=-1, random_state=26; accuracy: (test=0.928) f1: (test=0.873) neg_root_mean_squared_error: (test=-0.269) precision: (test=0.920) recall: (test=0.831) total time=   0.6s\n",
      "[CV 3/3] END criterion=gini, max_depth=10, min_samples_split=15, n_estimators=50, n_jobs=-1, random_state=26; accuracy: (test=0.932) f1: (test=0.880) neg_root_mean_squared_error: (test=-0.261) precision: (test=0.930) recall: (test=0.835) total time=   0.5s\n",
      "[CV 1/3] END criterion=gini, max_depth=10, min_samples_split=20, n_estimators=20, n_jobs=-1, random_state=26; accuracy: (test=0.930) f1: (test=0.876) neg_root_mean_squared_error: (test=-0.266) precision: (test=0.925) recall: (test=0.831) total time=   0.3s\n",
      "[CV 2/3] END criterion=gini, max_depth=10, min_samples_split=20, n_estimators=20, n_jobs=-1, random_state=26; accuracy: (test=0.928) f1: (test=0.875) neg_root_mean_squared_error: (test=-0.267) precision: (test=0.916) recall: (test=0.837) total time=   0.3s\n",
      "[CV 3/3] END criterion=gini, max_depth=10, min_samples_split=20, n_estimators=20, n_jobs=-1, random_state=26; accuracy: (test=0.934) f1: (test=0.883) neg_root_mean_squared_error: (test=-0.258) precision: (test=0.932) recall: (test=0.839) total time=   0.3s\n",
      "[CV 1/3] END criterion=gini, max_depth=10, min_samples_split=20, n_estimators=30, n_jobs=-1, random_state=26; accuracy: (test=0.930) f1: (test=0.876) neg_root_mean_squared_error: (test=-0.265) precision: (test=0.925) recall: (test=0.833) total time=   0.4s\n",
      "[CV 2/3] END criterion=gini, max_depth=10, min_samples_split=20, n_estimators=30, n_jobs=-1, random_state=26; accuracy: (test=0.930) f1: (test=0.877) neg_root_mean_squared_error: (test=-0.265) precision: (test=0.920) recall: (test=0.837) total time=   0.4s\n",
      "[CV 3/3] END criterion=gini, max_depth=10, min_samples_split=20, n_estimators=30, n_jobs=-1, random_state=26; accuracy: (test=0.934) f1: (test=0.883) neg_root_mean_squared_error: (test=-0.258) precision: (test=0.931) recall: (test=0.840) total time=   0.4s\n",
      "[CV 1/3] END criterion=gini, max_depth=10, min_samples_split=20, n_estimators=40, n_jobs=-1, random_state=26; accuracy: (test=0.929) f1: (test=0.875) neg_root_mean_squared_error: (test=-0.266) precision: (test=0.924) recall: (test=0.830) total time=   0.4s\n",
      "[CV 2/3] END criterion=gini, max_depth=10, min_samples_split=20, n_estimators=40, n_jobs=-1, random_state=26; accuracy: (test=0.929) f1: (test=0.875) neg_root_mean_squared_error: (test=-0.267) precision: (test=0.919) recall: (test=0.835) total time=   0.4s\n",
      "[CV 3/3] END criterion=gini, max_depth=10, min_samples_split=20, n_estimators=40, n_jobs=-1, random_state=26; accuracy: (test=0.933) f1: (test=0.882) neg_root_mean_squared_error: (test=-0.259) precision: (test=0.930) recall: (test=0.838) total time=   0.4s\n",
      "[CV 1/3] END criterion=gini, max_depth=10, min_samples_split=20, n_estimators=50, n_jobs=-1, random_state=26; accuracy: (test=0.929) f1: (test=0.875) neg_root_mean_squared_error: (test=-0.266) precision: (test=0.923) recall: (test=0.831) total time=   0.5s\n",
      "[CV 2/3] END criterion=gini, max_depth=10, min_samples_split=20, n_estimators=50, n_jobs=-1, random_state=26; accuracy: (test=0.928) f1: (test=0.874) neg_root_mean_squared_error: (test=-0.268) precision: (test=0.918) recall: (test=0.835) total time=   0.6s\n",
      "[CV 3/3] END criterion=gini, max_depth=10, min_samples_split=20, n_estimators=50, n_jobs=-1, random_state=26; accuracy: (test=0.933) f1: (test=0.882) neg_root_mean_squared_error: (test=-0.259) precision: (test=0.930) recall: (test=0.839) total time=   0.5s\n",
      "[CV 1/3] END criterion=gini, max_depth=15, min_samples_split=5, n_estimators=20, n_jobs=-1, random_state=26; accuracy: (test=0.944) f1: (test=0.902) neg_root_mean_squared_error: (test=-0.236) precision: (test=0.950) recall: (test=0.858) total time=   0.4s\n",
      "[CV 2/3] END criterion=gini, max_depth=15, min_samples_split=5, n_estimators=20, n_jobs=-1, random_state=26; accuracy: (test=0.941) f1: (test=0.898) neg_root_mean_squared_error: (test=-0.243) precision: (test=0.934) recall: (test=0.863) total time=   0.4s\n",
      "[CV 3/3] END criterion=gini, max_depth=15, min_samples_split=5, n_estimators=20, n_jobs=-1, random_state=26; accuracy: (test=0.947) f1: (test=0.906) neg_root_mean_squared_error: (test=-0.231) precision: (test=0.952) recall: (test=0.864) total time=   0.4s\n",
      "[CV 1/3] END criterion=gini, max_depth=15, min_samples_split=5, n_estimators=30, n_jobs=-1, random_state=26; accuracy: (test=0.944) f1: (test=0.901) neg_root_mean_squared_error: (test=-0.237) precision: (test=0.949) recall: (test=0.858) total time=   0.4s\n",
      "[CV 2/3] END criterion=gini, max_depth=15, min_samples_split=5, n_estimators=30, n_jobs=-1, random_state=26; accuracy: (test=0.943) f1: (test=0.901) neg_root_mean_squared_error: (test=-0.239) precision: (test=0.939) recall: (test=0.865) total time=   0.4s\n",
      "[CV 3/3] END criterion=gini, max_depth=15, min_samples_split=5, n_estimators=30, n_jobs=-1, random_state=26; accuracy: (test=0.947) f1: (test=0.908) neg_root_mean_squared_error: (test=-0.229) precision: (test=0.955) recall: (test=0.865) total time=   0.4s\n",
      "[CV 1/3] END criterion=gini, max_depth=15, min_samples_split=5, n_estimators=40, n_jobs=-1, random_state=26; accuracy: (test=0.944) f1: (test=0.902) neg_root_mean_squared_error: (test=-0.236) precision: (test=0.950) recall: (test=0.859) total time=   0.5s\n",
      "[CV 2/3] END criterion=gini, max_depth=15, min_samples_split=5, n_estimators=40, n_jobs=-1, random_state=26; accuracy: (test=0.943) f1: (test=0.900) neg_root_mean_squared_error: (test=-0.240) precision: (test=0.940) recall: (test=0.863) total time=   0.5s\n",
      "[CV 3/3] END criterion=gini, max_depth=15, min_samples_split=5, n_estimators=40, n_jobs=-1, random_state=26; accuracy: (test=0.947) f1: (test=0.908) neg_root_mean_squared_error: (test=-0.229) precision: (test=0.955) recall: (test=0.865) total time=   0.5s\n",
      "[CV 1/3] END criterion=gini, max_depth=15, min_samples_split=5, n_estimators=50, n_jobs=-1, random_state=26; accuracy: (test=0.944) f1: (test=0.902) neg_root_mean_squared_error: (test=-0.236) precision: (test=0.950) recall: (test=0.859) total time=   0.6s\n",
      "[CV 2/3] END criterion=gini, max_depth=15, min_samples_split=5, n_estimators=50, n_jobs=-1, random_state=26; accuracy: (test=0.942) f1: (test=0.900) neg_root_mean_squared_error: (test=-0.240) precision: (test=0.941) recall: (test=0.862) total time=   0.6s\n",
      "[CV 3/3] END criterion=gini, max_depth=15, min_samples_split=5, n_estimators=50, n_jobs=-1, random_state=26; accuracy: (test=0.948) f1: (test=0.908) neg_root_mean_squared_error: (test=-0.229) precision: (test=0.956) recall: (test=0.865) total time=   0.6s\n",
      "[CV 1/3] END criterion=gini, max_depth=15, min_samples_split=10, n_estimators=20, n_jobs=-1, random_state=26; accuracy: (test=0.942) f1: (test=0.897) neg_root_mean_squared_error: (test=-0.242) precision: (test=0.948) recall: (test=0.851) total time=   0.3s\n",
      "[CV 2/3] END criterion=gini, max_depth=15, min_samples_split=10, n_estimators=20, n_jobs=-1, random_state=26; accuracy: (test=0.942) f1: (test=0.898) neg_root_mean_squared_error: (test=-0.241) precision: (test=0.939) recall: (test=0.861) total time=   0.4s\n",
      "[CV 3/3] END criterion=gini, max_depth=15, min_samples_split=10, n_estimators=20, n_jobs=-1, random_state=26; accuracy: (test=0.945) f1: (test=0.903) neg_root_mean_squared_error: (test=-0.235) precision: (test=0.947) recall: (test=0.863) total time=   0.3s\n",
      "[CV 1/3] END criterion=gini, max_depth=15, min_samples_split=10, n_estimators=30, n_jobs=-1, random_state=26; accuracy: (test=0.943) f1: (test=0.899) neg_root_mean_squared_error: (test=-0.239) precision: (test=0.951) recall: (test=0.853) total time=   0.5s\n",
      "[CV 2/3] END criterion=gini, max_depth=15, min_samples_split=10, n_estimators=30, n_jobs=-1, random_state=26; accuracy: (test=0.942) f1: (test=0.899) neg_root_mean_squared_error: (test=-0.240) precision: (test=0.942) recall: (test=0.860) total time=   0.5s\n",
      "[CV 3/3] END criterion=gini, max_depth=15, min_samples_split=10, n_estimators=30, n_jobs=-1, random_state=26; accuracy: (test=0.946) f1: (test=0.905) neg_root_mean_squared_error: (test=-0.232) precision: (test=0.952) recall: (test=0.863) total time=   0.5s\n",
      "[CV 1/3] END criterion=gini, max_depth=15, min_samples_split=10, n_estimators=40, n_jobs=-1, random_state=26; accuracy: (test=0.943) f1: (test=0.900) neg_root_mean_squared_error: (test=-0.238) precision: (test=0.952) recall: (test=0.853) total time=   0.6s\n",
      "[CV 2/3] END criterion=gini, max_depth=15, min_samples_split=10, n_estimators=40, n_jobs=-1, random_state=26; accuracy: (test=0.943) f1: (test=0.900) neg_root_mean_squared_error: (test=-0.239) precision: (test=0.943) recall: (test=0.861) total time=   0.5s\n",
      "[CV 3/3] END criterion=gini, max_depth=15, min_samples_split=10, n_estimators=40, n_jobs=-1, random_state=26; accuracy: (test=0.946) f1: (test=0.905) neg_root_mean_squared_error: (test=-0.233) precision: (test=0.951) recall: (test=0.863) total time=   0.5s\n",
      "[CV 1/3] END criterion=gini, max_depth=15, min_samples_split=10, n_estimators=50, n_jobs=-1, random_state=26; accuracy: (test=0.943) f1: (test=0.900) neg_root_mean_squared_error: (test=-0.238) precision: (test=0.952) recall: (test=0.854) total time=   0.8s\n",
      "[CV 2/3] END criterion=gini, max_depth=15, min_samples_split=10, n_estimators=50, n_jobs=-1, random_state=26; accuracy: (test=0.943) f1: (test=0.900) neg_root_mean_squared_error: (test=-0.239) precision: (test=0.944) recall: (test=0.861) total time=   0.6s\n",
      "[CV 3/3] END criterion=gini, max_depth=15, min_samples_split=10, n_estimators=50, n_jobs=-1, random_state=26; accuracy: (test=0.946) f1: (test=0.906) neg_root_mean_squared_error: (test=-0.232) precision: (test=0.951) recall: (test=0.864) total time=   0.7s\n",
      "[CV 1/3] END criterion=gini, max_depth=15, min_samples_split=15, n_estimators=20, n_jobs=-1, random_state=26; accuracy: (test=0.940) f1: (test=0.895) neg_root_mean_squared_error: (test=-0.245) precision: (test=0.938) recall: (test=0.856) total time=   0.4s\n",
      "[CV 2/3] END criterion=gini, max_depth=15, min_samples_split=15, n_estimators=20, n_jobs=-1, random_state=26; accuracy: (test=0.941) f1: (test=0.898) neg_root_mean_squared_error: (test=-0.242) precision: (test=0.939) recall: (test=0.861) total time=   0.4s\n",
      "[CV 3/3] END criterion=gini, max_depth=15, min_samples_split=15, n_estimators=20, n_jobs=-1, random_state=26; accuracy: (test=0.945) f1: (test=0.903) neg_root_mean_squared_error: (test=-0.235) precision: (test=0.950) recall: (test=0.861) total time=   0.4s\n",
      "[CV 1/3] END criterion=gini, max_depth=15, min_samples_split=15, n_estimators=30, n_jobs=-1, random_state=26; accuracy: (test=0.941) f1: (test=0.897) neg_root_mean_squared_error: (test=-0.243) precision: (test=0.942) recall: (test=0.855) total time=   0.5s\n",
      "[CV 2/3] END criterion=gini, max_depth=15, min_samples_split=15, n_estimators=30, n_jobs=-1, random_state=26; accuracy: (test=0.943) f1: (test=0.900) neg_root_mean_squared_error: (test=-0.240) precision: (test=0.939) recall: (test=0.864) total time=   0.5s\n",
      "[CV 3/3] END criterion=gini, max_depth=15, min_samples_split=15, n_estimators=30, n_jobs=-1, random_state=26; accuracy: (test=0.945) f1: (test=0.904) neg_root_mean_squared_error: (test=-0.234) precision: (test=0.950) recall: (test=0.863) total time=   0.5s\n",
      "[CV 1/3] END criterion=gini, max_depth=15, min_samples_split=15, n_estimators=40, n_jobs=-1, random_state=26; accuracy: (test=0.942) f1: (test=0.897) neg_root_mean_squared_error: (test=-0.242) precision: (test=0.943) recall: (test=0.856) total time=   0.6s\n",
      "[CV 2/3] END criterion=gini, max_depth=15, min_samples_split=15, n_estimators=40, n_jobs=-1, random_state=26; accuracy: (test=0.942) f1: (test=0.899) neg_root_mean_squared_error: (test=-0.240) precision: (test=0.941) recall: (test=0.860) total time=   0.5s\n",
      "[CV 3/3] END criterion=gini, max_depth=15, min_samples_split=15, n_estimators=40, n_jobs=-1, random_state=26; accuracy: (test=0.946) f1: (test=0.905) neg_root_mean_squared_error: (test=-0.233) precision: (test=0.952) recall: (test=0.863) total time=   0.5s\n",
      "[CV 1/3] END criterion=gini, max_depth=15, min_samples_split=15, n_estimators=50, n_jobs=-1, random_state=26; accuracy: (test=0.943) f1: (test=0.899) neg_root_mean_squared_error: (test=-0.239) precision: (test=0.946) recall: (test=0.857) total time=   0.6s\n",
      "[CV 2/3] END criterion=gini, max_depth=15, min_samples_split=15, n_estimators=50, n_jobs=-1, random_state=26; accuracy: (test=0.942) f1: (test=0.898) neg_root_mean_squared_error: (test=-0.242) precision: (test=0.939) recall: (test=0.861) total time=   0.7s\n",
      "[CV 3/3] END criterion=gini, max_depth=15, min_samples_split=15, n_estimators=50, n_jobs=-1, random_state=26; accuracy: (test=0.946) f1: (test=0.906) neg_root_mean_squared_error: (test=-0.232) precision: (test=0.952) recall: (test=0.864) total time=   0.6s\n",
      "[CV 1/3] END criterion=gini, max_depth=15, min_samples_split=20, n_estimators=20, n_jobs=-1, random_state=26; accuracy: (test=0.941) f1: (test=0.896) neg_root_mean_squared_error: (test=-0.243) precision: (test=0.944) recall: (test=0.853) total time=   0.4s\n",
      "[CV 2/3] END criterion=gini, max_depth=15, min_samples_split=20, n_estimators=20, n_jobs=-1, random_state=26; accuracy: (test=0.941) f1: (test=0.896) neg_root_mean_squared_error: (test=-0.244) precision: (test=0.942) recall: (test=0.854) total time=   0.3s\n",
      "[CV 3/3] END criterion=gini, max_depth=15, min_samples_split=20, n_estimators=20, n_jobs=-1, random_state=26; accuracy: (test=0.946) f1: (test=0.905) neg_root_mean_squared_error: (test=-0.233) precision: (test=0.952) recall: (test=0.862) total time=   0.4s\n",
      "[CV 1/3] END criterion=gini, max_depth=15, min_samples_split=20, n_estimators=30, n_jobs=-1, random_state=26; accuracy: (test=0.942) f1: (test=0.898) neg_root_mean_squared_error: (test=-0.242) precision: (test=0.944) recall: (test=0.856) total time=   0.5s\n",
      "[CV 2/3] END criterion=gini, max_depth=15, min_samples_split=20, n_estimators=30, n_jobs=-1, random_state=26; accuracy: (test=0.942) f1: (test=0.897) neg_root_mean_squared_error: (test=-0.242) precision: (test=0.943) recall: (test=0.856) total time=   0.5s\n",
      "[CV 3/3] END criterion=gini, max_depth=15, min_samples_split=20, n_estimators=30, n_jobs=-1, random_state=26; accuracy: (test=0.946) f1: (test=0.906) neg_root_mean_squared_error: (test=-0.232) precision: (test=0.953) recall: (test=0.863) total time=   0.5s\n",
      "[CV 1/3] END criterion=gini, max_depth=15, min_samples_split=20, n_estimators=40, n_jobs=-1, random_state=26; accuracy: (test=0.941) f1: (test=0.897) neg_root_mean_squared_error: (test=-0.243) precision: (test=0.943) recall: (test=0.855) total time=   0.6s\n",
      "[CV 2/3] END criterion=gini, max_depth=15, min_samples_split=20, n_estimators=40, n_jobs=-1, random_state=26; accuracy: (test=0.941) f1: (test=0.898) neg_root_mean_squared_error: (test=-0.242) precision: (test=0.941) recall: (test=0.858) total time=   0.6s\n",
      "[CV 3/3] END criterion=gini, max_depth=15, min_samples_split=20, n_estimators=40, n_jobs=-1, random_state=26; accuracy: (test=0.946) f1: (test=0.905) neg_root_mean_squared_error: (test=-0.232) precision: (test=0.954) recall: (test=0.861) total time=   0.5s\n",
      "[CV 1/3] END criterion=gini, max_depth=15, min_samples_split=20, n_estimators=50, n_jobs=-1, random_state=26; accuracy: (test=0.943) f1: (test=0.899) neg_root_mean_squared_error: (test=-0.240) precision: (test=0.947) recall: (test=0.856) total time=   0.6s\n",
      "[CV 2/3] END criterion=gini, max_depth=15, min_samples_split=20, n_estimators=50, n_jobs=-1, random_state=26; accuracy: (test=0.941) f1: (test=0.897) neg_root_mean_squared_error: (test=-0.243) precision: (test=0.941) recall: (test=0.856) total time=   0.7s\n",
      "[CV 3/3] END criterion=gini, max_depth=15, min_samples_split=20, n_estimators=50, n_jobs=-1, random_state=26; accuracy: (test=0.946) f1: (test=0.905) neg_root_mean_squared_error: (test=-0.232) precision: (test=0.953) recall: (test=0.861) total time=   0.6s\n",
      "[CV 1/3] END criterion=gini, max_depth=20, min_samples_split=5, n_estimators=20, n_jobs=-1, random_state=26; accuracy: (test=0.948) f1: (test=0.909) neg_root_mean_squared_error: (test=-0.228) precision: (test=0.955) recall: (test=0.867) total time=   0.4s\n",
      "[CV 2/3] END criterion=gini, max_depth=20, min_samples_split=5, n_estimators=20, n_jobs=-1, random_state=26; accuracy: (test=0.946) f1: (test=0.905) neg_root_mean_squared_error: (test=-0.233) precision: (test=0.946) recall: (test=0.868) total time=   0.4s\n",
      "[CV 3/3] END criterion=gini, max_depth=20, min_samples_split=5, n_estimators=20, n_jobs=-1, random_state=26; accuracy: (test=0.951) f1: (test=0.914) neg_root_mean_squared_error: (test=-0.222) precision: (test=0.958) recall: (test=0.874) total time=   0.4s\n",
      "[CV 1/3] END criterion=gini, max_depth=20, min_samples_split=5, n_estimators=30, n_jobs=-1, random_state=26; accuracy: (test=0.948) f1: (test=0.909) neg_root_mean_squared_error: (test=-0.227) precision: (test=0.957) recall: (test=0.866) total time=   0.5s\n",
      "[CV 2/3] END criterion=gini, max_depth=20, min_samples_split=5, n_estimators=30, n_jobs=-1, random_state=26; accuracy: (test=0.948) f1: (test=0.909) neg_root_mean_squared_error: (test=-0.228) precision: (test=0.952) recall: (test=0.870) total time=   0.5s\n",
      "[CV 3/3] END criterion=gini, max_depth=20, min_samples_split=5, n_estimators=30, n_jobs=-1, random_state=26; accuracy: (test=0.952) f1: (test=0.916) neg_root_mean_squared_error: (test=-0.219) precision: (test=0.960) recall: (test=0.875) total time=   0.5s\n",
      "[CV 1/3] END criterion=gini, max_depth=20, min_samples_split=5, n_estimators=40, n_jobs=-1, random_state=26; accuracy: (test=0.949) f1: (test=0.910) neg_root_mean_squared_error: (test=-0.227) precision: (test=0.957) recall: (test=0.867) total time=   0.6s\n",
      "[CV 2/3] END criterion=gini, max_depth=20, min_samples_split=5, n_estimators=40, n_jobs=-1, random_state=26; accuracy: (test=0.948) f1: (test=0.909) neg_root_mean_squared_error: (test=-0.228) precision: (test=0.953) recall: (test=0.869) total time=   0.6s\n",
      "[CV 3/3] END criterion=gini, max_depth=20, min_samples_split=5, n_estimators=40, n_jobs=-1, random_state=26; accuracy: (test=0.952) f1: (test=0.916) neg_root_mean_squared_error: (test=-0.219) precision: (test=0.960) recall: (test=0.877) total time=   0.6s\n",
      "[CV 1/3] END criterion=gini, max_depth=20, min_samples_split=5, n_estimators=50, n_jobs=-1, random_state=26; accuracy: (test=0.949) f1: (test=0.910) neg_root_mean_squared_error: (test=-0.226) precision: (test=0.957) recall: (test=0.868) total time=   0.7s\n",
      "[CV 2/3] END criterion=gini, max_depth=20, min_samples_split=5, n_estimators=50, n_jobs=-1, random_state=26; accuracy: (test=0.948) f1: (test=0.908) neg_root_mean_squared_error: (test=-0.229) precision: (test=0.952) recall: (test=0.869) total time=   0.7s\n",
      "[CV 3/3] END criterion=gini, max_depth=20, min_samples_split=5, n_estimators=50, n_jobs=-1, random_state=26; accuracy: (test=0.952) f1: (test=0.916) neg_root_mean_squared_error: (test=-0.219) precision: (test=0.960) recall: (test=0.876) total time=   0.7s\n",
      "[CV 1/3] END criterion=gini, max_depth=20, min_samples_split=10, n_estimators=20, n_jobs=-1, random_state=26; accuracy: (test=0.948) f1: (test=0.909) neg_root_mean_squared_error: (test=-0.228) precision: (test=0.954) recall: (test=0.869) total time=   0.4s\n",
      "[CV 2/3] END criterion=gini, max_depth=20, min_samples_split=10, n_estimators=20, n_jobs=-1, random_state=26; accuracy: (test=0.947) f1: (test=0.907) neg_root_mean_squared_error: (test=-0.231) precision: (test=0.947) recall: (test=0.870) total time=   0.4s\n",
      "[CV 3/3] END criterion=gini, max_depth=20, min_samples_split=10, n_estimators=20, n_jobs=-1, random_state=26; accuracy: (test=0.950) f1: (test=0.912) neg_root_mean_squared_error: (test=-0.224) precision: (test=0.957) recall: (test=0.871) total time=   0.4s\n",
      "[CV 1/3] END criterion=gini, max_depth=20, min_samples_split=10, n_estimators=30, n_jobs=-1, random_state=26; accuracy: (test=0.948) f1: (test=0.909) neg_root_mean_squared_error: (test=-0.228) precision: (test=0.955) recall: (test=0.868) total time=   0.5s\n",
      "[CV 2/3] END criterion=gini, max_depth=20, min_samples_split=10, n_estimators=30, n_jobs=-1, random_state=26; accuracy: (test=0.948) f1: (test=0.909) neg_root_mean_squared_error: (test=-0.228) precision: (test=0.950) recall: (test=0.872) total time=   0.5s\n",
      "[CV 3/3] END criterion=gini, max_depth=20, min_samples_split=10, n_estimators=30, n_jobs=-1, random_state=26; accuracy: (test=0.951) f1: (test=0.913) neg_root_mean_squared_error: (test=-0.222) precision: (test=0.958) recall: (test=0.873) total time=   0.5s\n",
      "[CV 1/3] END criterion=gini, max_depth=20, min_samples_split=10, n_estimators=40, n_jobs=-1, random_state=26; accuracy: (test=0.948) f1: (test=0.909) neg_root_mean_squared_error: (test=-0.228) precision: (test=0.957) recall: (test=0.866) total time=   0.6s\n",
      "[CV 2/3] END criterion=gini, max_depth=20, min_samples_split=10, n_estimators=40, n_jobs=-1, random_state=26; accuracy: (test=0.947) f1: (test=0.908) neg_root_mean_squared_error: (test=-0.229) precision: (test=0.950) recall: (test=0.870) total time=   0.6s\n",
      "[CV 3/3] END criterion=gini, max_depth=20, min_samples_split=10, n_estimators=40, n_jobs=-1, random_state=26; accuracy: (test=0.951) f1: (test=0.914) neg_root_mean_squared_error: (test=-0.222) precision: (test=0.960) recall: (test=0.872) total time=   0.6s\n",
      "[CV 1/3] END criterion=gini, max_depth=20, min_samples_split=10, n_estimators=50, n_jobs=-1, random_state=26; accuracy: (test=0.948) f1: (test=0.908) neg_root_mean_squared_error: (test=-0.229) precision: (test=0.955) recall: (test=0.865) total time=   0.7s\n",
      "[CV 2/3] END criterion=gini, max_depth=20, min_samples_split=10, n_estimators=50, n_jobs=-1, random_state=26; accuracy: (test=0.947) f1: (test=0.906) neg_root_mean_squared_error: (test=-0.231) precision: (test=0.949) recall: (test=0.867) total time=   0.7s\n",
      "[CV 3/3] END criterion=gini, max_depth=20, min_samples_split=10, n_estimators=50, n_jobs=-1, random_state=26; accuracy: (test=0.951) f1: (test=0.914) neg_root_mean_squared_error: (test=-0.222) precision: (test=0.959) recall: (test=0.872) total time=   0.7s\n",
      "[CV 1/3] END criterion=gini, max_depth=20, min_samples_split=15, n_estimators=20, n_jobs=-1, random_state=26; accuracy: (test=0.947) f1: (test=0.907) neg_root_mean_squared_error: (test=-0.229) precision: (test=0.958) recall: (test=0.862) total time=   0.4s\n",
      "[CV 2/3] END criterion=gini, max_depth=20, min_samples_split=15, n_estimators=20, n_jobs=-1, random_state=26; accuracy: (test=0.946) f1: (test=0.905) neg_root_mean_squared_error: (test=-0.233) precision: (test=0.948) recall: (test=0.866) total time=   0.4s\n",
      "[CV 3/3] END criterion=gini, max_depth=20, min_samples_split=15, n_estimators=20, n_jobs=-1, random_state=26; accuracy: (test=0.948) f1: (test=0.909) neg_root_mean_squared_error: (test=-0.228) precision: (test=0.952) recall: (test=0.869) total time=   0.4s\n",
      "[CV 1/3] END criterion=gini, max_depth=20, min_samples_split=15, n_estimators=30, n_jobs=-1, random_state=26; accuracy: (test=0.947) f1: (test=0.907) neg_root_mean_squared_error: (test=-0.230) precision: (test=0.955) recall: (test=0.863) total time=   0.5s\n",
      "[CV 2/3] END criterion=gini, max_depth=20, min_samples_split=15, n_estimators=30, n_jobs=-1, random_state=26; accuracy: (test=0.946) f1: (test=0.905) neg_root_mean_squared_error: (test=-0.233) precision: (test=0.951) recall: (test=0.864) total time=   0.5s\n",
      "[CV 3/3] END criterion=gini, max_depth=20, min_samples_split=15, n_estimators=30, n_jobs=-1, random_state=26; accuracy: (test=0.949) f1: (test=0.910) neg_root_mean_squared_error: (test=-0.227) precision: (test=0.955) recall: (test=0.869) total time=   0.5s\n",
      "[CV 1/3] END criterion=gini, max_depth=20, min_samples_split=15, n_estimators=40, n_jobs=-1, random_state=26; accuracy: (test=0.947) f1: (test=0.907) neg_root_mean_squared_error: (test=-0.229) precision: (test=0.956) recall: (test=0.864) total time=   0.6s\n",
      "[CV 2/3] END criterion=gini, max_depth=20, min_samples_split=15, n_estimators=40, n_jobs=-1, random_state=26; accuracy: (test=0.946) f1: (test=0.905) neg_root_mean_squared_error: (test=-0.233) precision: (test=0.950) recall: (test=0.864) total time=   0.7s\n",
      "[CV 3/3] END criterion=gini, max_depth=20, min_samples_split=15, n_estimators=40, n_jobs=-1, random_state=26; accuracy: (test=0.948) f1: (test=0.909) neg_root_mean_squared_error: (test=-0.227) precision: (test=0.956) recall: (test=0.868) total time=   0.8s\n",
      "[CV 1/3] END criterion=gini, max_depth=20, min_samples_split=15, n_estimators=50, n_jobs=-1, random_state=26; accuracy: (test=0.947) f1: (test=0.907) neg_root_mean_squared_error: (test=-0.231) precision: (test=0.954) recall: (test=0.863) total time=   0.7s\n",
      "[CV 2/3] END criterion=gini, max_depth=20, min_samples_split=15, n_estimators=50, n_jobs=-1, random_state=26; accuracy: (test=0.946) f1: (test=0.905) neg_root_mean_squared_error: (test=-0.232) precision: (test=0.950) recall: (test=0.865) total time=   0.7s\n",
      "[CV 3/3] END criterion=gini, max_depth=20, min_samples_split=15, n_estimators=50, n_jobs=-1, random_state=26; accuracy: (test=0.949) f1: (test=0.911) neg_root_mean_squared_error: (test=-0.225) precision: (test=0.957) recall: (test=0.869) total time=   0.7s\n",
      "[CV 1/3] END criterion=gini, max_depth=20, min_samples_split=20, n_estimators=20, n_jobs=-1, random_state=26; accuracy: (test=0.946) f1: (test=0.905) neg_root_mean_squared_error: (test=-0.233) precision: (test=0.953) recall: (test=0.861) total time=   0.4s\n",
      "[CV 2/3] END criterion=gini, max_depth=20, min_samples_split=20, n_estimators=20, n_jobs=-1, random_state=26; accuracy: (test=0.945) f1: (test=0.904) neg_root_mean_squared_error: (test=-0.235) precision: (test=0.947) recall: (test=0.864) total time=   0.4s\n",
      "[CV 3/3] END criterion=gini, max_depth=20, min_samples_split=20, n_estimators=20, n_jobs=-1, random_state=26; accuracy: (test=0.949) f1: (test=0.910) neg_root_mean_squared_error: (test=-0.226) precision: (test=0.959) recall: (test=0.867) total time=   0.4s\n",
      "[CV 1/3] END criterion=gini, max_depth=20, min_samples_split=20, n_estimators=30, n_jobs=-1, random_state=26; accuracy: (test=0.946) f1: (test=0.905) neg_root_mean_squared_error: (test=-0.232) precision: (test=0.954) recall: (test=0.861) total time=   0.5s\n",
      "[CV 2/3] END criterion=gini, max_depth=20, min_samples_split=20, n_estimators=30, n_jobs=-1, random_state=26; accuracy: (test=0.945) f1: (test=0.904) neg_root_mean_squared_error: (test=-0.234) precision: (test=0.950) recall: (test=0.863) total time=   0.5s\n",
      "[CV 3/3] END criterion=gini, max_depth=20, min_samples_split=20, n_estimators=30, n_jobs=-1, random_state=26; accuracy: (test=0.949) f1: (test=0.910) neg_root_mean_squared_error: (test=-0.226) precision: (test=0.958) recall: (test=0.867) total time=   0.5s\n",
      "[CV 1/3] END criterion=gini, max_depth=20, min_samples_split=20, n_estimators=40, n_jobs=-1, random_state=26; accuracy: (test=0.946) f1: (test=0.904) neg_root_mean_squared_error: (test=-0.233) precision: (test=0.955) recall: (test=0.859) total time=   0.6s\n",
      "[CV 2/3] END criterion=gini, max_depth=20, min_samples_split=20, n_estimators=40, n_jobs=-1, random_state=26; accuracy: (test=0.945) f1: (test=0.904) neg_root_mean_squared_error: (test=-0.234) precision: (test=0.949) recall: (test=0.863) total time=   0.6s\n",
      "[CV 3/3] END criterion=gini, max_depth=20, min_samples_split=20, n_estimators=40, n_jobs=-1, random_state=26; accuracy: (test=0.949) f1: (test=0.911) neg_root_mean_squared_error: (test=-0.226) precision: (test=0.960) recall: (test=0.866) total time=   0.6s\n",
      "[CV 1/3] END criterion=gini, max_depth=20, min_samples_split=20, n_estimators=50, n_jobs=-1, random_state=26; accuracy: (test=0.946) f1: (test=0.905) neg_root_mean_squared_error: (test=-0.232) precision: (test=0.955) recall: (test=0.860) total time=   0.7s\n",
      "[CV 2/3] END criterion=gini, max_depth=20, min_samples_split=20, n_estimators=50, n_jobs=-1, random_state=26; accuracy: (test=0.945) f1: (test=0.904) neg_root_mean_squared_error: (test=-0.234) precision: (test=0.950) recall: (test=0.863) total time=   0.7s\n",
      "[CV 3/3] END criterion=gini, max_depth=20, min_samples_split=20, n_estimators=50, n_jobs=-1, random_state=26; accuracy: (test=0.949) f1: (test=0.911) neg_root_mean_squared_error: (test=-0.225) precision: (test=0.959) recall: (test=0.867) total time=   0.7s\n",
      "[CV 1/3] END criterion=log_loss, max_depth=5, min_samples_split=5, n_estimators=20, n_jobs=-1, random_state=26; accuracy: (test=0.907) f1: (test=0.838) neg_root_mean_squared_error: (test=-0.306) precision: (test=0.871) recall: (test=0.808) total time=   0.3s\n",
      "[CV 2/3] END criterion=log_loss, max_depth=5, min_samples_split=5, n_estimators=20, n_jobs=-1, random_state=26; accuracy: (test=0.886) f1: (test=0.812) neg_root_mean_squared_error: (test=-0.338) precision: (test=0.798) recall: (test=0.827) total time=   0.3s\n",
      "[CV 3/3] END criterion=log_loss, max_depth=5, min_samples_split=5, n_estimators=20, n_jobs=-1, random_state=26; accuracy: (test=0.888) f1: (test=0.816) neg_root_mean_squared_error: (test=-0.335) precision: (test=0.801) recall: (test=0.833) total time=   0.3s\n",
      "[CV 1/3] END criterion=log_loss, max_depth=5, min_samples_split=5, n_estimators=30, n_jobs=-1, random_state=26; accuracy: (test=0.906) f1: (test=0.839) neg_root_mean_squared_error: (test=-0.307) precision: (test=0.860) recall: (test=0.818) total time=   0.3s\n",
      "[CV 2/3] END criterion=log_loss, max_depth=5, min_samples_split=5, n_estimators=30, n_jobs=-1, random_state=26; accuracy: (test=0.891) f1: (test=0.820) neg_root_mean_squared_error: (test=-0.330) precision: (test=0.809) recall: (test=0.831) total time=   0.3s\n",
      "[CV 3/3] END criterion=log_loss, max_depth=5, min_samples_split=5, n_estimators=30, n_jobs=-1, random_state=26; accuracy: (test=0.892) f1: (test=0.822) neg_root_mean_squared_error: (test=-0.329) precision: (test=0.809) recall: (test=0.835) total time=   0.3s\n",
      "[CV 1/3] END criterion=log_loss, max_depth=5, min_samples_split=5, n_estimators=40, n_jobs=-1, random_state=26; accuracy: (test=0.908) f1: (test=0.841) neg_root_mean_squared_error: (test=-0.304) precision: (test=0.867) recall: (test=0.817) total time=   0.4s\n",
      "[CV 2/3] END criterion=log_loss, max_depth=5, min_samples_split=5, n_estimators=40, n_jobs=-1, random_state=26; accuracy: (test=0.892) f1: (test=0.821) neg_root_mean_squared_error: (test=-0.329) precision: (test=0.811) recall: (test=0.831) total time=   0.3s\n",
      "[CV 3/3] END criterion=log_loss, max_depth=5, min_samples_split=5, n_estimators=40, n_jobs=-1, random_state=26; accuracy: (test=0.892) f1: (test=0.823) neg_root_mean_squared_error: (test=-0.328) precision: (test=0.810) recall: (test=0.835) total time=   0.4s\n",
      "[CV 1/3] END criterion=log_loss, max_depth=5, min_samples_split=5, n_estimators=50, n_jobs=-1, random_state=26; accuracy: (test=0.908) f1: (test=0.842) neg_root_mean_squared_error: (test=-0.303) precision: (test=0.866) recall: (test=0.818) total time=   0.4s\n",
      "[CV 2/3] END criterion=log_loss, max_depth=5, min_samples_split=5, n_estimators=50, n_jobs=-1, random_state=26; accuracy: (test=0.891) f1: (test=0.820) neg_root_mean_squared_error: (test=-0.331) precision: (test=0.809) recall: (test=0.831) total time=   0.4s\n",
      "[CV 3/3] END criterion=log_loss, max_depth=5, min_samples_split=5, n_estimators=50, n_jobs=-1, random_state=26; accuracy: (test=0.893) f1: (test=0.823) neg_root_mean_squared_error: (test=-0.327) precision: (test=0.812) recall: (test=0.834) total time=   0.4s\n",
      "[CV 1/3] END criterion=log_loss, max_depth=5, min_samples_split=10, n_estimators=20, n_jobs=-1, random_state=26; accuracy: (test=0.908) f1: (test=0.840) neg_root_mean_squared_error: (test=-0.303) precision: (test=0.875) recall: (test=0.808) total time=   0.2s\n",
      "[CV 2/3] END criterion=log_loss, max_depth=5, min_samples_split=10, n_estimators=20, n_jobs=-1, random_state=26; accuracy: (test=0.886) f1: (test=0.812) neg_root_mean_squared_error: (test=-0.338) precision: (test=0.797) recall: (test=0.828) total time=   0.3s\n",
      "[CV 3/3] END criterion=log_loss, max_depth=5, min_samples_split=10, n_estimators=20, n_jobs=-1, random_state=26; accuracy: (test=0.889) f1: (test=0.818) neg_root_mean_squared_error: (test=-0.333) precision: (test=0.804) recall: (test=0.832) total time=   0.3s\n",
      "[CV 1/3] END criterion=log_loss, max_depth=5, min_samples_split=10, n_estimators=30, n_jobs=-1, random_state=26; accuracy: (test=0.908) f1: (test=0.841) neg_root_mean_squared_error: (test=-0.304) precision: (test=0.868) recall: (test=0.816) total time=   0.3s\n",
      "[CV 2/3] END criterion=log_loss, max_depth=5, min_samples_split=10, n_estimators=30, n_jobs=-1, random_state=26; accuracy: (test=0.890) f1: (test=0.818) neg_root_mean_squared_error: (test=-0.332) precision: (test=0.808) recall: (test=0.829) total time=   0.3s\n",
      "[CV 3/3] END criterion=log_loss, max_depth=5, min_samples_split=10, n_estimators=30, n_jobs=-1, random_state=26; accuracy: (test=0.892) f1: (test=0.822) neg_root_mean_squared_error: (test=-0.328) precision: (test=0.810) recall: (test=0.835) total time=   0.3s\n",
      "[CV 1/3] END criterion=log_loss, max_depth=5, min_samples_split=10, n_estimators=40, n_jobs=-1, random_state=26; accuracy: (test=0.908) f1: (test=0.842) neg_root_mean_squared_error: (test=-0.303) precision: (test=0.871) recall: (test=0.815) total time=   0.3s\n",
      "[CV 2/3] END criterion=log_loss, max_depth=5, min_samples_split=10, n_estimators=40, n_jobs=-1, random_state=26; accuracy: (test=0.894) f1: (test=0.824) neg_root_mean_squared_error: (test=-0.325) precision: (test=0.821) recall: (test=0.826) total time=   0.4s\n",
      "[CV 3/3] END criterion=log_loss, max_depth=5, min_samples_split=10, n_estimators=40, n_jobs=-1, random_state=26; accuracy: (test=0.891) f1: (test=0.821) neg_root_mean_squared_error: (test=-0.329) precision: (test=0.808) recall: (test=0.835) total time=   0.3s\n",
      "[CV 1/3] END criterion=log_loss, max_depth=5, min_samples_split=10, n_estimators=50, n_jobs=-1, random_state=26; accuracy: (test=0.910) f1: (test=0.844) neg_root_mean_squared_error: (test=-0.300) precision: (test=0.873) recall: (test=0.817) total time=   0.4s\n",
      "[CV 2/3] END criterion=log_loss, max_depth=5, min_samples_split=10, n_estimators=50, n_jobs=-1, random_state=26; accuracy: (test=0.892) f1: (test=0.821) neg_root_mean_squared_error: (test=-0.328) precision: (test=0.815) recall: (test=0.828) total time=   0.4s\n",
      "[CV 3/3] END criterion=log_loss, max_depth=5, min_samples_split=10, n_estimators=50, n_jobs=-1, random_state=26; accuracy: (test=0.892) f1: (test=0.823) neg_root_mean_squared_error: (test=-0.328) precision: (test=0.811) recall: (test=0.834) total time=   0.5s\n",
      "[CV 1/3] END criterion=log_loss, max_depth=5, min_samples_split=15, n_estimators=20, n_jobs=-1, random_state=26; accuracy: (test=0.903) f1: (test=0.833) neg_root_mean_squared_error: (test=-0.311) precision: (test=0.861) recall: (test=0.806) total time=   0.3s\n",
      "[CV 2/3] END criterion=log_loss, max_depth=5, min_samples_split=15, n_estimators=20, n_jobs=-1, random_state=26; accuracy: (test=0.886) f1: (test=0.813) neg_root_mean_squared_error: (test=-0.337) precision: (test=0.799) recall: (test=0.828) total time=   0.3s\n",
      "[CV 3/3] END criterion=log_loss, max_depth=5, min_samples_split=15, n_estimators=20, n_jobs=-1, random_state=26; accuracy: (test=0.887) f1: (test=0.815) neg_root_mean_squared_error: (test=-0.336) precision: (test=0.800) recall: (test=0.830) total time=   0.3s\n",
      "[CV 1/3] END criterion=log_loss, max_depth=5, min_samples_split=15, n_estimators=30, n_jobs=-1, random_state=26; accuracy: (test=0.893) f1: (test=0.820) neg_root_mean_squared_error: (test=-0.327) precision: (test=0.825) recall: (test=0.816) total time=   0.3s\n",
      "[CV 2/3] END criterion=log_loss, max_depth=5, min_samples_split=15, n_estimators=30, n_jobs=-1, random_state=26; accuracy: (test=0.890) f1: (test=0.819) neg_root_mean_squared_error: (test=-0.331) precision: (test=0.808) recall: (test=0.831) total time=   0.3s\n",
      "[CV 3/3] END criterion=log_loss, max_depth=5, min_samples_split=15, n_estimators=30, n_jobs=-1, random_state=26; accuracy: (test=0.891) f1: (test=0.821) neg_root_mean_squared_error: (test=-0.330) precision: (test=0.808) recall: (test=0.835) total time=   0.4s\n",
      "[CV 1/3] END criterion=log_loss, max_depth=5, min_samples_split=15, n_estimators=40, n_jobs=-1, random_state=26; accuracy: (test=0.899) f1: (test=0.828) neg_root_mean_squared_error: (test=-0.318) precision: (test=0.842) recall: (test=0.815) total time=   0.4s\n",
      "[CV 2/3] END criterion=log_loss, max_depth=5, min_samples_split=15, n_estimators=40, n_jobs=-1, random_state=26; accuracy: (test=0.895) f1: (test=0.825) neg_root_mean_squared_error: (test=-0.324) precision: (test=0.822) recall: (test=0.829) total time=   0.3s\n",
      "[CV 3/3] END criterion=log_loss, max_depth=5, min_samples_split=15, n_estimators=40, n_jobs=-1, random_state=26; accuracy: (test=0.892) f1: (test=0.822) neg_root_mean_squared_error: (test=-0.329) precision: (test=0.809) recall: (test=0.835) total time=   0.4s\n",
      "[CV 1/3] END criterion=log_loss, max_depth=5, min_samples_split=15, n_estimators=50, n_jobs=-1, random_state=26; accuracy: (test=0.900) f1: (test=0.830) neg_root_mean_squared_error: (test=-0.316) precision: (test=0.845) recall: (test=0.816) total time=   0.4s\n",
      "[CV 2/3] END criterion=log_loss, max_depth=5, min_samples_split=15, n_estimators=50, n_jobs=-1, random_state=26; accuracy: (test=0.893) f1: (test=0.823) neg_root_mean_squared_error: (test=-0.327) precision: (test=0.817) recall: (test=0.829) total time=   0.4s\n",
      "[CV 3/3] END criterion=log_loss, max_depth=5, min_samples_split=15, n_estimators=50, n_jobs=-1, random_state=26; accuracy: (test=0.893) f1: (test=0.823) neg_root_mean_squared_error: (test=-0.327) precision: (test=0.812) recall: (test=0.834) total time=   0.4s\n",
      "[CV 1/3] END criterion=log_loss, max_depth=5, min_samples_split=20, n_estimators=20, n_jobs=-1, random_state=26; accuracy: (test=0.891) f1: (test=0.817) neg_root_mean_squared_error: (test=-0.330) precision: (test=0.822) recall: (test=0.811) total time=   0.3s\n",
      "[CV 2/3] END criterion=log_loss, max_depth=5, min_samples_split=20, n_estimators=20, n_jobs=-1, random_state=26; accuracy: (test=0.886) f1: (test=0.812) neg_root_mean_squared_error: (test=-0.338) precision: (test=0.798) recall: (test=0.827) total time=   0.3s\n",
      "[CV 3/3] END criterion=log_loss, max_depth=5, min_samples_split=20, n_estimators=20, n_jobs=-1, random_state=26; accuracy: (test=0.886) f1: (test=0.812) neg_root_mean_squared_error: (test=-0.338) precision: (test=0.802) recall: (test=0.822) total time=   0.2s\n",
      "[CV 1/3] END criterion=log_loss, max_depth=5, min_samples_split=20, n_estimators=30, n_jobs=-1, random_state=26; accuracy: (test=0.888) f1: (test=0.814) neg_root_mean_squared_error: (test=-0.334) precision: (test=0.813) recall: (test=0.814) total time=   0.3s\n",
      "[CV 2/3] END criterion=log_loss, max_depth=5, min_samples_split=20, n_estimators=30, n_jobs=-1, random_state=26; accuracy: (test=0.892) f1: (test=0.821) neg_root_mean_squared_error: (test=-0.329) precision: (test=0.811) recall: (test=0.831) total time=   0.3s\n",
      "[CV 3/3] END criterion=log_loss, max_depth=5, min_samples_split=20, n_estimators=30, n_jobs=-1, random_state=26; accuracy: (test=0.892) f1: (test=0.822) neg_root_mean_squared_error: (test=-0.329) precision: (test=0.812) recall: (test=0.832) total time=   0.3s\n",
      "[CV 1/3] END criterion=log_loss, max_depth=5, min_samples_split=20, n_estimators=40, n_jobs=-1, random_state=26; accuracy: (test=0.895) f1: (test=0.823) neg_root_mean_squared_error: (test=-0.324) precision: (test=0.829) recall: (test=0.817) total time=   0.4s\n",
      "[CV 2/3] END criterion=log_loss, max_depth=5, min_samples_split=20, n_estimators=40, n_jobs=-1, random_state=26; accuracy: (test=0.897) f1: (test=0.828) neg_root_mean_squared_error: (test=-0.321) precision: (test=0.827) recall: (test=0.829) total time=   0.3s\n",
      "[CV 3/3] END criterion=log_loss, max_depth=5, min_samples_split=20, n_estimators=40, n_jobs=-1, random_state=26; accuracy: (test=0.895) f1: (test=0.826) neg_root_mean_squared_error: (test=-0.324) precision: (test=0.818) recall: (test=0.834) total time=   0.4s\n",
      "[CV 1/3] END criterion=log_loss, max_depth=5, min_samples_split=20, n_estimators=50, n_jobs=-1, random_state=26; accuracy: (test=0.896) f1: (test=0.825) neg_root_mean_squared_error: (test=-0.322) precision: (test=0.832) recall: (test=0.817) total time=   0.4s\n",
      "[CV 2/3] END criterion=log_loss, max_depth=5, min_samples_split=20, n_estimators=50, n_jobs=-1, random_state=26; accuracy: (test=0.895) f1: (test=0.825) neg_root_mean_squared_error: (test=-0.324) precision: (test=0.821) recall: (test=0.829) total time=   0.4s\n",
      "[CV 3/3] END criterion=log_loss, max_depth=5, min_samples_split=20, n_estimators=50, n_jobs=-1, random_state=26; accuracy: (test=0.896) f1: (test=0.827) neg_root_mean_squared_error: (test=-0.323) precision: (test=0.820) recall: (test=0.834) total time=   0.4s\n",
      "[CV 1/3] END criterion=log_loss, max_depth=10, min_samples_split=5, n_estimators=20, n_jobs=-1, random_state=26; accuracy: (test=0.929) f1: (test=0.875) neg_root_mean_squared_error: (test=-0.266) precision: (test=0.924) recall: (test=0.831) total time=   0.3s\n",
      "[CV 2/3] END criterion=log_loss, max_depth=10, min_samples_split=5, n_estimators=20, n_jobs=-1, random_state=26; accuracy: (test=0.927) f1: (test=0.872) neg_root_mean_squared_error: (test=-0.270) precision: (test=0.917) recall: (test=0.831) total time=   0.3s\n",
      "[CV 3/3] END criterion=log_loss, max_depth=10, min_samples_split=5, n_estimators=20, n_jobs=-1, random_state=26; accuracy: (test=0.933) f1: (test=0.882) neg_root_mean_squared_error: (test=-0.258) precision: (test=0.934) recall: (test=0.836) total time=   0.4s\n",
      "[CV 1/3] END criterion=log_loss, max_depth=10, min_samples_split=5, n_estimators=30, n_jobs=-1, random_state=26; accuracy: (test=0.929) f1: (test=0.876) neg_root_mean_squared_error: (test=-0.266) precision: (test=0.924) recall: (test=0.832) total time=   0.4s\n",
      "[CV 2/3] END criterion=log_loss, max_depth=10, min_samples_split=5, n_estimators=30, n_jobs=-1, random_state=26; accuracy: (test=0.927) f1: (test=0.872) neg_root_mean_squared_error: (test=-0.270) precision: (test=0.917) recall: (test=0.832) total time=   0.4s\n",
      "[CV 3/3] END criterion=log_loss, max_depth=10, min_samples_split=5, n_estimators=30, n_jobs=-1, random_state=26; accuracy: (test=0.933) f1: (test=0.881) neg_root_mean_squared_error: (test=-0.260) precision: (test=0.931) recall: (test=0.837) total time=   0.4s\n",
      "[CV 1/3] END criterion=log_loss, max_depth=10, min_samples_split=5, n_estimators=40, n_jobs=-1, random_state=26; accuracy: (test=0.929) f1: (test=0.874) neg_root_mean_squared_error: (test=-0.267) precision: (test=0.923) recall: (test=0.830) total time=   0.5s\n",
      "[CV 2/3] END criterion=log_loss, max_depth=10, min_samples_split=5, n_estimators=40, n_jobs=-1, random_state=26; accuracy: (test=0.928) f1: (test=0.873) neg_root_mean_squared_error: (test=-0.269) precision: (test=0.919) recall: (test=0.833) total time=   0.5s\n",
      "[CV 3/3] END criterion=log_loss, max_depth=10, min_samples_split=5, n_estimators=40, n_jobs=-1, random_state=26; accuracy: (test=0.934) f1: (test=0.883) neg_root_mean_squared_error: (test=-0.257) precision: (test=0.936) recall: (test=0.836) total time=   0.5s\n",
      "[CV 1/3] END criterion=log_loss, max_depth=10, min_samples_split=5, n_estimators=50, n_jobs=-1, random_state=26; accuracy: (test=0.929) f1: (test=0.874) neg_root_mean_squared_error: (test=-0.267) precision: (test=0.923) recall: (test=0.830) total time=   0.6s\n",
      "[CV 2/3] END criterion=log_loss, max_depth=10, min_samples_split=5, n_estimators=50, n_jobs=-1, random_state=26; accuracy: (test=0.928) f1: (test=0.873) neg_root_mean_squared_error: (test=-0.269) precision: (test=0.918) recall: (test=0.832) total time=   0.6s\n",
      "[CV 3/3] END criterion=log_loss, max_depth=10, min_samples_split=5, n_estimators=50, n_jobs=-1, random_state=26; accuracy: (test=0.934) f1: (test=0.883) neg_root_mean_squared_error: (test=-0.257) precision: (test=0.935) recall: (test=0.837) total time=   0.6s\n",
      "[CV 1/3] END criterion=log_loss, max_depth=10, min_samples_split=10, n_estimators=20, n_jobs=-1, random_state=26; accuracy: (test=0.929) f1: (test=0.875) neg_root_mean_squared_error: (test=-0.266) precision: (test=0.926) recall: (test=0.829) total time=   0.3s\n",
      "[CV 2/3] END criterion=log_loss, max_depth=10, min_samples_split=10, n_estimators=20, n_jobs=-1, random_state=26; accuracy: (test=0.927) f1: (test=0.872) neg_root_mean_squared_error: (test=-0.271) precision: (test=0.916) recall: (test=0.832) total time=   0.3s\n",
      "[CV 3/3] END criterion=log_loss, max_depth=10, min_samples_split=10, n_estimators=20, n_jobs=-1, random_state=26; accuracy: (test=0.931) f1: (test=0.880) neg_root_mean_squared_error: (test=-0.262) precision: (test=0.926) recall: (test=0.838) total time=   0.3s\n",
      "[CV 1/3] END criterion=log_loss, max_depth=10, min_samples_split=10, n_estimators=30, n_jobs=-1, random_state=26; accuracy: (test=0.929) f1: (test=0.875) neg_root_mean_squared_error: (test=-0.267) precision: (test=0.923) recall: (test=0.831) total time=   0.4s\n",
      "[CV 2/3] END criterion=log_loss, max_depth=10, min_samples_split=10, n_estimators=30, n_jobs=-1, random_state=26; accuracy: (test=0.928) f1: (test=0.873) neg_root_mean_squared_error: (test=-0.269) precision: (test=0.918) recall: (test=0.833) total time=   0.4s\n",
      "[CV 3/3] END criterion=log_loss, max_depth=10, min_samples_split=10, n_estimators=30, n_jobs=-1, random_state=26; accuracy: (test=0.933) f1: (test=0.882) neg_root_mean_squared_error: (test=-0.259) precision: (test=0.930) recall: (test=0.838) total time=   0.4s\n",
      "[CV 1/3] END criterion=log_loss, max_depth=10, min_samples_split=10, n_estimators=40, n_jobs=-1, random_state=26; accuracy: (test=0.929) f1: (test=0.875) neg_root_mean_squared_error: (test=-0.266) precision: (test=0.925) recall: (test=0.830) total time=   0.5s\n",
      "[CV 2/3] END criterion=log_loss, max_depth=10, min_samples_split=10, n_estimators=40, n_jobs=-1, random_state=26; accuracy: (test=0.928) f1: (test=0.873) neg_root_mean_squared_error: (test=-0.269) precision: (test=0.918) recall: (test=0.832) total time=   0.5s\n",
      "[CV 3/3] END criterion=log_loss, max_depth=10, min_samples_split=10, n_estimators=40, n_jobs=-1, random_state=26; accuracy: (test=0.933) f1: (test=0.882) neg_root_mean_squared_error: (test=-0.259) precision: (test=0.931) recall: (test=0.837) total time=   0.5s\n",
      "[CV 1/3] END criterion=log_loss, max_depth=10, min_samples_split=10, n_estimators=50, n_jobs=-1, random_state=26; accuracy: (test=0.929) f1: (test=0.874) neg_root_mean_squared_error: (test=-0.267) precision: (test=0.926) recall: (test=0.827) total time=   0.6s\n",
      "[CV 2/3] END criterion=log_loss, max_depth=10, min_samples_split=10, n_estimators=50, n_jobs=-1, random_state=26; accuracy: (test=0.927) f1: (test=0.872) neg_root_mean_squared_error: (test=-0.271) precision: (test=0.916) recall: (test=0.832) total time=   0.6s\n",
      "[CV 3/3] END criterion=log_loss, max_depth=10, min_samples_split=10, n_estimators=50, n_jobs=-1, random_state=26; accuracy: (test=0.933) f1: (test=0.881) neg_root_mean_squared_error: (test=-0.260) precision: (test=0.930) recall: (test=0.837) total time=   0.5s\n",
      "[CV 1/3] END criterion=log_loss, max_depth=10, min_samples_split=15, n_estimators=20, n_jobs=-1, random_state=26; accuracy: (test=0.927) f1: (test=0.872) neg_root_mean_squared_error: (test=-0.270) precision: (test=0.922) recall: (test=0.827) total time=   0.3s\n",
      "[CV 2/3] END criterion=log_loss, max_depth=10, min_samples_split=15, n_estimators=20, n_jobs=-1, random_state=26; accuracy: (test=0.927) f1: (test=0.872) neg_root_mean_squared_error: (test=-0.270) precision: (test=0.915) recall: (test=0.833) total time=   0.3s\n",
      "[CV 3/3] END criterion=log_loss, max_depth=10, min_samples_split=15, n_estimators=20, n_jobs=-1, random_state=26; accuracy: (test=0.932) f1: (test=0.880) neg_root_mean_squared_error: (test=-0.261) precision: (test=0.928) recall: (test=0.836) total time=   0.3s\n",
      "[CV 1/3] END criterion=log_loss, max_depth=10, min_samples_split=15, n_estimators=30, n_jobs=-1, random_state=26; accuracy: (test=0.928) f1: (test=0.873) neg_root_mean_squared_error: (test=-0.268) precision: (test=0.923) recall: (test=0.829) total time=   0.4s\n",
      "[CV 2/3] END criterion=log_loss, max_depth=10, min_samples_split=15, n_estimators=30, n_jobs=-1, random_state=26; accuracy: (test=0.927) f1: (test=0.872) neg_root_mean_squared_error: (test=-0.271) precision: (test=0.915) recall: (test=0.832) total time=   0.4s\n",
      "[CV 3/3] END criterion=log_loss, max_depth=10, min_samples_split=15, n_estimators=30, n_jobs=-1, random_state=26; accuracy: (test=0.932) f1: (test=0.879) neg_root_mean_squared_error: (test=-0.262) precision: (test=0.930) recall: (test=0.833) total time=   0.4s\n",
      "[CV 1/3] END criterion=log_loss, max_depth=10, min_samples_split=15, n_estimators=40, n_jobs=-1, random_state=26; accuracy: (test=0.927) f1: (test=0.872) neg_root_mean_squared_error: (test=-0.269) precision: (test=0.923) recall: (test=0.826) total time=   0.5s\n",
      "[CV 2/3] END criterion=log_loss, max_depth=10, min_samples_split=15, n_estimators=40, n_jobs=-1, random_state=26; accuracy: (test=0.927) f1: (test=0.872) neg_root_mean_squared_error: (test=-0.270) precision: (test=0.916) recall: (test=0.832) total time=   0.5s\n",
      "[CV 3/3] END criterion=log_loss, max_depth=10, min_samples_split=15, n_estimators=40, n_jobs=-1, random_state=26; accuracy: (test=0.932) f1: (test=0.880) neg_root_mean_squared_error: (test=-0.261) precision: (test=0.930) recall: (test=0.834) total time=   0.5s\n",
      "[CV 1/3] END criterion=log_loss, max_depth=10, min_samples_split=15, n_estimators=50, n_jobs=-1, random_state=26; accuracy: (test=0.927) f1: (test=0.872) neg_root_mean_squared_error: (test=-0.270) precision: (test=0.923) recall: (test=0.825) total time=   0.6s\n",
      "[CV 2/3] END criterion=log_loss, max_depth=10, min_samples_split=15, n_estimators=50, n_jobs=-1, random_state=26; accuracy: (test=0.927) f1: (test=0.873) neg_root_mean_squared_error: (test=-0.269) precision: (test=0.917) recall: (test=0.833) total time=   0.6s\n",
      "[CV 3/3] END criterion=log_loss, max_depth=10, min_samples_split=15, n_estimators=50, n_jobs=-1, random_state=26; accuracy: (test=0.931) f1: (test=0.879) neg_root_mean_squared_error: (test=-0.262) precision: (test=0.928) recall: (test=0.834) total time=   0.5s\n",
      "[CV 1/3] END criterion=log_loss, max_depth=10, min_samples_split=20, n_estimators=20, n_jobs=-1, random_state=26; accuracy: (test=0.928) f1: (test=0.873) neg_root_mean_squared_error: (test=-0.268) precision: (test=0.929) recall: (test=0.823) total time=   0.3s\n",
      "[CV 2/3] END criterion=log_loss, max_depth=10, min_samples_split=20, n_estimators=20, n_jobs=-1, random_state=26; accuracy: (test=0.926) f1: (test=0.871) neg_root_mean_squared_error: (test=-0.272) precision: (test=0.915) recall: (test=0.831) total time=   0.3s\n",
      "[CV 3/3] END criterion=log_loss, max_depth=10, min_samples_split=20, n_estimators=20, n_jobs=-1, random_state=26; accuracy: (test=0.931) f1: (test=0.878) neg_root_mean_squared_error: (test=-0.263) precision: (test=0.929) recall: (test=0.833) total time=   0.3s\n",
      "[CV 1/3] END criterion=log_loss, max_depth=10, min_samples_split=20, n_estimators=30, n_jobs=-1, random_state=26; accuracy: (test=0.929) f1: (test=0.874) neg_root_mean_squared_error: (test=-0.267) precision: (test=0.928) recall: (test=0.827) total time=   0.4s\n",
      "[CV 2/3] END criterion=log_loss, max_depth=10, min_samples_split=20, n_estimators=30, n_jobs=-1, random_state=26; accuracy: (test=0.927) f1: (test=0.873) neg_root_mean_squared_error: (test=-0.269) precision: (test=0.917) recall: (test=0.833) total time=   0.4s\n",
      "[CV 3/3] END criterion=log_loss, max_depth=10, min_samples_split=20, n_estimators=30, n_jobs=-1, random_state=26; accuracy: (test=0.931) f1: (test=0.878) neg_root_mean_squared_error: (test=-0.262) precision: (test=0.930) recall: (test=0.832) total time=   0.4s\n",
      "[CV 1/3] END criterion=log_loss, max_depth=10, min_samples_split=20, n_estimators=40, n_jobs=-1, random_state=26; accuracy: (test=0.928) f1: (test=0.873) neg_root_mean_squared_error: (test=-0.268) precision: (test=0.928) recall: (test=0.824) total time=   0.5s\n",
      "[CV 2/3] END criterion=log_loss, max_depth=10, min_samples_split=20, n_estimators=40, n_jobs=-1, random_state=26; accuracy: (test=0.928) f1: (test=0.873) neg_root_mean_squared_error: (test=-0.269) precision: (test=0.917) recall: (test=0.833) total time=   0.5s\n",
      "[CV 3/3] END criterion=log_loss, max_depth=10, min_samples_split=20, n_estimators=40, n_jobs=-1, random_state=26; accuracy: (test=0.931) f1: (test=0.879) neg_root_mean_squared_error: (test=-0.262) precision: (test=0.930) recall: (test=0.833) total time=   0.5s\n",
      "[CV 1/3] END criterion=log_loss, max_depth=10, min_samples_split=20, n_estimators=50, n_jobs=-1, random_state=26; accuracy: (test=0.928) f1: (test=0.873) neg_root_mean_squared_error: (test=-0.268) precision: (test=0.926) recall: (test=0.826) total time=   0.6s\n",
      "[CV 2/3] END criterion=log_loss, max_depth=10, min_samples_split=20, n_estimators=50, n_jobs=-1, random_state=26; accuracy: (test=0.928) f1: (test=0.874) neg_root_mean_squared_error: (test=-0.269) precision: (test=0.917) recall: (test=0.834) total time=   0.6s\n",
      "[CV 3/3] END criterion=log_loss, max_depth=10, min_samples_split=20, n_estimators=50, n_jobs=-1, random_state=26; accuracy: (test=0.931) f1: (test=0.878) neg_root_mean_squared_error: (test=-0.263) precision: (test=0.929) recall: (test=0.832) total time=   0.6s\n",
      "[CV 1/3] END criterion=log_loss, max_depth=15, min_samples_split=5, n_estimators=20, n_jobs=-1, random_state=26; accuracy: (test=0.941) f1: (test=0.897) neg_root_mean_squared_error: (test=-0.243) precision: (test=0.944) recall: (test=0.854) total time=   0.4s\n",
      "[CV 2/3] END criterion=log_loss, max_depth=15, min_samples_split=5, n_estimators=20, n_jobs=-1, random_state=26; accuracy: (test=0.943) f1: (test=0.901) neg_root_mean_squared_error: (test=-0.238) precision: (test=0.944) recall: (test=0.861) total time=   0.4s\n",
      "[CV 3/3] END criterion=log_loss, max_depth=15, min_samples_split=5, n_estimators=20, n_jobs=-1, random_state=26; accuracy: (test=0.946) f1: (test=0.905) neg_root_mean_squared_error: (test=-0.233) precision: (test=0.951) recall: (test=0.863) total time=   0.4s\n",
      "[CV 1/3] END criterion=log_loss, max_depth=15, min_samples_split=5, n_estimators=30, n_jobs=-1, random_state=26; accuracy: (test=0.943) f1: (test=0.899) neg_root_mean_squared_error: (test=-0.239) precision: (test=0.948) recall: (test=0.855) total time=   0.5s\n",
      "[CV 2/3] END criterion=log_loss, max_depth=15, min_samples_split=5, n_estimators=30, n_jobs=-1, random_state=26; accuracy: (test=0.944) f1: (test=0.903) neg_root_mean_squared_error: (test=-0.236) precision: (test=0.947) recall: (test=0.863) total time=   0.5s\n",
      "[CV 3/3] END criterion=log_loss, max_depth=15, min_samples_split=5, n_estimators=30, n_jobs=-1, random_state=26; accuracy: (test=0.947) f1: (test=0.907) neg_root_mean_squared_error: (test=-0.230) precision: (test=0.953) recall: (test=0.865) total time=   0.5s\n",
      "[CV 1/3] END criterion=log_loss, max_depth=15, min_samples_split=5, n_estimators=40, n_jobs=-1, random_state=26; accuracy: (test=0.943) f1: (test=0.900) neg_root_mean_squared_error: (test=-0.238) precision: (test=0.950) recall: (test=0.855) total time=   0.6s\n",
      "[CV 2/3] END criterion=log_loss, max_depth=15, min_samples_split=5, n_estimators=40, n_jobs=-1, random_state=26; accuracy: (test=0.944) f1: (test=0.902) neg_root_mean_squared_error: (test=-0.237) precision: (test=0.946) recall: (test=0.862) total time=   0.6s\n",
      "[CV 3/3] END criterion=log_loss, max_depth=15, min_samples_split=5, n_estimators=40, n_jobs=-1, random_state=26; accuracy: (test=0.947) f1: (test=0.906) neg_root_mean_squared_error: (test=-0.231) precision: (test=0.952) recall: (test=0.864) total time=   0.6s\n",
      "[CV 1/3] END criterion=log_loss, max_depth=15, min_samples_split=5, n_estimators=50, n_jobs=-1, random_state=26; accuracy: (test=0.944) f1: (test=0.901) neg_root_mean_squared_error: (test=-0.238) precision: (test=0.949) recall: (test=0.857) total time=   0.7s\n",
      "[CV 2/3] END criterion=log_loss, max_depth=15, min_samples_split=5, n_estimators=50, n_jobs=-1, random_state=26; accuracy: (test=0.944) f1: (test=0.901) neg_root_mean_squared_error: (test=-0.237) precision: (test=0.946) recall: (test=0.861) total time=   0.7s\n",
      "[CV 3/3] END criterion=log_loss, max_depth=15, min_samples_split=5, n_estimators=50, n_jobs=-1, random_state=26; accuracy: (test=0.947) f1: (test=0.907) neg_root_mean_squared_error: (test=-0.231) precision: (test=0.952) recall: (test=0.865) total time=   0.7s\n",
      "[CV 1/3] END criterion=log_loss, max_depth=15, min_samples_split=10, n_estimators=20, n_jobs=-1, random_state=26; accuracy: (test=0.942) f1: (test=0.898) neg_root_mean_squared_error: (test=-0.242) precision: (test=0.941) recall: (test=0.858) total time=   0.4s\n",
      "[CV 2/3] END criterion=log_loss, max_depth=15, min_samples_split=10, n_estimators=20, n_jobs=-1, random_state=26; accuracy: (test=0.941) f1: (test=0.898) neg_root_mean_squared_error: (test=-0.242) precision: (test=0.938) recall: (test=0.860) total time=   0.4s\n",
      "[CV 3/3] END criterion=log_loss, max_depth=15, min_samples_split=10, n_estimators=20, n_jobs=-1, random_state=26; accuracy: (test=0.946) f1: (test=0.904) neg_root_mean_squared_error: (test=-0.233) precision: (test=0.952) recall: (test=0.861) total time=   0.4s\n",
      "[CV 1/3] END criterion=log_loss, max_depth=15, min_samples_split=10, n_estimators=30, n_jobs=-1, random_state=26; accuracy: (test=0.942) f1: (test=0.899) neg_root_mean_squared_error: (test=-0.240) precision: (test=0.943) recall: (test=0.860) total time=   0.5s\n",
      "[CV 2/3] END criterion=log_loss, max_depth=15, min_samples_split=10, n_estimators=30, n_jobs=-1, random_state=26; accuracy: (test=0.942) f1: (test=0.898) neg_root_mean_squared_error: (test=-0.241) precision: (test=0.941) recall: (test=0.860) total time=   0.5s\n",
      "[CV 3/3] END criterion=log_loss, max_depth=15, min_samples_split=10, n_estimators=30, n_jobs=-1, random_state=26; accuracy: (test=0.946) f1: (test=0.905) neg_root_mean_squared_error: (test=-0.233) precision: (test=0.951) recall: (test=0.862) total time=   0.5s\n",
      "[CV 1/3] END criterion=log_loss, max_depth=15, min_samples_split=10, n_estimators=40, n_jobs=-1, random_state=26; accuracy: (test=0.943) f1: (test=0.899) neg_root_mean_squared_error: (test=-0.239) precision: (test=0.945) recall: (test=0.858) total time=   0.6s\n",
      "[CV 2/3] END criterion=log_loss, max_depth=15, min_samples_split=10, n_estimators=40, n_jobs=-1, random_state=26; accuracy: (test=0.942) f1: (test=0.898) neg_root_mean_squared_error: (test=-0.241) precision: (test=0.942) recall: (test=0.858) total time=   0.6s\n",
      "[CV 3/3] END criterion=log_loss, max_depth=15, min_samples_split=10, n_estimators=40, n_jobs=-1, random_state=26; accuracy: (test=0.946) f1: (test=0.904) neg_root_mean_squared_error: (test=-0.233) precision: (test=0.952) recall: (test=0.861) total time=   0.6s\n",
      "[CV 1/3] END criterion=log_loss, max_depth=15, min_samples_split=10, n_estimators=50, n_jobs=-1, random_state=26; accuracy: (test=0.943) f1: (test=0.899) neg_root_mean_squared_error: (test=-0.240) precision: (test=0.945) recall: (test=0.857) total time=   0.7s\n",
      "[CV 2/3] END criterion=log_loss, max_depth=15, min_samples_split=10, n_estimators=50, n_jobs=-1, random_state=26; accuracy: (test=0.943) f1: (test=0.899) neg_root_mean_squared_error: (test=-0.240) precision: (test=0.943) recall: (test=0.860) total time=   0.7s\n",
      "[CV 3/3] END criterion=log_loss, max_depth=15, min_samples_split=10, n_estimators=50, n_jobs=-1, random_state=26; accuracy: (test=0.946) f1: (test=0.904) neg_root_mean_squared_error: (test=-0.233) precision: (test=0.951) recall: (test=0.862) total time=   0.7s\n",
      "[CV 1/3] END criterion=log_loss, max_depth=15, min_samples_split=15, n_estimators=20, n_jobs=-1, random_state=26; accuracy: (test=0.941) f1: (test=0.896) neg_root_mean_squared_error: (test=-0.243) precision: (test=0.947) recall: (test=0.851) total time=   0.4s\n",
      "[CV 2/3] END criterion=log_loss, max_depth=15, min_samples_split=15, n_estimators=20, n_jobs=-1, random_state=26; accuracy: (test=0.941) f1: (test=0.897) neg_root_mean_squared_error: (test=-0.243) precision: (test=0.942) recall: (test=0.856) total time=   0.4s\n",
      "[CV 3/3] END criterion=log_loss, max_depth=15, min_samples_split=15, n_estimators=20, n_jobs=-1, random_state=26; accuracy: (test=0.944) f1: (test=0.901) neg_root_mean_squared_error: (test=-0.238) precision: (test=0.948) recall: (test=0.858) total time=   0.4s\n",
      "[CV 1/3] END criterion=log_loss, max_depth=15, min_samples_split=15, n_estimators=30, n_jobs=-1, random_state=26; accuracy: (test=0.943) f1: (test=0.899) neg_root_mean_squared_error: (test=-0.240) precision: (test=0.949) recall: (test=0.854) total time=   0.5s\n",
      "[CV 2/3] END criterion=log_loss, max_depth=15, min_samples_split=15, n_estimators=30, n_jobs=-1, random_state=26; accuracy: (test=0.942) f1: (test=0.897) neg_root_mean_squared_error: (test=-0.242) precision: (test=0.943) recall: (test=0.856) total time=   0.5s\n",
      "[CV 3/3] END criterion=log_loss, max_depth=15, min_samples_split=15, n_estimators=30, n_jobs=-1, random_state=26; accuracy: (test=0.944) f1: (test=0.902) neg_root_mean_squared_error: (test=-0.237) precision: (test=0.949) recall: (test=0.859) total time=   0.5s\n",
      "[CV 1/3] END criterion=log_loss, max_depth=15, min_samples_split=15, n_estimators=40, n_jobs=-1, random_state=26; accuracy: (test=0.943) f1: (test=0.899) neg_root_mean_squared_error: (test=-0.240) precision: (test=0.949) recall: (test=0.853) total time=   0.6s\n",
      "[CV 2/3] END criterion=log_loss, max_depth=15, min_samples_split=15, n_estimators=40, n_jobs=-1, random_state=26; accuracy: (test=0.942) f1: (test=0.898) neg_root_mean_squared_error: (test=-0.241) precision: (test=0.945) recall: (test=0.856) total time=   0.6s\n",
      "[CV 3/3] END criterion=log_loss, max_depth=15, min_samples_split=15, n_estimators=40, n_jobs=-1, random_state=26; accuracy: (test=0.945) f1: (test=0.903) neg_root_mean_squared_error: (test=-0.235) precision: (test=0.950) recall: (test=0.860) total time=   0.6s\n",
      "[CV 1/3] END criterion=log_loss, max_depth=15, min_samples_split=15, n_estimators=50, n_jobs=-1, random_state=26; accuracy: (test=0.944) f1: (test=0.901) neg_root_mean_squared_error: (test=-0.237) precision: (test=0.950) recall: (test=0.856) total time=   0.7s\n",
      "[CV 2/3] END criterion=log_loss, max_depth=15, min_samples_split=15, n_estimators=50, n_jobs=-1, random_state=26; accuracy: (test=0.942) f1: (test=0.898) neg_root_mean_squared_error: (test=-0.242) precision: (test=0.943) recall: (test=0.856) total time=   0.7s\n",
      "[CV 3/3] END criterion=log_loss, max_depth=15, min_samples_split=15, n_estimators=50, n_jobs=-1, random_state=26; accuracy: (test=0.945) f1: (test=0.903) neg_root_mean_squared_error: (test=-0.236) precision: (test=0.950) recall: (test=0.859) total time=   0.7s\n",
      "[CV 1/3] END criterion=log_loss, max_depth=15, min_samples_split=20, n_estimators=20, n_jobs=-1, random_state=26; accuracy: (test=0.941) f1: (test=0.897) neg_root_mean_squared_error: (test=-0.242) precision: (test=0.943) recall: (test=0.855) total time=   0.4s\n",
      "[CV 2/3] END criterion=log_loss, max_depth=15, min_samples_split=20, n_estimators=20, n_jobs=-1, random_state=26; accuracy: (test=0.939) f1: (test=0.894) neg_root_mean_squared_error: (test=-0.246) precision: (test=0.937) recall: (test=0.855) total time=   0.4s\n",
      "[CV 3/3] END criterion=log_loss, max_depth=15, min_samples_split=20, n_estimators=20, n_jobs=-1, random_state=26; accuracy: (test=0.944) f1: (test=0.902) neg_root_mean_squared_error: (test=-0.236) precision: (test=0.948) recall: (test=0.861) total time=   0.4s\n",
      "[CV 1/3] END criterion=log_loss, max_depth=15, min_samples_split=20, n_estimators=30, n_jobs=-1, random_state=26; accuracy: (test=0.942) f1: (test=0.898) neg_root_mean_squared_error: (test=-0.241) precision: (test=0.945) recall: (test=0.855) total time=   0.5s\n",
      "[CV 2/3] END criterion=log_loss, max_depth=15, min_samples_split=20, n_estimators=30, n_jobs=-1, random_state=26; accuracy: (test=0.941) f1: (test=0.897) neg_root_mean_squared_error: (test=-0.243) precision: (test=0.940) recall: (test=0.857) total time=   0.5s\n",
      "[CV 3/3] END criterion=log_loss, max_depth=15, min_samples_split=20, n_estimators=30, n_jobs=-1, random_state=26; accuracy: (test=0.945) f1: (test=0.904) neg_root_mean_squared_error: (test=-0.233) precision: (test=0.951) recall: (test=0.862) total time=   0.5s\n",
      "[CV 1/3] END criterion=log_loss, max_depth=15, min_samples_split=20, n_estimators=40, n_jobs=-1, random_state=26; accuracy: (test=0.942) f1: (test=0.897) neg_root_mean_squared_error: (test=-0.242) precision: (test=0.945) recall: (test=0.855) total time=   0.6s\n",
      "[CV 2/3] END criterion=log_loss, max_depth=15, min_samples_split=20, n_estimators=40, n_jobs=-1, random_state=26; accuracy: (test=0.941) f1: (test=0.897) neg_root_mean_squared_error: (test=-0.242) precision: (test=0.942) recall: (test=0.856) total time=   0.6s\n",
      "[CV 3/3] END criterion=log_loss, max_depth=15, min_samples_split=20, n_estimators=40, n_jobs=-1, random_state=26; accuracy: (test=0.946) f1: (test=0.905) neg_root_mean_squared_error: (test=-0.232) precision: (test=0.953) recall: (test=0.862) total time=   0.6s\n",
      "[CV 1/3] END criterion=log_loss, max_depth=15, min_samples_split=20, n_estimators=50, n_jobs=-1, random_state=26; accuracy: (test=0.942) f1: (test=0.898) neg_root_mean_squared_error: (test=-0.241) precision: (test=0.946) recall: (test=0.855) total time=   0.7s\n",
      "[CV 2/3] END criterion=log_loss, max_depth=15, min_samples_split=20, n_estimators=50, n_jobs=-1, random_state=26; accuracy: (test=0.941) f1: (test=0.896) neg_root_mean_squared_error: (test=-0.243) precision: (test=0.941) recall: (test=0.856) total time=   0.7s\n",
      "[CV 3/3] END criterion=log_loss, max_depth=15, min_samples_split=20, n_estimators=50, n_jobs=-1, random_state=26; accuracy: (test=0.945) f1: (test=0.904) neg_root_mean_squared_error: (test=-0.234) precision: (test=0.952) recall: (test=0.860) total time=   0.7s\n",
      "[CV 1/3] END criterion=log_loss, max_depth=20, min_samples_split=5, n_estimators=20, n_jobs=-1, random_state=26; accuracy: (test=0.947) f1: (test=0.908) neg_root_mean_squared_error: (test=-0.229) precision: (test=0.952) recall: (test=0.867) total time=   0.3s\n",
      "[CV 2/3] END criterion=log_loss, max_depth=20, min_samples_split=5, n_estimators=20, n_jobs=-1, random_state=26; accuracy: (test=0.947) f1: (test=0.908) neg_root_mean_squared_error: (test=-0.230) precision: (test=0.949) recall: (test=0.871) total time=   0.4s\n",
      "[CV 3/3] END criterion=log_loss, max_depth=20, min_samples_split=5, n_estimators=20, n_jobs=-1, random_state=26; accuracy: (test=0.951) f1: (test=0.914) neg_root_mean_squared_error: (test=-0.221) precision: (test=0.957) recall: (test=0.876) total time=   0.4s\n",
      "[CV 1/3] END criterion=log_loss, max_depth=20, min_samples_split=5, n_estimators=30, n_jobs=-1, random_state=26; accuracy: (test=0.949) f1: (test=0.911) neg_root_mean_squared_error: (test=-0.226) precision: (test=0.955) recall: (test=0.870) total time=   0.5s\n",
      "[CV 2/3] END criterion=log_loss, max_depth=20, min_samples_split=5, n_estimators=30, n_jobs=-1, random_state=26; accuracy: (test=0.947) f1: (test=0.908) neg_root_mean_squared_error: (test=-0.230) precision: (test=0.948) recall: (test=0.872) total time=   0.5s\n",
      "[CV 3/3] END criterion=log_loss, max_depth=20, min_samples_split=5, n_estimators=30, n_jobs=-1, random_state=26; accuracy: (test=0.951) f1: (test=0.914) neg_root_mean_squared_error: (test=-0.221) precision: (test=0.959) recall: (test=0.874) total time=   0.5s\n",
      "[CV 1/3] END criterion=log_loss, max_depth=20, min_samples_split=5, n_estimators=40, n_jobs=-1, random_state=26; accuracy: (test=0.949) f1: (test=0.910) neg_root_mean_squared_error: (test=-0.227) precision: (test=0.954) recall: (test=0.870) total time=   0.6s\n",
      "[CV 2/3] END criterion=log_loss, max_depth=20, min_samples_split=5, n_estimators=40, n_jobs=-1, random_state=26; accuracy: (test=0.948) f1: (test=0.909) neg_root_mean_squared_error: (test=-0.229) precision: (test=0.949) recall: (test=0.872) total time=   0.6s\n",
      "[CV 3/3] END criterion=log_loss, max_depth=20, min_samples_split=5, n_estimators=40, n_jobs=-1, random_state=26; accuracy: (test=0.951) f1: (test=0.915) neg_root_mean_squared_error: (test=-0.221) precision: (test=0.959) recall: (test=0.875) total time=   0.6s\n",
      "[CV 1/3] END criterion=log_loss, max_depth=20, min_samples_split=5, n_estimators=50, n_jobs=-1, random_state=26; accuracy: (test=0.949) f1: (test=0.910) neg_root_mean_squared_error: (test=-0.227) precision: (test=0.954) recall: (test=0.870) total time=   0.7s\n",
      "[CV 2/3] END criterion=log_loss, max_depth=20, min_samples_split=5, n_estimators=50, n_jobs=-1, random_state=26; accuracy: (test=0.948) f1: (test=0.910) neg_root_mean_squared_error: (test=-0.228) precision: (test=0.950) recall: (test=0.872) total time=   0.8s\n",
      "[CV 3/3] END criterion=log_loss, max_depth=20, min_samples_split=5, n_estimators=50, n_jobs=-1, random_state=26; accuracy: (test=0.951) f1: (test=0.914) neg_root_mean_squared_error: (test=-0.222) precision: (test=0.957) recall: (test=0.874) total time=   0.8s\n",
      "[CV 1/3] END criterion=log_loss, max_depth=20, min_samples_split=10, n_estimators=20, n_jobs=-1, random_state=26; accuracy: (test=0.947) f1: (test=0.907) neg_root_mean_squared_error: (test=-0.230) precision: (test=0.954) recall: (test=0.866) total time=   0.4s\n",
      "[CV 2/3] END criterion=log_loss, max_depth=20, min_samples_split=10, n_estimators=20, n_jobs=-1, random_state=26; accuracy: (test=0.947) f1: (test=0.907) neg_root_mean_squared_error: (test=-0.230) precision: (test=0.949) recall: (test=0.869) total time=   0.4s\n",
      "[CV 3/3] END criterion=log_loss, max_depth=20, min_samples_split=10, n_estimators=20, n_jobs=-1, random_state=26; accuracy: (test=0.949) f1: (test=0.910) neg_root_mean_squared_error: (test=-0.227) precision: (test=0.955) recall: (test=0.869) total time=   0.4s\n",
      "[CV 1/3] END criterion=log_loss, max_depth=20, min_samples_split=10, n_estimators=30, n_jobs=-1, random_state=26; accuracy: (test=0.948) f1: (test=0.908) neg_root_mean_squared_error: (test=-0.229) precision: (test=0.956) recall: (test=0.865) total time=   0.5s\n",
      "[CV 2/3] END criterion=log_loss, max_depth=20, min_samples_split=10, n_estimators=30, n_jobs=-1, random_state=26; accuracy: (test=0.948) f1: (test=0.910) neg_root_mean_squared_error: (test=-0.227) precision: (test=0.953) recall: (test=0.871) total time=   0.6s\n",
      "[CV 3/3] END criterion=log_loss, max_depth=20, min_samples_split=10, n_estimators=30, n_jobs=-1, random_state=26; accuracy: (test=0.950) f1: (test=0.912) neg_root_mean_squared_error: (test=-0.224) precision: (test=0.958) recall: (test=0.869) total time=   0.6s\n",
      "[CV 1/3] END criterion=log_loss, max_depth=20, min_samples_split=10, n_estimators=40, n_jobs=-1, random_state=26; accuracy: (test=0.948) f1: (test=0.909) neg_root_mean_squared_error: (test=-0.227) precision: (test=0.957) recall: (test=0.866) total time=   0.8s\n",
      "[CV 2/3] END criterion=log_loss, max_depth=20, min_samples_split=10, n_estimators=40, n_jobs=-1, random_state=26; accuracy: (test=0.947) f1: (test=0.908) neg_root_mean_squared_error: (test=-0.229) precision: (test=0.952) recall: (test=0.868) total time=   0.7s\n",
      "[CV 3/3] END criterion=log_loss, max_depth=20, min_samples_split=10, n_estimators=40, n_jobs=-1, random_state=26; accuracy: (test=0.949) f1: (test=0.911) neg_root_mean_squared_error: (test=-0.225) precision: (test=0.958) recall: (test=0.870) total time=   0.7s\n",
      "[CV 1/3] END criterion=log_loss, max_depth=20, min_samples_split=10, n_estimators=50, n_jobs=-1, random_state=26; accuracy: (test=0.948) f1: (test=0.909) neg_root_mean_squared_error: (test=-0.228) precision: (test=0.957) recall: (test=0.866) total time=   0.9s\n",
      "[CV 2/3] END criterion=log_loss, max_depth=20, min_samples_split=10, n_estimators=50, n_jobs=-1, random_state=26; accuracy: (test=0.947) f1: (test=0.908) neg_root_mean_squared_error: (test=-0.229) precision: (test=0.952) recall: (test=0.868) total time=   0.9s\n",
      "[CV 3/3] END criterion=log_loss, max_depth=20, min_samples_split=10, n_estimators=50, n_jobs=-1, random_state=26; accuracy: (test=0.950) f1: (test=0.912) neg_root_mean_squared_error: (test=-0.224) precision: (test=0.958) recall: (test=0.870) total time=   0.9s\n",
      "[CV 1/3] END criterion=log_loss, max_depth=20, min_samples_split=15, n_estimators=20, n_jobs=-1, random_state=26; accuracy: (test=0.947) f1: (test=0.907) neg_root_mean_squared_error: (test=-0.230) precision: (test=0.954) recall: (test=0.864) total time=   0.5s\n",
      "[CV 2/3] END criterion=log_loss, max_depth=20, min_samples_split=15, n_estimators=20, n_jobs=-1, random_state=26; accuracy: (test=0.945) f1: (test=0.904) neg_root_mean_squared_error: (test=-0.234) precision: (test=0.946) recall: (test=0.867) total time=   0.7s\n",
      "[CV 3/3] END criterion=log_loss, max_depth=20, min_samples_split=15, n_estimators=20, n_jobs=-1, random_state=26; accuracy: (test=0.950) f1: (test=0.912) neg_root_mean_squared_error: (test=-0.224) precision: (test=0.957) recall: (test=0.871) total time=   0.6s\n",
      "[CV 1/3] END criterion=log_loss, max_depth=20, min_samples_split=15, n_estimators=30, n_jobs=-1, random_state=26; accuracy: (test=0.947) f1: (test=0.907) neg_root_mean_squared_error: (test=-0.229) precision: (test=0.956) recall: (test=0.864) total time=   0.6s\n",
      "[CV 2/3] END criterion=log_loss, max_depth=20, min_samples_split=15, n_estimators=30, n_jobs=-1, random_state=26; accuracy: (test=0.947) f1: (test=0.907) neg_root_mean_squared_error: (test=-0.231) precision: (test=0.949) recall: (test=0.869) total time=   0.7s\n",
      "[CV 3/3] END criterion=log_loss, max_depth=20, min_samples_split=15, n_estimators=30, n_jobs=-1, random_state=26; accuracy: (test=0.950) f1: (test=0.912) neg_root_mean_squared_error: (test=-0.224) precision: (test=0.959) recall: (test=0.870) total time=   0.7s\n",
      "[CV 1/3] END criterion=log_loss, max_depth=20, min_samples_split=15, n_estimators=40, n_jobs=-1, random_state=26; accuracy: (test=0.947) f1: (test=0.908) neg_root_mean_squared_error: (test=-0.229) precision: (test=0.957) recall: (test=0.863) total time=   0.8s\n",
      "[CV 2/3] END criterion=log_loss, max_depth=20, min_samples_split=15, n_estimators=40, n_jobs=-1, random_state=26; accuracy: (test=0.947) f1: (test=0.907) neg_root_mean_squared_error: (test=-0.231) precision: (test=0.949) recall: (test=0.868) total time=   1.0s\n",
      "[CV 3/3] END criterion=log_loss, max_depth=20, min_samples_split=15, n_estimators=40, n_jobs=-1, random_state=26; accuracy: (test=0.950) f1: (test=0.912) neg_root_mean_squared_error: (test=-0.224) precision: (test=0.960) recall: (test=0.868) total time=   0.8s\n",
      "[CV 1/3] END criterion=log_loss, max_depth=20, min_samples_split=15, n_estimators=50, n_jobs=-1, random_state=26; accuracy: (test=0.947) f1: (test=0.907) neg_root_mean_squared_error: (test=-0.230) precision: (test=0.957) recall: (test=0.862) total time=   0.9s\n",
      "[CV 2/3] END criterion=log_loss, max_depth=20, min_samples_split=15, n_estimators=50, n_jobs=-1, random_state=26; accuracy: (test=0.947) f1: (test=0.907) neg_root_mean_squared_error: (test=-0.231) precision: (test=0.949) recall: (test=0.868) total time=   0.8s\n",
      "[CV 3/3] END criterion=log_loss, max_depth=20, min_samples_split=15, n_estimators=50, n_jobs=-1, random_state=26; accuracy: (test=0.949) f1: (test=0.911) neg_root_mean_squared_error: (test=-0.225) precision: (test=0.959) recall: (test=0.868) total time=   0.8s\n",
      "[CV 1/3] END criterion=log_loss, max_depth=20, min_samples_split=20, n_estimators=20, n_jobs=-1, random_state=26; accuracy: (test=0.945) f1: (test=0.904) neg_root_mean_squared_error: (test=-0.234) precision: (test=0.953) recall: (test=0.860) total time=   0.4s\n",
      "[CV 2/3] END criterion=log_loss, max_depth=20, min_samples_split=20, n_estimators=20, n_jobs=-1, random_state=26; accuracy: (test=0.945) f1: (test=0.904) neg_root_mean_squared_error: (test=-0.234) precision: (test=0.948) recall: (test=0.864) total time=   0.5s\n",
      "[CV 3/3] END criterion=log_loss, max_depth=20, min_samples_split=20, n_estimators=20, n_jobs=-1, random_state=26; accuracy: (test=0.946) f1: (test=0.906) neg_root_mean_squared_error: (test=-0.232) precision: (test=0.948) recall: (test=0.868) total time=   0.4s\n",
      "[CV 1/3] END criterion=log_loss, max_depth=20, min_samples_split=20, n_estimators=30, n_jobs=-1, random_state=26; accuracy: (test=0.946) f1: (test=0.904) neg_root_mean_squared_error: (test=-0.233) precision: (test=0.952) recall: (test=0.861) total time=   0.6s\n",
      "[CV 2/3] END criterion=log_loss, max_depth=20, min_samples_split=20, n_estimators=30, n_jobs=-1, random_state=26; accuracy: (test=0.946) f1: (test=0.905) neg_root_mean_squared_error: (test=-0.233) precision: (test=0.949) recall: (test=0.865) total time=   0.6s\n",
      "[CV 3/3] END criterion=log_loss, max_depth=20, min_samples_split=20, n_estimators=30, n_jobs=-1, random_state=26; accuracy: (test=0.948) f1: (test=0.909) neg_root_mean_squared_error: (test=-0.228) precision: (test=0.953) recall: (test=0.869) total time=   0.5s\n",
      "[CV 1/3] END criterion=log_loss, max_depth=20, min_samples_split=20, n_estimators=40, n_jobs=-1, random_state=26; accuracy: (test=0.945) f1: (test=0.904) neg_root_mean_squared_error: (test=-0.233) precision: (test=0.953) recall: (test=0.860) total time=   0.6s\n",
      "[CV 2/3] END criterion=log_loss, max_depth=20, min_samples_split=20, n_estimators=40, n_jobs=-1, random_state=26; accuracy: (test=0.945) f1: (test=0.904) neg_root_mean_squared_error: (test=-0.234) precision: (test=0.948) recall: (test=0.863) total time=   0.7s\n",
      "[CV 3/3] END criterion=log_loss, max_depth=20, min_samples_split=20, n_estimators=40, n_jobs=-1, random_state=26; accuracy: (test=0.948) f1: (test=0.909) neg_root_mean_squared_error: (test=-0.228) precision: (test=0.954) recall: (test=0.868) total time=   0.7s\n",
      "[CV 1/3] END criterion=log_loss, max_depth=20, min_samples_split=20, n_estimators=50, n_jobs=-1, random_state=26; accuracy: (test=0.945) f1: (test=0.903) neg_root_mean_squared_error: (test=-0.234) precision: (test=0.952) recall: (test=0.860) total time=   0.7s\n",
      "[CV 2/3] END criterion=log_loss, max_depth=20, min_samples_split=20, n_estimators=50, n_jobs=-1, random_state=26; accuracy: (test=0.945) f1: (test=0.904) neg_root_mean_squared_error: (test=-0.234) precision: (test=0.948) recall: (test=0.863) total time=   0.8s\n",
      "[CV 3/3] END criterion=log_loss, max_depth=20, min_samples_split=20, n_estimators=50, n_jobs=-1, random_state=26; accuracy: (test=0.948) f1: (test=0.909) neg_root_mean_squared_error: (test=-0.228) precision: (test=0.953) recall: (test=0.868) total time=   0.9s\n"
     ]
    },
    {
     "data": {
      "text/html": [
       "<style>#sk-container-id-1 {color: black;background-color: white;}#sk-container-id-1 pre{padding: 0;}#sk-container-id-1 div.sk-toggleable {background-color: white;}#sk-container-id-1 label.sk-toggleable__label {cursor: pointer;display: block;width: 100%;margin-bottom: 0;padding: 0.3em;box-sizing: border-box;text-align: center;}#sk-container-id-1 label.sk-toggleable__label-arrow:before {content: \"▸\";float: left;margin-right: 0.25em;color: #696969;}#sk-container-id-1 label.sk-toggleable__label-arrow:hover:before {color: black;}#sk-container-id-1 div.sk-estimator:hover label.sk-toggleable__label-arrow:before {color: black;}#sk-container-id-1 div.sk-toggleable__content {max-height: 0;max-width: 0;overflow: hidden;text-align: left;background-color: #f0f8ff;}#sk-container-id-1 div.sk-toggleable__content pre {margin: 0.2em;color: black;border-radius: 0.25em;background-color: #f0f8ff;}#sk-container-id-1 input.sk-toggleable__control:checked~div.sk-toggleable__content {max-height: 200px;max-width: 100%;overflow: auto;}#sk-container-id-1 input.sk-toggleable__control:checked~label.sk-toggleable__label-arrow:before {content: \"▾\";}#sk-container-id-1 div.sk-estimator input.sk-toggleable__control:checked~label.sk-toggleable__label {background-color: #d4ebff;}#sk-container-id-1 div.sk-label input.sk-toggleable__control:checked~label.sk-toggleable__label {background-color: #d4ebff;}#sk-container-id-1 input.sk-hidden--visually {border: 0;clip: rect(1px 1px 1px 1px);clip: rect(1px, 1px, 1px, 1px);height: 1px;margin: -1px;overflow: hidden;padding: 0;position: absolute;width: 1px;}#sk-container-id-1 div.sk-estimator {font-family: monospace;background-color: #f0f8ff;border: 1px dotted black;border-radius: 0.25em;box-sizing: border-box;margin-bottom: 0.5em;}#sk-container-id-1 div.sk-estimator:hover {background-color: #d4ebff;}#sk-container-id-1 div.sk-parallel-item::after {content: \"\";width: 100%;border-bottom: 1px solid gray;flex-grow: 1;}#sk-container-id-1 div.sk-label:hover label.sk-toggleable__label {background-color: #d4ebff;}#sk-container-id-1 div.sk-serial::before {content: \"\";position: absolute;border-left: 1px solid gray;box-sizing: border-box;top: 0;bottom: 0;left: 50%;z-index: 0;}#sk-container-id-1 div.sk-serial {display: flex;flex-direction: column;align-items: center;background-color: white;padding-right: 0.2em;padding-left: 0.2em;position: relative;}#sk-container-id-1 div.sk-item {position: relative;z-index: 1;}#sk-container-id-1 div.sk-parallel {display: flex;align-items: stretch;justify-content: center;background-color: white;position: relative;}#sk-container-id-1 div.sk-item::before, #sk-container-id-1 div.sk-parallel-item::before {content: \"\";position: absolute;border-left: 1px solid gray;box-sizing: border-box;top: 0;bottom: 0;left: 50%;z-index: -1;}#sk-container-id-1 div.sk-parallel-item {display: flex;flex-direction: column;z-index: 1;position: relative;background-color: white;}#sk-container-id-1 div.sk-parallel-item:first-child::after {align-self: flex-end;width: 50%;}#sk-container-id-1 div.sk-parallel-item:last-child::after {align-self: flex-start;width: 50%;}#sk-container-id-1 div.sk-parallel-item:only-child::after {width: 0;}#sk-container-id-1 div.sk-dashed-wrapped {border: 1px dashed gray;margin: 0 0.4em 0.5em 0.4em;box-sizing: border-box;padding-bottom: 0.4em;background-color: white;}#sk-container-id-1 div.sk-label label {font-family: monospace;font-weight: bold;display: inline-block;line-height: 1.2em;}#sk-container-id-1 div.sk-label-container {text-align: center;}#sk-container-id-1 div.sk-container {/* jupyter's `normalize.less` sets `[hidden] { display: none; }` but bootstrap.min.css set `[hidden] { display: none !important; }` so we also need the `!important` here to be able to override the default hidden behavior on the sphinx rendered scikit-learn.org. See: https://github.com/scikit-learn/scikit-learn/issues/21755 */display: inline-block !important;position: relative;}#sk-container-id-1 div.sk-text-repr-fallback {display: none;}</style><div id=\"sk-container-id-1\" class=\"sk-top-container\"><div class=\"sk-text-repr-fallback\"><pre>GridSearchCV(cv=3, estimator=RandomForestClassifier(),\n",
       "             param_grid={&#x27;criterion&#x27;: [&#x27;entropy&#x27;, &#x27;gini&#x27;, &#x27;log_loss&#x27;],\n",
       "                         &#x27;max_depth&#x27;: [5, 10, 15, 20],\n",
       "                         &#x27;min_samples_split&#x27;: [5, 10, 15, 20],\n",
       "                         &#x27;n_estimators&#x27;: [20, 30, 40, 50], &#x27;n_jobs&#x27;: [-1],\n",
       "                         &#x27;random_state&#x27;: [26]},\n",
       "             refit=&#x27;f1&#x27;,\n",
       "             scoring=[&#x27;f1&#x27;, &#x27;precision&#x27;, &#x27;recall&#x27;, &#x27;accuracy&#x27;,\n",
       "                      &#x27;neg_root_mean_squared_error&#x27;],\n",
       "             verbose=4)</pre><b>In a Jupyter environment, please rerun this cell to show the HTML representation or trust the notebook. <br />On GitHub, the HTML representation is unable to render, please try loading this page with nbviewer.org.</b></div><div class=\"sk-container\" hidden><div class=\"sk-item sk-dashed-wrapped\"><div class=\"sk-label-container\"><div class=\"sk-label sk-toggleable\"><input class=\"sk-toggleable__control sk-hidden--visually\" id=\"sk-estimator-id-1\" type=\"checkbox\" ><label for=\"sk-estimator-id-1\" class=\"sk-toggleable__label sk-toggleable__label-arrow\">GridSearchCV</label><div class=\"sk-toggleable__content\"><pre>GridSearchCV(cv=3, estimator=RandomForestClassifier(),\n",
       "             param_grid={&#x27;criterion&#x27;: [&#x27;entropy&#x27;, &#x27;gini&#x27;, &#x27;log_loss&#x27;],\n",
       "                         &#x27;max_depth&#x27;: [5, 10, 15, 20],\n",
       "                         &#x27;min_samples_split&#x27;: [5, 10, 15, 20],\n",
       "                         &#x27;n_estimators&#x27;: [20, 30, 40, 50], &#x27;n_jobs&#x27;: [-1],\n",
       "                         &#x27;random_state&#x27;: [26]},\n",
       "             refit=&#x27;f1&#x27;,\n",
       "             scoring=[&#x27;f1&#x27;, &#x27;precision&#x27;, &#x27;recall&#x27;, &#x27;accuracy&#x27;,\n",
       "                      &#x27;neg_root_mean_squared_error&#x27;],\n",
       "             verbose=4)</pre></div></div></div><div class=\"sk-parallel\"><div class=\"sk-parallel-item\"><div class=\"sk-item\"><div class=\"sk-label-container\"><div class=\"sk-label sk-toggleable\"><input class=\"sk-toggleable__control sk-hidden--visually\" id=\"sk-estimator-id-2\" type=\"checkbox\" ><label for=\"sk-estimator-id-2\" class=\"sk-toggleable__label sk-toggleable__label-arrow\">estimator: RandomForestClassifier</label><div class=\"sk-toggleable__content\"><pre>RandomForestClassifier()</pre></div></div></div><div class=\"sk-serial\"><div class=\"sk-item\"><div class=\"sk-estimator sk-toggleable\"><input class=\"sk-toggleable__control sk-hidden--visually\" id=\"sk-estimator-id-3\" type=\"checkbox\" ><label for=\"sk-estimator-id-3\" class=\"sk-toggleable__label sk-toggleable__label-arrow\">RandomForestClassifier</label><div class=\"sk-toggleable__content\"><pre>RandomForestClassifier()</pre></div></div></div></div></div></div></div></div></div></div>"
      ],
      "text/plain": [
       "GridSearchCV(cv=3, estimator=RandomForestClassifier(),\n",
       "             param_grid={'criterion': ['entropy', 'gini', 'log_loss'],\n",
       "                         'max_depth': [5, 10, 15, 20],\n",
       "                         'min_samples_split': [5, 10, 15, 20],\n",
       "                         'n_estimators': [20, 30, 40, 50], 'n_jobs': [-1],\n",
       "                         'random_state': [26]},\n",
       "             refit='f1',\n",
       "             scoring=['f1', 'precision', 'recall', 'accuracy',\n",
       "                      'neg_root_mean_squared_error'],\n",
       "             verbose=4)"
      ]
     },
     "execution_count": 18,
     "metadata": {},
     "output_type": "execute_result"
    }
   ],
   "source": [
    "GS.fit(X1_train, y1_train)"
   ]
  },
  {
   "cell_type": "code",
   "execution_count": 19,
   "metadata": {},
   "outputs": [
    {
     "name": "stdout",
     "output_type": "stream",
     "text": [
      "0.9116682706357814\n",
      "{'criterion': 'gini', 'max_depth': 20, 'min_samples_split': 5, 'n_estimators': 40, 'n_jobs': -1, 'random_state': 26}\n"
     ]
    }
   ],
   "source": [
    "# Printing the best results\n",
    "print(GS.best_score_)\n",
    "print(GS.best_params_)"
   ]
  },
  {
   "cell_type": "code",
   "execution_count": 20,
   "metadata": {},
   "outputs": [],
   "source": [
    "parameters = GS.best_params_\n",
    "models2 = [RandomForestClassifier(criterion=parameters['criterion'], \n",
    "                                  max_depth=parameters['max_depth'], \n",
    "                                  min_samples_split=parameters['min_samples_split'], \n",
    "                                  n_estimators=parameters['n_estimators'], \n",
    "                                  n_jobs=-1, \n",
    "                                  random_state=26)]"
   ]
  },
  {
   "cell_type": "code",
   "execution_count": 21,
   "metadata": {},
   "outputs": [
    {
     "name": "stdout",
     "output_type": "stream",
     "text": [
      "Accuracy of the model (training) RandomForestClassifier(max_depth=20, min_samples_split=5, n_estimators=40,\n",
      "                       n_jobs=-1, random_state=26) =  0.9808245857738189\n",
      "Accuracy of the model (testing) RandomForestClassifier(max_depth=20, min_samples_split=5, n_estimators=40,\n",
      "                       n_jobs=-1, random_state=26) =  0.9522854851643946\n",
      "F1 score of the model (training) RandomForestClassifier(max_depth=20, min_samples_split=5, n_estimators=40,\n",
      "                       n_jobs=-1, random_state=26) =  0.9672975943338625\n",
      "F1 score of the model (testing) RandomForestClassifier(max_depth=20, min_samples_split=5, n_estimators=40,\n",
      "                       n_jobs=-1, random_state=26) =  0.9160888471030674\n",
      "Mean Absolute Error of the model (training) RandomForestClassifier(max_depth=20, min_samples_split=5, n_estimators=40,\n",
      "                       n_jobs=-1, random_state=26) =  0.0191754142261811\n",
      "Mean Absolute Error of the model (testing) RandomForestClassifier(max_depth=20, min_samples_split=5, n_estimators=40,\n",
      "                       n_jobs=-1, random_state=26) =  0.04771451483560545\n",
      "Mean Squared Error of the model (training) RandomForestClassifier(max_depth=20, min_samples_split=5, n_estimators=40,\n",
      "                       n_jobs=-1, random_state=26) =  0.0191754142261811\n",
      "Mean Squared Error of the model (testing) RandomForestClassifier(max_depth=20, min_samples_split=5, n_estimators=40,\n",
      "                       n_jobs=-1, random_state=26) =  0.04771451483560545\n",
      "Precision of the model (training) RandomForestClassifier(max_depth=20, min_samples_split=5, n_estimators=40,\n",
      "                       n_jobs=-1, random_state=26) =  0.9866474017238802\n",
      "Precision of the model (testing) RandomForestClassifier(max_depth=20, min_samples_split=5, n_estimators=40,\n",
      "                       n_jobs=-1, random_state=26) =  0.9582052858020897\n",
      "Recall of the model (training) RandomForestClassifier(max_depth=20, min_samples_split=5, n_estimators=40,\n",
      "                       n_jobs=-1, random_state=26) =  0.9486921529175051\n",
      "Recall of the model (testing) RandomForestClassifier(max_depth=20, min_samples_split=5, n_estimators=40,\n",
      "                       n_jobs=-1, random_state=26) =  0.8775188562422604 \n",
      "\n"
     ]
    },
    {
     "data": {
      "image/png": "[encoded data removed]",
      "text/plain": [
       "<Figure size 640x480 with 2 Axes>"
      ]
     },
     "metadata": {},
     "output_type": "display_data"
    }
   ],
   "source": [
    "# Model testing\n",
    "for model in models2:\n",
    "    model.fit(X1_train, y1_train)\n",
    "    test_data_prediction = model.predict(X1_test)\n",
    "    train_data_prediction = model.predict(X1_train)\n",
    "    mae = mean_absolute_error(y1_train, train_data_prediction)\n",
    "    mae2 = mean_absolute_error(y1_test, test_data_prediction)\n",
    "    mse = mean_squared_error(y1_train, train_data_prediction)\n",
    "    mse2 = mean_squared_error(y1_test, test_data_prediction)\n",
    "    precision = precision_score(y1_train, train_data_prediction)\n",
    "    precision2 = precision_score(y1_test, test_data_prediction)\n",
    "    recall = recall_score(y1_train, train_data_prediction)\n",
    "    recall2 = recall_score(y1_test, test_data_prediction)\n",
    "    #r2 = r2_score(y1_test, test_data_prediction)\n",
    "    f1_1 = f1_score(y1_train, train_data_prediction)\n",
    "    f1_2 = f1_score(y1_test, test_data_prediction)\n",
    "    accuracy = accuracy_score(y1_train, train_data_prediction)\n",
    "    accuracy2 = accuracy_score(y1_test, test_data_prediction)\n",
    "    print('Accuracy of the model (training)', model, '= ', accuracy)\n",
    "    print('Accuracy of the model (testing)', model, '= ', accuracy2)\n",
    "    print('F1 score of the model (training)', model, '= ', f1_1)\n",
    "    print('F1 score of the model (testing)', model, '= ', f1_2)\n",
    "    print('Mean Absolute Error of the model (training)', model, '= ', mae)\n",
    "    print('Mean Absolute Error of the model (testing)', model, '= ', mae2)\n",
    "    print('Mean Squared Error of the model (training)', model, '= ', mse)\n",
    "    print('Mean Squared Error of the model (testing)', model, '= ', mse2)\n",
    "    print('Precision of the model (training)', model, '= ', precision)\n",
    "    print('Precision of the model (testing)', model, '= ', precision2)\n",
    "    print('Recall of the model (training)', model, '= ', recall)\n",
    "    print('Recall of the model (testing)', model, '= ', recall2, '\\n')\n",
    "\n",
    "    cf_matrix =confusion_matrix(y1_test, test_data_prediction)\n",
    "\n",
    "    group_names = ['True Neg','False Pos','False Neg','True Pos']\n",
    "    group_counts = [\"{0:0.0f}\".format(value) for value in cf_matrix.flatten()]\n",
    "    group_percentages = [\"{0:.2%}\".format(value) for value in cf_matrix.flatten()/np.sum(cf_matrix)]\n",
    "    labels = [f\"{v1}\\n{v2}\\n{v3}\" for v1, v2, v3 in \n",
    "              zip(group_names,group_counts,group_percentages)]\n",
    "    labels = np.asarray(labels).reshape(2,2)\n",
    "    sns.heatmap(cf_matrix, annot=labels, fmt='', cmap='Blues')\n"
   ]
  },
  {
   "attachments": {},
   "cell_type": "markdown",
   "metadata": {},
   "source": [
    "## Experiment 3: Using the same model with features selection"
   ]
  },
  {
   "cell_type": "code",
   "execution_count": 22,
   "metadata": {},
   "outputs": [
    {
     "name": "stdout",
     "output_type": "stream",
     "text": [
      "Index(['Year', 'Amount', 'Use Chip', 'Merchant Name', 'Zip', 'MCC',\n",
      "       'Merchant State Code', 'Merchant City Code'],\n",
      "      dtype='object')\n"
     ]
    }
   ],
   "source": [
    "# Creating the feature selection through weights\n",
    "sel = SelectFromModel(RandomForestClassifier(n_jobs=-1, random_state=26))\n",
    "sel.fit(X1_train, y1_train)\n",
    "\n",
    "selected_feat= X1_train.columns[(sel.get_support())]\n",
    "\n",
    "print(selected_feat)"
   ]
  },
  {
   "cell_type": "code",
   "execution_count": 23,
   "metadata": {},
   "outputs": [],
   "source": [
    "# Recreating the dataset split with the features selection applied.\n",
    "y3 = df['Is Fraud?']\n",
    "X3 = df[selected_feat]\n",
    "\n",
    "X3_train, X3_test, y3_train, y3_test = train_test_split(X3, y3, test_size=0.30, random_state=42)"
   ]
  },
  {
   "cell_type": "code",
   "execution_count": 24,
   "metadata": {},
   "outputs": [],
   "source": [
    "models3 = [RandomForestClassifier(n_jobs=-1, random_state=26)]"
   ]
  },
  {
   "cell_type": "code",
   "execution_count": 25,
   "metadata": {},
   "outputs": [
    {
     "name": "stdout",
     "output_type": "stream",
     "text": [
      "Accuracy of the model (training) RandomForestClassifier(n_jobs=-1, random_state=26) =  0.9999856793022956\n",
      "Accuracy of the model (testing) RandomForestClassifier(n_jobs=-1, random_state=26) =  0.9558273188986902\n",
      "F1 score of the model (training) RandomForestClassifier(n_jobs=-1, random_state=26) =  0.9999760461829592\n",
      "F1 score of the model (testing) RandomForestClassifier(n_jobs=-1, random_state=26) =  0.9221436984687869\n",
      "Mean Absolute Error of the model (training) RandomForestClassifier(n_jobs=-1, random_state=26) =  1.4320697704392159e-05\n",
      "Mean Absolute Error of the model (testing) RandomForestClassifier(n_jobs=-1, random_state=26) =  0.04417268110130981\n",
      "Mean Squared Error of the model (training) RandomForestClassifier(n_jobs=-1, random_state=26) =  1.4320697704392159e-05\n",
      "Mean Squared Error of the model (testing) RandomForestClassifier(n_jobs=-1, random_state=26) =  0.04417268110130981\n",
      "Precision of the model (training) RandomForestClassifier(n_jobs=-1, random_state=26) =  1.0\n",
      "Precision of the model (testing) RandomForestClassifier(n_jobs=-1, random_state=26) =  0.9669013214770903\n",
      "Recall of the model (training) RandomForestClassifier(n_jobs=-1, random_state=26) =  0.9999520935134617\n",
      "Recall of the model (testing) RandomForestClassifier(n_jobs=-1, random_state=26) =  0.8813463919846899 \n",
      "\n"
     ]
    },
    {
     "data": {
      "image/png": "[encoded data removed]",
      "text/plain": [
       "<Figure size 640x480 with 2 Axes>"
      ]
     },
     "metadata": {},
     "output_type": "display_data"
    }
   ],
   "source": [
    "# Testing the model using different criterion\n",
    "# models = [RandomForestClassifier(criterion='gini', n_jobs=-1), RandomForestClassifier(criterion='entrophy', n_jobs=-1), RandomForestClassifier(criterion='log_loss', n_jobs=-1)]\n",
    "for model in models3:\n",
    "    model.fit(X3_train, y3_train)\n",
    "    test_data_prediction = model.predict(X3_test)\n",
    "    train_data_prediction = model.predict(X3_train)\n",
    "    mae = mean_absolute_error(y3_train, train_data_prediction)\n",
    "    mae2 = mean_absolute_error(y3_test, test_data_prediction)\n",
    "    mse = mean_squared_error(y3_train, train_data_prediction)\n",
    "    mse2 = mean_squared_error(y3_test, test_data_prediction)\n",
    "    precision = precision_score(y3_train, train_data_prediction)\n",
    "    precision2 = precision_score(y3_test, test_data_prediction)\n",
    "    recall = recall_score(y3_train, train_data_prediction)\n",
    "    recall2 = recall_score(y3_test, test_data_prediction)\n",
    "    #r2 = r2_score(y1_test, test_data_prediction)\n",
    "    f1_1 = f1_score(y3_train, train_data_prediction)\n",
    "    f1_2 = f1_score(y3_test, test_data_prediction)\n",
    "    accuracy = accuracy_score(y3_train, train_data_prediction)\n",
    "    accuracy2 = accuracy_score(y3_test, test_data_prediction)\n",
    "    print('Accuracy of the model (training)', model, '= ', accuracy)\n",
    "    print('Accuracy of the model (testing)', model, '= ', accuracy2)\n",
    "    print('F1 score of the model (training)', model, '= ', f1_1)\n",
    "    print('F1 score of the model (testing)', model, '= ', f1_2)\n",
    "    print('Mean Absolute Error of the model (training)', model, '= ', mae)\n",
    "    print('Mean Absolute Error of the model (testing)', model, '= ', mae2)\n",
    "    print('Mean Squared Error of the model (training)', model, '= ', mse)\n",
    "    print('Mean Squared Error of the model (testing)', model, '= ', mse2)\n",
    "    print('Precision of the model (training)', model, '= ', precision)\n",
    "    print('Precision of the model (testing)', model, '= ', precision2)\n",
    "    print('Recall of the model (training)', model, '= ', recall)\n",
    "    print('Recall of the model (testing)', model, '= ', recall2, '\\n')\n",
    "\n",
    "    cf_matrix =confusion_matrix(y3_test, test_data_prediction)\n",
    "\n",
    "    group_names = ['True Neg','False Pos','False Neg','True Pos']\n",
    "    group_counts = [\"{0:0.0f}\".format(value) for value in cf_matrix.flatten()]\n",
    "    group_percentages = [\"{0:.2%}\".format(value) for value in cf_matrix.flatten()/np.sum(cf_matrix)]\n",
    "    labels = [f\"{v1}\\n{v2}\\n{v3}\" for v1, v2, v3 in \n",
    "              zip(group_names,group_counts,group_percentages)]\n",
    "    labels = np.asarray(labels).reshape(2,2)\n",
    "    sns.heatmap(cf_matrix, annot=labels, fmt='', cmap='Blues')"
   ]
  },
  {
   "attachments": {},
   "cell_type": "markdown",
   "metadata": {},
   "source": [
    "# Archel Olazabal | Logistic Regression"
   ]
  },
  {
   "attachments": {},
   "cell_type": "markdown",
   "metadata": {},
   "source": [
    "## Experiment 1: Baseline Run"
   ]
  },
  {
   "cell_type": "code",
   "execution_count": 26,
   "metadata": {},
   "outputs": [],
   "source": [
    "# Creating the model\n",
    "models = [LogisticRegression(max_iter = 130, n_jobs=-1, random_state=26)]"
   ]
  },
  {
   "cell_type": "code",
   "execution_count": 27,
   "metadata": {},
   "outputs": [
    {
     "name": "stdout",
     "output_type": "stream",
     "text": [
      "Accuracy of the model (training) LogisticRegression(max_iter=130, n_jobs=-1, random_state=26) =  0.5214882069054404\n",
      "Accuracy of the model (testing) LogisticRegression(max_iter=130, n_jobs=-1, random_state=26) =  0.5186113338679498\n",
      "F1 score of the model (training) LogisticRegression(max_iter=130, n_jobs=-1, random_state=26) =  0.38213757396449705\n",
      "F1 score of the model (testing) LogisticRegression(max_iter=130, n_jobs=-1, random_state=26) =  0.378553250226459\n",
      "Mean Absolute Error of the model (training) LogisticRegression(max_iter=130, n_jobs=-1, random_state=26) =  0.47851179309455955\n",
      "Mean Absolute Error of the model (testing) LogisticRegression(max_iter=130, n_jobs=-1, random_state=26) =  0.4813886661320503\n",
      "Mean Squared Error of the model (training) LogisticRegression(max_iter=130, n_jobs=-1, random_state=26) =  0.47851179309455955\n",
      "Mean Squared Error of the model (testing) LogisticRegression(max_iter=130, n_jobs=-1, random_state=26) =  0.4813886661320503\n",
      "Precision of the model (training) LogisticRegression(max_iter=130, n_jobs=-1, random_state=26) =  0.31117870264410047\n",
      "Precision of the model (testing) LogisticRegression(max_iter=130, n_jobs=-1, random_state=26) =  0.30685314685314685\n",
      "Recall of the model (training) LogisticRegression(max_iter=130, n_jobs=-1, random_state=26) =  0.49501772540001915\n",
      "Recall of the model (testing) LogisticRegression(max_iter=130, n_jobs=-1, random_state=26) =  0.49397725993470676 \n",
      "\n"
     ]
    },
    {
     "data": {
      "image/png": "[encoded data removed]",
      "text/plain": [
       "<Figure size 640x480 with 2 Axes>"
      ]
     },
     "metadata": {},
     "output_type": "display_data"
    }
   ],
   "source": [
    "# Fitting the model and calculating the performance metrics\n",
    "for model in models:\n",
    "    model.fit(X1_train, y1_train)\n",
    "    test_data_prediction = model.predict(X1_test)\n",
    "    train_data_prediction = model.predict(X1_train)\n",
    "    mae = mean_absolute_error(y1_train, train_data_prediction)\n",
    "    mae2 = mean_absolute_error(y1_test, test_data_prediction)\n",
    "    mse = mean_squared_error(y1_train, train_data_prediction)\n",
    "    mse2 = mean_squared_error(y1_test, test_data_prediction)\n",
    "    precision = precision_score(y1_train, train_data_prediction)\n",
    "    precision2 = precision_score(y1_test, test_data_prediction)\n",
    "    recall = recall_score(y1_train, train_data_prediction)\n",
    "    recall2 = recall_score(y1_test, test_data_prediction)\n",
    "    #r2 = r2_score(y1_test, test_data_prediction)\n",
    "    f1_1 = f1_score(y1_train, train_data_prediction)\n",
    "    f1_2 = f1_score(y1_test, test_data_prediction)\n",
    "    accuracy = accuracy_score(y1_train, train_data_prediction)\n",
    "    accuracy2 = accuracy_score(y1_test, test_data_prediction)\n",
    "    print('Accuracy of the model (training)', model, '= ', accuracy)\n",
    "    print('Accuracy of the model (testing)', model, '= ', accuracy2)\n",
    "    print('F1 score of the model (training)', model, '= ', f1_1)\n",
    "    print('F1 score of the model (testing)', model, '= ', f1_2)\n",
    "    print('Mean Absolute Error of the model (training)', model, '= ', mae)\n",
    "    print('Mean Absolute Error of the model (testing)', model, '= ', mae2)\n",
    "    print('Mean Squared Error of the model (training)', model, '= ', mse)\n",
    "    print('Mean Squared Error of the model (testing)', model, '= ', mse2)\n",
    "    print('Precision of the model (training)', model, '= ', precision)\n",
    "    print('Precision of the model (testing)', model, '= ', precision2)\n",
    "    print('Recall of the model (training)', model, '= ', recall)\n",
    "    print('Recall of the model (testing)', model, '= ', recall2, '\\n')\n",
    "\n",
    "    cf_matrix =confusion_matrix(y1_test, test_data_prediction)\n",
    "\n",
    "    group_names = ['True Neg','False Pos','False Neg','True Pos']\n",
    "    group_counts = [\"{0:0.0f}\".format(value) for value in cf_matrix.flatten()]\n",
    "    group_percentages = [\"{0:.2%}\".format(value) for value in cf_matrix.flatten()/np.sum(cf_matrix)]\n",
    "    labels = [f\"{v1}\\n{v2}\\n{v3}\" for v1, v2, v3 in \n",
    "            zip(group_names,group_counts,group_percentages)]\n",
    "    labels = np.asarray(labels).reshape(2,2)\n",
    "    sns.heatmap(cf_matrix, annot=labels, fmt='', cmap='Blues')"
   ]
  },
  {
   "attachments": {},
   "cell_type": "markdown",
   "metadata": {},
   "source": [
    "## Experiment 2: Hyperparameter Tunning"
   ]
  },
  {
   "attachments": {},
   "cell_type": "markdown",
   "metadata": {},
   "source": [
    "### For this specific experiment tuning was not successful since there is not change between Experiment 1 and Experiment 2."
   ]
  },
  {
   "cell_type": "code",
   "execution_count": 28,
   "metadata": {},
   "outputs": [],
   "source": [
    "# Creating a dictionary for parameters to be choosen\n",
    "search_space = {\n",
    "    \"penalty\" : ['l2', 'none'],\n",
    "    \"fit_intercept\" : [True, False],\n",
    "    \"random_state\" : [26],\n",
    "    \"solver\" : ['newton-cg', 'sag', 'saga', 'lbfgs', 'liblinear'],\n",
    "    \"max_iter\" : [130, 140, 150],\n",
    "    \"n_jobs\" : [-1]\n",
    "\n",
    "# This creates the tester for hyperparameters.\n",
    "# The refit parameters is the metric that the GridSearchCV determines the model performance.\n",
    "}\n",
    "GS = GridSearchCV(\n",
    "    estimator = LogisticRegression(),\n",
    "    param_grid = search_space,\n",
    "    scoring = [\"f1\", \"precision\", \"recall\", \"accuracy\", \"neg_root_mean_squared_error\"],\n",
    "    refit = \"f1\",\n",
    "    cv=3,\n",
    "    verbose=4,\n",
    ")"
   ]
  },
  {
   "cell_type": "code",
   "execution_count": 29,
   "metadata": {},
   "outputs": [
    {
     "name": "stdout",
     "output_type": "stream",
     "text": [
      "Fitting 3 folds for each of 60 candidates, totalling 180 fits\n"
     ]
    },
    {
     "name": "stderr",
     "output_type": "stream",
     "text": [
      "/Users/archelolazabal/opt/anaconda3/lib/python3.9/site-packages/scipy/optimize/linesearch.py:478: LineSearchWarning: The line search algorithm did not converge\n",
      "  warn('The line search algorithm did not converge', LineSearchWarning)\n",
      "/Users/archelolazabal/opt/anaconda3/lib/python3.9/site-packages/scipy/optimize/linesearch.py:327: LineSearchWarning: The line search algorithm did not converge\n",
      "  warn('The line search algorithm did not converge', LineSearchWarning)\n",
      "/Users/archelolazabal/opt/anaconda3/lib/python3.9/site-packages/scipy/optimize/linesearch.py:437: LineSearchWarning: Rounding errors prevent the line search from converging\n",
      "  warn(msg, LineSearchWarning)\n",
      "/Users/archelolazabal/opt/anaconda3/lib/python3.9/site-packages/sklearn/utils/optimize.py:203: UserWarning: Line Search failed\n",
      "  warnings.warn(\"Line Search failed\")\n"
     ]
    },
    {
     "name": "stdout",
     "output_type": "stream",
     "text": [
      "[CV 1/3] END fit_intercept=True, max_iter=130, n_jobs=-1, penalty=l2, random_state=26, solver=newton-cg; accuracy: (test=0.517) f1: (test=0.379) neg_root_mean_squared_error: (test=-0.695) precision: (test=0.307) recall: (test=0.492) total time=   0.4s\n"
     ]
    },
    {
     "name": "stderr",
     "output_type": "stream",
     "text": [
      "/Users/archelolazabal/opt/anaconda3/lib/python3.9/site-packages/scipy/optimize/linesearch.py:478: LineSearchWarning: The line search algorithm did not converge\n",
      "  warn('The line search algorithm did not converge', LineSearchWarning)\n",
      "/Users/archelolazabal/opt/anaconda3/lib/python3.9/site-packages/scipy/optimize/linesearch.py:327: LineSearchWarning: The line search algorithm did not converge\n",
      "  warn('The line search algorithm did not converge', LineSearchWarning)\n",
      "/Users/archelolazabal/opt/anaconda3/lib/python3.9/site-packages/sklearn/utils/optimize.py:203: UserWarning: Line Search failed\n",
      "  warnings.warn(\"Line Search failed\")\n"
     ]
    },
    {
     "name": "stdout",
     "output_type": "stream",
     "text": [
      "[CV 2/3] END fit_intercept=True, max_iter=130, n_jobs=-1, penalty=l2, random_state=26, solver=newton-cg; accuracy: (test=0.519) f1: (test=0.382) neg_root_mean_squared_error: (test=-0.693) precision: (test=0.310) recall: (test=0.497) total time=   0.6s\n"
     ]
    },
    {
     "name": "stderr",
     "output_type": "stream",
     "text": [
      "/Users/archelolazabal/opt/anaconda3/lib/python3.9/site-packages/scipy/optimize/linesearch.py:478: LineSearchWarning: The line search algorithm did not converge\n",
      "  warn('The line search algorithm did not converge', LineSearchWarning)\n",
      "/Users/archelolazabal/opt/anaconda3/lib/python3.9/site-packages/scipy/optimize/linesearch.py:327: LineSearchWarning: The line search algorithm did not converge\n",
      "  warn('The line search algorithm did not converge', LineSearchWarning)\n",
      "/Users/archelolazabal/opt/anaconda3/lib/python3.9/site-packages/sklearn/utils/optimize.py:203: UserWarning: Line Search failed\n",
      "  warnings.warn(\"Line Search failed\")\n"
     ]
    },
    {
     "name": "stdout",
     "output_type": "stream",
     "text": [
      "[CV 3/3] END fit_intercept=True, max_iter=130, n_jobs=-1, penalty=l2, random_state=26, solver=newton-cg; accuracy: (test=0.529) f1: (test=0.386) neg_root_mean_squared_error: (test=-0.687) precision: (test=0.316) recall: (test=0.496) total time=   0.7s\n",
      "[CV 1/3] END fit_intercept=True, max_iter=130, n_jobs=-1, penalty=l2, random_state=26, solver=sag; accuracy: (test=0.517) f1: (test=0.379) neg_root_mean_squared_error: (test=-0.695) precision: (test=0.307) recall: (test=0.492) total time=   0.4s\n",
      "[CV 2/3] END fit_intercept=True, max_iter=130, n_jobs=-1, penalty=l2, random_state=26, solver=sag; accuracy: (test=0.519) f1: (test=0.382) neg_root_mean_squared_error: (test=-0.693) precision: (test=0.310) recall: (test=0.497) total time=   0.5s\n",
      "[CV 3/3] END fit_intercept=True, max_iter=130, n_jobs=-1, penalty=l2, random_state=26, solver=sag; accuracy: (test=0.529) f1: (test=0.386) neg_root_mean_squared_error: (test=-0.687) precision: (test=0.316) recall: (test=0.496) total time=   0.4s\n",
      "[CV 1/3] END fit_intercept=True, max_iter=130, n_jobs=-1, penalty=l2, random_state=26, solver=saga; accuracy: (test=0.517) f1: (test=0.379) neg_root_mean_squared_error: (test=-0.695) precision: (test=0.307) recall: (test=0.492) total time=   0.4s\n",
      "[CV 2/3] END fit_intercept=True, max_iter=130, n_jobs=-1, penalty=l2, random_state=26, solver=saga; accuracy: (test=0.519) f1: (test=0.382) neg_root_mean_squared_error: (test=-0.693) precision: (test=0.310) recall: (test=0.497) total time=   0.4s\n",
      "[CV 3/3] END fit_intercept=True, max_iter=130, n_jobs=-1, penalty=l2, random_state=26, solver=saga; accuracy: (test=0.529) f1: (test=0.386) neg_root_mean_squared_error: (test=-0.687) precision: (test=0.316) recall: (test=0.496) total time=   0.3s\n",
      "[CV 1/3] END fit_intercept=True, max_iter=130, n_jobs=-1, penalty=l2, random_state=26, solver=lbfgs; accuracy: (test=0.517) f1: (test=0.379) neg_root_mean_squared_error: (test=-0.695) precision: (test=0.307) recall: (test=0.492) total time=   0.6s\n",
      "[CV 2/3] END fit_intercept=True, max_iter=130, n_jobs=-1, penalty=l2, random_state=26, solver=lbfgs; accuracy: (test=0.519) f1: (test=0.382) neg_root_mean_squared_error: (test=-0.693) precision: (test=0.310) recall: (test=0.497) total time=   1.6s\n",
      "[CV 3/3] END fit_intercept=True, max_iter=130, n_jobs=-1, penalty=l2, random_state=26, solver=lbfgs; accuracy: (test=0.529) f1: (test=0.386) neg_root_mean_squared_error: (test=-0.687) precision: (test=0.316) recall: (test=0.496) total time=   1.6s\n"
     ]
    },
    {
     "name": "stderr",
     "output_type": "stream",
     "text": [
      "/Users/archelolazabal/opt/anaconda3/lib/python3.9/site-packages/sklearn/linear_model/_logistic.py:1153: UserWarning: 'n_jobs' > 1 does not have any effect when 'solver' is set to 'liblinear'. Got 'n_jobs' = 8.\n",
      "  warnings.warn(\n"
     ]
    },
    {
     "name": "stdout",
     "output_type": "stream",
     "text": [
      "[CV 1/3] END fit_intercept=True, max_iter=130, n_jobs=-1, penalty=l2, random_state=26, solver=liblinear; accuracy: (test=0.517) f1: (test=0.379) neg_root_mean_squared_error: (test=-0.695) precision: (test=0.307) recall: (test=0.492) total time=   1.5s\n",
      "[CV 2/3] END fit_intercept=True, max_iter=130, n_jobs=-1, penalty=l2, random_state=26, solver=liblinear; accuracy: (test=0.519) f1: (test=0.382) neg_root_mean_squared_error: (test=-0.693) precision: (test=0.310) recall: (test=0.497) total time=   0.0s\n",
      "[CV 3/3] END fit_intercept=True, max_iter=130, n_jobs=-1, penalty=l2, random_state=26, solver=liblinear; accuracy: (test=0.529) f1: (test=0.386) neg_root_mean_squared_error: (test=-0.687) precision: (test=0.316) recall: (test=0.496) total time=   0.0s\n"
     ]
    },
    {
     "name": "stderr",
     "output_type": "stream",
     "text": [
      "/Users/archelolazabal/opt/anaconda3/lib/python3.9/site-packages/sklearn/linear_model/_logistic.py:1153: UserWarning: 'n_jobs' > 1 does not have any effect when 'solver' is set to 'liblinear'. Got 'n_jobs' = 8.\n",
      "  warnings.warn(\n",
      "/Users/archelolazabal/opt/anaconda3/lib/python3.9/site-packages/sklearn/linear_model/_logistic.py:1153: UserWarning: 'n_jobs' > 1 does not have any effect when 'solver' is set to 'liblinear'. Got 'n_jobs' = 8.\n",
      "  warnings.warn(\n",
      "/Users/archelolazabal/opt/anaconda3/lib/python3.9/site-packages/scipy/optimize/linesearch.py:478: LineSearchWarning: The line search algorithm did not converge\n",
      "  warn('The line search algorithm did not converge', LineSearchWarning)\n",
      "/Users/archelolazabal/opt/anaconda3/lib/python3.9/site-packages/scipy/optimize/linesearch.py:327: LineSearchWarning: The line search algorithm did not converge\n",
      "  warn('The line search algorithm did not converge', LineSearchWarning)\n",
      "/Users/archelolazabal/opt/anaconda3/lib/python3.9/site-packages/scipy/optimize/linesearch.py:437: LineSearchWarning: Rounding errors prevent the line search from converging\n",
      "  warn(msg, LineSearchWarning)\n",
      "/Users/archelolazabal/opt/anaconda3/lib/python3.9/site-packages/sklearn/utils/optimize.py:203: UserWarning: Line Search failed\n",
      "  warnings.warn(\"Line Search failed\")\n"
     ]
    },
    {
     "name": "stdout",
     "output_type": "stream",
     "text": [
      "[CV 1/3] END fit_intercept=True, max_iter=130, n_jobs=-1, penalty=none, random_state=26, solver=newton-cg; accuracy: (test=0.517) f1: (test=0.379) neg_root_mean_squared_error: (test=-0.695) precision: (test=0.307) recall: (test=0.492) total time=   0.3s\n"
     ]
    },
    {
     "name": "stderr",
     "output_type": "stream",
     "text": [
      "/Users/archelolazabal/opt/anaconda3/lib/python3.9/site-packages/scipy/optimize/linesearch.py:478: LineSearchWarning: The line search algorithm did not converge\n",
      "  warn('The line search algorithm did not converge', LineSearchWarning)\n",
      "/Users/archelolazabal/opt/anaconda3/lib/python3.9/site-packages/scipy/optimize/linesearch.py:327: LineSearchWarning: The line search algorithm did not converge\n",
      "  warn('The line search algorithm did not converge', LineSearchWarning)\n",
      "/Users/archelolazabal/opt/anaconda3/lib/python3.9/site-packages/sklearn/utils/optimize.py:203: UserWarning: Line Search failed\n",
      "  warnings.warn(\"Line Search failed\")\n"
     ]
    },
    {
     "name": "stdout",
     "output_type": "stream",
     "text": [
      "[CV 2/3] END fit_intercept=True, max_iter=130, n_jobs=-1, penalty=none, random_state=26, solver=newton-cg; accuracy: (test=0.519) f1: (test=0.382) neg_root_mean_squared_error: (test=-0.693) precision: (test=0.310) recall: (test=0.497) total time=   0.5s\n",
      "[CV 3/3] END fit_intercept=True, max_iter=130, n_jobs=-1, penalty=none, random_state=26, solver=newton-cg; accuracy: (test=0.529) f1: (test=0.386) neg_root_mean_squared_error: (test=-0.687) precision: (test=0.316) recall: (test=0.496) total time=   0.6s\n",
      "[CV 1/3] END fit_intercept=True, max_iter=130, n_jobs=-1, penalty=none, random_state=26, solver=sag; accuracy: (test=0.517) f1: (test=0.379) neg_root_mean_squared_error: (test=-0.695) precision: (test=0.307) recall: (test=0.492) total time=   0.4s\n",
      "[CV 2/3] END fit_intercept=True, max_iter=130, n_jobs=-1, penalty=none, random_state=26, solver=sag; accuracy: (test=0.519) f1: (test=0.382) neg_root_mean_squared_error: (test=-0.693) precision: (test=0.310) recall: (test=0.497) total time=   0.4s\n",
      "[CV 3/3] END fit_intercept=True, max_iter=130, n_jobs=-1, penalty=none, random_state=26, solver=sag; accuracy: (test=0.529) f1: (test=0.386) neg_root_mean_squared_error: (test=-0.687) precision: (test=0.316) recall: (test=0.496) total time=   0.4s\n",
      "[CV 1/3] END fit_intercept=True, max_iter=130, n_jobs=-1, penalty=none, random_state=26, solver=saga; accuracy: (test=0.517) f1: (test=0.379) neg_root_mean_squared_error: (test=-0.695) precision: (test=0.307) recall: (test=0.492) total time=   0.3s\n",
      "[CV 2/3] END fit_intercept=True, max_iter=130, n_jobs=-1, penalty=none, random_state=26, solver=saga; accuracy: (test=0.519) f1: (test=0.382) neg_root_mean_squared_error: (test=-0.693) precision: (test=0.310) recall: (test=0.497) total time=   0.4s\n",
      "[CV 3/3] END fit_intercept=True, max_iter=130, n_jobs=-1, penalty=none, random_state=26, solver=saga; accuracy: (test=0.529) f1: (test=0.386) neg_root_mean_squared_error: (test=-0.687) precision: (test=0.316) recall: (test=0.496) total time=   0.3s\n",
      "[CV 1/3] END fit_intercept=True, max_iter=130, n_jobs=-1, penalty=none, random_state=26, solver=lbfgs; accuracy: (test=0.517) f1: (test=0.379) neg_root_mean_squared_error: (test=-0.695) precision: (test=0.307) recall: (test=0.492) total time=   0.6s\n",
      "[CV 2/3] END fit_intercept=True, max_iter=130, n_jobs=-1, penalty=none, random_state=26, solver=lbfgs; accuracy: (test=0.519) f1: (test=0.382) neg_root_mean_squared_error: (test=-0.693) precision: (test=0.310) recall: (test=0.497) total time=   1.6s\n",
      "[CV 3/3] END fit_intercept=True, max_iter=130, n_jobs=-1, penalty=none, random_state=26, solver=lbfgs; accuracy: (test=0.529) f1: (test=0.386) neg_root_mean_squared_error: (test=-0.687) precision: (test=0.316) recall: (test=0.496) total time=   1.6s\n",
      "[CV 1/3] END fit_intercept=True, max_iter=130, n_jobs=-1, penalty=none, random_state=26, solver=liblinear; accuracy: (test=nan) f1: (test=nan) neg_root_mean_squared_error: (test=nan) precision: (test=nan) recall: (test=nan) total time=   0.0s\n",
      "[CV 2/3] END fit_intercept=True, max_iter=130, n_jobs=-1, penalty=none, random_state=26, solver=liblinear; accuracy: (test=nan) f1: (test=nan) neg_root_mean_squared_error: (test=nan) precision: (test=nan) recall: (test=nan) total time=   0.0s\n",
      "[CV 3/3] END fit_intercept=True, max_iter=130, n_jobs=-1, penalty=none, random_state=26, solver=liblinear; accuracy: (test=nan) f1: (test=nan) neg_root_mean_squared_error: (test=nan) precision: (test=nan) recall: (test=nan) total time=   0.0s\n"
     ]
    },
    {
     "name": "stderr",
     "output_type": "stream",
     "text": [
      "/Users/archelolazabal/opt/anaconda3/lib/python3.9/site-packages/scipy/optimize/linesearch.py:478: LineSearchWarning: The line search algorithm did not converge\n",
      "  warn('The line search algorithm did not converge', LineSearchWarning)\n",
      "/Users/archelolazabal/opt/anaconda3/lib/python3.9/site-packages/scipy/optimize/linesearch.py:327: LineSearchWarning: The line search algorithm did not converge\n",
      "  warn('The line search algorithm did not converge', LineSearchWarning)\n",
      "/Users/archelolazabal/opt/anaconda3/lib/python3.9/site-packages/scipy/optimize/linesearch.py:437: LineSearchWarning: Rounding errors prevent the line search from converging\n",
      "  warn(msg, LineSearchWarning)\n",
      "/Users/archelolazabal/opt/anaconda3/lib/python3.9/site-packages/sklearn/utils/optimize.py:203: UserWarning: Line Search failed\n",
      "  warnings.warn(\"Line Search failed\")\n"
     ]
    },
    {
     "name": "stdout",
     "output_type": "stream",
     "text": [
      "[CV 1/3] END fit_intercept=True, max_iter=140, n_jobs=-1, penalty=l2, random_state=26, solver=newton-cg; accuracy: (test=0.517) f1: (test=0.379) neg_root_mean_squared_error: (test=-0.695) precision: (test=0.307) recall: (test=0.492) total time=   0.4s\n"
     ]
    },
    {
     "name": "stderr",
     "output_type": "stream",
     "text": [
      "/Users/archelolazabal/opt/anaconda3/lib/python3.9/site-packages/scipy/optimize/linesearch.py:478: LineSearchWarning: The line search algorithm did not converge\n",
      "  warn('The line search algorithm did not converge', LineSearchWarning)\n",
      "/Users/archelolazabal/opt/anaconda3/lib/python3.9/site-packages/scipy/optimize/linesearch.py:327: LineSearchWarning: The line search algorithm did not converge\n",
      "  warn('The line search algorithm did not converge', LineSearchWarning)\n",
      "/Users/archelolazabal/opt/anaconda3/lib/python3.9/site-packages/sklearn/utils/optimize.py:203: UserWarning: Line Search failed\n",
      "  warnings.warn(\"Line Search failed\")\n"
     ]
    },
    {
     "name": "stdout",
     "output_type": "stream",
     "text": [
      "[CV 2/3] END fit_intercept=True, max_iter=140, n_jobs=-1, penalty=l2, random_state=26, solver=newton-cg; accuracy: (test=0.519) f1: (test=0.382) neg_root_mean_squared_error: (test=-0.693) precision: (test=0.310) recall: (test=0.497) total time=   0.5s\n",
      "[CV 3/3] END fit_intercept=True, max_iter=140, n_jobs=-1, penalty=l2, random_state=26, solver=newton-cg; accuracy: (test=0.529) f1: (test=0.386) neg_root_mean_squared_error: (test=-0.687) precision: (test=0.316) recall: (test=0.496) total time=   0.7s\n",
      "[CV 1/3] END fit_intercept=True, max_iter=140, n_jobs=-1, penalty=l2, random_state=26, solver=sag; accuracy: (test=0.517) f1: (test=0.379) neg_root_mean_squared_error: (test=-0.695) precision: (test=0.307) recall: (test=0.492) total time=   0.4s\n",
      "[CV 2/3] END fit_intercept=True, max_iter=140, n_jobs=-1, penalty=l2, random_state=26, solver=sag; accuracy: (test=0.519) f1: (test=0.382) neg_root_mean_squared_error: (test=-0.693) precision: (test=0.310) recall: (test=0.497) total time=   0.4s\n",
      "[CV 3/3] END fit_intercept=True, max_iter=140, n_jobs=-1, penalty=l2, random_state=26, solver=sag; accuracy: (test=0.529) f1: (test=0.386) neg_root_mean_squared_error: (test=-0.687) precision: (test=0.316) recall: (test=0.496) total time=   0.4s\n",
      "[CV 1/3] END fit_intercept=True, max_iter=140, n_jobs=-1, penalty=l2, random_state=26, solver=saga; accuracy: (test=0.517) f1: (test=0.379) neg_root_mean_squared_error: (test=-0.695) precision: (test=0.307) recall: (test=0.492) total time=   0.3s\n",
      "[CV 2/3] END fit_intercept=True, max_iter=140, n_jobs=-1, penalty=l2, random_state=26, solver=saga; accuracy: (test=0.519) f1: (test=0.382) neg_root_mean_squared_error: (test=-0.693) precision: (test=0.310) recall: (test=0.497) total time=   0.4s\n",
      "[CV 3/3] END fit_intercept=True, max_iter=140, n_jobs=-1, penalty=l2, random_state=26, solver=saga; accuracy: (test=0.529) f1: (test=0.386) neg_root_mean_squared_error: (test=-0.687) precision: (test=0.316) recall: (test=0.496) total time=   0.3s\n",
      "[CV 1/3] END fit_intercept=True, max_iter=140, n_jobs=-1, penalty=l2, random_state=26, solver=lbfgs; accuracy: (test=0.517) f1: (test=0.379) neg_root_mean_squared_error: (test=-0.695) precision: (test=0.307) recall: (test=0.492) total time=   0.6s\n",
      "[CV 2/3] END fit_intercept=True, max_iter=140, n_jobs=-1, penalty=l2, random_state=26, solver=lbfgs; accuracy: (test=0.519) f1: (test=0.382) neg_root_mean_squared_error: (test=-0.693) precision: (test=0.310) recall: (test=0.497) total time=   1.6s\n",
      "[CV 3/3] END fit_intercept=True, max_iter=140, n_jobs=-1, penalty=l2, random_state=26, solver=lbfgs; accuracy: (test=0.529) f1: (test=0.386) neg_root_mean_squared_error: (test=-0.687) precision: (test=0.316) recall: (test=0.496) total time=   0.6s\n",
      "[CV 1/3] END fit_intercept=True, max_iter=140, n_jobs=-1, penalty=l2, random_state=26, solver=liblinear; accuracy: (test=0.517) f1: (test=0.379) neg_root_mean_squared_error: (test=-0.695) precision: (test=0.307) recall: (test=0.492) total time=   0.1s\n",
      "[CV 2/3] END fit_intercept=True, max_iter=140, n_jobs=-1, penalty=l2, random_state=26, solver=liblinear; accuracy: (test=0.519) f1: (test=0.382) neg_root_mean_squared_error: (test=-0.693) precision: (test=0.310) recall: (test=0.497) total time=   0.0s\n",
      "[CV 3/3] END fit_intercept=True, max_iter=140, n_jobs=-1, penalty=l2, random_state=26, solver=liblinear; accuracy: (test=0.529) f1: (test=0.386) neg_root_mean_squared_error: (test=-0.687) precision: (test=0.316) recall: (test=0.496) total time=   0.0s\n"
     ]
    },
    {
     "name": "stderr",
     "output_type": "stream",
     "text": [
      "/Users/archelolazabal/opt/anaconda3/lib/python3.9/site-packages/sklearn/linear_model/_logistic.py:1153: UserWarning: 'n_jobs' > 1 does not have any effect when 'solver' is set to 'liblinear'. Got 'n_jobs' = 8.\n",
      "  warnings.warn(\n",
      "/Users/archelolazabal/opt/anaconda3/lib/python3.9/site-packages/sklearn/linear_model/_logistic.py:1153: UserWarning: 'n_jobs' > 1 does not have any effect when 'solver' is set to 'liblinear'. Got 'n_jobs' = 8.\n",
      "  warnings.warn(\n",
      "/Users/archelolazabal/opt/anaconda3/lib/python3.9/site-packages/sklearn/linear_model/_logistic.py:1153: UserWarning: 'n_jobs' > 1 does not have any effect when 'solver' is set to 'liblinear'. Got 'n_jobs' = 8.\n",
      "  warnings.warn(\n",
      "/Users/archelolazabal/opt/anaconda3/lib/python3.9/site-packages/scipy/optimize/linesearch.py:478: LineSearchWarning: The line search algorithm did not converge\n",
      "  warn('The line search algorithm did not converge', LineSearchWarning)\n",
      "/Users/archelolazabal/opt/anaconda3/lib/python3.9/site-packages/scipy/optimize/linesearch.py:327: LineSearchWarning: The line search algorithm did not converge\n",
      "  warn('The line search algorithm did not converge', LineSearchWarning)\n",
      "/Users/archelolazabal/opt/anaconda3/lib/python3.9/site-packages/scipy/optimize/linesearch.py:437: LineSearchWarning: Rounding errors prevent the line search from converging\n",
      "  warn(msg, LineSearchWarning)\n",
      "/Users/archelolazabal/opt/anaconda3/lib/python3.9/site-packages/sklearn/utils/optimize.py:203: UserWarning: Line Search failed\n",
      "  warnings.warn(\"Line Search failed\")\n"
     ]
    },
    {
     "name": "stdout",
     "output_type": "stream",
     "text": [
      "[CV 1/3] END fit_intercept=True, max_iter=140, n_jobs=-1, penalty=none, random_state=26, solver=newton-cg; accuracy: (test=0.517) f1: (test=0.379) neg_root_mean_squared_error: (test=-0.695) precision: (test=0.307) recall: (test=0.492) total time=   0.3s\n"
     ]
    },
    {
     "name": "stderr",
     "output_type": "stream",
     "text": [
      "/Users/archelolazabal/opt/anaconda3/lib/python3.9/site-packages/scipy/optimize/linesearch.py:478: LineSearchWarning: The line search algorithm did not converge\n",
      "  warn('The line search algorithm did not converge', LineSearchWarning)\n",
      "/Users/archelolazabal/opt/anaconda3/lib/python3.9/site-packages/scipy/optimize/linesearch.py:327: LineSearchWarning: The line search algorithm did not converge\n",
      "  warn('The line search algorithm did not converge', LineSearchWarning)\n",
      "/Users/archelolazabal/opt/anaconda3/lib/python3.9/site-packages/sklearn/utils/optimize.py:203: UserWarning: Line Search failed\n",
      "  warnings.warn(\"Line Search failed\")\n"
     ]
    },
    {
     "name": "stdout",
     "output_type": "stream",
     "text": [
      "[CV 2/3] END fit_intercept=True, max_iter=140, n_jobs=-1, penalty=none, random_state=26, solver=newton-cg; accuracy: (test=0.519) f1: (test=0.382) neg_root_mean_squared_error: (test=-0.693) precision: (test=0.310) recall: (test=0.497) total time=   0.5s\n",
      "[CV 3/3] END fit_intercept=True, max_iter=140, n_jobs=-1, penalty=none, random_state=26, solver=newton-cg; accuracy: (test=0.529) f1: (test=0.386) neg_root_mean_squared_error: (test=-0.687) precision: (test=0.316) recall: (test=0.496) total time=   0.6s\n",
      "[CV 1/3] END fit_intercept=True, max_iter=140, n_jobs=-1, penalty=none, random_state=26, solver=sag; accuracy: (test=0.517) f1: (test=0.379) neg_root_mean_squared_error: (test=-0.695) precision: (test=0.307) recall: (test=0.492) total time=   0.4s\n",
      "[CV 2/3] END fit_intercept=True, max_iter=140, n_jobs=-1, penalty=none, random_state=26, solver=sag; accuracy: (test=0.519) f1: (test=0.382) neg_root_mean_squared_error: (test=-0.693) precision: (test=0.310) recall: (test=0.497) total time=   0.4s\n",
      "[CV 3/3] END fit_intercept=True, max_iter=140, n_jobs=-1, penalty=none, random_state=26, solver=sag; accuracy: (test=0.529) f1: (test=0.386) neg_root_mean_squared_error: (test=-0.687) precision: (test=0.316) recall: (test=0.496) total time=   0.4s\n",
      "[CV 1/3] END fit_intercept=True, max_iter=140, n_jobs=-1, penalty=none, random_state=26, solver=saga; accuracy: (test=0.517) f1: (test=0.379) neg_root_mean_squared_error: (test=-0.695) precision: (test=0.307) recall: (test=0.492) total time=   0.3s\n",
      "[CV 2/3] END fit_intercept=True, max_iter=140, n_jobs=-1, penalty=none, random_state=26, solver=saga; accuracy: (test=0.519) f1: (test=0.382) neg_root_mean_squared_error: (test=-0.693) precision: (test=0.310) recall: (test=0.497) total time=   0.4s\n",
      "[CV 3/3] END fit_intercept=True, max_iter=140, n_jobs=-1, penalty=none, random_state=26, solver=saga; accuracy: (test=0.529) f1: (test=0.386) neg_root_mean_squared_error: (test=-0.687) precision: (test=0.316) recall: (test=0.496) total time=   0.3s\n",
      "[CV 1/3] END fit_intercept=True, max_iter=140, n_jobs=-1, penalty=none, random_state=26, solver=lbfgs; accuracy: (test=0.517) f1: (test=0.379) neg_root_mean_squared_error: (test=-0.695) precision: (test=0.307) recall: (test=0.492) total time=   1.6s\n",
      "[CV 2/3] END fit_intercept=True, max_iter=140, n_jobs=-1, penalty=none, random_state=26, solver=lbfgs; accuracy: (test=0.519) f1: (test=0.382) neg_root_mean_squared_error: (test=-0.693) precision: (test=0.310) recall: (test=0.497) total time=   0.7s\n",
      "[CV 3/3] END fit_intercept=True, max_iter=140, n_jobs=-1, penalty=none, random_state=26, solver=lbfgs; accuracy: (test=0.529) f1: (test=0.386) neg_root_mean_squared_error: (test=-0.687) precision: (test=0.316) recall: (test=0.496) total time=   0.6s\n",
      "[CV 1/3] END fit_intercept=True, max_iter=140, n_jobs=-1, penalty=none, random_state=26, solver=liblinear; accuracy: (test=nan) f1: (test=nan) neg_root_mean_squared_error: (test=nan) precision: (test=nan) recall: (test=nan) total time=   0.0s\n",
      "[CV 2/3] END fit_intercept=True, max_iter=140, n_jobs=-1, penalty=none, random_state=26, solver=liblinear; accuracy: (test=nan) f1: (test=nan) neg_root_mean_squared_error: (test=nan) precision: (test=nan) recall: (test=nan) total time=   0.0s\n",
      "[CV 3/3] END fit_intercept=True, max_iter=140, n_jobs=-1, penalty=none, random_state=26, solver=liblinear; accuracy: (test=nan) f1: (test=nan) neg_root_mean_squared_error: (test=nan) precision: (test=nan) recall: (test=nan) total time=   0.0s\n"
     ]
    },
    {
     "name": "stderr",
     "output_type": "stream",
     "text": [
      "/Users/archelolazabal/opt/anaconda3/lib/python3.9/site-packages/scipy/optimize/linesearch.py:478: LineSearchWarning: The line search algorithm did not converge\n",
      "  warn('The line search algorithm did not converge', LineSearchWarning)\n",
      "/Users/archelolazabal/opt/anaconda3/lib/python3.9/site-packages/scipy/optimize/linesearch.py:327: LineSearchWarning: The line search algorithm did not converge\n",
      "  warn('The line search algorithm did not converge', LineSearchWarning)\n",
      "/Users/archelolazabal/opt/anaconda3/lib/python3.9/site-packages/scipy/optimize/linesearch.py:437: LineSearchWarning: Rounding errors prevent the line search from converging\n",
      "  warn(msg, LineSearchWarning)\n",
      "/Users/archelolazabal/opt/anaconda3/lib/python3.9/site-packages/sklearn/utils/optimize.py:203: UserWarning: Line Search failed\n",
      "  warnings.warn(\"Line Search failed\")\n"
     ]
    },
    {
     "name": "stdout",
     "output_type": "stream",
     "text": [
      "[CV 1/3] END fit_intercept=True, max_iter=150, n_jobs=-1, penalty=l2, random_state=26, solver=newton-cg; accuracy: (test=0.517) f1: (test=0.379) neg_root_mean_squared_error: (test=-0.695) precision: (test=0.307) recall: (test=0.492) total time=   0.4s\n"
     ]
    },
    {
     "name": "stderr",
     "output_type": "stream",
     "text": [
      "/Users/archelolazabal/opt/anaconda3/lib/python3.9/site-packages/scipy/optimize/linesearch.py:478: LineSearchWarning: The line search algorithm did not converge\n",
      "  warn('The line search algorithm did not converge', LineSearchWarning)\n",
      "/Users/archelolazabal/opt/anaconda3/lib/python3.9/site-packages/scipy/optimize/linesearch.py:327: LineSearchWarning: The line search algorithm did not converge\n",
      "  warn('The line search algorithm did not converge', LineSearchWarning)\n",
      "/Users/archelolazabal/opt/anaconda3/lib/python3.9/site-packages/sklearn/utils/optimize.py:203: UserWarning: Line Search failed\n",
      "  warnings.warn(\"Line Search failed\")\n"
     ]
    },
    {
     "name": "stdout",
     "output_type": "stream",
     "text": [
      "[CV 2/3] END fit_intercept=True, max_iter=150, n_jobs=-1, penalty=l2, random_state=26, solver=newton-cg; accuracy: (test=0.519) f1: (test=0.382) neg_root_mean_squared_error: (test=-0.693) precision: (test=0.310) recall: (test=0.497) total time=   0.5s\n",
      "[CV 3/3] END fit_intercept=True, max_iter=150, n_jobs=-1, penalty=l2, random_state=26, solver=newton-cg; accuracy: (test=0.529) f1: (test=0.386) neg_root_mean_squared_error: (test=-0.687) precision: (test=0.316) recall: (test=0.496) total time=   0.6s\n",
      "[CV 1/3] END fit_intercept=True, max_iter=150, n_jobs=-1, penalty=l2, random_state=26, solver=sag; accuracy: (test=0.517) f1: (test=0.379) neg_root_mean_squared_error: (test=-0.695) precision: (test=0.307) recall: (test=0.492) total time=   0.4s\n",
      "[CV 2/3] END fit_intercept=True, max_iter=150, n_jobs=-1, penalty=l2, random_state=26, solver=sag; accuracy: (test=0.519) f1: (test=0.382) neg_root_mean_squared_error: (test=-0.693) precision: (test=0.310) recall: (test=0.497) total time=   0.4s\n",
      "[CV 3/3] END fit_intercept=True, max_iter=150, n_jobs=-1, penalty=l2, random_state=26, solver=sag; accuracy: (test=0.529) f1: (test=0.386) neg_root_mean_squared_error: (test=-0.687) precision: (test=0.316) recall: (test=0.496) total time=   0.4s\n",
      "[CV 1/3] END fit_intercept=True, max_iter=150, n_jobs=-1, penalty=l2, random_state=26, solver=saga; accuracy: (test=0.517) f1: (test=0.379) neg_root_mean_squared_error: (test=-0.695) precision: (test=0.307) recall: (test=0.492) total time=   0.3s\n",
      "[CV 2/3] END fit_intercept=True, max_iter=150, n_jobs=-1, penalty=l2, random_state=26, solver=saga; accuracy: (test=0.519) f1: (test=0.382) neg_root_mean_squared_error: (test=-0.693) precision: (test=0.310) recall: (test=0.497) total time=   0.4s\n",
      "[CV 3/3] END fit_intercept=True, max_iter=150, n_jobs=-1, penalty=l2, random_state=26, solver=saga; accuracy: (test=0.529) f1: (test=0.386) neg_root_mean_squared_error: (test=-0.687) precision: (test=0.316) recall: (test=0.496) total time=   0.3s\n",
      "[CV 1/3] END fit_intercept=True, max_iter=150, n_jobs=-1, penalty=l2, random_state=26, solver=lbfgs; accuracy: (test=0.517) f1: (test=0.379) neg_root_mean_squared_error: (test=-0.695) precision: (test=0.307) recall: (test=0.492) total time=   0.6s\n",
      "[CV 2/3] END fit_intercept=True, max_iter=150, n_jobs=-1, penalty=l2, random_state=26, solver=lbfgs; accuracy: (test=0.519) f1: (test=0.382) neg_root_mean_squared_error: (test=-0.693) precision: (test=0.310) recall: (test=0.497) total time=   0.6s\n",
      "[CV 3/3] END fit_intercept=True, max_iter=150, n_jobs=-1, penalty=l2, random_state=26, solver=lbfgs; accuracy: (test=0.529) f1: (test=0.386) neg_root_mean_squared_error: (test=-0.687) precision: (test=0.316) recall: (test=0.496) total time=   0.6s\n",
      "[CV 1/3] END fit_intercept=True, max_iter=150, n_jobs=-1, penalty=l2, random_state=26, solver=liblinear; accuracy: (test=0.517) f1: (test=0.379) neg_root_mean_squared_error: (test=-0.695) precision: (test=0.307) recall: (test=0.492) total time=   0.1s\n",
      "[CV 2/3] END fit_intercept=True, max_iter=150, n_jobs=-1, penalty=l2, random_state=26, solver=liblinear; accuracy: (test=0.519) f1: (test=0.382) neg_root_mean_squared_error: (test=-0.693) precision: (test=0.310) recall: (test=0.497) total time=   0.0s\n",
      "[CV 3/3] END fit_intercept=True, max_iter=150, n_jobs=-1, penalty=l2, random_state=26, solver=liblinear; accuracy: (test=0.529) f1: (test=0.386) neg_root_mean_squared_error: (test=-0.687) precision: (test=0.316) recall: (test=0.496) total time=   0.0s\n"
     ]
    },
    {
     "name": "stderr",
     "output_type": "stream",
     "text": [
      "/Users/archelolazabal/opt/anaconda3/lib/python3.9/site-packages/sklearn/linear_model/_logistic.py:1153: UserWarning: 'n_jobs' > 1 does not have any effect when 'solver' is set to 'liblinear'. Got 'n_jobs' = 8.\n",
      "  warnings.warn(\n",
      "/Users/archelolazabal/opt/anaconda3/lib/python3.9/site-packages/sklearn/linear_model/_logistic.py:1153: UserWarning: 'n_jobs' > 1 does not have any effect when 'solver' is set to 'liblinear'. Got 'n_jobs' = 8.\n",
      "  warnings.warn(\n",
      "/Users/archelolazabal/opt/anaconda3/lib/python3.9/site-packages/sklearn/linear_model/_logistic.py:1153: UserWarning: 'n_jobs' > 1 does not have any effect when 'solver' is set to 'liblinear'. Got 'n_jobs' = 8.\n",
      "  warnings.warn(\n",
      "/Users/archelolazabal/opt/anaconda3/lib/python3.9/site-packages/scipy/optimize/linesearch.py:478: LineSearchWarning: The line search algorithm did not converge\n",
      "  warn('The line search algorithm did not converge', LineSearchWarning)\n",
      "/Users/archelolazabal/opt/anaconda3/lib/python3.9/site-packages/scipy/optimize/linesearch.py:327: LineSearchWarning: The line search algorithm did not converge\n",
      "  warn('The line search algorithm did not converge', LineSearchWarning)\n",
      "/Users/archelolazabal/opt/anaconda3/lib/python3.9/site-packages/scipy/optimize/linesearch.py:437: LineSearchWarning: Rounding errors prevent the line search from converging\n",
      "  warn(msg, LineSearchWarning)\n",
      "/Users/archelolazabal/opt/anaconda3/lib/python3.9/site-packages/sklearn/utils/optimize.py:203: UserWarning: Line Search failed\n",
      "  warnings.warn(\"Line Search failed\")\n"
     ]
    },
    {
     "name": "stdout",
     "output_type": "stream",
     "text": [
      "[CV 1/3] END fit_intercept=True, max_iter=150, n_jobs=-1, penalty=none, random_state=26, solver=newton-cg; accuracy: (test=0.517) f1: (test=0.379) neg_root_mean_squared_error: (test=-0.695) precision: (test=0.307) recall: (test=0.492) total time=   0.3s\n",
      "[CV 2/3] END fit_intercept=True, max_iter=150, n_jobs=-1, penalty=none, random_state=26, solver=newton-cg; accuracy: (test=0.519) f1: (test=0.382) neg_root_mean_squared_error: (test=-0.693) precision: (test=0.310) recall: (test=0.497) total time=   0.5s\n",
      "[CV 3/3] END fit_intercept=True, max_iter=150, n_jobs=-1, penalty=none, random_state=26, solver=newton-cg; accuracy: (test=0.529) f1: (test=0.386) neg_root_mean_squared_error: (test=-0.687) precision: (test=0.316) recall: (test=0.496) total time=   0.6s\n",
      "[CV 1/3] END fit_intercept=True, max_iter=150, n_jobs=-1, penalty=none, random_state=26, solver=sag; accuracy: (test=0.517) f1: (test=0.379) neg_root_mean_squared_error: (test=-0.695) precision: (test=0.307) recall: (test=0.492) total time=   0.4s\n",
      "[CV 2/3] END fit_intercept=True, max_iter=150, n_jobs=-1, penalty=none, random_state=26, solver=sag; accuracy: (test=0.519) f1: (test=0.382) neg_root_mean_squared_error: (test=-0.693) precision: (test=0.310) recall: (test=0.497) total time=   0.4s\n",
      "[CV 3/3] END fit_intercept=True, max_iter=150, n_jobs=-1, penalty=none, random_state=26, solver=sag; accuracy: (test=0.529) f1: (test=0.386) neg_root_mean_squared_error: (test=-0.687) precision: (test=0.316) recall: (test=0.496) total time=   0.4s\n",
      "[CV 1/3] END fit_intercept=True, max_iter=150, n_jobs=-1, penalty=none, random_state=26, solver=saga; accuracy: (test=0.517) f1: (test=0.379) neg_root_mean_squared_error: (test=-0.695) precision: (test=0.307) recall: (test=0.492) total time=   0.2s\n",
      "[CV 2/3] END fit_intercept=True, max_iter=150, n_jobs=-1, penalty=none, random_state=26, solver=saga; accuracy: (test=0.519) f1: (test=0.382) neg_root_mean_squared_error: (test=-0.693) precision: (test=0.310) recall: (test=0.497) total time=   0.4s\n",
      "[CV 3/3] END fit_intercept=True, max_iter=150, n_jobs=-1, penalty=none, random_state=26, solver=saga; accuracy: (test=0.529) f1: (test=0.386) neg_root_mean_squared_error: (test=-0.687) precision: (test=0.316) recall: (test=0.496) total time=   0.3s\n",
      "[CV 1/3] END fit_intercept=True, max_iter=150, n_jobs=-1, penalty=none, random_state=26, solver=lbfgs; accuracy: (test=0.517) f1: (test=0.379) neg_root_mean_squared_error: (test=-0.695) precision: (test=0.307) recall: (test=0.492) total time=   0.6s\n",
      "[CV 2/3] END fit_intercept=True, max_iter=150, n_jobs=-1, penalty=none, random_state=26, solver=lbfgs; accuracy: (test=0.519) f1: (test=0.382) neg_root_mean_squared_error: (test=-0.693) precision: (test=0.310) recall: (test=0.497) total time=   0.6s\n",
      "[CV 3/3] END fit_intercept=True, max_iter=150, n_jobs=-1, penalty=none, random_state=26, solver=lbfgs; accuracy: (test=0.529) f1: (test=0.386) neg_root_mean_squared_error: (test=-0.687) precision: (test=0.316) recall: (test=0.496) total time=   0.6s\n",
      "[CV 1/3] END fit_intercept=True, max_iter=150, n_jobs=-1, penalty=none, random_state=26, solver=liblinear; accuracy: (test=nan) f1: (test=nan) neg_root_mean_squared_error: (test=nan) precision: (test=nan) recall: (test=nan) total time=   0.0s\n",
      "[CV 2/3] END fit_intercept=True, max_iter=150, n_jobs=-1, penalty=none, random_state=26, solver=liblinear; accuracy: (test=nan) f1: (test=nan) neg_root_mean_squared_error: (test=nan) precision: (test=nan) recall: (test=nan) total time=   0.0s\n",
      "[CV 3/3] END fit_intercept=True, max_iter=150, n_jobs=-1, penalty=none, random_state=26, solver=liblinear; accuracy: (test=nan) f1: (test=nan) neg_root_mean_squared_error: (test=nan) precision: (test=nan) recall: (test=nan) total time=   0.0s\n"
     ]
    },
    {
     "name": "stderr",
     "output_type": "stream",
     "text": [
      "/Users/archelolazabal/opt/anaconda3/lib/python3.9/site-packages/scipy/optimize/linesearch.py:478: LineSearchWarning: The line search algorithm did not converge\n",
      "  warn('The line search algorithm did not converge', LineSearchWarning)\n",
      "/Users/archelolazabal/opt/anaconda3/lib/python3.9/site-packages/scipy/optimize/linesearch.py:327: LineSearchWarning: The line search algorithm did not converge\n",
      "  warn('The line search algorithm did not converge', LineSearchWarning)\n",
      "/Users/archelolazabal/opt/anaconda3/lib/python3.9/site-packages/scipy/optimize/linesearch.py:437: LineSearchWarning: Rounding errors prevent the line search from converging\n",
      "  warn(msg, LineSearchWarning)\n",
      "/Users/archelolazabal/opt/anaconda3/lib/python3.9/site-packages/sklearn/utils/optimize.py:203: UserWarning: Line Search failed\n",
      "  warnings.warn(\"Line Search failed\")\n"
     ]
    },
    {
     "name": "stdout",
     "output_type": "stream",
     "text": [
      "[CV 1/3] END fit_intercept=False, max_iter=130, n_jobs=-1, penalty=l2, random_state=26, solver=newton-cg; accuracy: (test=0.517) f1: (test=0.379) neg_root_mean_squared_error: (test=-0.695) precision: (test=0.307) recall: (test=0.492) total time=   0.3s\n"
     ]
    },
    {
     "name": "stderr",
     "output_type": "stream",
     "text": [
      "/Users/archelolazabal/opt/anaconda3/lib/python3.9/site-packages/scipy/optimize/linesearch.py:478: LineSearchWarning: The line search algorithm did not converge\n",
      "  warn('The line search algorithm did not converge', LineSearchWarning)\n",
      "/Users/archelolazabal/opt/anaconda3/lib/python3.9/site-packages/scipy/optimize/linesearch.py:327: LineSearchWarning: The line search algorithm did not converge\n",
      "  warn('The line search algorithm did not converge', LineSearchWarning)\n",
      "/Users/archelolazabal/opt/anaconda3/lib/python3.9/site-packages/scipy/optimize/linesearch.py:437: LineSearchWarning: Rounding errors prevent the line search from converging\n",
      "  warn(msg, LineSearchWarning)\n",
      "/Users/archelolazabal/opt/anaconda3/lib/python3.9/site-packages/sklearn/utils/optimize.py:203: UserWarning: Line Search failed\n",
      "  warnings.warn(\"Line Search failed\")\n"
     ]
    },
    {
     "name": "stdout",
     "output_type": "stream",
     "text": [
      "[CV 2/3] END fit_intercept=False, max_iter=130, n_jobs=-1, penalty=l2, random_state=26, solver=newton-cg; accuracy: (test=0.519) f1: (test=0.382) neg_root_mean_squared_error: (test=-0.693) precision: (test=0.310) recall: (test=0.497) total time=   0.4s\n"
     ]
    },
    {
     "name": "stderr",
     "output_type": "stream",
     "text": [
      "/Users/archelolazabal/opt/anaconda3/lib/python3.9/site-packages/scipy/optimize/linesearch.py:478: LineSearchWarning: The line search algorithm did not converge\n",
      "  warn('The line search algorithm did not converge', LineSearchWarning)\n",
      "/Users/archelolazabal/opt/anaconda3/lib/python3.9/site-packages/scipy/optimize/linesearch.py:327: LineSearchWarning: The line search algorithm did not converge\n",
      "  warn('The line search algorithm did not converge', LineSearchWarning)\n",
      "/Users/archelolazabal/opt/anaconda3/lib/python3.9/site-packages/sklearn/utils/optimize.py:203: UserWarning: Line Search failed\n",
      "  warnings.warn(\"Line Search failed\")\n"
     ]
    },
    {
     "name": "stdout",
     "output_type": "stream",
     "text": [
      "[CV 3/3] END fit_intercept=False, max_iter=130, n_jobs=-1, penalty=l2, random_state=26, solver=newton-cg; accuracy: (test=0.529) f1: (test=0.386) neg_root_mean_squared_error: (test=-0.687) precision: (test=0.316) recall: (test=0.496) total time=   0.8s\n",
      "[CV 1/3] END fit_intercept=False, max_iter=130, n_jobs=-1, penalty=l2, random_state=26, solver=sag; accuracy: (test=0.517) f1: (test=0.379) neg_root_mean_squared_error: (test=-0.695) precision: (test=0.307) recall: (test=0.492) total time=   0.4s\n",
      "[CV 2/3] END fit_intercept=False, max_iter=130, n_jobs=-1, penalty=l2, random_state=26, solver=sag; accuracy: (test=0.519) f1: (test=0.382) neg_root_mean_squared_error: (test=-0.693) precision: (test=0.310) recall: (test=0.497) total time=   0.4s\n",
      "[CV 3/3] END fit_intercept=False, max_iter=130, n_jobs=-1, penalty=l2, random_state=26, solver=sag; accuracy: (test=0.529) f1: (test=0.386) neg_root_mean_squared_error: (test=-0.687) precision: (test=0.316) recall: (test=0.496) total time=   0.4s\n",
      "[CV 1/3] END fit_intercept=False, max_iter=130, n_jobs=-1, penalty=l2, random_state=26, solver=saga; accuracy: (test=0.517) f1: (test=0.379) neg_root_mean_squared_error: (test=-0.695) precision: (test=0.307) recall: (test=0.492) total time=   0.3s\n",
      "[CV 2/3] END fit_intercept=False, max_iter=130, n_jobs=-1, penalty=l2, random_state=26, solver=saga; accuracy: (test=0.519) f1: (test=0.382) neg_root_mean_squared_error: (test=-0.693) precision: (test=0.310) recall: (test=0.497) total time=   0.3s\n",
      "[CV 3/3] END fit_intercept=False, max_iter=130, n_jobs=-1, penalty=l2, random_state=26, solver=saga; accuracy: (test=0.529) f1: (test=0.386) neg_root_mean_squared_error: (test=-0.687) precision: (test=0.316) recall: (test=0.496) total time=   0.3s\n",
      "[CV 1/3] END fit_intercept=False, max_iter=130, n_jobs=-1, penalty=l2, random_state=26, solver=lbfgs; accuracy: (test=0.517) f1: (test=0.379) neg_root_mean_squared_error: (test=-0.695) precision: (test=0.307) recall: (test=0.492) total time=   0.6s\n",
      "[CV 2/3] END fit_intercept=False, max_iter=130, n_jobs=-1, penalty=l2, random_state=26, solver=lbfgs; accuracy: (test=0.519) f1: (test=0.382) neg_root_mean_squared_error: (test=-0.693) precision: (test=0.310) recall: (test=0.497) total time=   0.6s\n",
      "[CV 3/3] END fit_intercept=False, max_iter=130, n_jobs=-1, penalty=l2, random_state=26, solver=lbfgs; accuracy: (test=0.529) f1: (test=0.386) neg_root_mean_squared_error: (test=-0.687) precision: (test=0.316) recall: (test=0.496) total time=   0.7s\n",
      "[CV 1/3] END fit_intercept=False, max_iter=130, n_jobs=-1, penalty=l2, random_state=26, solver=liblinear; accuracy: (test=0.517) f1: (test=0.379) neg_root_mean_squared_error: (test=-0.695) precision: (test=0.307) recall: (test=0.492) total time=   0.1s\n",
      "[CV 2/3] END fit_intercept=False, max_iter=130, n_jobs=-1, penalty=l2, random_state=26, solver=liblinear; accuracy: (test=0.519) f1: (test=0.382) neg_root_mean_squared_error: (test=-0.693) precision: (test=0.310) recall: (test=0.497) total time=   0.0s\n",
      "[CV 3/3] END fit_intercept=False, max_iter=130, n_jobs=-1, penalty=l2, random_state=26, solver=liblinear; accuracy: (test=0.529) f1: (test=0.386) neg_root_mean_squared_error: (test=-0.687) precision: (test=0.316) recall: (test=0.496) total time=   0.0s\n"
     ]
    },
    {
     "name": "stderr",
     "output_type": "stream",
     "text": [
      "/Users/archelolazabal/opt/anaconda3/lib/python3.9/site-packages/sklearn/linear_model/_logistic.py:1153: UserWarning: 'n_jobs' > 1 does not have any effect when 'solver' is set to 'liblinear'. Got 'n_jobs' = 8.\n",
      "  warnings.warn(\n",
      "/Users/archelolazabal/opt/anaconda3/lib/python3.9/site-packages/sklearn/linear_model/_logistic.py:1153: UserWarning: 'n_jobs' > 1 does not have any effect when 'solver' is set to 'liblinear'. Got 'n_jobs' = 8.\n",
      "  warnings.warn(\n",
      "/Users/archelolazabal/opt/anaconda3/lib/python3.9/site-packages/sklearn/linear_model/_logistic.py:1153: UserWarning: 'n_jobs' > 1 does not have any effect when 'solver' is set to 'liblinear'. Got 'n_jobs' = 8.\n",
      "  warnings.warn(\n",
      "/Users/archelolazabal/opt/anaconda3/lib/python3.9/site-packages/scipy/optimize/linesearch.py:478: LineSearchWarning: The line search algorithm did not converge\n",
      "  warn('The line search algorithm did not converge', LineSearchWarning)\n",
      "/Users/archelolazabal/opt/anaconda3/lib/python3.9/site-packages/scipy/optimize/linesearch.py:327: LineSearchWarning: The line search algorithm did not converge\n",
      "  warn('The line search algorithm did not converge', LineSearchWarning)\n",
      "/Users/archelolazabal/opt/anaconda3/lib/python3.9/site-packages/scipy/optimize/linesearch.py:437: LineSearchWarning: Rounding errors prevent the line search from converging\n",
      "  warn(msg, LineSearchWarning)\n",
      "/Users/archelolazabal/opt/anaconda3/lib/python3.9/site-packages/sklearn/utils/optimize.py:203: UserWarning: Line Search failed\n",
      "  warnings.warn(\"Line Search failed\")\n"
     ]
    },
    {
     "name": "stdout",
     "output_type": "stream",
     "text": [
      "[CV 1/3] END fit_intercept=False, max_iter=130, n_jobs=-1, penalty=none, random_state=26, solver=newton-cg; accuracy: (test=0.517) f1: (test=0.379) neg_root_mean_squared_error: (test=-0.695) precision: (test=0.307) recall: (test=0.492) total time=   0.3s\n"
     ]
    },
    {
     "name": "stderr",
     "output_type": "stream",
     "text": [
      "/Users/archelolazabal/opt/anaconda3/lib/python3.9/site-packages/scipy/optimize/linesearch.py:478: LineSearchWarning: The line search algorithm did not converge\n",
      "  warn('The line search algorithm did not converge', LineSearchWarning)\n",
      "/Users/archelolazabal/opt/anaconda3/lib/python3.9/site-packages/scipy/optimize/linesearch.py:327: LineSearchWarning: The line search algorithm did not converge\n",
      "  warn('The line search algorithm did not converge', LineSearchWarning)\n",
      "/Users/archelolazabal/opt/anaconda3/lib/python3.9/site-packages/scipy/optimize/linesearch.py:437: LineSearchWarning: Rounding errors prevent the line search from converging\n",
      "  warn(msg, LineSearchWarning)\n",
      "/Users/archelolazabal/opt/anaconda3/lib/python3.9/site-packages/sklearn/utils/optimize.py:203: UserWarning: Line Search failed\n",
      "  warnings.warn(\"Line Search failed\")\n"
     ]
    },
    {
     "name": "stdout",
     "output_type": "stream",
     "text": [
      "[CV 2/3] END fit_intercept=False, max_iter=130, n_jobs=-1, penalty=none, random_state=26, solver=newton-cg; accuracy: (test=0.519) f1: (test=0.382) neg_root_mean_squared_error: (test=-0.693) precision: (test=0.310) recall: (test=0.497) total time=   0.3s\n",
      "[CV 3/3] END fit_intercept=False, max_iter=130, n_jobs=-1, penalty=none, random_state=26, solver=newton-cg; accuracy: (test=0.529) f1: (test=0.386) neg_root_mean_squared_error: (test=-0.687) precision: (test=0.316) recall: (test=0.496) total time=   0.7s\n",
      "[CV 1/3] END fit_intercept=False, max_iter=130, n_jobs=-1, penalty=none, random_state=26, solver=sag; accuracy: (test=0.517) f1: (test=0.379) neg_root_mean_squared_error: (test=-0.695) precision: (test=0.307) recall: (test=0.492) total time=   0.4s\n",
      "[CV 2/3] END fit_intercept=False, max_iter=130, n_jobs=-1, penalty=none, random_state=26, solver=sag; accuracy: (test=0.519) f1: (test=0.382) neg_root_mean_squared_error: (test=-0.693) precision: (test=0.310) recall: (test=0.497) total time=   0.4s\n",
      "[CV 3/3] END fit_intercept=False, max_iter=130, n_jobs=-1, penalty=none, random_state=26, solver=sag; accuracy: (test=0.529) f1: (test=0.386) neg_root_mean_squared_error: (test=-0.687) precision: (test=0.316) recall: (test=0.496) total time=   0.4s\n",
      "[CV 1/3] END fit_intercept=False, max_iter=130, n_jobs=-1, penalty=none, random_state=26, solver=saga; accuracy: (test=0.517) f1: (test=0.379) neg_root_mean_squared_error: (test=-0.695) precision: (test=0.307) recall: (test=0.492) total time=   0.3s\n",
      "[CV 2/3] END fit_intercept=False, max_iter=130, n_jobs=-1, penalty=none, random_state=26, solver=saga; accuracy: (test=0.519) f1: (test=0.382) neg_root_mean_squared_error: (test=-0.693) precision: (test=0.310) recall: (test=0.497) total time=   0.3s\n",
      "[CV 3/3] END fit_intercept=False, max_iter=130, n_jobs=-1, penalty=none, random_state=26, solver=saga; accuracy: (test=0.529) f1: (test=0.386) neg_root_mean_squared_error: (test=-0.687) precision: (test=0.316) recall: (test=0.496) total time=   0.3s\n",
      "[CV 1/3] END fit_intercept=False, max_iter=130, n_jobs=-1, penalty=none, random_state=26, solver=lbfgs; accuracy: (test=0.517) f1: (test=0.379) neg_root_mean_squared_error: (test=-0.695) precision: (test=0.307) recall: (test=0.492) total time=   0.6s\n",
      "[CV 2/3] END fit_intercept=False, max_iter=130, n_jobs=-1, penalty=none, random_state=26, solver=lbfgs; accuracy: (test=0.519) f1: (test=0.382) neg_root_mean_squared_error: (test=-0.693) precision: (test=0.310) recall: (test=0.497) total time=   1.6s\n",
      "[CV 3/3] END fit_intercept=False, max_iter=130, n_jobs=-1, penalty=none, random_state=26, solver=lbfgs; accuracy: (test=0.529) f1: (test=0.386) neg_root_mean_squared_error: (test=-0.687) precision: (test=0.316) recall: (test=0.496) total time=   0.6s\n",
      "[CV 1/3] END fit_intercept=False, max_iter=130, n_jobs=-1, penalty=none, random_state=26, solver=liblinear; accuracy: (test=nan) f1: (test=nan) neg_root_mean_squared_error: (test=nan) precision: (test=nan) recall: (test=nan) total time=   0.0s\n",
      "[CV 2/3] END fit_intercept=False, max_iter=130, n_jobs=-1, penalty=none, random_state=26, solver=liblinear; accuracy: (test=nan) f1: (test=nan) neg_root_mean_squared_error: (test=nan) precision: (test=nan) recall: (test=nan) total time=   0.0s\n",
      "[CV 3/3] END fit_intercept=False, max_iter=130, n_jobs=-1, penalty=none, random_state=26, solver=liblinear; accuracy: (test=nan) f1: (test=nan) neg_root_mean_squared_error: (test=nan) precision: (test=nan) recall: (test=nan) total time=   0.0s\n"
     ]
    },
    {
     "name": "stderr",
     "output_type": "stream",
     "text": [
      "/Users/archelolazabal/opt/anaconda3/lib/python3.9/site-packages/scipy/optimize/linesearch.py:478: LineSearchWarning: The line search algorithm did not converge\n",
      "  warn('The line search algorithm did not converge', LineSearchWarning)\n",
      "/Users/archelolazabal/opt/anaconda3/lib/python3.9/site-packages/scipy/optimize/linesearch.py:327: LineSearchWarning: The line search algorithm did not converge\n",
      "  warn('The line search algorithm did not converge', LineSearchWarning)\n",
      "/Users/archelolazabal/opt/anaconda3/lib/python3.9/site-packages/scipy/optimize/linesearch.py:437: LineSearchWarning: Rounding errors prevent the line search from converging\n",
      "  warn(msg, LineSearchWarning)\n",
      "/Users/archelolazabal/opt/anaconda3/lib/python3.9/site-packages/sklearn/utils/optimize.py:203: UserWarning: Line Search failed\n",
      "  warnings.warn(\"Line Search failed\")\n"
     ]
    },
    {
     "name": "stdout",
     "output_type": "stream",
     "text": [
      "[CV 1/3] END fit_intercept=False, max_iter=140, n_jobs=-1, penalty=l2, random_state=26, solver=newton-cg; accuracy: (test=0.517) f1: (test=0.379) neg_root_mean_squared_error: (test=-0.695) precision: (test=0.307) recall: (test=0.492) total time=   0.3s\n"
     ]
    },
    {
     "name": "stderr",
     "output_type": "stream",
     "text": [
      "/Users/archelolazabal/opt/anaconda3/lib/python3.9/site-packages/scipy/optimize/linesearch.py:478: LineSearchWarning: The line search algorithm did not converge\n",
      "  warn('The line search algorithm did not converge', LineSearchWarning)\n",
      "/Users/archelolazabal/opt/anaconda3/lib/python3.9/site-packages/scipy/optimize/linesearch.py:327: LineSearchWarning: The line search algorithm did not converge\n",
      "  warn('The line search algorithm did not converge', LineSearchWarning)\n",
      "/Users/archelolazabal/opt/anaconda3/lib/python3.9/site-packages/scipy/optimize/linesearch.py:437: LineSearchWarning: Rounding errors prevent the line search from converging\n",
      "  warn(msg, LineSearchWarning)\n",
      "/Users/archelolazabal/opt/anaconda3/lib/python3.9/site-packages/sklearn/utils/optimize.py:203: UserWarning: Line Search failed\n",
      "  warnings.warn(\"Line Search failed\")\n"
     ]
    },
    {
     "name": "stdout",
     "output_type": "stream",
     "text": [
      "[CV 2/3] END fit_intercept=False, max_iter=140, n_jobs=-1, penalty=l2, random_state=26, solver=newton-cg; accuracy: (test=0.519) f1: (test=0.382) neg_root_mean_squared_error: (test=-0.693) precision: (test=0.310) recall: (test=0.497) total time=   0.3s\n",
      "[CV 3/3] END fit_intercept=False, max_iter=140, n_jobs=-1, penalty=l2, random_state=26, solver=newton-cg; accuracy: (test=0.529) f1: (test=0.386) neg_root_mean_squared_error: (test=-0.687) precision: (test=0.316) recall: (test=0.496) total time=   0.7s\n",
      "[CV 1/3] END fit_intercept=False, max_iter=140, n_jobs=-1, penalty=l2, random_state=26, solver=sag; accuracy: (test=0.517) f1: (test=0.379) neg_root_mean_squared_error: (test=-0.695) precision: (test=0.307) recall: (test=0.492) total time=   0.4s\n",
      "[CV 2/3] END fit_intercept=False, max_iter=140, n_jobs=-1, penalty=l2, random_state=26, solver=sag; accuracy: (test=0.519) f1: (test=0.382) neg_root_mean_squared_error: (test=-0.693) precision: (test=0.310) recall: (test=0.497) total time=   0.4s\n",
      "[CV 3/3] END fit_intercept=False, max_iter=140, n_jobs=-1, penalty=l2, random_state=26, solver=sag; accuracy: (test=0.529) f1: (test=0.386) neg_root_mean_squared_error: (test=-0.687) precision: (test=0.316) recall: (test=0.496) total time=   0.4s\n",
      "[CV 1/3] END fit_intercept=False, max_iter=140, n_jobs=-1, penalty=l2, random_state=26, solver=saga; accuracy: (test=0.517) f1: (test=0.379) neg_root_mean_squared_error: (test=-0.695) precision: (test=0.307) recall: (test=0.492) total time=   0.3s\n",
      "[CV 2/3] END fit_intercept=False, max_iter=140, n_jobs=-1, penalty=l2, random_state=26, solver=saga; accuracy: (test=0.519) f1: (test=0.382) neg_root_mean_squared_error: (test=-0.693) precision: (test=0.310) recall: (test=0.497) total time=   0.3s\n",
      "[CV 3/3] END fit_intercept=False, max_iter=140, n_jobs=-1, penalty=l2, random_state=26, solver=saga; accuracy: (test=0.529) f1: (test=0.386) neg_root_mean_squared_error: (test=-0.687) precision: (test=0.316) recall: (test=0.496) total time=   0.3s\n",
      "[CV 1/3] END fit_intercept=False, max_iter=140, n_jobs=-1, penalty=l2, random_state=26, solver=lbfgs; accuracy: (test=0.517) f1: (test=0.379) neg_root_mean_squared_error: (test=-0.695) precision: (test=0.307) recall: (test=0.492) total time=   0.6s\n",
      "[CV 2/3] END fit_intercept=False, max_iter=140, n_jobs=-1, penalty=l2, random_state=26, solver=lbfgs; accuracy: (test=0.519) f1: (test=0.382) neg_root_mean_squared_error: (test=-0.693) precision: (test=0.310) recall: (test=0.497) total time=   0.6s\n",
      "[CV 3/3] END fit_intercept=False, max_iter=140, n_jobs=-1, penalty=l2, random_state=26, solver=lbfgs; accuracy: (test=0.529) f1: (test=0.386) neg_root_mean_squared_error: (test=-0.687) precision: (test=0.316) recall: (test=0.496) total time=   0.6s\n",
      "[CV 1/3] END fit_intercept=False, max_iter=140, n_jobs=-1, penalty=l2, random_state=26, solver=liblinear; accuracy: (test=0.517) f1: (test=0.379) neg_root_mean_squared_error: (test=-0.695) precision: (test=0.307) recall: (test=0.492) total time=   0.1s\n",
      "[CV 2/3] END fit_intercept=False, max_iter=140, n_jobs=-1, penalty=l2, random_state=26, solver=liblinear; accuracy: (test=0.519) f1: (test=0.382) neg_root_mean_squared_error: (test=-0.693) precision: (test=0.310) recall: (test=0.497) total time=   0.0s\n",
      "[CV 3/3] END fit_intercept=False, max_iter=140, n_jobs=-1, penalty=l2, random_state=26, solver=liblinear; accuracy: (test=0.529) f1: (test=0.386) neg_root_mean_squared_error: (test=-0.687) precision: (test=0.316) recall: (test=0.496) total time=   0.0s\n"
     ]
    },
    {
     "name": "stderr",
     "output_type": "stream",
     "text": [
      "/Users/archelolazabal/opt/anaconda3/lib/python3.9/site-packages/sklearn/linear_model/_logistic.py:1153: UserWarning: 'n_jobs' > 1 does not have any effect when 'solver' is set to 'liblinear'. Got 'n_jobs' = 8.\n",
      "  warnings.warn(\n",
      "/Users/archelolazabal/opt/anaconda3/lib/python3.9/site-packages/sklearn/linear_model/_logistic.py:1153: UserWarning: 'n_jobs' > 1 does not have any effect when 'solver' is set to 'liblinear'. Got 'n_jobs' = 8.\n",
      "  warnings.warn(\n",
      "/Users/archelolazabal/opt/anaconda3/lib/python3.9/site-packages/sklearn/linear_model/_logistic.py:1153: UserWarning: 'n_jobs' > 1 does not have any effect when 'solver' is set to 'liblinear'. Got 'n_jobs' = 8.\n",
      "  warnings.warn(\n",
      "/Users/archelolazabal/opt/anaconda3/lib/python3.9/site-packages/scipy/optimize/linesearch.py:478: LineSearchWarning: The line search algorithm did not converge\n",
      "  warn('The line search algorithm did not converge', LineSearchWarning)\n",
      "/Users/archelolazabal/opt/anaconda3/lib/python3.9/site-packages/scipy/optimize/linesearch.py:327: LineSearchWarning: The line search algorithm did not converge\n",
      "  warn('The line search algorithm did not converge', LineSearchWarning)\n",
      "/Users/archelolazabal/opt/anaconda3/lib/python3.9/site-packages/scipy/optimize/linesearch.py:437: LineSearchWarning: Rounding errors prevent the line search from converging\n",
      "  warn(msg, LineSearchWarning)\n",
      "/Users/archelolazabal/opt/anaconda3/lib/python3.9/site-packages/sklearn/utils/optimize.py:203: UserWarning: Line Search failed\n",
      "  warnings.warn(\"Line Search failed\")\n"
     ]
    },
    {
     "name": "stdout",
     "output_type": "stream",
     "text": [
      "[CV 1/3] END fit_intercept=False, max_iter=140, n_jobs=-1, penalty=none, random_state=26, solver=newton-cg; accuracy: (test=0.517) f1: (test=0.379) neg_root_mean_squared_error: (test=-0.695) precision: (test=0.307) recall: (test=0.492) total time=   0.4s\n"
     ]
    },
    {
     "name": "stderr",
     "output_type": "stream",
     "text": [
      "/Users/archelolazabal/opt/anaconda3/lib/python3.9/site-packages/scipy/optimize/linesearch.py:478: LineSearchWarning: The line search algorithm did not converge\n",
      "  warn('The line search algorithm did not converge', LineSearchWarning)\n",
      "/Users/archelolazabal/opt/anaconda3/lib/python3.9/site-packages/scipy/optimize/linesearch.py:327: LineSearchWarning: The line search algorithm did not converge\n",
      "  warn('The line search algorithm did not converge', LineSearchWarning)\n",
      "/Users/archelolazabal/opt/anaconda3/lib/python3.9/site-packages/scipy/optimize/linesearch.py:437: LineSearchWarning: Rounding errors prevent the line search from converging\n",
      "  warn(msg, LineSearchWarning)\n",
      "/Users/archelolazabal/opt/anaconda3/lib/python3.9/site-packages/sklearn/utils/optimize.py:203: UserWarning: Line Search failed\n",
      "  warnings.warn(\"Line Search failed\")\n"
     ]
    },
    {
     "name": "stdout",
     "output_type": "stream",
     "text": [
      "[CV 2/3] END fit_intercept=False, max_iter=140, n_jobs=-1, penalty=none, random_state=26, solver=newton-cg; accuracy: (test=0.519) f1: (test=0.382) neg_root_mean_squared_error: (test=-0.693) precision: (test=0.310) recall: (test=0.497) total time=   0.4s\n",
      "[CV 3/3] END fit_intercept=False, max_iter=140, n_jobs=-1, penalty=none, random_state=26, solver=newton-cg; accuracy: (test=0.529) f1: (test=0.386) neg_root_mean_squared_error: (test=-0.687) precision: (test=0.316) recall: (test=0.496) total time=   0.7s\n",
      "[CV 1/3] END fit_intercept=False, max_iter=140, n_jobs=-1, penalty=none, random_state=26, solver=sag; accuracy: (test=0.517) f1: (test=0.379) neg_root_mean_squared_error: (test=-0.695) precision: (test=0.307) recall: (test=0.492) total time=   0.4s\n",
      "[CV 2/3] END fit_intercept=False, max_iter=140, n_jobs=-1, penalty=none, random_state=26, solver=sag; accuracy: (test=0.519) f1: (test=0.382) neg_root_mean_squared_error: (test=-0.693) precision: (test=0.310) recall: (test=0.497) total time=   0.5s\n",
      "[CV 3/3] END fit_intercept=False, max_iter=140, n_jobs=-1, penalty=none, random_state=26, solver=sag; accuracy: (test=0.529) f1: (test=0.386) neg_root_mean_squared_error: (test=-0.687) precision: (test=0.316) recall: (test=0.496) total time=   0.5s\n",
      "[CV 1/3] END fit_intercept=False, max_iter=140, n_jobs=-1, penalty=none, random_state=26, solver=saga; accuracy: (test=0.517) f1: (test=0.379) neg_root_mean_squared_error: (test=-0.695) precision: (test=0.307) recall: (test=0.492) total time=   0.4s\n",
      "[CV 2/3] END fit_intercept=False, max_iter=140, n_jobs=-1, penalty=none, random_state=26, solver=saga; accuracy: (test=0.519) f1: (test=0.382) neg_root_mean_squared_error: (test=-0.693) precision: (test=0.310) recall: (test=0.497) total time=   0.4s\n",
      "[CV 3/3] END fit_intercept=False, max_iter=140, n_jobs=-1, penalty=none, random_state=26, solver=saga; accuracy: (test=0.529) f1: (test=0.386) neg_root_mean_squared_error: (test=-0.687) precision: (test=0.316) recall: (test=0.496) total time=   0.4s\n",
      "[CV 1/3] END fit_intercept=False, max_iter=140, n_jobs=-1, penalty=none, random_state=26, solver=lbfgs; accuracy: (test=0.517) f1: (test=0.379) neg_root_mean_squared_error: (test=-0.695) precision: (test=0.307) recall: (test=0.492) total time=   0.6s\n",
      "[CV 2/3] END fit_intercept=False, max_iter=140, n_jobs=-1, penalty=none, random_state=26, solver=lbfgs; accuracy: (test=0.519) f1: (test=0.382) neg_root_mean_squared_error: (test=-0.693) precision: (test=0.310) recall: (test=0.497) total time=   0.6s\n",
      "[CV 3/3] END fit_intercept=False, max_iter=140, n_jobs=-1, penalty=none, random_state=26, solver=lbfgs; accuracy: (test=0.529) f1: (test=0.386) neg_root_mean_squared_error: (test=-0.687) precision: (test=0.316) recall: (test=0.496) total time=   0.6s\n",
      "[CV 1/3] END fit_intercept=False, max_iter=140, n_jobs=-1, penalty=none, random_state=26, solver=liblinear; accuracy: (test=nan) f1: (test=nan) neg_root_mean_squared_error: (test=nan) precision: (test=nan) recall: (test=nan) total time=   0.0s\n",
      "[CV 2/3] END fit_intercept=False, max_iter=140, n_jobs=-1, penalty=none, random_state=26, solver=liblinear; accuracy: (test=nan) f1: (test=nan) neg_root_mean_squared_error: (test=nan) precision: (test=nan) recall: (test=nan) total time=   0.0s\n",
      "[CV 3/3] END fit_intercept=False, max_iter=140, n_jobs=-1, penalty=none, random_state=26, solver=liblinear; accuracy: (test=nan) f1: (test=nan) neg_root_mean_squared_error: (test=nan) precision: (test=nan) recall: (test=nan) total time=   0.0s\n"
     ]
    },
    {
     "name": "stderr",
     "output_type": "stream",
     "text": [
      "/Users/archelolazabal/opt/anaconda3/lib/python3.9/site-packages/scipy/optimize/linesearch.py:478: LineSearchWarning: The line search algorithm did not converge\n",
      "  warn('The line search algorithm did not converge', LineSearchWarning)\n",
      "/Users/archelolazabal/opt/anaconda3/lib/python3.9/site-packages/scipy/optimize/linesearch.py:327: LineSearchWarning: The line search algorithm did not converge\n",
      "  warn('The line search algorithm did not converge', LineSearchWarning)\n",
      "/Users/archelolazabal/opt/anaconda3/lib/python3.9/site-packages/scipy/optimize/linesearch.py:437: LineSearchWarning: Rounding errors prevent the line search from converging\n",
      "  warn(msg, LineSearchWarning)\n",
      "/Users/archelolazabal/opt/anaconda3/lib/python3.9/site-packages/sklearn/utils/optimize.py:203: UserWarning: Line Search failed\n",
      "  warnings.warn(\"Line Search failed\")\n"
     ]
    },
    {
     "name": "stdout",
     "output_type": "stream",
     "text": [
      "[CV 1/3] END fit_intercept=False, max_iter=150, n_jobs=-1, penalty=l2, random_state=26, solver=newton-cg; accuracy: (test=0.517) f1: (test=0.379) neg_root_mean_squared_error: (test=-0.695) precision: (test=0.307) recall: (test=0.492) total time=   0.3s\n"
     ]
    },
    {
     "name": "stderr",
     "output_type": "stream",
     "text": [
      "/Users/archelolazabal/opt/anaconda3/lib/python3.9/site-packages/scipy/optimize/linesearch.py:478: LineSearchWarning: The line search algorithm did not converge\n",
      "  warn('The line search algorithm did not converge', LineSearchWarning)\n",
      "/Users/archelolazabal/opt/anaconda3/lib/python3.9/site-packages/scipy/optimize/linesearch.py:327: LineSearchWarning: The line search algorithm did not converge\n",
      "  warn('The line search algorithm did not converge', LineSearchWarning)\n",
      "/Users/archelolazabal/opt/anaconda3/lib/python3.9/site-packages/scipy/optimize/linesearch.py:437: LineSearchWarning: Rounding errors prevent the line search from converging\n",
      "  warn(msg, LineSearchWarning)\n",
      "/Users/archelolazabal/opt/anaconda3/lib/python3.9/site-packages/sklearn/utils/optimize.py:203: UserWarning: Line Search failed\n",
      "  warnings.warn(\"Line Search failed\")\n"
     ]
    },
    {
     "name": "stdout",
     "output_type": "stream",
     "text": [
      "[CV 2/3] END fit_intercept=False, max_iter=150, n_jobs=-1, penalty=l2, random_state=26, solver=newton-cg; accuracy: (test=0.519) f1: (test=0.382) neg_root_mean_squared_error: (test=-0.693) precision: (test=0.310) recall: (test=0.497) total time=   0.3s\n"
     ]
    },
    {
     "name": "stderr",
     "output_type": "stream",
     "text": [
      "/Users/archelolazabal/opt/anaconda3/lib/python3.9/site-packages/scipy/optimize/linesearch.py:478: LineSearchWarning: The line search algorithm did not converge\n",
      "  warn('The line search algorithm did not converge', LineSearchWarning)\n",
      "/Users/archelolazabal/opt/anaconda3/lib/python3.9/site-packages/scipy/optimize/linesearch.py:327: LineSearchWarning: The line search algorithm did not converge\n",
      "  warn('The line search algorithm did not converge', LineSearchWarning)\n",
      "/Users/archelolazabal/opt/anaconda3/lib/python3.9/site-packages/sklearn/utils/optimize.py:203: UserWarning: Line Search failed\n",
      "  warnings.warn(\"Line Search failed\")\n"
     ]
    },
    {
     "name": "stdout",
     "output_type": "stream",
     "text": [
      "[CV 3/3] END fit_intercept=False, max_iter=150, n_jobs=-1, penalty=l2, random_state=26, solver=newton-cg; accuracy: (test=0.529) f1: (test=0.386) neg_root_mean_squared_error: (test=-0.687) precision: (test=0.316) recall: (test=0.496) total time=   0.8s\n",
      "[CV 1/3] END fit_intercept=False, max_iter=150, n_jobs=-1, penalty=l2, random_state=26, solver=sag; accuracy: (test=0.517) f1: (test=0.379) neg_root_mean_squared_error: (test=-0.695) precision: (test=0.307) recall: (test=0.492) total time=   0.4s\n",
      "[CV 2/3] END fit_intercept=False, max_iter=150, n_jobs=-1, penalty=l2, random_state=26, solver=sag; accuracy: (test=0.519) f1: (test=0.382) neg_root_mean_squared_error: (test=-0.693) precision: (test=0.310) recall: (test=0.497) total time=   0.5s\n",
      "[CV 3/3] END fit_intercept=False, max_iter=150, n_jobs=-1, penalty=l2, random_state=26, solver=sag; accuracy: (test=0.529) f1: (test=0.386) neg_root_mean_squared_error: (test=-0.687) precision: (test=0.316) recall: (test=0.496) total time=   0.4s\n",
      "[CV 1/3] END fit_intercept=False, max_iter=150, n_jobs=-1, penalty=l2, random_state=26, solver=saga; accuracy: (test=0.517) f1: (test=0.379) neg_root_mean_squared_error: (test=-0.695) precision: (test=0.307) recall: (test=0.492) total time=   0.3s\n",
      "[CV 2/3] END fit_intercept=False, max_iter=150, n_jobs=-1, penalty=l2, random_state=26, solver=saga; accuracy: (test=0.519) f1: (test=0.382) neg_root_mean_squared_error: (test=-0.693) precision: (test=0.310) recall: (test=0.497) total time=   0.4s\n",
      "[CV 3/3] END fit_intercept=False, max_iter=150, n_jobs=-1, penalty=l2, random_state=26, solver=saga; accuracy: (test=0.529) f1: (test=0.386) neg_root_mean_squared_error: (test=-0.687) precision: (test=0.316) recall: (test=0.496) total time=   0.3s\n",
      "[CV 1/3] END fit_intercept=False, max_iter=150, n_jobs=-1, penalty=l2, random_state=26, solver=lbfgs; accuracy: (test=0.517) f1: (test=0.379) neg_root_mean_squared_error: (test=-0.695) precision: (test=0.307) recall: (test=0.492) total time=   0.6s\n",
      "[CV 2/3] END fit_intercept=False, max_iter=150, n_jobs=-1, penalty=l2, random_state=26, solver=lbfgs; accuracy: (test=0.519) f1: (test=0.382) neg_root_mean_squared_error: (test=-0.693) precision: (test=0.310) recall: (test=0.497) total time=   0.6s\n",
      "[CV 3/3] END fit_intercept=False, max_iter=150, n_jobs=-1, penalty=l2, random_state=26, solver=lbfgs; accuracy: (test=0.529) f1: (test=0.386) neg_root_mean_squared_error: (test=-0.687) precision: (test=0.316) recall: (test=0.496) total time=   0.6s\n",
      "[CV 1/3] END fit_intercept=False, max_iter=150, n_jobs=-1, penalty=l2, random_state=26, solver=liblinear; accuracy: (test=0.517) f1: (test=0.379) neg_root_mean_squared_error: (test=-0.695) precision: (test=0.307) recall: (test=0.492) total time=   0.1s\n",
      "[CV 2/3] END fit_intercept=False, max_iter=150, n_jobs=-1, penalty=l2, random_state=26, solver=liblinear; accuracy: (test=0.519) f1: (test=0.382) neg_root_mean_squared_error: (test=-0.693) precision: (test=0.310) recall: (test=0.497) total time=   0.0s\n",
      "[CV 3/3] END fit_intercept=False, max_iter=150, n_jobs=-1, penalty=l2, random_state=26, solver=liblinear; accuracy: (test=0.529) f1: (test=0.386) neg_root_mean_squared_error: (test=-0.687) precision: (test=0.316) recall: (test=0.496) total time=   0.0s\n"
     ]
    },
    {
     "name": "stderr",
     "output_type": "stream",
     "text": [
      "/Users/archelolazabal/opt/anaconda3/lib/python3.9/site-packages/sklearn/linear_model/_logistic.py:1153: UserWarning: 'n_jobs' > 1 does not have any effect when 'solver' is set to 'liblinear'. Got 'n_jobs' = 8.\n",
      "  warnings.warn(\n",
      "/Users/archelolazabal/opt/anaconda3/lib/python3.9/site-packages/sklearn/linear_model/_logistic.py:1153: UserWarning: 'n_jobs' > 1 does not have any effect when 'solver' is set to 'liblinear'. Got 'n_jobs' = 8.\n",
      "  warnings.warn(\n",
      "/Users/archelolazabal/opt/anaconda3/lib/python3.9/site-packages/sklearn/linear_model/_logistic.py:1153: UserWarning: 'n_jobs' > 1 does not have any effect when 'solver' is set to 'liblinear'. Got 'n_jobs' = 8.\n",
      "  warnings.warn(\n",
      "/Users/archelolazabal/opt/anaconda3/lib/python3.9/site-packages/scipy/optimize/linesearch.py:478: LineSearchWarning: The line search algorithm did not converge\n",
      "  warn('The line search algorithm did not converge', LineSearchWarning)\n",
      "/Users/archelolazabal/opt/anaconda3/lib/python3.9/site-packages/scipy/optimize/linesearch.py:327: LineSearchWarning: The line search algorithm did not converge\n",
      "  warn('The line search algorithm did not converge', LineSearchWarning)\n",
      "/Users/archelolazabal/opt/anaconda3/lib/python3.9/site-packages/scipy/optimize/linesearch.py:437: LineSearchWarning: Rounding errors prevent the line search from converging\n",
      "  warn(msg, LineSearchWarning)\n",
      "/Users/archelolazabal/opt/anaconda3/lib/python3.9/site-packages/sklearn/utils/optimize.py:203: UserWarning: Line Search failed\n",
      "  warnings.warn(\"Line Search failed\")\n"
     ]
    },
    {
     "name": "stdout",
     "output_type": "stream",
     "text": [
      "[CV 1/3] END fit_intercept=False, max_iter=150, n_jobs=-1, penalty=none, random_state=26, solver=newton-cg; accuracy: (test=0.517) f1: (test=0.379) neg_root_mean_squared_error: (test=-0.695) precision: (test=0.307) recall: (test=0.492) total time=   0.3s\n"
     ]
    },
    {
     "name": "stderr",
     "output_type": "stream",
     "text": [
      "/Users/archelolazabal/opt/anaconda3/lib/python3.9/site-packages/scipy/optimize/linesearch.py:478: LineSearchWarning: The line search algorithm did not converge\n",
      "  warn('The line search algorithm did not converge', LineSearchWarning)\n",
      "/Users/archelolazabal/opt/anaconda3/lib/python3.9/site-packages/scipy/optimize/linesearch.py:327: LineSearchWarning: The line search algorithm did not converge\n",
      "  warn('The line search algorithm did not converge', LineSearchWarning)\n",
      "/Users/archelolazabal/opt/anaconda3/lib/python3.9/site-packages/scipy/optimize/linesearch.py:437: LineSearchWarning: Rounding errors prevent the line search from converging\n",
      "  warn(msg, LineSearchWarning)\n",
      "/Users/archelolazabal/opt/anaconda3/lib/python3.9/site-packages/sklearn/utils/optimize.py:203: UserWarning: Line Search failed\n",
      "  warnings.warn(\"Line Search failed\")\n"
     ]
    },
    {
     "name": "stdout",
     "output_type": "stream",
     "text": [
      "[CV 2/3] END fit_intercept=False, max_iter=150, n_jobs=-1, penalty=none, random_state=26, solver=newton-cg; accuracy: (test=0.519) f1: (test=0.382) neg_root_mean_squared_error: (test=-0.693) precision: (test=0.310) recall: (test=0.497) total time=   0.3s\n"
     ]
    },
    {
     "name": "stderr",
     "output_type": "stream",
     "text": [
      "/Users/archelolazabal/opt/anaconda3/lib/python3.9/site-packages/scipy/optimize/linesearch.py:478: LineSearchWarning: The line search algorithm did not converge\n",
      "  warn('The line search algorithm did not converge', LineSearchWarning)\n",
      "/Users/archelolazabal/opt/anaconda3/lib/python3.9/site-packages/scipy/optimize/linesearch.py:327: LineSearchWarning: The line search algorithm did not converge\n",
      "  warn('The line search algorithm did not converge', LineSearchWarning)\n",
      "/Users/archelolazabal/opt/anaconda3/lib/python3.9/site-packages/sklearn/utils/optimize.py:203: UserWarning: Line Search failed\n",
      "  warnings.warn(\"Line Search failed\")\n"
     ]
    },
    {
     "name": "stdout",
     "output_type": "stream",
     "text": [
      "[CV 3/3] END fit_intercept=False, max_iter=150, n_jobs=-1, penalty=none, random_state=26, solver=newton-cg; accuracy: (test=0.529) f1: (test=0.386) neg_root_mean_squared_error: (test=-0.687) precision: (test=0.316) recall: (test=0.496) total time=   0.8s\n",
      "[CV 1/3] END fit_intercept=False, max_iter=150, n_jobs=-1, penalty=none, random_state=26, solver=sag; accuracy: (test=0.517) f1: (test=0.379) neg_root_mean_squared_error: (test=-0.695) precision: (test=0.307) recall: (test=0.492) total time=   0.4s\n",
      "[CV 2/3] END fit_intercept=False, max_iter=150, n_jobs=-1, penalty=none, random_state=26, solver=sag; accuracy: (test=0.519) f1: (test=0.382) neg_root_mean_squared_error: (test=-0.693) precision: (test=0.310) recall: (test=0.497) total time=   0.5s\n",
      "[CV 3/3] END fit_intercept=False, max_iter=150, n_jobs=-1, penalty=none, random_state=26, solver=sag; accuracy: (test=0.529) f1: (test=0.386) neg_root_mean_squared_error: (test=-0.687) precision: (test=0.316) recall: (test=0.496) total time=   0.4s\n",
      "[CV 1/3] END fit_intercept=False, max_iter=150, n_jobs=-1, penalty=none, random_state=26, solver=saga; accuracy: (test=0.517) f1: (test=0.379) neg_root_mean_squared_error: (test=-0.695) precision: (test=0.307) recall: (test=0.492) total time=   0.3s\n",
      "[CV 2/3] END fit_intercept=False, max_iter=150, n_jobs=-1, penalty=none, random_state=26, solver=saga; accuracy: (test=0.519) f1: (test=0.382) neg_root_mean_squared_error: (test=-0.693) precision: (test=0.310) recall: (test=0.497) total time=   0.4s\n",
      "[CV 3/3] END fit_intercept=False, max_iter=150, n_jobs=-1, penalty=none, random_state=26, solver=saga; accuracy: (test=0.529) f1: (test=0.386) neg_root_mean_squared_error: (test=-0.687) precision: (test=0.316) recall: (test=0.496) total time=   0.3s\n",
      "[CV 1/3] END fit_intercept=False, max_iter=150, n_jobs=-1, penalty=none, random_state=26, solver=lbfgs; accuracy: (test=0.517) f1: (test=0.379) neg_root_mean_squared_error: (test=-0.695) precision: (test=0.307) recall: (test=0.492) total time=   0.6s\n",
      "[CV 2/3] END fit_intercept=False, max_iter=150, n_jobs=-1, penalty=none, random_state=26, solver=lbfgs; accuracy: (test=0.519) f1: (test=0.382) neg_root_mean_squared_error: (test=-0.693) precision: (test=0.310) recall: (test=0.497) total time=   0.6s\n",
      "[CV 3/3] END fit_intercept=False, max_iter=150, n_jobs=-1, penalty=none, random_state=26, solver=lbfgs; accuracy: (test=0.529) f1: (test=0.386) neg_root_mean_squared_error: (test=-0.687) precision: (test=0.316) recall: (test=0.496) total time=   0.6s\n",
      "[CV 1/3] END fit_intercept=False, max_iter=150, n_jobs=-1, penalty=none, random_state=26, solver=liblinear; accuracy: (test=nan) f1: (test=nan) neg_root_mean_squared_error: (test=nan) precision: (test=nan) recall: (test=nan) total time=   0.0s\n",
      "[CV 2/3] END fit_intercept=False, max_iter=150, n_jobs=-1, penalty=none, random_state=26, solver=liblinear; accuracy: (test=nan) f1: (test=nan) neg_root_mean_squared_error: (test=nan) precision: (test=nan) recall: (test=nan) total time=   0.0s\n",
      "[CV 3/3] END fit_intercept=False, max_iter=150, n_jobs=-1, penalty=none, random_state=26, solver=liblinear; accuracy: (test=nan) f1: (test=nan) neg_root_mean_squared_error: (test=nan) precision: (test=nan) recall: (test=nan) total time=   0.0s\n"
     ]
    },
    {
     "name": "stderr",
     "output_type": "stream",
     "text": [
      "/Users/archelolazabal/opt/anaconda3/lib/python3.9/site-packages/sklearn/model_selection/_validation.py:378: FitFailedWarning: \n",
      "18 fits failed out of a total of 180.\n",
      "The score on these train-test partitions for these parameters will be set to nan.\n",
      "If these failures are not expected, you can try to debug them by setting error_score='raise'.\n",
      "\n",
      "Below are more details about the failures:\n",
      "--------------------------------------------------------------------------------\n",
      "18 fits failed with the following error:\n",
      "Traceback (most recent call last):\n",
      "  File \"/Users/archelolazabal/opt/anaconda3/lib/python3.9/site-packages/sklearn/model_selection/_validation.py\", line 686, in _fit_and_score\n",
      "    estimator.fit(X_train, y_train, **fit_params)\n",
      "  File \"/Users/archelolazabal/opt/anaconda3/lib/python3.9/site-packages/sklearn/linear_model/_logistic.py\", line 1091, in fit\n",
      "    solver = _check_solver(self.solver, self.penalty, self.dual)\n",
      "  File \"/Users/archelolazabal/opt/anaconda3/lib/python3.9/site-packages/sklearn/linear_model/_logistic.py\", line 78, in _check_solver\n",
      "    raise ValueError(\"penalty='none' is not supported for the liblinear solver\")\n",
      "ValueError: penalty='none' is not supported for the liblinear solver\n",
      "\n",
      "  warnings.warn(some_fits_failed_message, FitFailedWarning)\n",
      "/Users/archelolazabal/opt/anaconda3/lib/python3.9/site-packages/sklearn/model_selection/_search.py:953: UserWarning: One or more of the test scores are non-finite: [0.38215365 0.38215365 0.38215365 0.38215365 0.38215365 0.38215365\n",
      " 0.38215365 0.38215365 0.38215365        nan 0.38215365 0.38215365\n",
      " 0.38215365 0.38215365 0.38215365 0.38215365 0.38215365 0.38215365\n",
      " 0.38215365        nan 0.38215365 0.38215365 0.38215365 0.38215365\n",
      " 0.38215365 0.38215365 0.38215365 0.38215365 0.38215365        nan\n",
      " 0.38215365 0.38215365 0.38215365 0.38215365 0.38215365 0.38215365\n",
      " 0.38215365 0.38215365 0.38215365        nan 0.38215365 0.38215365\n",
      " 0.38215365 0.38215365 0.38215365 0.38215365 0.38215365 0.38215365\n",
      " 0.38215365        nan 0.38215365 0.38215365 0.38215365 0.38215365\n",
      " 0.38215365 0.38215365 0.38215365 0.38215365 0.38215365        nan]\n",
      "  warnings.warn(\n",
      "/Users/archelolazabal/opt/anaconda3/lib/python3.9/site-packages/sklearn/model_selection/_search.py:953: UserWarning: One or more of the test scores are non-finite: [0.31121209 0.31121209 0.31121209 0.31121209 0.31121209 0.31121209\n",
      " 0.31121209 0.31121209 0.31121209        nan 0.31121209 0.31121209\n",
      " 0.31121209 0.31121209 0.31121209 0.31121209 0.31121209 0.31121209\n",
      " 0.31121209        nan 0.31121209 0.31121209 0.31121209 0.31121209\n",
      " 0.31121209 0.31121209 0.31121209 0.31121209 0.31121209        nan\n",
      " 0.31121209 0.31121209 0.31121209 0.31121209 0.31121209 0.31121209\n",
      " 0.31121209 0.31121209 0.31121209        nan 0.31121209 0.31121209\n",
      " 0.31121209 0.31121209 0.31121209 0.31121209 0.31121209 0.31121209\n",
      " 0.31121209        nan 0.31121209 0.31121209 0.31121209 0.31121209\n",
      " 0.31121209 0.31121209 0.31121209 0.31121209 0.31121209        nan]\n",
      "  warnings.warn(\n",
      "/Users/archelolazabal/opt/anaconda3/lib/python3.9/site-packages/sklearn/model_selection/_search.py:953: UserWarning: One or more of the test scores are non-finite: [0.49501773 0.49501773 0.49501773 0.49501773 0.49501773 0.49501773\n",
      " 0.49501773 0.49501773 0.49501773        nan 0.49501773 0.49501773\n",
      " 0.49501773 0.49501773 0.49501773 0.49501773 0.49501773 0.49501773\n",
      " 0.49501773        nan 0.49501773 0.49501773 0.49501773 0.49501773\n",
      " 0.49501773 0.49501773 0.49501773 0.49501773 0.49501773        nan\n",
      " 0.49501773 0.49501773 0.49501773 0.49501773 0.49501773 0.49501773\n",
      " 0.49501773 0.49501773 0.49501773        nan 0.49501773 0.49501773\n",
      " 0.49501773 0.49501773 0.49501773 0.49501773 0.49501773 0.49501773\n",
      " 0.49501773        nan 0.49501773 0.49501773 0.49501773 0.49501773\n",
      " 0.49501773 0.49501773 0.49501773 0.49501773 0.49501773        nan]\n",
      "  warnings.warn(\n",
      "/Users/archelolazabal/opt/anaconda3/lib/python3.9/site-packages/sklearn/model_selection/_search.py:953: UserWarning: One or more of the test scores are non-finite: [0.52148827 0.52148827 0.52148827 0.52148827 0.52148827 0.52148827\n",
      " 0.52148827 0.52148827 0.52148827        nan 0.52148827 0.52148827\n",
      " 0.52148827 0.52148827 0.52148827 0.52148827 0.52148827 0.52148827\n",
      " 0.52148827        nan 0.52148827 0.52148827 0.52148827 0.52148827\n",
      " 0.52148827 0.52148827 0.52148827 0.52148827 0.52148827        nan\n",
      " 0.52148827 0.52148827 0.52148827 0.52148827 0.52148827 0.52148827\n",
      " 0.52148827 0.52148827 0.52148827        nan 0.52148827 0.52148827\n",
      " 0.52148827 0.52148827 0.52148827 0.52148827 0.52148827 0.52148827\n",
      " 0.52148827        nan 0.52148827 0.52148827 0.52148827 0.52148827\n",
      " 0.52148827 0.52148827 0.52148827 0.52148827 0.52148827        nan]\n",
      "  warnings.warn(\n",
      "/Users/archelolazabal/opt/anaconda3/lib/python3.9/site-packages/sklearn/model_selection/_search.py:953: UserWarning: One or more of the test scores are non-finite: [-0.6917356 -0.6917356 -0.6917356 -0.6917356 -0.6917356 -0.6917356\n",
      " -0.6917356 -0.6917356 -0.6917356        nan -0.6917356 -0.6917356\n",
      " -0.6917356 -0.6917356 -0.6917356 -0.6917356 -0.6917356 -0.6917356\n",
      " -0.6917356        nan -0.6917356 -0.6917356 -0.6917356 -0.6917356\n",
      " -0.6917356 -0.6917356 -0.6917356 -0.6917356 -0.6917356        nan\n",
      " -0.6917356 -0.6917356 -0.6917356 -0.6917356 -0.6917356 -0.6917356\n",
      " -0.6917356 -0.6917356 -0.6917356        nan -0.6917356 -0.6917356\n",
      " -0.6917356 -0.6917356 -0.6917356 -0.6917356 -0.6917356 -0.6917356\n",
      " -0.6917356        nan -0.6917356 -0.6917356 -0.6917356 -0.6917356\n",
      " -0.6917356 -0.6917356 -0.6917356 -0.6917356 -0.6917356        nan]\n",
      "  warnings.warn(\n",
      "/Users/archelolazabal/opt/anaconda3/lib/python3.9/site-packages/scipy/optimize/linesearch.py:327: LineSearchWarning: The line search algorithm did not converge\n",
      "  warn('The line search algorithm did not converge', LineSearchWarning)\n",
      "/Users/archelolazabal/opt/anaconda3/lib/python3.9/site-packages/sklearn/utils/optimize.py:203: UserWarning: Line Search failed\n",
      "  warnings.warn(\"Line Search failed\")\n"
     ]
    },
    {
     "data": {
      "text/html": [
       "<style>#sk-container-id-2 {color: black;background-color: white;}#sk-container-id-2 pre{padding: 0;}#sk-container-id-2 div.sk-toggleable {background-color: white;}#sk-container-id-2 label.sk-toggleable__label {cursor: pointer;display: block;width: 100%;margin-bottom: 0;padding: 0.3em;box-sizing: border-box;text-align: center;}#sk-container-id-2 label.sk-toggleable__label-arrow:before {content: \"▸\";float: left;margin-right: 0.25em;color: #696969;}#sk-container-id-2 label.sk-toggleable__label-arrow:hover:before {color: black;}#sk-container-id-2 div.sk-estimator:hover label.sk-toggleable__label-arrow:before {color: black;}#sk-container-id-2 div.sk-toggleable__content {max-height: 0;max-width: 0;overflow: hidden;text-align: left;background-color: #f0f8ff;}#sk-container-id-2 div.sk-toggleable__content pre {margin: 0.2em;color: black;border-radius: 0.25em;background-color: #f0f8ff;}#sk-container-id-2 input.sk-toggleable__control:checked~div.sk-toggleable__content {max-height: 200px;max-width: 100%;overflow: auto;}#sk-container-id-2 input.sk-toggleable__control:checked~label.sk-toggleable__label-arrow:before {content: \"▾\";}#sk-container-id-2 div.sk-estimator input.sk-toggleable__control:checked~label.sk-toggleable__label {background-color: #d4ebff;}#sk-container-id-2 div.sk-label input.sk-toggleable__control:checked~label.sk-toggleable__label {background-color: #d4ebff;}#sk-container-id-2 input.sk-hidden--visually {border: 0;clip: rect(1px 1px 1px 1px);clip: rect(1px, 1px, 1px, 1px);height: 1px;margin: -1px;overflow: hidden;padding: 0;position: absolute;width: 1px;}#sk-container-id-2 div.sk-estimator {font-family: monospace;background-color: #f0f8ff;border: 1px dotted black;border-radius: 0.25em;box-sizing: border-box;margin-bottom: 0.5em;}#sk-container-id-2 div.sk-estimator:hover {background-color: #d4ebff;}#sk-container-id-2 div.sk-parallel-item::after {content: \"\";width: 100%;border-bottom: 1px solid gray;flex-grow: 1;}#sk-container-id-2 div.sk-label:hover label.sk-toggleable__label {background-color: #d4ebff;}#sk-container-id-2 div.sk-serial::before {content: \"\";position: absolute;border-left: 1px solid gray;box-sizing: border-box;top: 0;bottom: 0;left: 50%;z-index: 0;}#sk-container-id-2 div.sk-serial {display: flex;flex-direction: column;align-items: center;background-color: white;padding-right: 0.2em;padding-left: 0.2em;position: relative;}#sk-container-id-2 div.sk-item {position: relative;z-index: 1;}#sk-container-id-2 div.sk-parallel {display: flex;align-items: stretch;justify-content: center;background-color: white;position: relative;}#sk-container-id-2 div.sk-item::before, #sk-container-id-2 div.sk-parallel-item::before {content: \"\";position: absolute;border-left: 1px solid gray;box-sizing: border-box;top: 0;bottom: 0;left: 50%;z-index: -1;}#sk-container-id-2 div.sk-parallel-item {display: flex;flex-direction: column;z-index: 1;position: relative;background-color: white;}#sk-container-id-2 div.sk-parallel-item:first-child::after {align-self: flex-end;width: 50%;}#sk-container-id-2 div.sk-parallel-item:last-child::after {align-self: flex-start;width: 50%;}#sk-container-id-2 div.sk-parallel-item:only-child::after {width: 0;}#sk-container-id-2 div.sk-dashed-wrapped {border: 1px dashed gray;margin: 0 0.4em 0.5em 0.4em;box-sizing: border-box;padding-bottom: 0.4em;background-color: white;}#sk-container-id-2 div.sk-label label {font-family: monospace;font-weight: bold;display: inline-block;line-height: 1.2em;}#sk-container-id-2 div.sk-label-container {text-align: center;}#sk-container-id-2 div.sk-container {/* jupyter's `normalize.less` sets `[hidden] { display: none; }` but bootstrap.min.css set `[hidden] { display: none !important; }` so we also need the `!important` here to be able to override the default hidden behavior on the sphinx rendered scikit-learn.org. See: https://github.com/scikit-learn/scikit-learn/issues/21755 */display: inline-block !important;position: relative;}#sk-container-id-2 div.sk-text-repr-fallback {display: none;}</style><div id=\"sk-container-id-2\" class=\"sk-top-container\"><div class=\"sk-text-repr-fallback\"><pre>GridSearchCV(cv=3, estimator=LogisticRegression(),\n",
       "             param_grid={&#x27;fit_intercept&#x27;: [True, False],\n",
       "                         &#x27;max_iter&#x27;: [130, 140, 150], &#x27;n_jobs&#x27;: [-1],\n",
       "                         &#x27;penalty&#x27;: [&#x27;l2&#x27;, &#x27;none&#x27;], &#x27;random_state&#x27;: [26],\n",
       "                         &#x27;solver&#x27;: [&#x27;newton-cg&#x27;, &#x27;sag&#x27;, &#x27;saga&#x27;, &#x27;lbfgs&#x27;,\n",
       "                                    &#x27;liblinear&#x27;]},\n",
       "             refit=&#x27;f1&#x27;,\n",
       "             scoring=[&#x27;f1&#x27;, &#x27;precision&#x27;, &#x27;recall&#x27;, &#x27;accuracy&#x27;,\n",
       "                      &#x27;neg_root_mean_squared_error&#x27;],\n",
       "             verbose=4)</pre><b>In a Jupyter environment, please rerun this cell to show the HTML representation or trust the notebook. <br />On GitHub, the HTML representation is unable to render, please try loading this page with nbviewer.org.</b></div><div class=\"sk-container\" hidden><div class=\"sk-item sk-dashed-wrapped\"><div class=\"sk-label-container\"><div class=\"sk-label sk-toggleable\"><input class=\"sk-toggleable__control sk-hidden--visually\" id=\"sk-estimator-id-4\" type=\"checkbox\" ><label for=\"sk-estimator-id-4\" class=\"sk-toggleable__label sk-toggleable__label-arrow\">GridSearchCV</label><div class=\"sk-toggleable__content\"><pre>GridSearchCV(cv=3, estimator=LogisticRegression(),\n",
       "             param_grid={&#x27;fit_intercept&#x27;: [True, False],\n",
       "                         &#x27;max_iter&#x27;: [130, 140, 150], &#x27;n_jobs&#x27;: [-1],\n",
       "                         &#x27;penalty&#x27;: [&#x27;l2&#x27;, &#x27;none&#x27;], &#x27;random_state&#x27;: [26],\n",
       "                         &#x27;solver&#x27;: [&#x27;newton-cg&#x27;, &#x27;sag&#x27;, &#x27;saga&#x27;, &#x27;lbfgs&#x27;,\n",
       "                                    &#x27;liblinear&#x27;]},\n",
       "             refit=&#x27;f1&#x27;,\n",
       "             scoring=[&#x27;f1&#x27;, &#x27;precision&#x27;, &#x27;recall&#x27;, &#x27;accuracy&#x27;,\n",
       "                      &#x27;neg_root_mean_squared_error&#x27;],\n",
       "             verbose=4)</pre></div></div></div><div class=\"sk-parallel\"><div class=\"sk-parallel-item\"><div class=\"sk-item\"><div class=\"sk-label-container\"><div class=\"sk-label sk-toggleable\"><input class=\"sk-toggleable__control sk-hidden--visually\" id=\"sk-estimator-id-5\" type=\"checkbox\" ><label for=\"sk-estimator-id-5\" class=\"sk-toggleable__label sk-toggleable__label-arrow\">estimator: LogisticRegression</label><div class=\"sk-toggleable__content\"><pre>LogisticRegression()</pre></div></div></div><div class=\"sk-serial\"><div class=\"sk-item\"><div class=\"sk-estimator sk-toggleable\"><input class=\"sk-toggleable__control sk-hidden--visually\" id=\"sk-estimator-id-6\" type=\"checkbox\" ><label for=\"sk-estimator-id-6\" class=\"sk-toggleable__label sk-toggleable__label-arrow\">LogisticRegression</label><div class=\"sk-toggleable__content\"><pre>LogisticRegression()</pre></div></div></div></div></div></div></div></div></div></div>"
      ],
      "text/plain": [
       "GridSearchCV(cv=3, estimator=LogisticRegression(),\n",
       "             param_grid={'fit_intercept': [True, False],\n",
       "                         'max_iter': [130, 140, 150], 'n_jobs': [-1],\n",
       "                         'penalty': ['l2', 'none'], 'random_state': [26],\n",
       "                         'solver': ['newton-cg', 'sag', 'saga', 'lbfgs',\n",
       "                                    'liblinear']},\n",
       "             refit='f1',\n",
       "             scoring=['f1', 'precision', 'recall', 'accuracy',\n",
       "                      'neg_root_mean_squared_error'],\n",
       "             verbose=4)"
      ]
     },
     "execution_count": 29,
     "metadata": {},
     "output_type": "execute_result"
    }
   ],
   "source": [
    "GS.fit(X1_train, y1_train)"
   ]
  },
  {
   "cell_type": "code",
   "execution_count": 30,
   "metadata": {},
   "outputs": [
    {
     "name": "stdout",
     "output_type": "stream",
     "text": [
      "0.3821536542737996\n",
      "{'fit_intercept': True, 'max_iter': 130, 'n_jobs': -1, 'penalty': 'l2', 'random_state': 26, 'solver': 'newton-cg'}\n"
     ]
    }
   ],
   "source": [
    "print(GS.best_score_)\n",
    "print(GS.best_params_)"
   ]
  },
  {
   "cell_type": "code",
   "execution_count": 31,
   "metadata": {},
   "outputs": [],
   "source": [
    "# Creating the model\n",
    "parameters2 = GS.best_params_\n",
    "models = [LogisticRegression(solver=parameters2['solver'], max_iter=parameters2['max_iter'], n_jobs=-1, random_state=26)]"
   ]
  },
  {
   "cell_type": "code",
   "execution_count": 32,
   "metadata": {},
   "outputs": [
    {
     "name": "stderr",
     "output_type": "stream",
     "text": [
      "/Users/archelolazabal/opt/anaconda3/lib/python3.9/site-packages/scipy/optimize/linesearch.py:327: LineSearchWarning: The line search algorithm did not converge\n",
      "  warn('The line search algorithm did not converge', LineSearchWarning)\n",
      "/Users/archelolazabal/opt/anaconda3/lib/python3.9/site-packages/sklearn/utils/optimize.py:203: UserWarning: Line Search failed\n",
      "  warnings.warn(\"Line Search failed\")\n"
     ]
    },
    {
     "name": "stdout",
     "output_type": "stream",
     "text": [
      "Accuracy of the model (training) LogisticRegression(max_iter=130, n_jobs=-1, random_state=26, solver='newton-cg') =  0.5214882069054404\n",
      "Accuracy of the model (testing) LogisticRegression(max_iter=130, n_jobs=-1, random_state=26, solver='newton-cg') =  0.5186113338679498\n",
      "F1 score of the model (training) LogisticRegression(max_iter=130, n_jobs=-1, random_state=26, solver='newton-cg') =  0.38213757396449705\n",
      "F1 score of the model (testing) LogisticRegression(max_iter=130, n_jobs=-1, random_state=26, solver='newton-cg') =  0.378553250226459\n",
      "Mean Absolute Error of the model (training) LogisticRegression(max_iter=130, n_jobs=-1, random_state=26, solver='newton-cg') =  0.47851179309455955\n",
      "Mean Absolute Error of the model (testing) LogisticRegression(max_iter=130, n_jobs=-1, random_state=26, solver='newton-cg') =  0.4813886661320503\n",
      "Mean Squared Error of the model (training) LogisticRegression(max_iter=130, n_jobs=-1, random_state=26, solver='newton-cg') =  0.47851179309455955\n",
      "Mean Squared Error of the model (testing) LogisticRegression(max_iter=130, n_jobs=-1, random_state=26, solver='newton-cg') =  0.4813886661320503\n",
      "Precision of the model (training) LogisticRegression(max_iter=130, n_jobs=-1, random_state=26, solver='newton-cg') =  0.31117870264410047\n",
      "Precision of the model (testing) LogisticRegression(max_iter=130, n_jobs=-1, random_state=26, solver='newton-cg') =  0.30685314685314685\n",
      "Recall of the model (training) LogisticRegression(max_iter=130, n_jobs=-1, random_state=26, solver='newton-cg') =  0.49501772540001915\n",
      "Recall of the model (testing) LogisticRegression(max_iter=130, n_jobs=-1, random_state=26, solver='newton-cg') =  0.49397725993470676 \n",
      "\n"
     ]
    },
    {
     "data": {
      "image/png": "[encoded data removed]",
      "text/plain": [
       "<Figure size 640x480 with 2 Axes>"
      ]
     },
     "metadata": {},
     "output_type": "display_data"
    }
   ],
   "source": [
    "# Fitting the model and calculating the performance metrics\n",
    "for model in models:\n",
    "    model.fit(X1_train, y1_train)\n",
    "    test_data_prediction = model.predict(X1_test)\n",
    "    train_data_prediction = model.predict(X1_train)\n",
    "    mae = mean_absolute_error(y1_train, train_data_prediction)\n",
    "    mae2 = mean_absolute_error(y1_test, test_data_prediction)\n",
    "    mse = mean_squared_error(y1_train, train_data_prediction)\n",
    "    mse2 = mean_squared_error(y1_test, test_data_prediction)\n",
    "    precision = precision_score(y1_train, train_data_prediction)\n",
    "    precision2 = precision_score(y1_test, test_data_prediction)\n",
    "    recall = recall_score(y1_train, train_data_prediction)\n",
    "    recall2 = recall_score(y1_test, test_data_prediction)\n",
    "    #r2 = r2_score(y1_test, test_data_prediction)\n",
    "    f1_1 = f1_score(y1_train, train_data_prediction)\n",
    "    f1_2 = f1_score(y1_test, test_data_prediction)\n",
    "    accuracy = accuracy_score(y1_train, train_data_prediction)\n",
    "    accuracy2 = accuracy_score(y1_test, test_data_prediction)\n",
    "    print('Accuracy of the model (training)', model, '= ', accuracy)\n",
    "    print('Accuracy of the model (testing)', model, '= ', accuracy2)\n",
    "    print('F1 score of the model (training)', model, '= ', f1_1)\n",
    "    print('F1 score of the model (testing)', model, '= ', f1_2)\n",
    "    print('Mean Absolute Error of the model (training)', model, '= ', mae)\n",
    "    print('Mean Absolute Error of the model (testing)', model, '= ', mae2)\n",
    "    print('Mean Squared Error of the model (training)', model, '= ', mse)\n",
    "    print('Mean Squared Error of the model (testing)', model, '= ', mse2)\n",
    "    print('Precision of the model (training)', model, '= ', precision)\n",
    "    print('Precision of the model (testing)', model, '= ', precision2)\n",
    "    print('Recall of the model (training)', model, '= ', recall)\n",
    "    print('Recall of the model (testing)', model, '= ', recall2, '\\n')\n",
    "\n",
    "    cf_matrix =confusion_matrix(y1_test, test_data_prediction)\n",
    "\n",
    "    group_names = ['True Neg','False Pos','False Neg','True Pos']\n",
    "    group_counts = [\"{0:0.0f}\".format(value) for value in cf_matrix.flatten()]\n",
    "    group_percentages = [\"{0:.2%}\".format(value) for value in cf_matrix.flatten()/np.sum(cf_matrix)]\n",
    "    labels = [f\"{v1}\\n{v2}\\n{v3}\" for v1, v2, v3 in \n",
    "            zip(group_names,group_counts,group_percentages)]\n",
    "    labels = np.asarray(labels).reshape(2,2)\n",
    "    sns.heatmap(cf_matrix, annot=labels, fmt='', cmap='Blues')"
   ]
  },
  {
   "attachments": {},
   "cell_type": "markdown",
   "metadata": {},
   "source": [
    "# Experiment 3: Feature Selection"
   ]
  },
  {
   "attachments": {},
   "cell_type": "markdown",
   "metadata": {},
   "source": [
    "### Only using the \"Merchant Name\" feature does this model somewhat perform decently. "
   ]
  },
  {
   "cell_type": "code",
   "execution_count": 33,
   "metadata": {},
   "outputs": [
    {
     "name": "stdout",
     "output_type": "stream",
     "text": [
      "Index(['Merchant Name'], dtype='object')\n"
     ]
    }
   ],
   "source": [
    "sel = SelectFromModel(LogisticRegression(n_jobs=-1, random_state=26))\n",
    "sel.fit(X1_train, y1_train)\n",
    "\n",
    "selected_feat= X1_train.columns[(sel.get_support())]\n",
    "\n",
    "print(selected_feat)"
   ]
  },
  {
   "cell_type": "code",
   "execution_count": 34,
   "metadata": {},
   "outputs": [],
   "source": [
    "y3 = df['Is Fraud?']\n",
    "X3 = df[selected_feat]\n",
    "\n",
    "# Splitting the data \n",
    "X3_train, X3_test, y3_train, y3_test = train_test_split(X3, y3, test_size=0.30, random_state=42)"
   ]
  },
  {
   "cell_type": "code",
   "execution_count": 35,
   "metadata": {},
   "outputs": [],
   "source": [
    "#  storing the model objects for testing\n",
    "models = [LogisticRegression(n_jobs=-1, random_state=26)]"
   ]
  },
  {
   "cell_type": "code",
   "execution_count": 36,
   "metadata": {},
   "outputs": [
    {
     "name": "stdout",
     "output_type": "stream",
     "text": [
      "Accuracy of the model (training) RandomForestClassifier(n_jobs=-1, random_state=26) =  0.8665883801858827\n",
      "Accuracy of the model (testing) RandomForestClassifier(n_jobs=-1, random_state=26) =  0.8348703555199145\n",
      "F1 score of the model (training) RandomForestClassifier(n_jobs=-1, random_state=26) =  0.7704287826515525\n",
      "F1 score of the model (testing) RandomForestClassifier(n_jobs=-1, random_state=26) =  0.7126410047679962\n",
      "Mean Absolute Error of the model (training) RandomForestClassifier(n_jobs=-1, random_state=26) =  0.13341161981411734\n",
      "Mean Absolute Error of the model (testing) RandomForestClassifier(n_jobs=-1, random_state=26) =  0.16512964448008555\n",
      "Mean Squared Error of the model (training) RandomForestClassifier(n_jobs=-1, random_state=26) =  0.13341161981411734\n",
      "Mean Squared Error of the model (testing) RandomForestClassifier(n_jobs=-1, random_state=26) =  0.16512964448008555\n",
      "Precision of the model (training) RandomForestClassifier(n_jobs=-1, random_state=26) =  0.7932609357556074\n",
      "Precision of the model (testing) RandomForestClassifier(n_jobs=-1, random_state=26) =  0.7369813589897775\n",
      "Recall of the model (training) RandomForestClassifier(n_jobs=-1, random_state=26) =  0.7488741975663504\n",
      "Recall of the model (testing) RandomForestClassifier(n_jobs=-1, random_state=26) =  0.6898570302825622 \n",
      "\n"
     ]
    },
    {
     "data": {
      "image/png": "[encoded data removed]",
      "text/plain": [
       "<Figure size 640x480 with 2 Axes>"
      ]
     },
     "metadata": {},
     "output_type": "display_data"
    }
   ],
   "source": [
    "# Testing the model using different criterion\n",
    "# models = [RandomForestClassifier(criterion='gini', n_jobs=-1), RandomForestClassifier(criterion='entrophy', n_jobs=-1), RandomForestClassifier(criterion='log_loss', n_jobs=-1)]\n",
    "for model in models3:\n",
    "    model.fit(X3_train, y3_train)\n",
    "    test_data_prediction = model.predict(X3_test)\n",
    "    train_data_prediction = model.predict(X3_train)\n",
    "    mae = mean_absolute_error(y3_train, train_data_prediction)\n",
    "    mae2 = mean_absolute_error(y3_test, test_data_prediction)\n",
    "    mse = mean_squared_error(y3_train, train_data_prediction)\n",
    "    mse2 = mean_squared_error(y3_test, test_data_prediction)\n",
    "    precision = precision_score(y3_train, train_data_prediction)\n",
    "    precision2 = precision_score(y3_test, test_data_prediction)\n",
    "    recall = recall_score(y3_train, train_data_prediction)\n",
    "    recall2 = recall_score(y3_test, test_data_prediction)\n",
    "    #r2 = r2_score(y1_test, test_data_prediction)\n",
    "    f1_1 = f1_score(y3_train, train_data_prediction)\n",
    "    f1_2 = f1_score(y3_test, test_data_prediction)\n",
    "    accuracy = accuracy_score(y3_train, train_data_prediction)\n",
    "    accuracy2 = accuracy_score(y3_test, test_data_prediction)\n",
    "    print('Accuracy of the model (training)', model, '= ', accuracy)\n",
    "    print('Accuracy of the model (testing)', model, '= ', accuracy2)\n",
    "    print('F1 score of the model (training)', model, '= ', f1_1)\n",
    "    print('F1 score of the model (testing)', model, '= ', f1_2)\n",
    "    print('Mean Absolute Error of the model (training)', model, '= ', mae)\n",
    "    print('Mean Absolute Error of the model (testing)', model, '= ', mae2)\n",
    "    print('Mean Squared Error of the model (training)', model, '= ', mse)\n",
    "    print('Mean Squared Error of the model (testing)', model, '= ', mse2)\n",
    "    print('Precision of the model (training)', model, '= ', precision)\n",
    "    print('Precision of the model (testing)', model, '= ', precision2)\n",
    "    print('Recall of the model (training)', model, '= ', recall)\n",
    "    print('Recall of the model (testing)', model, '= ', recall2, '\\n')\n",
    "\n",
    "    cf_matrix =confusion_matrix(y3_test, test_data_prediction)\n",
    "\n",
    "    group_names = ['True Neg','False Pos','False Neg','True Pos']\n",
    "    group_counts = [\"{0:0.0f}\".format(value) for value in cf_matrix.flatten()]\n",
    "    group_percentages = [\"{0:.2%}\".format(value) for value in cf_matrix.flatten()/np.sum(cf_matrix)]\n",
    "    labels = [f\"{v1}\\n{v2}\\n{v3}\" for v1, v2, v3 in \n",
    "              zip(group_names,group_counts,group_percentages)]\n",
    "    labels = np.asarray(labels).reshape(2,2)\n",
    "    sns.heatmap(cf_matrix, annot=labels, fmt='', cmap='Blues')"
   ]
  },
  {
   "attachments": {},
   "cell_type": "markdown",
   "metadata": {},
   "source": [
    "# Archel Olazabal | Naives Baye"
   ]
  },
  {
   "attachments": {},
   "cell_type": "markdown",
   "metadata": {},
   "source": [
    "## Experiment 1: Baseline"
   ]
  },
  {
   "cell_type": "code",
   "execution_count": 37,
   "metadata": {},
   "outputs": [],
   "source": [
    "models = [BernoulliNB()]"
   ]
  },
  {
   "cell_type": "code",
   "execution_count": 38,
   "metadata": {},
   "outputs": [
    {
     "name": "stdout",
     "output_type": "stream",
     "text": [
      "Accuracy of the model (training) BernoulliNB() =  0.869008578097925\n",
      "Accuracy of the model (testing) BernoulliNB() =  0.8704891740176424\n",
      "F1 score of the model (training) BernoulliNB() =  0.7919670677067935\n",
      "F1 score of the model (testing) BernoulliNB() =  0.7933681629171554\n",
      "Mean Absolute Error of the model (training) BernoulliNB() =  0.13099142190207508\n",
      "Mean Absolute Error of the model (testing) BernoulliNB() =  0.12951082598235766\n",
      "Mean Squared Error of the model (training) BernoulliNB() =  0.13099142190207508\n",
      "Mean Squared Error of the model (testing) BernoulliNB() =  0.12951082598235766\n",
      "Precision of the model (training) BernoulliNB() =  0.7538861225373458\n",
      "Precision of the model (testing) BernoulliNB() =  0.7535189873417721\n",
      "Recall of the model (training) BernoulliNB() =  0.8340998371179458\n",
      "Recall of the model (testing) BernoulliNB() =  0.8376674546887313 \n",
      "\n"
     ]
    },
    {
     "data": {
      "image/png": "[encoded data removed]",
      "text/plain": [
       "<Figure size 640x480 with 2 Axes>"
      ]
     },
     "metadata": {},
     "output_type": "display_data"
    }
   ],
   "source": [
    "# Fitting the model and calculating the performance metrics\n",
    "for model in models:\n",
    "    model.fit(X1_train, y1_train)\n",
    "    test_data_prediction = model.predict(X1_test)\n",
    "    train_data_prediction = model.predict(X1_train)\n",
    "    mae = mean_absolute_error(y1_train, train_data_prediction)\n",
    "    mae2 = mean_absolute_error(y1_test, test_data_prediction)\n",
    "    mse = mean_squared_error(y1_train, train_data_prediction)\n",
    "    mse2 = mean_squared_error(y1_test, test_data_prediction)\n",
    "    precision = precision_score(y1_train, train_data_prediction)\n",
    "    precision2 = precision_score(y1_test, test_data_prediction)\n",
    "    recall = recall_score(y1_train, train_data_prediction)\n",
    "    recall2 = recall_score(y1_test, test_data_prediction)\n",
    "    #r2 = r2_score(y1_test, test_data_prediction)\n",
    "    f1_1 = f1_score(y1_train, train_data_prediction)\n",
    "    f1_2 = f1_score(y1_test, test_data_prediction)\n",
    "    accuracy = accuracy_score(y1_train, train_data_prediction)\n",
    "    accuracy2 = accuracy_score(y1_test, test_data_prediction)\n",
    "    print('Accuracy of the model (training)', model, '= ', accuracy)\n",
    "    print('Accuracy of the model (testing)', model, '= ', accuracy2)\n",
    "    print('F1 score of the model (training)', model, '= ', f1_1)\n",
    "    print('F1 score of the model (testing)', model, '= ', f1_2)\n",
    "    print('Mean Absolute Error of the model (training)', model, '= ', mae)\n",
    "    print('Mean Absolute Error of the model (testing)', model, '= ', mae2)\n",
    "    print('Mean Squared Error of the model (training)', model, '= ', mse)\n",
    "    print('Mean Squared Error of the model (testing)', model, '= ', mse2)\n",
    "    print('Precision of the model (training)', model, '= ', precision)\n",
    "    print('Precision of the model (testing)', model, '= ', precision2)\n",
    "    print('Recall of the model (training)', model, '= ', recall)\n",
    "    print('Recall of the model (testing)', model, '= ', recall2, '\\n')\n",
    "\n",
    "    cf_matrix =confusion_matrix(y1_test, test_data_prediction)\n",
    "\n",
    "    group_names = ['True Neg','False Pos','False Neg','True Pos']\n",
    "    group_counts = [\"{0:0.0f}\".format(value) for value in cf_matrix.flatten()]\n",
    "    group_percentages = [\"{0:.2%}\".format(value) for value in cf_matrix.flatten()/np.sum(cf_matrix)]\n",
    "    labels = [f\"{v1}\\n{v2}\\n{v3}\" for v1, v2, v3 in \n",
    "            zip(group_names,group_counts,group_percentages)]\n",
    "    labels = np.asarray(labels).reshape(2,2)\n",
    "    sns.heatmap(cf_matrix, annot=labels, fmt='', cmap='Blues')"
   ]
  },
  {
   "attachments": {},
   "cell_type": "markdown",
   "metadata": {},
   "source": [
    "## Experiment 2: Hyper Parameter tuning"
   ]
  },
  {
   "attachments": {},
   "cell_type": "markdown",
   "metadata": {},
   "source": [
    "### The experiment did not change anything from the baseline"
   ]
  },
  {
   "cell_type": "code",
   "execution_count": 39,
   "metadata": {},
   "outputs": [],
   "source": [
    "# Creating the dictionary for hyperparameter tuning\n",
    "search_space = {\n",
    "    \"alpha\" : [0.001, 0.01, 0.1, 1, 1.2, 1.4, 1.6],\n",
    "    #\"force_alpha\" : [True, False],\n",
    "    \"binarize\" : [0.001, 0.01, 0.1, 1, 1.2, 1.4, 1.6],\n",
    "}\n",
    "\n",
    "# Creating the tuner\n",
    "GS = GridSearchCV(\n",
    "    estimator = BernoulliNB(),\n",
    "    param_grid = search_space,\n",
    "    scoring = [\"f1\", \"precision\", \"recall\", \"accuracy\", \"neg_root_mean_squared_error\"],\n",
    "    refit = \"f1\",\n",
    "    cv=3,\n",
    "    verbose=4,\n",
    ")"
   ]
  },
  {
   "cell_type": "code",
   "execution_count": 40,
   "metadata": {},
   "outputs": [
    {
     "name": "stdout",
     "output_type": "stream",
     "text": [
      "Fitting 3 folds for each of 49 candidates, totalling 147 fits\n",
      "[CV 1/3] END alpha=0.001, binarize=0.001; accuracy: (test=0.868) f1: (test=0.789) neg_root_mean_squared_error: (test=-0.364) precision: (test=0.753) recall: (test=0.829) total time=   0.0s\n",
      "[CV 2/3] END alpha=0.001, binarize=0.001; accuracy: (test=0.868) f1: (test=0.791) neg_root_mean_squared_error: (test=-0.363) precision: (test=0.752) recall: (test=0.835) total time=   0.0s\n",
      "[CV 3/3] END alpha=0.001, binarize=0.001; accuracy: (test=0.871) f1: (test=0.795) neg_root_mean_squared_error: (test=-0.359) precision: (test=0.757) recall: (test=0.838) total time=   0.0s\n",
      "[CV 1/3] END alpha=0.001, binarize=0.01; accuracy: (test=0.868) f1: (test=0.789) neg_root_mean_squared_error: (test=-0.364) precision: (test=0.753) recall: (test=0.829) total time=   0.0s\n",
      "[CV 2/3] END alpha=0.001, binarize=0.01; accuracy: (test=0.868) f1: (test=0.791) neg_root_mean_squared_error: (test=-0.363) precision: (test=0.752) recall: (test=0.835) total time=   0.0s\n",
      "[CV 3/3] END alpha=0.001, binarize=0.01; accuracy: (test=0.871) f1: (test=0.795) neg_root_mean_squared_error: (test=-0.359) precision: (test=0.757) recall: (test=0.838) total time=   0.0s\n",
      "[CV 1/3] END alpha=0.001, binarize=0.1; accuracy: (test=0.868) f1: (test=0.789) neg_root_mean_squared_error: (test=-0.364) precision: (test=0.753) recall: (test=0.829) total time=   0.0s\n",
      "[CV 2/3] END alpha=0.001, binarize=0.1; accuracy: (test=0.868) f1: (test=0.791) neg_root_mean_squared_error: (test=-0.363) precision: (test=0.752) recall: (test=0.835) total time=   0.0s\n",
      "[CV 3/3] END alpha=0.001, binarize=0.1; accuracy: (test=0.871) f1: (test=0.795) neg_root_mean_squared_error: (test=-0.359) precision: (test=0.757) recall: (test=0.838) total time=   0.0s\n",
      "[CV 1/3] END alpha=0.001, binarize=1; accuracy: (test=0.866) f1: (test=0.786) neg_root_mean_squared_error: (test=-0.366) precision: (test=0.752) recall: (test=0.823) total time=   0.0s\n",
      "[CV 2/3] END alpha=0.001, binarize=1; accuracy: (test=0.866) f1: (test=0.787) neg_root_mean_squared_error: (test=-0.366) precision: (test=0.751) recall: (test=0.828) total time=   0.0s\n",
      "[CV 3/3] END alpha=0.001, binarize=1; accuracy: (test=0.869) f1: (test=0.792) neg_root_mean_squared_error: (test=-0.362) precision: (test=0.756) recall: (test=0.832) total time=   0.0s\n",
      "[CV 1/3] END alpha=0.001, binarize=1.2; accuracy: (test=0.866) f1: (test=0.785) neg_root_mean_squared_error: (test=-0.367) precision: (test=0.752) recall: (test=0.820) total time=   0.0s\n",
      "[CV 2/3] END alpha=0.001, binarize=1.2; accuracy: (test=0.866) f1: (test=0.787) neg_root_mean_squared_error: (test=-0.366) precision: (test=0.751) recall: (test=0.827) total time=   0.0s\n",
      "[CV 3/3] END alpha=0.001, binarize=1.2; accuracy: (test=0.869) f1: (test=0.792) neg_root_mean_squared_error: (test=-0.362) precision: (test=0.756) recall: (test=0.832) total time=   0.0s\n",
      "[CV 1/3] END alpha=0.001, binarize=1.4; accuracy: (test=0.865) f1: (test=0.785) neg_root_mean_squared_error: (test=-0.367) precision: (test=0.752) recall: (test=0.820) total time=   0.0s\n",
      "[CV 2/3] END alpha=0.001, binarize=1.4; accuracy: (test=0.866) f1: (test=0.786) neg_root_mean_squared_error: (test=-0.366) precision: (test=0.751) recall: (test=0.825) total time=   0.0s\n",
      "[CV 3/3] END alpha=0.001, binarize=1.4; accuracy: (test=0.869) f1: (test=0.792) neg_root_mean_squared_error: (test=-0.362) precision: (test=0.756) recall: (test=0.832) total time=   0.0s\n",
      "[CV 1/3] END alpha=0.001, binarize=1.6; accuracy: (test=0.865) f1: (test=0.785) neg_root_mean_squared_error: (test=-0.367) precision: (test=0.752) recall: (test=0.820) total time=   0.0s\n",
      "[CV 2/3] END alpha=0.001, binarize=1.6; accuracy: (test=0.867) f1: (test=0.788) neg_root_mean_squared_error: (test=-0.365) precision: (test=0.752) recall: (test=0.827) total time=   0.0s\n",
      "[CV 3/3] END alpha=0.001, binarize=1.6; accuracy: (test=0.869) f1: (test=0.791) neg_root_mean_squared_error: (test=-0.362) precision: (test=0.755) recall: (test=0.829) total time=   0.0s\n",
      "[CV 1/3] END alpha=0.01, binarize=0.001; accuracy: (test=0.868) f1: (test=0.789) neg_root_mean_squared_error: (test=-0.364) precision: (test=0.753) recall: (test=0.829) total time=   0.0s\n",
      "[CV 2/3] END alpha=0.01, binarize=0.001; accuracy: (test=0.868) f1: (test=0.791) neg_root_mean_squared_error: (test=-0.363) precision: (test=0.752) recall: (test=0.835) total time=   0.0s\n",
      "[CV 3/3] END alpha=0.01, binarize=0.001; accuracy: (test=0.871) f1: (test=0.795) neg_root_mean_squared_error: (test=-0.359) precision: (test=0.757) recall: (test=0.838) total time=   0.0s\n",
      "[CV 1/3] END alpha=0.01, binarize=0.01; accuracy: (test=0.868) f1: (test=0.789) neg_root_mean_squared_error: (test=-0.364) precision: (test=0.753) recall: (test=0.829) total time=   0.0s\n",
      "[CV 2/3] END alpha=0.01, binarize=0.01; accuracy: (test=0.868) f1: (test=0.791) neg_root_mean_squared_error: (test=-0.363) precision: (test=0.752) recall: (test=0.835) total time=   0.0s\n",
      "[CV 3/3] END alpha=0.01, binarize=0.01; accuracy: (test=0.871) f1: (test=0.795) neg_root_mean_squared_error: (test=-0.359) precision: (test=0.757) recall: (test=0.838) total time=   0.0s\n",
      "[CV 1/3] END alpha=0.01, binarize=0.1; accuracy: (test=0.868) f1: (test=0.789) neg_root_mean_squared_error: (test=-0.364) precision: (test=0.753) recall: (test=0.829) total time=   0.0s\n",
      "[CV 2/3] END alpha=0.01, binarize=0.1; accuracy: (test=0.868) f1: (test=0.791) neg_root_mean_squared_error: (test=-0.363) precision: (test=0.752) recall: (test=0.835) total time=   0.0s\n",
      "[CV 3/3] END alpha=0.01, binarize=0.1; accuracy: (test=0.871) f1: (test=0.795) neg_root_mean_squared_error: (test=-0.359) precision: (test=0.757) recall: (test=0.838) total time=   0.0s\n",
      "[CV 1/3] END alpha=0.01, binarize=1; accuracy: (test=0.866) f1: (test=0.786) neg_root_mean_squared_error: (test=-0.366) precision: (test=0.752) recall: (test=0.823) total time=   0.0s\n",
      "[CV 2/3] END alpha=0.01, binarize=1; accuracy: (test=0.866) f1: (test=0.787) neg_root_mean_squared_error: (test=-0.366) precision: (test=0.751) recall: (test=0.828) total time=   0.0s\n",
      "[CV 3/3] END alpha=0.01, binarize=1; accuracy: (test=0.869) f1: (test=0.792) neg_root_mean_squared_error: (test=-0.362) precision: (test=0.756) recall: (test=0.832) total time=   0.0s\n",
      "[CV 1/3] END alpha=0.01, binarize=1.2; accuracy: (test=0.866) f1: (test=0.785) neg_root_mean_squared_error: (test=-0.367) precision: (test=0.752) recall: (test=0.820) total time=   0.0s\n",
      "[CV 2/3] END alpha=0.01, binarize=1.2; accuracy: (test=0.866) f1: (test=0.787) neg_root_mean_squared_error: (test=-0.366) precision: (test=0.751) recall: (test=0.827) total time=   0.0s\n",
      "[CV 3/3] END alpha=0.01, binarize=1.2; accuracy: (test=0.869) f1: (test=0.792) neg_root_mean_squared_error: (test=-0.362) precision: (test=0.756) recall: (test=0.832) total time=   0.0s\n",
      "[CV 1/3] END alpha=0.01, binarize=1.4; accuracy: (test=0.865) f1: (test=0.785) neg_root_mean_squared_error: (test=-0.367) precision: (test=0.752) recall: (test=0.820) total time=   0.0s\n",
      "[CV 2/3] END alpha=0.01, binarize=1.4; accuracy: (test=0.866) f1: (test=0.786) neg_root_mean_squared_error: (test=-0.366) precision: (test=0.751) recall: (test=0.825) total time=   0.0s\n",
      "[CV 3/3] END alpha=0.01, binarize=1.4; accuracy: (test=0.869) f1: (test=0.792) neg_root_mean_squared_error: (test=-0.362) precision: (test=0.756) recall: (test=0.832) total time=   0.0s\n",
      "[CV 1/3] END alpha=0.01, binarize=1.6; accuracy: (test=0.865) f1: (test=0.785) neg_root_mean_squared_error: (test=-0.367) precision: (test=0.752) recall: (test=0.820) total time=   0.0s\n",
      "[CV 2/3] END alpha=0.01, binarize=1.6; accuracy: (test=0.867) f1: (test=0.788) neg_root_mean_squared_error: (test=-0.365) precision: (test=0.752) recall: (test=0.827) total time=   0.0s\n",
      "[CV 3/3] END alpha=0.01, binarize=1.6; accuracy: (test=0.869) f1: (test=0.791) neg_root_mean_squared_error: (test=-0.362) precision: (test=0.755) recall: (test=0.829) total time=   0.0s\n",
      "[CV 1/3] END alpha=0.1, binarize=0.001; accuracy: (test=0.868) f1: (test=0.789) neg_root_mean_squared_error: (test=-0.364) precision: (test=0.753) recall: (test=0.829) total time=   0.0s\n",
      "[CV 2/3] END alpha=0.1, binarize=0.001; accuracy: (test=0.868) f1: (test=0.791) neg_root_mean_squared_error: (test=-0.363) precision: (test=0.752) recall: (test=0.835) total time=   0.0s\n",
      "[CV 3/3] END alpha=0.1, binarize=0.001; accuracy: (test=0.871) f1: (test=0.795) neg_root_mean_squared_error: (test=-0.359) precision: (test=0.757) recall: (test=0.838) total time=   0.0s\n",
      "[CV 1/3] END alpha=0.1, binarize=0.01; accuracy: (test=0.868) f1: (test=0.789) neg_root_mean_squared_error: (test=-0.364) precision: (test=0.753) recall: (test=0.829) total time=   0.0s\n",
      "[CV 2/3] END alpha=0.1, binarize=0.01; accuracy: (test=0.868) f1: (test=0.791) neg_root_mean_squared_error: (test=-0.363) precision: (test=0.752) recall: (test=0.835) total time=   0.0s\n",
      "[CV 3/3] END alpha=0.1, binarize=0.01; accuracy: (test=0.871) f1: (test=0.795) neg_root_mean_squared_error: (test=-0.359) precision: (test=0.757) recall: (test=0.838) total time=   0.0s\n",
      "[CV 1/3] END alpha=0.1, binarize=0.1; accuracy: (test=0.868) f1: (test=0.789) neg_root_mean_squared_error: (test=-0.364) precision: (test=0.753) recall: (test=0.829) total time=   0.0s\n",
      "[CV 2/3] END alpha=0.1, binarize=0.1; accuracy: (test=0.868) f1: (test=0.791) neg_root_mean_squared_error: (test=-0.363) precision: (test=0.752) recall: (test=0.835) total time=   0.0s\n",
      "[CV 3/3] END alpha=0.1, binarize=0.1; accuracy: (test=0.871) f1: (test=0.795) neg_root_mean_squared_error: (test=-0.359) precision: (test=0.757) recall: (test=0.838) total time=   0.0s\n",
      "[CV 1/3] END alpha=0.1, binarize=1; accuracy: (test=0.866) f1: (test=0.786) neg_root_mean_squared_error: (test=-0.366) precision: (test=0.752) recall: (test=0.823) total time=   0.0s\n",
      "[CV 2/3] END alpha=0.1, binarize=1; accuracy: (test=0.866) f1: (test=0.787) neg_root_mean_squared_error: (test=-0.366) precision: (test=0.751) recall: (test=0.828) total time=   0.0s\n",
      "[CV 3/3] END alpha=0.1, binarize=1; accuracy: (test=0.869) f1: (test=0.792) neg_root_mean_squared_error: (test=-0.362) precision: (test=0.756) recall: (test=0.832) total time=   0.0s\n",
      "[CV 1/3] END alpha=0.1, binarize=1.2; accuracy: (test=0.866) f1: (test=0.785) neg_root_mean_squared_error: (test=-0.367) precision: (test=0.752) recall: (test=0.820) total time=   0.0s\n",
      "[CV 2/3] END alpha=0.1, binarize=1.2; accuracy: (test=0.866) f1: (test=0.787) neg_root_mean_squared_error: (test=-0.366) precision: (test=0.751) recall: (test=0.827) total time=   0.0s\n",
      "[CV 3/3] END alpha=0.1, binarize=1.2; accuracy: (test=0.869) f1: (test=0.792) neg_root_mean_squared_error: (test=-0.362) precision: (test=0.756) recall: (test=0.832) total time=   0.0s\n",
      "[CV 1/3] END alpha=0.1, binarize=1.4; accuracy: (test=0.865) f1: (test=0.785) neg_root_mean_squared_error: (test=-0.367) precision: (test=0.752) recall: (test=0.820) total time=   0.0s\n",
      "[CV 2/3] END alpha=0.1, binarize=1.4; accuracy: (test=0.866) f1: (test=0.786) neg_root_mean_squared_error: (test=-0.366) precision: (test=0.751) recall: (test=0.825) total time=   0.0s\n",
      "[CV 3/3] END alpha=0.1, binarize=1.4; accuracy: (test=0.869) f1: (test=0.792) neg_root_mean_squared_error: (test=-0.362) precision: (test=0.756) recall: (test=0.832) total time=   0.0s\n",
      "[CV 1/3] END alpha=0.1, binarize=1.6; accuracy: (test=0.865) f1: (test=0.785) neg_root_mean_squared_error: (test=-0.367) precision: (test=0.752) recall: (test=0.820) total time=   0.0s\n",
      "[CV 2/3] END alpha=0.1, binarize=1.6; accuracy: (test=0.867) f1: (test=0.788) neg_root_mean_squared_error: (test=-0.365) precision: (test=0.752) recall: (test=0.827) total time=   0.0s\n",
      "[CV 3/3] END alpha=0.1, binarize=1.6; accuracy: (test=0.869) f1: (test=0.791) neg_root_mean_squared_error: (test=-0.362) precision: (test=0.755) recall: (test=0.829) total time=   0.0s\n",
      "[CV 1/3] END alpha=1, binarize=0.001; accuracy: (test=0.868) f1: (test=0.789) neg_root_mean_squared_error: (test=-0.364) precision: (test=0.753) recall: (test=0.829) total time=   0.0s\n",
      "[CV 2/3] END alpha=1, binarize=0.001; accuracy: (test=0.868) f1: (test=0.791) neg_root_mean_squared_error: (test=-0.363) precision: (test=0.752) recall: (test=0.835) total time=   0.0s\n",
      "[CV 3/3] END alpha=1, binarize=0.001; accuracy: (test=0.871) f1: (test=0.795) neg_root_mean_squared_error: (test=-0.359) precision: (test=0.757) recall: (test=0.838) total time=   0.0s\n",
      "[CV 1/3] END alpha=1, binarize=0.01; accuracy: (test=0.868) f1: (test=0.789) neg_root_mean_squared_error: (test=-0.364) precision: (test=0.753) recall: (test=0.829) total time=   0.0s\n",
      "[CV 2/3] END alpha=1, binarize=0.01; accuracy: (test=0.868) f1: (test=0.791) neg_root_mean_squared_error: (test=-0.363) precision: (test=0.752) recall: (test=0.835) total time=   0.0s\n",
      "[CV 3/3] END alpha=1, binarize=0.01; accuracy: (test=0.871) f1: (test=0.795) neg_root_mean_squared_error: (test=-0.359) precision: (test=0.757) recall: (test=0.838) total time=   0.0s\n",
      "[CV 1/3] END alpha=1, binarize=0.1; accuracy: (test=0.868) f1: (test=0.789) neg_root_mean_squared_error: (test=-0.364) precision: (test=0.753) recall: (test=0.829) total time=   0.0s\n",
      "[CV 2/3] END alpha=1, binarize=0.1; accuracy: (test=0.868) f1: (test=0.791) neg_root_mean_squared_error: (test=-0.363) precision: (test=0.752) recall: (test=0.835) total time=   0.0s\n",
      "[CV 3/3] END alpha=1, binarize=0.1; accuracy: (test=0.871) f1: (test=0.795) neg_root_mean_squared_error: (test=-0.359) precision: (test=0.757) recall: (test=0.838) total time=   0.0s\n",
      "[CV 1/3] END alpha=1, binarize=1; accuracy: (test=0.866) f1: (test=0.786) neg_root_mean_squared_error: (test=-0.366) precision: (test=0.752) recall: (test=0.823) total time=   0.0s\n",
      "[CV 2/3] END alpha=1, binarize=1; accuracy: (test=0.866) f1: (test=0.787) neg_root_mean_squared_error: (test=-0.366) precision: (test=0.751) recall: (test=0.828) total time=   0.0s\n",
      "[CV 3/3] END alpha=1, binarize=1; accuracy: (test=0.869) f1: (test=0.792) neg_root_mean_squared_error: (test=-0.362) precision: (test=0.756) recall: (test=0.832) total time=   0.0s\n",
      "[CV 1/3] END alpha=1, binarize=1.2; accuracy: (test=0.866) f1: (test=0.785) neg_root_mean_squared_error: (test=-0.367) precision: (test=0.752) recall: (test=0.820) total time=   0.0s\n",
      "[CV 2/3] END alpha=1, binarize=1.2; accuracy: (test=0.866) f1: (test=0.787) neg_root_mean_squared_error: (test=-0.366) precision: (test=0.751) recall: (test=0.827) total time=   0.0s\n",
      "[CV 3/3] END alpha=1, binarize=1.2; accuracy: (test=0.869) f1: (test=0.792) neg_root_mean_squared_error: (test=-0.362) precision: (test=0.756) recall: (test=0.832) total time=   0.0s\n",
      "[CV 1/3] END alpha=1, binarize=1.4; accuracy: (test=0.865) f1: (test=0.785) neg_root_mean_squared_error: (test=-0.367) precision: (test=0.752) recall: (test=0.820) total time=   0.0s\n",
      "[CV 2/3] END alpha=1, binarize=1.4; accuracy: (test=0.866) f1: (test=0.786) neg_root_mean_squared_error: (test=-0.366) precision: (test=0.751) recall: (test=0.825) total time=   0.0s\n",
      "[CV 3/3] END alpha=1, binarize=1.4; accuracy: (test=0.869) f1: (test=0.792) neg_root_mean_squared_error: (test=-0.362) precision: (test=0.756) recall: (test=0.832) total time=   0.0s\n",
      "[CV 1/3] END alpha=1, binarize=1.6; accuracy: (test=0.865) f1: (test=0.785) neg_root_mean_squared_error: (test=-0.367) precision: (test=0.752) recall: (test=0.820) total time=   0.0s\n",
      "[CV 2/3] END alpha=1, binarize=1.6; accuracy: (test=0.867) f1: (test=0.788) neg_root_mean_squared_error: (test=-0.365) precision: (test=0.752) recall: (test=0.827) total time=   0.0s\n",
      "[CV 3/3] END alpha=1, binarize=1.6; accuracy: (test=0.869) f1: (test=0.791) neg_root_mean_squared_error: (test=-0.362) precision: (test=0.755) recall: (test=0.829) total time=   0.0s\n",
      "[CV 1/3] END alpha=1.2, binarize=0.001; accuracy: (test=0.868) f1: (test=0.789) neg_root_mean_squared_error: (test=-0.364) precision: (test=0.753) recall: (test=0.829) total time=   0.0s\n",
      "[CV 2/3] END alpha=1.2, binarize=0.001; accuracy: (test=0.868) f1: (test=0.791) neg_root_mean_squared_error: (test=-0.363) precision: (test=0.752) recall: (test=0.835) total time=   0.0s\n",
      "[CV 3/3] END alpha=1.2, binarize=0.001; accuracy: (test=0.871) f1: (test=0.795) neg_root_mean_squared_error: (test=-0.359) precision: (test=0.757) recall: (test=0.838) total time=   0.0s\n",
      "[CV 1/3] END alpha=1.2, binarize=0.01; accuracy: (test=0.868) f1: (test=0.789) neg_root_mean_squared_error: (test=-0.364) precision: (test=0.753) recall: (test=0.829) total time=   0.0s\n",
      "[CV 2/3] END alpha=1.2, binarize=0.01; accuracy: (test=0.868) f1: (test=0.791) neg_root_mean_squared_error: (test=-0.363) precision: (test=0.752) recall: (test=0.835) total time=   0.0s\n",
      "[CV 3/3] END alpha=1.2, binarize=0.01; accuracy: (test=0.871) f1: (test=0.795) neg_root_mean_squared_error: (test=-0.359) precision: (test=0.757) recall: (test=0.838) total time=   0.0s\n",
      "[CV 1/3] END alpha=1.2, binarize=0.1; accuracy: (test=0.868) f1: (test=0.789) neg_root_mean_squared_error: (test=-0.364) precision: (test=0.753) recall: (test=0.829) total time=   0.0s\n",
      "[CV 2/3] END alpha=1.2, binarize=0.1; accuracy: (test=0.868) f1: (test=0.791) neg_root_mean_squared_error: (test=-0.363) precision: (test=0.752) recall: (test=0.835) total time=   0.0s\n",
      "[CV 3/3] END alpha=1.2, binarize=0.1; accuracy: (test=0.871) f1: (test=0.795) neg_root_mean_squared_error: (test=-0.359) precision: (test=0.757) recall: (test=0.838) total time=   0.0s\n",
      "[CV 1/3] END alpha=1.2, binarize=1; accuracy: (test=0.866) f1: (test=0.786) neg_root_mean_squared_error: (test=-0.366) precision: (test=0.752) recall: (test=0.823) total time=   0.0s\n",
      "[CV 2/3] END alpha=1.2, binarize=1; accuracy: (test=0.866) f1: (test=0.787) neg_root_mean_squared_error: (test=-0.366) precision: (test=0.751) recall: (test=0.828) total time=   0.0s\n",
      "[CV 3/3] END alpha=1.2, binarize=1; accuracy: (test=0.869) f1: (test=0.792) neg_root_mean_squared_error: (test=-0.362) precision: (test=0.756) recall: (test=0.832) total time=   0.0s\n",
      "[CV 1/3] END alpha=1.2, binarize=1.2; accuracy: (test=0.866) f1: (test=0.785) neg_root_mean_squared_error: (test=-0.367) precision: (test=0.752) recall: (test=0.820) total time=   0.0s\n",
      "[CV 2/3] END alpha=1.2, binarize=1.2; accuracy: (test=0.866) f1: (test=0.787) neg_root_mean_squared_error: (test=-0.366) precision: (test=0.751) recall: (test=0.827) total time=   0.0s\n",
      "[CV 3/3] END alpha=1.2, binarize=1.2; accuracy: (test=0.869) f1: (test=0.792) neg_root_mean_squared_error: (test=-0.362) precision: (test=0.756) recall: (test=0.832) total time=   0.0s\n",
      "[CV 1/3] END alpha=1.2, binarize=1.4; accuracy: (test=0.865) f1: (test=0.785) neg_root_mean_squared_error: (test=-0.367) precision: (test=0.752) recall: (test=0.820) total time=   0.0s\n",
      "[CV 2/3] END alpha=1.2, binarize=1.4; accuracy: (test=0.866) f1: (test=0.786) neg_root_mean_squared_error: (test=-0.366) precision: (test=0.751) recall: (test=0.825) total time=   0.0s\n",
      "[CV 3/3] END alpha=1.2, binarize=1.4; accuracy: (test=0.869) f1: (test=0.792) neg_root_mean_squared_error: (test=-0.362) precision: (test=0.756) recall: (test=0.832) total time=   0.0s\n",
      "[CV 1/3] END alpha=1.2, binarize=1.6; accuracy: (test=0.865) f1: (test=0.785) neg_root_mean_squared_error: (test=-0.367) precision: (test=0.752) recall: (test=0.820) total time=   0.0s\n",
      "[CV 2/3] END alpha=1.2, binarize=1.6; accuracy: (test=0.867) f1: (test=0.788) neg_root_mean_squared_error: (test=-0.365) precision: (test=0.752) recall: (test=0.827) total time=   0.0s\n",
      "[CV 3/3] END alpha=1.2, binarize=1.6; accuracy: (test=0.869) f1: (test=0.791) neg_root_mean_squared_error: (test=-0.362) precision: (test=0.755) recall: (test=0.829) total time=   0.0s\n",
      "[CV 1/3] END alpha=1.4, binarize=0.001; accuracy: (test=0.868) f1: (test=0.789) neg_root_mean_squared_error: (test=-0.364) precision: (test=0.753) recall: (test=0.829) total time=   0.0s\n",
      "[CV 2/3] END alpha=1.4, binarize=0.001; accuracy: (test=0.868) f1: (test=0.791) neg_root_mean_squared_error: (test=-0.363) precision: (test=0.752) recall: (test=0.835) total time=   0.0s\n",
      "[CV 3/3] END alpha=1.4, binarize=0.001; accuracy: (test=0.871) f1: (test=0.795) neg_root_mean_squared_error: (test=-0.359) precision: (test=0.757) recall: (test=0.838) total time=   0.0s\n",
      "[CV 1/3] END alpha=1.4, binarize=0.01; accuracy: (test=0.868) f1: (test=0.789) neg_root_mean_squared_error: (test=-0.364) precision: (test=0.753) recall: (test=0.829) total time=   0.0s\n",
      "[CV 2/3] END alpha=1.4, binarize=0.01; accuracy: (test=0.868) f1: (test=0.791) neg_root_mean_squared_error: (test=-0.363) precision: (test=0.752) recall: (test=0.835) total time=   0.0s\n",
      "[CV 3/3] END alpha=1.4, binarize=0.01; accuracy: (test=0.871) f1: (test=0.795) neg_root_mean_squared_error: (test=-0.359) precision: (test=0.757) recall: (test=0.838) total time=   0.0s\n",
      "[CV 1/3] END alpha=1.4, binarize=0.1; accuracy: (test=0.868) f1: (test=0.789) neg_root_mean_squared_error: (test=-0.364) precision: (test=0.753) recall: (test=0.829) total time=   0.0s\n",
      "[CV 2/3] END alpha=1.4, binarize=0.1; accuracy: (test=0.868) f1: (test=0.791) neg_root_mean_squared_error: (test=-0.363) precision: (test=0.752) recall: (test=0.835) total time=   0.0s\n",
      "[CV 3/3] END alpha=1.4, binarize=0.1; accuracy: (test=0.871) f1: (test=0.795) neg_root_mean_squared_error: (test=-0.359) precision: (test=0.757) recall: (test=0.838) total time=   0.0s\n",
      "[CV 1/3] END alpha=1.4, binarize=1; accuracy: (test=0.866) f1: (test=0.786) neg_root_mean_squared_error: (test=-0.366) precision: (test=0.752) recall: (test=0.823) total time=   0.0s\n",
      "[CV 2/3] END alpha=1.4, binarize=1; accuracy: (test=0.866) f1: (test=0.787) neg_root_mean_squared_error: (test=-0.366) precision: (test=0.751) recall: (test=0.828) total time=   0.0s\n",
      "[CV 3/3] END alpha=1.4, binarize=1; accuracy: (test=0.869) f1: (test=0.792) neg_root_mean_squared_error: (test=-0.362) precision: (test=0.756) recall: (test=0.832) total time=   0.0s\n",
      "[CV 1/3] END alpha=1.4, binarize=1.2; accuracy: (test=0.866) f1: (test=0.785) neg_root_mean_squared_error: (test=-0.367) precision: (test=0.752) recall: (test=0.820) total time=   0.0s\n",
      "[CV 2/3] END alpha=1.4, binarize=1.2; accuracy: (test=0.866) f1: (test=0.787) neg_root_mean_squared_error: (test=-0.366) precision: (test=0.751) recall: (test=0.827) total time=   0.0s\n",
      "[CV 3/3] END alpha=1.4, binarize=1.2; accuracy: (test=0.869) f1: (test=0.792) neg_root_mean_squared_error: (test=-0.362) precision: (test=0.756) recall: (test=0.832) total time=   0.0s\n",
      "[CV 1/3] END alpha=1.4, binarize=1.4; accuracy: (test=0.865) f1: (test=0.785) neg_root_mean_squared_error: (test=-0.367) precision: (test=0.752) recall: (test=0.820) total time=   0.0s\n",
      "[CV 2/3] END alpha=1.4, binarize=1.4; accuracy: (test=0.866) f1: (test=0.786) neg_root_mean_squared_error: (test=-0.366) precision: (test=0.751) recall: (test=0.825) total time=   0.0s\n",
      "[CV 3/3] END alpha=1.4, binarize=1.4; accuracy: (test=0.869) f1: (test=0.792) neg_root_mean_squared_error: (test=-0.362) precision: (test=0.756) recall: (test=0.832) total time=   0.0s\n",
      "[CV 1/3] END alpha=1.4, binarize=1.6; accuracy: (test=0.865) f1: (test=0.785) neg_root_mean_squared_error: (test=-0.367) precision: (test=0.752) recall: (test=0.820) total time=   0.0s\n",
      "[CV 2/3] END alpha=1.4, binarize=1.6; accuracy: (test=0.867) f1: (test=0.788) neg_root_mean_squared_error: (test=-0.365) precision: (test=0.752) recall: (test=0.827) total time=   0.0s\n",
      "[CV 3/3] END alpha=1.4, binarize=1.6; accuracy: (test=0.869) f1: (test=0.791) neg_root_mean_squared_error: (test=-0.362) precision: (test=0.755) recall: (test=0.829) total time=   0.0s\n",
      "[CV 1/3] END alpha=1.6, binarize=0.001; accuracy: (test=0.868) f1: (test=0.789) neg_root_mean_squared_error: (test=-0.364) precision: (test=0.753) recall: (test=0.829) total time=   0.0s\n",
      "[CV 2/3] END alpha=1.6, binarize=0.001; accuracy: (test=0.868) f1: (test=0.791) neg_root_mean_squared_error: (test=-0.363) precision: (test=0.752) recall: (test=0.835) total time=   0.0s\n",
      "[CV 3/3] END alpha=1.6, binarize=0.001; accuracy: (test=0.871) f1: (test=0.795) neg_root_mean_squared_error: (test=-0.359) precision: (test=0.757) recall: (test=0.838) total time=   0.0s\n",
      "[CV 1/3] END alpha=1.6, binarize=0.01; accuracy: (test=0.868) f1: (test=0.789) neg_root_mean_squared_error: (test=-0.364) precision: (test=0.753) recall: (test=0.829) total time=   0.0s\n",
      "[CV 2/3] END alpha=1.6, binarize=0.01; accuracy: (test=0.868) f1: (test=0.791) neg_root_mean_squared_error: (test=-0.363) precision: (test=0.752) recall: (test=0.835) total time=   0.0s\n",
      "[CV 3/3] END alpha=1.6, binarize=0.01; accuracy: (test=0.871) f1: (test=0.795) neg_root_mean_squared_error: (test=-0.359) precision: (test=0.757) recall: (test=0.838) total time=   0.0s\n",
      "[CV 1/3] END alpha=1.6, binarize=0.1; accuracy: (test=0.868) f1: (test=0.789) neg_root_mean_squared_error: (test=-0.364) precision: (test=0.753) recall: (test=0.829) total time=   0.0s\n",
      "[CV 2/3] END alpha=1.6, binarize=0.1; accuracy: (test=0.868) f1: (test=0.791) neg_root_mean_squared_error: (test=-0.363) precision: (test=0.752) recall: (test=0.835) total time=   0.0s\n",
      "[CV 3/3] END alpha=1.6, binarize=0.1; accuracy: (test=0.871) f1: (test=0.795) neg_root_mean_squared_error: (test=-0.359) precision: (test=0.757) recall: (test=0.838) total time=   0.0s\n",
      "[CV 1/3] END alpha=1.6, binarize=1; accuracy: (test=0.866) f1: (test=0.786) neg_root_mean_squared_error: (test=-0.366) precision: (test=0.752) recall: (test=0.823) total time=   0.0s\n",
      "[CV 2/3] END alpha=1.6, binarize=1; accuracy: (test=0.866) f1: (test=0.787) neg_root_mean_squared_error: (test=-0.366) precision: (test=0.751) recall: (test=0.828) total time=   0.0s\n",
      "[CV 3/3] END alpha=1.6, binarize=1; accuracy: (test=0.869) f1: (test=0.792) neg_root_mean_squared_error: (test=-0.362) precision: (test=0.756) recall: (test=0.832) total time=   0.0s\n",
      "[CV 1/3] END alpha=1.6, binarize=1.2; accuracy: (test=0.866) f1: (test=0.785) neg_root_mean_squared_error: (test=-0.367) precision: (test=0.752) recall: (test=0.820) total time=   0.0s\n",
      "[CV 2/3] END alpha=1.6, binarize=1.2; accuracy: (test=0.866) f1: (test=0.787) neg_root_mean_squared_error: (test=-0.366) precision: (test=0.751) recall: (test=0.827) total time=   0.0s\n",
      "[CV 3/3] END alpha=1.6, binarize=1.2; accuracy: (test=0.869) f1: (test=0.792) neg_root_mean_squared_error: (test=-0.362) precision: (test=0.756) recall: (test=0.832) total time=   0.0s\n",
      "[CV 1/3] END alpha=1.6, binarize=1.4; accuracy: (test=0.865) f1: (test=0.785) neg_root_mean_squared_error: (test=-0.367) precision: (test=0.752) recall: (test=0.820) total time=   0.0s\n",
      "[CV 2/3] END alpha=1.6, binarize=1.4; accuracy: (test=0.866) f1: (test=0.786) neg_root_mean_squared_error: (test=-0.366) precision: (test=0.751) recall: (test=0.825) total time=   0.0s\n",
      "[CV 3/3] END alpha=1.6, binarize=1.4; accuracy: (test=0.869) f1: (test=0.792) neg_root_mean_squared_error: (test=-0.362) precision: (test=0.756) recall: (test=0.832) total time=   0.0s\n",
      "[CV 1/3] END alpha=1.6, binarize=1.6; accuracy: (test=0.865) f1: (test=0.785) neg_root_mean_squared_error: (test=-0.367) precision: (test=0.752) recall: (test=0.820) total time=   0.0s\n",
      "[CV 2/3] END alpha=1.6, binarize=1.6; accuracy: (test=0.867) f1: (test=0.788) neg_root_mean_squared_error: (test=-0.365) precision: (test=0.752) recall: (test=0.827) total time=   0.0s\n",
      "[CV 3/3] END alpha=1.6, binarize=1.6; accuracy: (test=0.869) f1: (test=0.791) neg_root_mean_squared_error: (test=-0.362) precision: (test=0.755) recall: (test=0.829) total time=   0.0s\n"
     ]
    },
    {
     "data": {
      "text/html": [
       "<style>#sk-container-id-3 {color: black;background-color: white;}#sk-container-id-3 pre{padding: 0;}#sk-container-id-3 div.sk-toggleable {background-color: white;}#sk-container-id-3 label.sk-toggleable__label {cursor: pointer;display: block;width: 100%;margin-bottom: 0;padding: 0.3em;box-sizing: border-box;text-align: center;}#sk-container-id-3 label.sk-toggleable__label-arrow:before {content: \"▸\";float: left;margin-right: 0.25em;color: #696969;}#sk-container-id-3 label.sk-toggleable__label-arrow:hover:before {color: black;}#sk-container-id-3 div.sk-estimator:hover label.sk-toggleable__label-arrow:before {color: black;}#sk-container-id-3 div.sk-toggleable__content {max-height: 0;max-width: 0;overflow: hidden;text-align: left;background-color: #f0f8ff;}#sk-container-id-3 div.sk-toggleable__content pre {margin: 0.2em;color: black;border-radius: 0.25em;background-color: #f0f8ff;}#sk-container-id-3 input.sk-toggleable__control:checked~div.sk-toggleable__content {max-height: 200px;max-width: 100%;overflow: auto;}#sk-container-id-3 input.sk-toggleable__control:checked~label.sk-toggleable__label-arrow:before {content: \"▾\";}#sk-container-id-3 div.sk-estimator input.sk-toggleable__control:checked~label.sk-toggleable__label {background-color: #d4ebff;}#sk-container-id-3 div.sk-label input.sk-toggleable__control:checked~label.sk-toggleable__label {background-color: #d4ebff;}#sk-container-id-3 input.sk-hidden--visually {border: 0;clip: rect(1px 1px 1px 1px);clip: rect(1px, 1px, 1px, 1px);height: 1px;margin: -1px;overflow: hidden;padding: 0;position: absolute;width: 1px;}#sk-container-id-3 div.sk-estimator {font-family: monospace;background-color: #f0f8ff;border: 1px dotted black;border-radius: 0.25em;box-sizing: border-box;margin-bottom: 0.5em;}#sk-container-id-3 div.sk-estimator:hover {background-color: #d4ebff;}#sk-container-id-3 div.sk-parallel-item::after {content: \"\";width: 100%;border-bottom: 1px solid gray;flex-grow: 1;}#sk-container-id-3 div.sk-label:hover label.sk-toggleable__label {background-color: #d4ebff;}#sk-container-id-3 div.sk-serial::before {content: \"\";position: absolute;border-left: 1px solid gray;box-sizing: border-box;top: 0;bottom: 0;left: 50%;z-index: 0;}#sk-container-id-3 div.sk-serial {display: flex;flex-direction: column;align-items: center;background-color: white;padding-right: 0.2em;padding-left: 0.2em;position: relative;}#sk-container-id-3 div.sk-item {position: relative;z-index: 1;}#sk-container-id-3 div.sk-parallel {display: flex;align-items: stretch;justify-content: center;background-color: white;position: relative;}#sk-container-id-3 div.sk-item::before, #sk-container-id-3 div.sk-parallel-item::before {content: \"\";position: absolute;border-left: 1px solid gray;box-sizing: border-box;top: 0;bottom: 0;left: 50%;z-index: -1;}#sk-container-id-3 div.sk-parallel-item {display: flex;flex-direction: column;z-index: 1;position: relative;background-color: white;}#sk-container-id-3 div.sk-parallel-item:first-child::after {align-self: flex-end;width: 50%;}#sk-container-id-3 div.sk-parallel-item:last-child::after {align-self: flex-start;width: 50%;}#sk-container-id-3 div.sk-parallel-item:only-child::after {width: 0;}#sk-container-id-3 div.sk-dashed-wrapped {border: 1px dashed gray;margin: 0 0.4em 0.5em 0.4em;box-sizing: border-box;padding-bottom: 0.4em;background-color: white;}#sk-container-id-3 div.sk-label label {font-family: monospace;font-weight: bold;display: inline-block;line-height: 1.2em;}#sk-container-id-3 div.sk-label-container {text-align: center;}#sk-container-id-3 div.sk-container {/* jupyter's `normalize.less` sets `[hidden] { display: none; }` but bootstrap.min.css set `[hidden] { display: none !important; }` so we also need the `!important` here to be able to override the default hidden behavior on the sphinx rendered scikit-learn.org. See: https://github.com/scikit-learn/scikit-learn/issues/21755 */display: inline-block !important;position: relative;}#sk-container-id-3 div.sk-text-repr-fallback {display: none;}</style><div id=\"sk-container-id-3\" class=\"sk-top-container\"><div class=\"sk-text-repr-fallback\"><pre>GridSearchCV(cv=3, estimator=BernoulliNB(),\n",
       "             param_grid={&#x27;alpha&#x27;: [0.001, 0.01, 0.1, 1, 1.2, 1.4, 1.6],\n",
       "                         &#x27;binarize&#x27;: [0.001, 0.01, 0.1, 1, 1.2, 1.4, 1.6]},\n",
       "             refit=&#x27;f1&#x27;,\n",
       "             scoring=[&#x27;f1&#x27;, &#x27;precision&#x27;, &#x27;recall&#x27;, &#x27;accuracy&#x27;,\n",
       "                      &#x27;neg_root_mean_squared_error&#x27;],\n",
       "             verbose=4)</pre><b>In a Jupyter environment, please rerun this cell to show the HTML representation or trust the notebook. <br />On GitHub, the HTML representation is unable to render, please try loading this page with nbviewer.org.</b></div><div class=\"sk-container\" hidden><div class=\"sk-item sk-dashed-wrapped\"><div class=\"sk-label-container\"><div class=\"sk-label sk-toggleable\"><input class=\"sk-toggleable__control sk-hidden--visually\" id=\"sk-estimator-id-7\" type=\"checkbox\" ><label for=\"sk-estimator-id-7\" class=\"sk-toggleable__label sk-toggleable__label-arrow\">GridSearchCV</label><div class=\"sk-toggleable__content\"><pre>GridSearchCV(cv=3, estimator=BernoulliNB(),\n",
       "             param_grid={&#x27;alpha&#x27;: [0.001, 0.01, 0.1, 1, 1.2, 1.4, 1.6],\n",
       "                         &#x27;binarize&#x27;: [0.001, 0.01, 0.1, 1, 1.2, 1.4, 1.6]},\n",
       "             refit=&#x27;f1&#x27;,\n",
       "             scoring=[&#x27;f1&#x27;, &#x27;precision&#x27;, &#x27;recall&#x27;, &#x27;accuracy&#x27;,\n",
       "                      &#x27;neg_root_mean_squared_error&#x27;],\n",
       "             verbose=4)</pre></div></div></div><div class=\"sk-parallel\"><div class=\"sk-parallel-item\"><div class=\"sk-item\"><div class=\"sk-label-container\"><div class=\"sk-label sk-toggleable\"><input class=\"sk-toggleable__control sk-hidden--visually\" id=\"sk-estimator-id-8\" type=\"checkbox\" ><label for=\"sk-estimator-id-8\" class=\"sk-toggleable__label sk-toggleable__label-arrow\">estimator: BernoulliNB</label><div class=\"sk-toggleable__content\"><pre>BernoulliNB()</pre></div></div></div><div class=\"sk-serial\"><div class=\"sk-item\"><div class=\"sk-estimator sk-toggleable\"><input class=\"sk-toggleable__control sk-hidden--visually\" id=\"sk-estimator-id-9\" type=\"checkbox\" ><label for=\"sk-estimator-id-9\" class=\"sk-toggleable__label sk-toggleable__label-arrow\">BernoulliNB</label><div class=\"sk-toggleable__content\"><pre>BernoulliNB()</pre></div></div></div></div></div></div></div></div></div></div>"
      ],
      "text/plain": [
       "GridSearchCV(cv=3, estimator=BernoulliNB(),\n",
       "             param_grid={'alpha': [0.001, 0.01, 0.1, 1, 1.2, 1.4, 1.6],\n",
       "                         'binarize': [0.001, 0.01, 0.1, 1, 1.2, 1.4, 1.6]},\n",
       "             refit='f1',\n",
       "             scoring=['f1', 'precision', 'recall', 'accuracy',\n",
       "                      'neg_root_mean_squared_error'],\n",
       "             verbose=4)"
      ]
     },
     "execution_count": 40,
     "metadata": {},
     "output_type": "execute_result"
    }
   ],
   "source": [
    "GS.fit(X1_train, y1_train)"
   ]
  },
  {
   "cell_type": "code",
   "execution_count": 41,
   "metadata": {},
   "outputs": [
    {
     "name": "stdout",
     "output_type": "stream",
     "text": [
      "0.7919636604921673\n",
      "{'alpha': 1, 'binarize': 0.001}\n"
     ]
    }
   ],
   "source": [
    "print(GS.best_score_)\n",
    "print(GS.best_params_)"
   ]
  },
  {
   "cell_type": "code",
   "execution_count": 42,
   "metadata": {},
   "outputs": [],
   "source": [
    "parameters3 = GS.best_params_\n",
    "models = [BernoulliNB(alpha=parameters3['alpha'], binarize=parameters3['binarize'])]"
   ]
  },
  {
   "cell_type": "code",
   "execution_count": 43,
   "metadata": {},
   "outputs": [
    {
     "name": "stdout",
     "output_type": "stream",
     "text": [
      "Accuracy of the model (training) BernoulliNB(alpha=1, binarize=0.001) =  0.869008578097925\n",
      "Accuracy of the model (testing) BernoulliNB(alpha=1, binarize=0.001) =  0.8704891740176424\n",
      "F1 score of the model (training) BernoulliNB(alpha=1, binarize=0.001) =  0.7919670677067935\n",
      "F1 score of the model (testing) BernoulliNB(alpha=1, binarize=0.001) =  0.7933681629171554\n",
      "Mean Absolute Error of the model (training) BernoulliNB(alpha=1, binarize=0.001) =  0.13099142190207508\n",
      "Mean Absolute Error of the model (testing) BernoulliNB(alpha=1, binarize=0.001) =  0.12951082598235766\n",
      "Mean Squared Error of the model (training) BernoulliNB(alpha=1, binarize=0.001) =  0.13099142190207508\n",
      "Mean Squared Error of the model (testing) BernoulliNB(alpha=1, binarize=0.001) =  0.12951082598235766\n",
      "Precision of the model (training) BernoulliNB(alpha=1, binarize=0.001) =  0.7538861225373458\n",
      "Precision of the model (testing) BernoulliNB(alpha=1, binarize=0.001) =  0.7535189873417721\n",
      "Recall of the model (training) BernoulliNB(alpha=1, binarize=0.001) =  0.8340998371179458\n",
      "Recall of the model (testing) BernoulliNB(alpha=1, binarize=0.001) =  0.8376674546887313 \n",
      "\n"
     ]
    },
    {
     "data": {
      "image/png": "[encoded data removed]",
      "text/plain": [
       "<Figure size 640x480 with 2 Axes>"
      ]
     },
     "metadata": {},
     "output_type": "display_data"
    }
   ],
   "source": [
    "# Fitting the model and calculating the performance metrics\n",
    "for model in models:\n",
    "    model.fit(X1_train, y1_train)\n",
    "    test_data_prediction = model.predict(X1_test)\n",
    "    train_data_prediction = model.predict(X1_train)\n",
    "    mae = mean_absolute_error(y1_train, train_data_prediction)\n",
    "    mae2 = mean_absolute_error(y1_test, test_data_prediction)\n",
    "    mse = mean_squared_error(y1_train, train_data_prediction)\n",
    "    mse2 = mean_squared_error(y1_test, test_data_prediction)\n",
    "    precision = precision_score(y1_train, train_data_prediction)\n",
    "    precision2 = precision_score(y1_test, test_data_prediction)\n",
    "    recall = recall_score(y1_train, train_data_prediction)\n",
    "    recall2 = recall_score(y1_test, test_data_prediction)\n",
    "    #r2 = r2_score(y1_test, test_data_prediction)\n",
    "    f1_1 = f1_score(y1_train, train_data_prediction)\n",
    "    f1_2 = f1_score(y1_test, test_data_prediction)\n",
    "    accuracy = accuracy_score(y1_train, train_data_prediction)\n",
    "    accuracy2 = accuracy_score(y1_test, test_data_prediction)\n",
    "    print('Accuracy of the model (training)', model, '= ', accuracy)\n",
    "    print('Accuracy of the model (testing)', model, '= ', accuracy2)\n",
    "    print('F1 score of the model (training)', model, '= ', f1_1)\n",
    "    print('F1 score of the model (testing)', model, '= ', f1_2)\n",
    "    print('Mean Absolute Error of the model (training)', model, '= ', mae)\n",
    "    print('Mean Absolute Error of the model (testing)', model, '= ', mae2)\n",
    "    print('Mean Squared Error of the model (training)', model, '= ', mse)\n",
    "    print('Mean Squared Error of the model (testing)', model, '= ', mse2)\n",
    "    print('Precision of the model (training)', model, '= ', precision)\n",
    "    print('Precision of the model (testing)', model, '= ', precision2)\n",
    "    print('Recall of the model (training)', model, '= ', recall)\n",
    "    print('Recall of the model (testing)', model, '= ', recall2, '\\n')\n",
    "\n",
    "    cf_matrix =confusion_matrix(y1_test, test_data_prediction)\n",
    "\n",
    "    group_names = ['True Neg','False Pos','False Neg','True Pos']\n",
    "    group_counts = [\"{0:0.0f}\".format(value) for value in cf_matrix.flatten()]\n",
    "    group_percentages = [\"{0:.2%}\".format(value) for value in cf_matrix.flatten()/np.sum(cf_matrix)]\n",
    "    labels = [f\"{v1}\\n{v2}\\n{v3}\" for v1, v2, v3 in \n",
    "            zip(group_names,group_counts,group_percentages)]\n",
    "    labels = np.asarray(labels).reshape(2,2)\n",
    "    sns.heatmap(cf_matrix, annot=labels, fmt='', cmap='Blues')"
   ]
  },
  {
   "cell_type": "code",
   "execution_count": null,
   "metadata": {},
   "outputs": [],
   "source": []
  }
 ],
 "metadata": {
  "kernelspec": {
   "display_name": "base",
   "language": "python",
   "name": "python3"
  },
  "language_info": {
   "codemirror_mode": {
    "name": "ipython",
    "version": 3
   },
   "file_extension": ".py",
   "mimetype": "text/x-python",
   "name": "python",
   "nbconvert_exporter": "python",
   "pygments_lexer": "ipython3",
   "version": "3.10.6"
  },
  "orig_nbformat": 4
 },
 "nbformat": 4,
 "nbformat_minor": 2
}
